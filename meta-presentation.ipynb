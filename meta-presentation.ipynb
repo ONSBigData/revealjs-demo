{
 "cells": [
  {
   "cell_type": "markdown",
   "metadata": {
    "slideshow": {
     "slide_type": "slide"
    }
   },
   "source": [
    "# A meta presentation\n",
    "### Or how I stopped using clunkly tools like PowerPoint to present my work and learned how to use reveal.js with jupyter"
   ]
  },
  {
   "cell_type": "code",
   "execution_count": 264,
   "metadata": {
    "slideshow": {
     "slide_type": "subslide"
    }
   },
   "outputs": [
    {
     "data": {
      "text/html": [
       "<script>\n",
       "code_show=true; \n",
       "function code_toggle() {\n",
       " if (code_show){\n",
       " $('div.input').hide();\n",
       " } else {\n",
       " $('div.input').show();\n",
       " }\n",
       " code_show = !code_show\n",
       "} \n",
       "$( document ).ready(code_toggle);\n",
       "</script>\n",
       "<form action=\"javascript:code_toggle()\"><input type=\"submit\" value=\"Click here to toggle on/off the raw code.\"></form>"
      ],
      "text/plain": [
       "<IPython.core.display.HTML object>"
      ]
     },
     "execution_count": 264,
     "metadata": {},
     "output_type": "execute_result"
    }
   ],
   "source": [
    "# source: https://stackoverflow.com/questions/27934885/how-to-hide-code-from-cells-in-ipython-notebook-visualized-with-nbviewer\n",
    "from IPython.display import HTML\n",
    "HTML('''<script>\n",
    "code_show=true; \n",
    "function code_toggle() {\n",
    " if (code_show){\n",
    " $('div.input').hide();\n",
    " } else {\n",
    " $('div.input').show();\n",
    " }\n",
    " code_show = !code_show\n",
    "} \n",
    "$( document ).ready(code_toggle);\n",
    "</script>\n",
    "<form action=\"javascript:code_toggle()\"><input type=\"submit\" value=\"Click here to toggle on/off the raw code.\"></form>''')"
   ]
  },
  {
   "cell_type": "markdown",
   "metadata": {
    "slideshow": {
     "slide_type": "slide"
    }
   },
   "source": [
    "# Contents\n"
   ]
  },
  {
   "cell_type": "markdown",
   "metadata": {
    "slideshow": {
     "slide_type": "fragment"
    }
   },
   "source": [
    "1. What? Why?\n",
    "2. Basic setup steps\n",
    "2. Formatting\n",
    "3. CSS to jazz things up\n",
    "4. An example analysis - with code and charts\n",
    "7. Publishing and running on your own machine\n",
    "8. Using gitpages for hosting and sharing slides"
   ]
  },
  {
   "cell_type": "markdown",
   "metadata": {
    "slideshow": {
     "slide_type": "slide"
    }
   },
   "source": [
    "# What?"
   ]
  },
  {
   "cell_type": "markdown",
   "metadata": {
    "slideshow": {
     "slide_type": "fragment"
    }
   },
   "source": [
    "1. reveal.js is a presentation framework to produce slides with HTML\n",
    "2. Not only that you can use jupyter to build your slides!"
   ]
  },
  {
   "cell_type": "markdown",
   "metadata": {
    "slideshow": {
     "slide_type": "slide"
    }
   },
   "source": [
    "# Why?"
   ]
  },
  {
   "cell_type": "markdown",
   "metadata": {
    "slideshow": {
     "slide_type": "fragment"
    }
   },
   "source": [
    "1. It is really nice for shareing code and analysis "
   ]
  },
  {
   "cell_type": "markdown",
   "metadata": {
    "slideshow": {
     "slide_type": "fragment"
    }
   },
   "source": [
    "2. Also, as a training tool for coding"
   ]
  },
  {
   "cell_type": "markdown",
   "metadata": {
    "slideshow": {
     "slide_type": "fragment"
    }
   },
   "source": [
    "3. Get rid of all that tedious mucking about exporting images and playing around drawing boxes and whatever that make PowerPoint really dull "
   ]
  },
  {
   "cell_type": "markdown",
   "metadata": {
    "slideshow": {
     "slide_type": "fragment"
    }
   },
   "source": [
    "4. They look really slick"
   ]
  },
  {
   "cell_type": "markdown",
   "metadata": {
    "slideshow": {
     "slide_type": "fragment"
    }
   },
   "source": [
    "5. INTERACTIVE BOKEH CHARTS! (This was the main reason I decided to use reveal.js)"
   ]
  },
  {
   "cell_type": "markdown",
   "metadata": {
    "slideshow": {
     "slide_type": "fragment"
    }
   },
   "source": [
    "6. PowerPoint is kind of boring in 2018 and all the cool data scientists will be sniggering behind your back if you use it"
   ]
  },
  {
   "cell_type": "markdown",
   "metadata": {
    "slideshow": {
     "slide_type": "fragment"
    }
   },
   "source": [
    "7. You can host slides remotely on the web (with gitpages) for easy access and sharing"
   ]
  },
  {
   "cell_type": "markdown",
   "metadata": {
    "slideshow": {
     "slide_type": "slide"
    }
   },
   "source": [
    "# Basic setup steps"
   ]
  },
  {
   "cell_type": "markdown",
   "metadata": {
    "slideshow": {
     "slide_type": "slide"
    }
   },
   "source": [
    "Select slideshow from the toolbar\n",
    "\n",
    "![toolbar](files/images/menu \"Toolbar\")"
   ]
  },
  {
   "cell_type": "markdown",
   "metadata": {
    "slideshow": {
     "slide_type": "subslide"
    }
   },
   "source": [
    "This gives you a drop down at the top right of each cell with some options. These are...\n",
    "![alt text](files/images/slide_type.png \"options\")"
   ]
  },
  {
   "cell_type": "markdown",
   "metadata": {
    "slideshow": {
     "slide_type": "subslide"
    }
   },
   "source": [
    "- Slide\n",
    "    - Creates a new slide"
   ]
  },
  {
   "cell_type": "markdown",
   "metadata": {
    "slideshow": {
     "slide_type": "fragment"
    }
   },
   "source": [
    "- Fragment\n",
    "    - create new part of a slide that appears when you press next like..."
   ]
  },
  {
   "cell_type": "markdown",
   "metadata": {
    "slideshow": {
     "slide_type": "fragment"
    }
   },
   "source": [
    "- ... this!"
   ]
  },
  {
   "cell_type": "markdown",
   "metadata": {
    "slideshow": {
     "slide_type": "fragment"
    }
   },
   "source": [
    "- Subside\n",
    "    - allows you to scroll though vertically as well as horizontally like.."
   ]
  },
  {
   "cell_type": "markdown",
   "metadata": {
    "slideshow": {
     "slide_type": "subslide"
    }
   },
   "source": [
    " - ...this"
   ]
  },
  {
   "cell_type": "markdown",
   "metadata": {
    "slideshow": {
     "slide_type": "slide"
    }
   },
   "source": [
    "# Formatting text and images can be done using standard markdown"
   ]
  },
  {
   "cell_type": "markdown",
   "metadata": {
    "slideshow": {
     "slide_type": "fragment"
    }
   },
   "source": [
    "# A hash (#) preceding the text means it is formatted as heading 1"
   ]
  },
  {
   "cell_type": "markdown",
   "metadata": {
    "slideshow": {
     "slide_type": "fragment"
    }
   },
   "source": [
    " ## two hashes means heading 2"
   ]
  },
  {
   "cell_type": "markdown",
   "metadata": {
    "slideshow": {
     "slide_type": "fragment"
    }
   },
   "source": [
    "### three means heading 3"
   ]
  },
  {
   "cell_type": "markdown",
   "metadata": {
    "slideshow": {
     "slide_type": "fragment"
    }
   },
   "source": [
    "#### and so on"
   ]
  },
  {
   "cell_type": "markdown",
   "metadata": {
    "slideshow": {
     "slide_type": "slide"
    }
   },
   "source": [
    "# Lists"
   ]
  },
  {
   "cell_type": "markdown",
   "metadata": {
    "slideshow": {
     "slide_type": "fragment"
    }
   },
   "source": [
    "Adding a - before creates a..."
   ]
  },
  {
   "cell_type": "markdown",
   "metadata": {
    "slideshow": {
     "slide_type": "fragment"
    }
   },
   "source": [
    "- bullet\n",
    "- point\n",
    "- list"
   ]
  },
  {
   "cell_type": "markdown",
   "metadata": {
    "slideshow": {
     "slide_type": "subslide"
    }
   },
   "source": [
    "## While..."
   ]
  },
  {
   "cell_type": "markdown",
   "metadata": {
    "slideshow": {
     "slide_type": "fragment"
    }
   },
   "source": [
    "... adding a number and a full stop"
   ]
  },
  {
   "cell_type": "markdown",
   "metadata": {
    "slideshow": {
     "slide_type": "fragment"
    }
   },
   "source": [
    "1. creates a\n",
    "2. numbered\n",
    "3. list"
   ]
  },
  {
   "cell_type": "markdown",
   "metadata": {
    "slideshow": {
     "slide_type": "subslide"
    }
   },
   "source": [
    "## also...\n",
    "\n",
    "```\n",
    "**is bold text**\n",
    "_italic text_\n",
    "~~strikethrough~~\n",
    "\n",
    "```\n",
    "**bold text**\n",
    "\n",
    "_italic text_ \n",
    "\n",
    "~~strikethrough~~ \n"
   ]
  },
  {
   "cell_type": "markdown",
   "metadata": {
    "slideshow": {
     "slide_type": "slide"
    }
   },
   "source": [
    "# More cool things with markdown"
   ]
  },
  {
   "cell_type": "markdown",
   "metadata": {
    "slideshow": {
     "slide_type": "subslide"
    }
   },
   "source": [
    "## Images\n",
    "\n",
    "```\n",
    "Format: ![Alt Text](location \"hover text\") \n",
    "\n",
    "```\n",
    "\n",
    "e.g. \n",
    "\n",
    "```\n",
    "![Goat](files/images/goat.png \"mmmheaaaaa\")\n",
    "```\n",
    "\n",
    "![Goat](files/images/goat.png \"mmmheaaaaa\")"
   ]
  },
  {
   "cell_type": "markdown",
   "metadata": {
    "slideshow": {
     "slide_type": "subslide"
    }
   },
   "source": [
    "## Links\n",
    "\n",
    "```\n",
    "[I'm an inline-style link with title](https://www.ons.gov.uk \"ONS Homepage\")\n",
    "```\n",
    "[I'm an inline-style link with title](https://www.ons.gov.uk \"ONS Homepage\")"
   ]
  },
  {
   "cell_type": "markdown",
   "metadata": {
    "slideshow": {
     "slide_type": "slide"
    }
   },
   "source": [
    "Right, that is enough of that, onto the good stuff!\n",
    "\n",
    "# Code "
   ]
  },
  {
   "cell_type": "markdown",
   "metadata": {
    "slideshow": {
     "slide_type": "fragment"
    }
   },
   "source": [
    "One of the most useful things about using reveal.js with jupyter is that you can show code easily in your presentation."
   ]
  },
  {
   "cell_type": "markdown",
   "metadata": {
    "slideshow": {
     "slide_type": "slide"
    }
   },
   "source": [
    "## A clustering example\n",
    "\n",
    "Adapted from: Machine learning with python cookbook, Chris Albon, O'Reilly media; http://shop.oreilly.com/product/0636920085423.do"
   ]
  },
  {
   "cell_type": "code",
   "execution_count": 88,
   "metadata": {
    "slideshow": {
     "slide_type": "fragment"
    }
   },
   "outputs": [
    {
     "name": "stdout",
     "output_type": "stream",
     "text": [
      "iris dimensions: (150, 4)\n"
     ]
    }
   ],
   "source": [
    "#import modules and functions we need\n",
    "from sklearn import datasets\n",
    "from sklearn.preprocessing import StandardScaler\n",
    "from sklearn.cluster import KMeans\n",
    "from sklearn.decomposition import PCA\n",
    "\n",
    "# load data\n",
    "iris_data = datasets.load_iris().data\n",
    "iris_labels = np.asarray(datasets.load_iris().target) #array for boolean later\n",
    "\n",
    "print(\"iris dimensions: {}\".format(iris_data.shape))"
   ]
  },
  {
   "cell_type": "code",
   "execution_count": null,
   "metadata": {
    "slideshow": {
     "slide_type": "skip"
    }
   },
   "outputs": [],
   "source": [
    "#to make the colours match in the graphs\n",
    "iris_labels = [2 if label == 1 else 1 if label == 2 else label for label in iris.target]"
   ]
  },
  {
   "cell_type": "markdown",
   "metadata": {
    "slideshow": {
     "slide_type": "subslide"
    }
   },
   "source": [
    "To plot this on a 2D scatter, we need to decompose the four features into two with Principle Components Analysis"
   ]
  },
  {
   "cell_type": "code",
   "execution_count": 24,
   "metadata": {},
   "outputs": [
    {
     "name": "stdout",
     "output_type": "stream",
     "text": [
      "iris reduced dimensions: (150, 2)\n"
     ]
    }
   ],
   "source": [
    "iris_data_2D = PCA(n_components = 2).fit_transform(iris_data)\n",
    "\n",
    "print(\"iris reduced dimensions: {}\".format(iris_data_2D.shape))"
   ]
  },
  {
   "cell_type": "markdown",
   "metadata": {
    "slideshow": {
     "slide_type": "subslide"
    }
   },
   "source": [
    "### Plot with bokeh"
   ]
  },
  {
   "cell_type": "code",
   "execution_count": 39,
   "metadata": {
    "slideshow": {
     "slide_type": "subslide"
    }
   },
   "outputs": [
    {
     "data": {
      "text/html": [
       "\n",
       "    <div class=\"bk-root\">\n",
       "        <a href=\"https://bokeh.pydata.org\" target=\"_blank\" class=\"bk-logo bk-logo-small bk-logo-notebook\"></a>\n",
       "        <span id=\"16b62b3e-52fa-443f-9484-32f37aa1c393\">Loading BokehJS ...</span>\n",
       "    </div>"
      ]
     },
     "metadata": {},
     "output_type": "display_data"
    },
    {
     "data": {
      "application/javascript": [
       "\n",
       "(function(root) {\n",
       "  function now() {\n",
       "    return new Date();\n",
       "  }\n",
       "\n",
       "  var force = true;\n",
       "\n",
       "  if (typeof (root._bokeh_onload_callbacks) === \"undefined\" || force === true) {\n",
       "    root._bokeh_onload_callbacks = [];\n",
       "    root._bokeh_is_loading = undefined;\n",
       "  }\n",
       "\n",
       "  var JS_MIME_TYPE = 'application/javascript';\n",
       "  var HTML_MIME_TYPE = 'text/html';\n",
       "  var EXEC_MIME_TYPE = 'application/vnd.bokehjs_exec.v0+json';\n",
       "  var CLASS_NAME = 'output_bokeh rendered_html';\n",
       "\n",
       "  /**\n",
       "   * Render data to the DOM node\n",
       "   */\n",
       "  function render(props, node) {\n",
       "    var script = document.createElement(\"script\");\n",
       "    node.appendChild(script);\n",
       "  }\n",
       "\n",
       "  /**\n",
       "   * Handle when an output is cleared or removed\n",
       "   */\n",
       "  function handleClearOutput(event, handle) {\n",
       "    var cell = handle.cell;\n",
       "\n",
       "    var id = cell.output_area._bokeh_element_id;\n",
       "    var server_id = cell.output_area._bokeh_server_id;\n",
       "    // Clean up Bokeh references\n",
       "    if (id != null && id in Bokeh.index) {\n",
       "      Bokeh.index[id].model.document.clear();\n",
       "      delete Bokeh.index[id];\n",
       "    }\n",
       "\n",
       "    if (server_id !== undefined) {\n",
       "      // Clean up Bokeh references\n",
       "      var cmd = \"from bokeh.io.state import curstate; print(curstate().uuid_to_server['\" + server_id + \"'].get_sessions()[0].document.roots[0]._id)\";\n",
       "      cell.notebook.kernel.execute(cmd, {\n",
       "        iopub: {\n",
       "          output: function(msg) {\n",
       "            var id = msg.content.text.trim();\n",
       "            if (id in Bokeh.index) {\n",
       "              Bokeh.index[id].model.document.clear();\n",
       "              delete Bokeh.index[id];\n",
       "            }\n",
       "          }\n",
       "        }\n",
       "      });\n",
       "      // Destroy server and session\n",
       "      var cmd = \"import bokeh.io.notebook as ion; ion.destroy_server('\" + server_id + \"')\";\n",
       "      cell.notebook.kernel.execute(cmd);\n",
       "    }\n",
       "  }\n",
       "\n",
       "  /**\n",
       "   * Handle when a new output is added\n",
       "   */\n",
       "  function handleAddOutput(event, handle) {\n",
       "    var output_area = handle.output_area;\n",
       "    var output = handle.output;\n",
       "\n",
       "    // limit handleAddOutput to display_data with EXEC_MIME_TYPE content only\n",
       "    if ((output.output_type != \"display_data\") || (!output.data.hasOwnProperty(EXEC_MIME_TYPE))) {\n",
       "      return\n",
       "    }\n",
       "\n",
       "    var toinsert = output_area.element.find(\".\" + CLASS_NAME.split(' ')[0]);\n",
       "\n",
       "    if (output.metadata[EXEC_MIME_TYPE][\"id\"] !== undefined) {\n",
       "      toinsert[toinsert.length - 1].firstChild.textContent = output.data[JS_MIME_TYPE];\n",
       "      // store reference to embed id on output_area\n",
       "      output_area._bokeh_element_id = output.metadata[EXEC_MIME_TYPE][\"id\"];\n",
       "    }\n",
       "    if (output.metadata[EXEC_MIME_TYPE][\"server_id\"] !== undefined) {\n",
       "      var bk_div = document.createElement(\"div\");\n",
       "      bk_div.innerHTML = output.data[HTML_MIME_TYPE];\n",
       "      var script_attrs = bk_div.children[0].attributes;\n",
       "      for (var i = 0; i < script_attrs.length; i++) {\n",
       "        toinsert[toinsert.length - 1].firstChild.setAttribute(script_attrs[i].name, script_attrs[i].value);\n",
       "      }\n",
       "      // store reference to server id on output_area\n",
       "      output_area._bokeh_server_id = output.metadata[EXEC_MIME_TYPE][\"server_id\"];\n",
       "    }\n",
       "  }\n",
       "\n",
       "  function register_renderer(events, OutputArea) {\n",
       "\n",
       "    function append_mime(data, metadata, element) {\n",
       "      // create a DOM node to render to\n",
       "      var toinsert = this.create_output_subarea(\n",
       "        metadata,\n",
       "        CLASS_NAME,\n",
       "        EXEC_MIME_TYPE\n",
       "      );\n",
       "      this.keyboard_manager.register_events(toinsert);\n",
       "      // Render to node\n",
       "      var props = {data: data, metadata: metadata[EXEC_MIME_TYPE]};\n",
       "      render(props, toinsert[toinsert.length - 1]);\n",
       "      element.append(toinsert);\n",
       "      return toinsert\n",
       "    }\n",
       "\n",
       "    /* Handle when an output is cleared or removed */\n",
       "    events.on('clear_output.CodeCell', handleClearOutput);\n",
       "    events.on('delete.Cell', handleClearOutput);\n",
       "\n",
       "    /* Handle when a new output is added */\n",
       "    events.on('output_added.OutputArea', handleAddOutput);\n",
       "\n",
       "    /**\n",
       "     * Register the mime type and append_mime function with output_area\n",
       "     */\n",
       "    OutputArea.prototype.register_mime_type(EXEC_MIME_TYPE, append_mime, {\n",
       "      /* Is output safe? */\n",
       "      safe: true,\n",
       "      /* Index of renderer in `output_area.display_order` */\n",
       "      index: 0\n",
       "    });\n",
       "  }\n",
       "\n",
       "  // register the mime type if in Jupyter Notebook environment and previously unregistered\n",
       "  if (root.Jupyter !== undefined) {\n",
       "    var events = require('base/js/events');\n",
       "    var OutputArea = require('notebook/js/outputarea').OutputArea;\n",
       "\n",
       "    if (OutputArea.prototype.mime_types().indexOf(EXEC_MIME_TYPE) == -1) {\n",
       "      register_renderer(events, OutputArea);\n",
       "    }\n",
       "  }\n",
       "\n",
       "  \n",
       "  if (typeof (root._bokeh_timeout) === \"undefined\" || force === true) {\n",
       "    root._bokeh_timeout = Date.now() + 5000;\n",
       "    root._bokeh_failed_load = false;\n",
       "  }\n",
       "\n",
       "  var NB_LOAD_WARNING = {'data': {'text/html':\n",
       "     \"<div style='background-color: #fdd'>\\n\"+\n",
       "     \"<p>\\n\"+\n",
       "     \"BokehJS does not appear to have successfully loaded. If loading BokehJS from CDN, this \\n\"+\n",
       "     \"may be due to a slow or bad network connection. Possible fixes:\\n\"+\n",
       "     \"</p>\\n\"+\n",
       "     \"<ul>\\n\"+\n",
       "     \"<li>re-rerun `output_notebook()` to attempt to load from CDN again, or</li>\\n\"+\n",
       "     \"<li>use INLINE resources instead, as so:</li>\\n\"+\n",
       "     \"</ul>\\n\"+\n",
       "     \"<code>\\n\"+\n",
       "     \"from bokeh.resources import INLINE\\n\"+\n",
       "     \"output_notebook(resources=INLINE)\\n\"+\n",
       "     \"</code>\\n\"+\n",
       "     \"</div>\"}};\n",
       "\n",
       "  function display_loaded() {\n",
       "    var el = document.getElementById(\"16b62b3e-52fa-443f-9484-32f37aa1c393\");\n",
       "    if (el != null) {\n",
       "      el.textContent = \"BokehJS is loading...\";\n",
       "    }\n",
       "    if (root.Bokeh !== undefined) {\n",
       "      if (el != null) {\n",
       "        el.textContent = \"BokehJS \" + root.Bokeh.version + \" successfully loaded.\";\n",
       "      }\n",
       "    } else if (Date.now() < root._bokeh_timeout) {\n",
       "      setTimeout(display_loaded, 100)\n",
       "    }\n",
       "  }\n",
       "\n",
       "\n",
       "  function run_callbacks() {\n",
       "    try {\n",
       "      root._bokeh_onload_callbacks.forEach(function(callback) { callback() });\n",
       "    }\n",
       "    finally {\n",
       "      delete root._bokeh_onload_callbacks\n",
       "    }\n",
       "    console.info(\"Bokeh: all callbacks have finished\");\n",
       "  }\n",
       "\n",
       "  function load_libs(js_urls, callback) {\n",
       "    root._bokeh_onload_callbacks.push(callback);\n",
       "    if (root._bokeh_is_loading > 0) {\n",
       "      console.log(\"Bokeh: BokehJS is being loaded, scheduling callback at\", now());\n",
       "      return null;\n",
       "    }\n",
       "    if (js_urls == null || js_urls.length === 0) {\n",
       "      run_callbacks();\n",
       "      return null;\n",
       "    }\n",
       "    console.log(\"Bokeh: BokehJS not loaded, scheduling load and callback at\", now());\n",
       "    root._bokeh_is_loading = js_urls.length;\n",
       "    for (var i = 0; i < js_urls.length; i++) {\n",
       "      var url = js_urls[i];\n",
       "      var s = document.createElement('script');\n",
       "      s.src = url;\n",
       "      s.async = false;\n",
       "      s.onreadystatechange = s.onload = function() {\n",
       "        root._bokeh_is_loading--;\n",
       "        if (root._bokeh_is_loading === 0) {\n",
       "          console.log(\"Bokeh: all BokehJS libraries loaded\");\n",
       "          run_callbacks()\n",
       "        }\n",
       "      };\n",
       "      s.onerror = function() {\n",
       "        console.warn(\"failed to load library \" + url);\n",
       "      };\n",
       "      console.log(\"Bokeh: injecting script tag for BokehJS library: \", url);\n",
       "      document.getElementsByTagName(\"head\")[0].appendChild(s);\n",
       "    }\n",
       "  };var element = document.getElementById(\"16b62b3e-52fa-443f-9484-32f37aa1c393\");\n",
       "  if (element == null) {\n",
       "    console.log(\"Bokeh: ERROR: autoload.js configured with elementid '16b62b3e-52fa-443f-9484-32f37aa1c393' but no matching script tag was found. \")\n",
       "    return false;\n",
       "  }\n",
       "\n",
       "  var js_urls = [\"https://cdn.pydata.org/bokeh/release/bokeh-0.13.0.min.js\", \"https://cdn.pydata.org/bokeh/release/bokeh-widgets-0.13.0.min.js\", \"https://cdn.pydata.org/bokeh/release/bokeh-tables-0.13.0.min.js\", \"https://cdn.pydata.org/bokeh/release/bokeh-gl-0.13.0.min.js\"];\n",
       "\n",
       "  var inline_js = [\n",
       "    function(Bokeh) {\n",
       "      Bokeh.set_log_level(\"info\");\n",
       "    },\n",
       "    \n",
       "    function(Bokeh) {\n",
       "      \n",
       "    },\n",
       "    function(Bokeh) {\n",
       "      console.log(\"Bokeh: injecting CSS: https://cdn.pydata.org/bokeh/release/bokeh-0.13.0.min.css\");\n",
       "      Bokeh.embed.inject_css(\"https://cdn.pydata.org/bokeh/release/bokeh-0.13.0.min.css\");\n",
       "      console.log(\"Bokeh: injecting CSS: https://cdn.pydata.org/bokeh/release/bokeh-widgets-0.13.0.min.css\");\n",
       "      Bokeh.embed.inject_css(\"https://cdn.pydata.org/bokeh/release/bokeh-widgets-0.13.0.min.css\");\n",
       "      console.log(\"Bokeh: injecting CSS: https://cdn.pydata.org/bokeh/release/bokeh-tables-0.13.0.min.css\");\n",
       "      Bokeh.embed.inject_css(\"https://cdn.pydata.org/bokeh/release/bokeh-tables-0.13.0.min.css\");\n",
       "    }\n",
       "  ];\n",
       "\n",
       "  function run_inline_js() {\n",
       "    \n",
       "    if ((root.Bokeh !== undefined) || (force === true)) {\n",
       "      for (var i = 0; i < inline_js.length; i++) {\n",
       "        inline_js[i].call(root, root.Bokeh);\n",
       "      }if (force === true) {\n",
       "        display_loaded();\n",
       "      }} else if (Date.now() < root._bokeh_timeout) {\n",
       "      setTimeout(run_inline_js, 100);\n",
       "    } else if (!root._bokeh_failed_load) {\n",
       "      console.log(\"Bokeh: BokehJS failed to load within specified timeout.\");\n",
       "      root._bokeh_failed_load = true;\n",
       "    } else if (force !== true) {\n",
       "      var cell = $(document.getElementById(\"16b62b3e-52fa-443f-9484-32f37aa1c393\")).parents('.cell').data().cell;\n",
       "      cell.output_area.append_execute_result(NB_LOAD_WARNING)\n",
       "    }\n",
       "\n",
       "  }\n",
       "\n",
       "  if (root._bokeh_is_loading === 0) {\n",
       "    console.log(\"Bokeh: BokehJS loaded, going straight to plotting\");\n",
       "    run_inline_js();\n",
       "  } else {\n",
       "    load_libs(js_urls, function() {\n",
       "      console.log(\"Bokeh: BokehJS plotting callback run at\", now());\n",
       "      run_inline_js();\n",
       "    });\n",
       "  }\n",
       "}(window));"
      ],
      "application/vnd.bokehjs_load.v0+json": "\n(function(root) {\n  function now() {\n    return new Date();\n  }\n\n  var force = true;\n\n  if (typeof (root._bokeh_onload_callbacks) === \"undefined\" || force === true) {\n    root._bokeh_onload_callbacks = [];\n    root._bokeh_is_loading = undefined;\n  }\n\n  \n\n  \n  if (typeof (root._bokeh_timeout) === \"undefined\" || force === true) {\n    root._bokeh_timeout = Date.now() + 5000;\n    root._bokeh_failed_load = false;\n  }\n\n  var NB_LOAD_WARNING = {'data': {'text/html':\n     \"<div style='background-color: #fdd'>\\n\"+\n     \"<p>\\n\"+\n     \"BokehJS does not appear to have successfully loaded. If loading BokehJS from CDN, this \\n\"+\n     \"may be due to a slow or bad network connection. Possible fixes:\\n\"+\n     \"</p>\\n\"+\n     \"<ul>\\n\"+\n     \"<li>re-rerun `output_notebook()` to attempt to load from CDN again, or</li>\\n\"+\n     \"<li>use INLINE resources instead, as so:</li>\\n\"+\n     \"</ul>\\n\"+\n     \"<code>\\n\"+\n     \"from bokeh.resources import INLINE\\n\"+\n     \"output_notebook(resources=INLINE)\\n\"+\n     \"</code>\\n\"+\n     \"</div>\"}};\n\n  function display_loaded() {\n    var el = document.getElementById(\"16b62b3e-52fa-443f-9484-32f37aa1c393\");\n    if (el != null) {\n      el.textContent = \"BokehJS is loading...\";\n    }\n    if (root.Bokeh !== undefined) {\n      if (el != null) {\n        el.textContent = \"BokehJS \" + root.Bokeh.version + \" successfully loaded.\";\n      }\n    } else if (Date.now() < root._bokeh_timeout) {\n      setTimeout(display_loaded, 100)\n    }\n  }\n\n\n  function run_callbacks() {\n    try {\n      root._bokeh_onload_callbacks.forEach(function(callback) { callback() });\n    }\n    finally {\n      delete root._bokeh_onload_callbacks\n    }\n    console.info(\"Bokeh: all callbacks have finished\");\n  }\n\n  function load_libs(js_urls, callback) {\n    root._bokeh_onload_callbacks.push(callback);\n    if (root._bokeh_is_loading > 0) {\n      console.log(\"Bokeh: BokehJS is being loaded, scheduling callback at\", now());\n      return null;\n    }\n    if (js_urls == null || js_urls.length === 0) {\n      run_callbacks();\n      return null;\n    }\n    console.log(\"Bokeh: BokehJS not loaded, scheduling load and callback at\", now());\n    root._bokeh_is_loading = js_urls.length;\n    for (var i = 0; i < js_urls.length; i++) {\n      var url = js_urls[i];\n      var s = document.createElement('script');\n      s.src = url;\n      s.async = false;\n      s.onreadystatechange = s.onload = function() {\n        root._bokeh_is_loading--;\n        if (root._bokeh_is_loading === 0) {\n          console.log(\"Bokeh: all BokehJS libraries loaded\");\n          run_callbacks()\n        }\n      };\n      s.onerror = function() {\n        console.warn(\"failed to load library \" + url);\n      };\n      console.log(\"Bokeh: injecting script tag for BokehJS library: \", url);\n      document.getElementsByTagName(\"head\")[0].appendChild(s);\n    }\n  };var element = document.getElementById(\"16b62b3e-52fa-443f-9484-32f37aa1c393\");\n  if (element == null) {\n    console.log(\"Bokeh: ERROR: autoload.js configured with elementid '16b62b3e-52fa-443f-9484-32f37aa1c393' but no matching script tag was found. \")\n    return false;\n  }\n\n  var js_urls = [\"https://cdn.pydata.org/bokeh/release/bokeh-0.13.0.min.js\", \"https://cdn.pydata.org/bokeh/release/bokeh-widgets-0.13.0.min.js\", \"https://cdn.pydata.org/bokeh/release/bokeh-tables-0.13.0.min.js\", \"https://cdn.pydata.org/bokeh/release/bokeh-gl-0.13.0.min.js\"];\n\n  var inline_js = [\n    function(Bokeh) {\n      Bokeh.set_log_level(\"info\");\n    },\n    \n    function(Bokeh) {\n      \n    },\n    function(Bokeh) {\n      console.log(\"Bokeh: injecting CSS: https://cdn.pydata.org/bokeh/release/bokeh-0.13.0.min.css\");\n      Bokeh.embed.inject_css(\"https://cdn.pydata.org/bokeh/release/bokeh-0.13.0.min.css\");\n      console.log(\"Bokeh: injecting CSS: https://cdn.pydata.org/bokeh/release/bokeh-widgets-0.13.0.min.css\");\n      Bokeh.embed.inject_css(\"https://cdn.pydata.org/bokeh/release/bokeh-widgets-0.13.0.min.css\");\n      console.log(\"Bokeh: injecting CSS: https://cdn.pydata.org/bokeh/release/bokeh-tables-0.13.0.min.css\");\n      Bokeh.embed.inject_css(\"https://cdn.pydata.org/bokeh/release/bokeh-tables-0.13.0.min.css\");\n    }\n  ];\n\n  function run_inline_js() {\n    \n    if ((root.Bokeh !== undefined) || (force === true)) {\n      for (var i = 0; i < inline_js.length; i++) {\n        inline_js[i].call(root, root.Bokeh);\n      }if (force === true) {\n        display_loaded();\n      }} else if (Date.now() < root._bokeh_timeout) {\n      setTimeout(run_inline_js, 100);\n    } else if (!root._bokeh_failed_load) {\n      console.log(\"Bokeh: BokehJS failed to load within specified timeout.\");\n      root._bokeh_failed_load = true;\n    } else if (force !== true) {\n      var cell = $(document.getElementById(\"16b62b3e-52fa-443f-9484-32f37aa1c393\")).parents('.cell').data().cell;\n      cell.output_area.append_execute_result(NB_LOAD_WARNING)\n    }\n\n  }\n\n  if (root._bokeh_is_loading === 0) {\n    console.log(\"Bokeh: BokehJS loaded, going straight to plotting\");\n    run_inline_js();\n  } else {\n    load_libs(js_urls, function() {\n      console.log(\"Bokeh: BokehJS plotting callback run at\", now());\n      run_inline_js();\n    });\n  }\n}(window));"
     },
     "metadata": {},
     "output_type": "display_data"
    },
    {
     "data": {
      "text/html": [
       "\n",
       "\n",
       "\n",
       "\n",
       "\n",
       "\n",
       "  <div class=\"bk-root\" id=\"4a961c08-9099-4cac-9b64-5263314c7bc0\"></div>\n"
      ]
     },
     "metadata": {},
     "output_type": "display_data"
    },
    {
     "data": {
      "application/javascript": [
       "(function(root) {\n",
       "  function embed_document(root) {\n",
       "    \n",
       "  var docs_json = {\"9e763350-0e6f-44bb-9e1c-3c0e407f5835\":{\"roots\":{\"references\":[{\"attributes\":{},\"id\":\"f3aedda6-e6b8-495b-a47e-197d0162ca19\",\"type\":\"BasicTicker\"},{\"attributes\":{},\"id\":\"0eb526c6-739b-4b94-bae8-1b0deae6ed81\",\"type\":\"Selection\"},{\"attributes\":{},\"id\":\"7ffc1443-8a6a-41a8-968a-1e9f37e18d63\",\"type\":\"LinearScale\"},{\"attributes\":{},\"id\":\"e38b6e7d-1edb-4d69-8632-f1245286afc4\",\"type\":\"PanTool\"},{\"attributes\":{},\"id\":\"06ac3bae-0ee8-4a8b-813a-6dcdbaa48380\",\"type\":\"UnionRenderers\"},{\"attributes\":{},\"id\":\"98cd1a26-020e-4046-9d1c-54408e1613d8\",\"type\":\"BasicTickFormatter\"},{\"attributes\":{\"active_drag\":\"auto\",\"active_inspect\":\"auto\",\"active_multi\":null,\"active_scroll\":\"auto\",\"active_tap\":\"auto\",\"tools\":[{\"id\":\"e38b6e7d-1edb-4d69-8632-f1245286afc4\",\"type\":\"PanTool\"},{\"id\":\"98073845-32e9-4dfb-836d-a9417f7d341f\",\"type\":\"WheelZoomTool\"},{\"id\":\"94483eea-991b-4a4e-af22-389a0d1d22dc\",\"type\":\"BoxZoomTool\"},{\"id\":\"fd986537-cfc4-4485-a994-d725280131f2\",\"type\":\"SaveTool\"},{\"id\":\"768ecf6a-a6f9-43f1-9798-192ea82b9fd3\",\"type\":\"ResetTool\"},{\"id\":\"382fd4dd-9d58-4d1e-b6e4-9736ffb35d47\",\"type\":\"HelpTool\"}]},\"id\":\"72074ebb-8a51-417d-ac33-044c8e76dad5\",\"type\":\"Toolbar\"},{\"attributes\":{\"axis_label\":\"PCA component 2\",\"formatter\":{\"id\":\"91eee0e6-8953-4dd4-bd08-3a15fccf079d\",\"type\":\"BasicTickFormatter\"},\"plot\":{\"id\":\"d1aa5eaf-464f-45d7-a9e9-b07992b59938\",\"subtype\":\"Figure\",\"type\":\"Plot\"},\"ticker\":{\"id\":\"f3aedda6-e6b8-495b-a47e-197d0162ca19\",\"type\":\"BasicTicker\"}},\"id\":\"fbd278b9-9415-43e3-b06c-5a2c4710883c\",\"type\":\"LinearAxis\"},{\"attributes\":{},\"id\":\"cdd7feb2-87fb-46e5-aab7-a5042dc5eca4\",\"type\":\"LinearScale\"},{\"attributes\":{\"below\":[{\"id\":\"10ffaaca-c43e-4bdf-abea-a612fdf79bc6\",\"type\":\"LinearAxis\"}],\"left\":[{\"id\":\"fbd278b9-9415-43e3-b06c-5a2c4710883c\",\"type\":\"LinearAxis\"}],\"plot_height\":400,\"renderers\":[{\"id\":\"10ffaaca-c43e-4bdf-abea-a612fdf79bc6\",\"type\":\"LinearAxis\"},{\"id\":\"4b3d7b33-4101-4e85-b689-91c8e68b8850\",\"type\":\"Grid\"},{\"id\":\"fbd278b9-9415-43e3-b06c-5a2c4710883c\",\"type\":\"LinearAxis\"},{\"id\":\"ed5976b0-4b5f-48a4-b0fe-85d76c090365\",\"type\":\"Grid\"},{\"id\":\"ad6240cb-56d8-4b82-8727-de56a46c734b\",\"type\":\"BoxAnnotation\"},{\"id\":\"f3941a3a-d06d-4b8a-aa7c-2afc22774750\",\"type\":\"GlyphRenderer\"}],\"title\":{\"id\":\"b97e2370-750c-49bd-ae18-aa858599f15f\",\"type\":\"Title\"},\"toolbar\":{\"id\":\"72074ebb-8a51-417d-ac33-044c8e76dad5\",\"type\":\"Toolbar\"},\"x_range\":{\"id\":\"aaf05299-3fa2-4cb9-b436-348237dc8a7e\",\"type\":\"DataRange1d\"},\"x_scale\":{\"id\":\"7ffc1443-8a6a-41a8-968a-1e9f37e18d63\",\"type\":\"LinearScale\"},\"y_range\":{\"id\":\"d9a48b8f-8b45-4e9c-a06c-7dba2f0f9cf7\",\"type\":\"DataRange1d\"},\"y_scale\":{\"id\":\"cdd7feb2-87fb-46e5-aab7-a5042dc5eca4\",\"type\":\"LinearScale\"}},\"id\":\"d1aa5eaf-464f-45d7-a9e9-b07992b59938\",\"subtype\":\"Figure\",\"type\":\"Plot\"},{\"attributes\":{\"bottom_units\":\"screen\",\"fill_alpha\":{\"value\":0.5},\"fill_color\":{\"value\":\"lightgrey\"},\"left_units\":\"screen\",\"level\":\"overlay\",\"line_alpha\":{\"value\":1.0},\"line_color\":{\"value\":\"black\"},\"line_dash\":[4,4],\"line_width\":{\"value\":2},\"plot\":null,\"render_mode\":\"css\",\"right_units\":\"screen\",\"top_units\":\"screen\"},\"id\":\"ad6240cb-56d8-4b82-8727-de56a46c734b\",\"type\":\"BoxAnnotation\"},{\"attributes\":{\"overlay\":{\"id\":\"ad6240cb-56d8-4b82-8727-de56a46c734b\",\"type\":\"BoxAnnotation\"}},\"id\":\"94483eea-991b-4a4e-af22-389a0d1d22dc\",\"type\":\"BoxZoomTool\"},{\"attributes\":{},\"id\":\"91eee0e6-8953-4dd4-bd08-3a15fccf079d\",\"type\":\"BasicTickFormatter\"},{\"attributes\":{\"fill_alpha\":{\"value\":0.1},\"fill_color\":{\"value\":\"#1f77b4\"},\"line_alpha\":{\"value\":0.1},\"line_color\":{\"value\":\"#1f77b4\"},\"size\":{\"units\":\"screen\",\"value\":5},\"x\":{\"field\":\"x\"},\"y\":{\"field\":\"y\"}},\"id\":\"c9ee18bd-9b21-4d0c-8931-c8cba1299d03\",\"type\":\"Circle\"},{\"attributes\":{\"plot\":{\"id\":\"d1aa5eaf-464f-45d7-a9e9-b07992b59938\",\"subtype\":\"Figure\",\"type\":\"Plot\"},\"ticker\":{\"id\":\"de30e6ba-1967-4329-97c4-c0c18b729089\",\"type\":\"BasicTicker\"}},\"id\":\"4b3d7b33-4101-4e85-b689-91c8e68b8850\",\"type\":\"Grid\"},{\"attributes\":{\"axis_label\":\"PCA component 1\",\"formatter\":{\"id\":\"98cd1a26-020e-4046-9d1c-54408e1613d8\",\"type\":\"BasicTickFormatter\"},\"plot\":{\"id\":\"d1aa5eaf-464f-45d7-a9e9-b07992b59938\",\"subtype\":\"Figure\",\"type\":\"Plot\"},\"ticker\":{\"id\":\"de30e6ba-1967-4329-97c4-c0c18b729089\",\"type\":\"BasicTicker\"}},\"id\":\"10ffaaca-c43e-4bdf-abea-a612fdf79bc6\",\"type\":\"LinearAxis\"},{\"attributes\":{},\"id\":\"fd986537-cfc4-4485-a994-d725280131f2\",\"type\":\"SaveTool\"},{\"attributes\":{\"callback\":null,\"data\":{\"x\":{\"__ndarray__\":\"2xfQlUF5BcB7HBC3HrkFwIEB8LRZHgfA4au3ELT4BcArfKiOKNQFwPou3tM6PQLAoXRMIi+RBsCf3sb9CAMFwJ6OMgWKGgfABFbgrghkBcBfEdbqXQ0EwLQJll635wTAl1U1L6pMBsCBXT7kNc0JwFSZcvz5JQXAaz99FCoSA8CXoJoE7/oEwH0CKtTDLwXAjJitL7aXAcDNpwaP4rIEwNoWbAv4ewLA3FEHi4tYBMC+fGGZE7oJwGkBnqfObALAf7QIOnDZAsDwvzLoNhAEwHyXS26gwAPAttch08Z/BMCLs/ecWh4FwE2sYpASEAXA/UeKlyu1BMDuJH6g1kcDwIFw3yJcLgXA5ExEjPvGBMAEVuCuCGQFwK+yoZ2d7wbATKUCyHcABcAEVuCuCGQFwJfrulPQ2gfA4rpHR/u4BMCjQtiWPikGwH7uJAtU0QbAu2xt2IL8B8BVrVgtfj4DwNMgpJywqwHA3Crpq665BcDDoH1E80wEwNkIQF/6uAbAHTVVoWtXBMB1upzHnKEFwDj1DcWEjvQ/4wJQE0/W7T84y8qQy2z3Pxa3dPTuKcc/SIbOIedk8T9XeMs1dX7kPyjV/0sJhvE/8Ukj0QQM6L8q94EDWbHwP5EZKSSI3oS/n84ZcNFa4L/N5/VR6lrgPwL1T+kbytA/mupp/Ep97z+eXdiQ8WHGv/7qVXOtru0/uo81VmIb5T8BC8kJbQXOP8j7SL3TJ+4/OropZmQkpj+jxq87H9zxP0f4HlSX1dY/LCUEH1a+9D/0QZ74wXTtP5Z71cAn2eY/TV6+otvJ7D+fozkW8kv1P6hLd1oY6/g/3s2Mx6L/6T8m5x9lX6vTv0kVi9f9AbK/5aYYyauPyL/TKai4g0fBP8forIJOD/Y/znE8ovTK4j/oFyyfoNTpP6PKEYbghvM/8GvzTwMD6j9qeUwYjmLPP9mkTKnGDsU/1y+Pukyi3T+udkjCMXzsP2f5LaHoS80/tLjB7Wig5r+pLf2lDcHWP/uSZxQvMdU/d0JiNOcD2D+oXdwMuojkP6stLLIhEu2/ymOz5UgP0z8ZHDsT+kAEQP/ZlDIKoPY/4Il4e4/uBEBsLrJAdYj/P2Ss9OlNzAJAZAM+Yc8sC0BVXXecyZ7gP3BDmha/dAdAROEYnLCOAkB1uNbCVlgHQGVzWBlJl/o/gfhG8WLW/D8LrT4nslIBQL2G6Tl1g/U/gy5fPkFd+T+5Hftm1Hn+P3IDnn0fMP8/WVTI0v3oC0BgqfvIhFsOQPYKf371xfQ/LrO19OJsA0AFg3UmaCvzP1Sv+OZ+/gtAFaODn+Mz9j9lABLC8jQCQMkIgnTe6QRApqF0lTsf9D+wkG83lab0P5+7I96a+wBAZCaKXbsZA0BRhLq4SboGQOIb7ZfW2wlA/NDJnxhFAUBZE6nB8hb3P/d3nOdnefw/3MMdXrecCECLVH/e7igBQNU67YtRev4/ZRATsp+z8j/RczWPedwAQDmlh3+xgwJAqpLo21vC/j//2ZQyCqD2Pz7IlFavgQRA21WqyOlaA0CnvfyesRr/P+QIk0Qeafg/fq4bO4g5/D9IxfebEm3+P1VzL44SPPY/\",\"dtype\":\"float64\",\"shape\":[150]},\"y\":{\"__ndarray__\":\"DAnjXSLn1D9+cojtCbTFvxRbwHqKlMG/sEpJ9nXp07+t4vYhBV/VP3IdOgPW7ec/5n+0Hc0Etb9ZiGys18/FP6rl9jj6Q+K/bV5fwiVQu7+J6VrRptzkP4aQ1SmBCZY/lteXK5cmzb/tKP933hrgv7iauoCn+vI/yp2wIR2E9T8azrJlyi3qPyFyvDO8bNQ/a8Vxf8Qi7D+GQSNVuKfgPyq5dpiqdtk/Icnd8nop3D+sPF6EdSDCPyzV18SIA7s//f56EWj1n7/yQB0gmczBv1F8WaFKpsE/E/rU9dT61z9RL8+ZP2/UPwBtKqJnVMi/aCBSKi1Eyb8hPKKm0sHaP7ExxDdMPeo/C8nal7CZ8T9tXl/CJVC7v/wbnD3twrM/eEPs2edq4z9tXl/CJVC7v+lPb7NqvN6/IBvJPjE3zj8OgcqbCVnRP3lJm3gI2u2/vgnrmEtl1b8aZ0MT0RPJP+mKLrshVdw/9jIy1C8Qz7/JYJhR7lTgP4+elW/YO8y/0sTDbNDC4j+m5cHoWXG9P9DO+ige7+U/Bf8x071t1D/T9HK3UiLgPwt1I/ZYa+q/+45t2MhMsz97Yc2NbbXavyiRpgpGK9I/JhTAT4kE8L/Q+7HBdU7NPzy82QXzDue/DNFUwyoz9L/UtBKGSi+6v8zsloZXiOG/KoHFoRXWv7/obJoOvx3Qv06n3fyU990/bZLEkMeG1r9TFXwONT7Vv07536GbVuG/QWqFwY+b4r8J9nizDI+1vwsJmstdG7G/SaG8l8T21L9gq8xCkVjHvzToYsSfP8M/yTptplgY1T9GTKiyVFHPP8Ctvcn1HNE/wR+b8kfHxL/db4I9lF3Xv1R0H9Qwe+a/v/xtpgCu5b9eklAADfPTv89+YmUG9dq/MSUhIyHu3r9gEa09h/fIP38HAj9AHdo/JwDGZzS5179vA4Z3EhLRv/VR4WjJv+W/pKWl78Js5b8AJ5dP3U+hv8YNz76Wvtm/lArFAIIi8L+AYkSoXRrgv/z22mrzB8u/bDXWbO+p0r9+FE79ZIeTP0+U6drZDOi/LwDcyIQ11r+nFKcYvkCIvxRrGTvJZeK/Cl29ikTi1T+Fh5xzIC/HvxHPFCqhcaW/5zD/j2aC4T9UHOjJxg/zvwQwWklYjdY/MbYsWR9uz795tjLM4PjoP4CIakQd+84/spwrQ/Sqy79HxEfoTY7LPyDSZyll2Oi/qNLY3QBC4b+2Fmrg62q+P7VTZriY2qQ/LbX2faW+8j8+6CHMgDXQP4gfJeY5Wui/Z5MQITId2D8Pln0h52Djv5KjksfGO90/TT9Y968dyr9XUUNwNFbVP22s010k3uE/Sdu3DPbtxr/vJAmZC869v+bDq/hK/cq/BvHoV+qZ3T8scJi9A9vXP4tnjpyq7fU/lvH4TBfyy79j0d2kFGjCvzdyq+X/C+C/lZuGRcjx5T8txSkXscfBP00hBdmumag/lHRo/GoOxb/4ptB7XcbXP/s9DxG6X8c/QoI4u38x2j8Uaxk7yWXiv1OZafWQqdE/9/Wox5ts0z8S6LrUOP3HP/pUk3FXANi//JbSWdUZtD+1ghc8Gaq9P6aMF9vQGtK/\",\"dtype\":\"float64\",\"shape\":[150]}},\"selected\":{\"id\":\"0eb526c6-739b-4b94-bae8-1b0deae6ed81\",\"type\":\"Selection\"},\"selection_policy\":{\"id\":\"06ac3bae-0ee8-4a8b-813a-6dcdbaa48380\",\"type\":\"UnionRenderers\"}},\"id\":\"4e3be252-095f-43c3-aa16-48c9adc7a82b\",\"type\":\"ColumnDataSource\"},{\"attributes\":{},\"id\":\"382fd4dd-9d58-4d1e-b6e4-9736ffb35d47\",\"type\":\"HelpTool\"},{\"attributes\":{\"source\":{\"id\":\"4e3be252-095f-43c3-aa16-48c9adc7a82b\",\"type\":\"ColumnDataSource\"}},\"id\":\"1c57828a-317e-4ef9-a623-83b3d975b2cf\",\"type\":\"CDSView\"},{\"attributes\":{},\"id\":\"768ecf6a-a6f9-43f1-9798-192ea82b9fd3\",\"type\":\"ResetTool\"},{\"attributes\":{\"data_source\":{\"id\":\"4e3be252-095f-43c3-aa16-48c9adc7a82b\",\"type\":\"ColumnDataSource\"},\"glyph\":{\"id\":\"38168211-7481-4884-814e-7c9a7055db9b\",\"type\":\"Circle\"},\"hover_glyph\":null,\"muted_glyph\":null,\"nonselection_glyph\":{\"id\":\"c9ee18bd-9b21-4d0c-8931-c8cba1299d03\",\"type\":\"Circle\"},\"selection_glyph\":null,\"view\":{\"id\":\"1c57828a-317e-4ef9-a623-83b3d975b2cf\",\"type\":\"CDSView\"}},\"id\":\"f3941a3a-d06d-4b8a-aa7c-2afc22774750\",\"type\":\"GlyphRenderer\"},{\"attributes\":{\"callback\":null},\"id\":\"d9a48b8f-8b45-4e9c-a06c-7dba2f0f9cf7\",\"type\":\"DataRange1d\"},{\"attributes\":{},\"id\":\"de30e6ba-1967-4329-97c4-c0c18b729089\",\"type\":\"BasicTicker\"},{\"attributes\":{\"dimension\":1,\"plot\":{\"id\":\"d1aa5eaf-464f-45d7-a9e9-b07992b59938\",\"subtype\":\"Figure\",\"type\":\"Plot\"},\"ticker\":{\"id\":\"f3aedda6-e6b8-495b-a47e-197d0162ca19\",\"type\":\"BasicTicker\"}},\"id\":\"ed5976b0-4b5f-48a4-b0fe-85d76c090365\",\"type\":\"Grid\"},{\"attributes\":{},\"id\":\"98073845-32e9-4dfb-836d-a9417f7d341f\",\"type\":\"WheelZoomTool\"},{\"attributes\":{\"plot\":null,\"text\":\"Principle components of the iris data\"},\"id\":\"b97e2370-750c-49bd-ae18-aa858599f15f\",\"type\":\"Title\"},{\"attributes\":{\"callback\":null},\"id\":\"aaf05299-3fa2-4cb9-b436-348237dc8a7e\",\"type\":\"DataRange1d\"},{\"attributes\":{\"fill_alpha\":{\"value\":0.5},\"fill_color\":{\"value\":\"navy\"},\"line_alpha\":{\"value\":0.5},\"line_color\":{\"value\":\"navy\"},\"size\":{\"units\":\"screen\",\"value\":5},\"x\":{\"field\":\"x\"},\"y\":{\"field\":\"y\"}},\"id\":\"38168211-7481-4884-814e-7c9a7055db9b\",\"type\":\"Circle\"}],\"root_ids\":[\"d1aa5eaf-464f-45d7-a9e9-b07992b59938\"]},\"title\":\"Bokeh Application\",\"version\":\"0.13.0\"}};\n",
       "  var render_items = [{\"docid\":\"9e763350-0e6f-44bb-9e1c-3c0e407f5835\",\"roots\":{\"d1aa5eaf-464f-45d7-a9e9-b07992b59938\":\"4a961c08-9099-4cac-9b64-5263314c7bc0\"}}];\n",
       "  root.Bokeh.embed.embed_items_notebook(docs_json, render_items);\n",
       "\n",
       "  }\n",
       "  if (root.Bokeh !== undefined) {\n",
       "    embed_document(root);\n",
       "  } else {\n",
       "    var attempts = 0;\n",
       "    var timer = setInterval(function(root) {\n",
       "      if (root.Bokeh !== undefined) {\n",
       "        embed_document(root);\n",
       "        clearInterval(timer);\n",
       "      }\n",
       "      attempts++;\n",
       "      if (attempts > 100) {\n",
       "        console.log(\"Bokeh: ERROR: Unable to run BokehJS code because BokehJS library is missing\")\n",
       "        clearInterval(timer);\n",
       "      }\n",
       "    }, 10, root)\n",
       "  }\n",
       "})(window);"
      ],
      "application/vnd.bokehjs_exec.v0+json": ""
     },
     "metadata": {
      "application/vnd.bokehjs_exec.v0+json": {
       "id": "d1aa5eaf-464f-45d7-a9e9-b07992b59938"
      }
     },
     "output_type": "display_data"
    }
   ],
   "source": [
    "from bokeh.plotting import figure, show\n",
    "from bokeh.io import output_notebook, reset_output\n",
    "\n",
    "#create figure\n",
    "p = figure(title = \"Principle components of the iris data\",\n",
    "           x_axis_label = \"PCA component 1\",\n",
    "           y_axis_label = \"PCA component 2\",\n",
    "           plot_width=600, \n",
    "           plot_height=400\n",
    "          )\n",
    "\n",
    "# plot points on the figure\n",
    "p.circle(iris_data_2D[:,0], \n",
    "         iris_data_2D[:,1], \n",
    "         size=5, \n",
    "         color=\"navy\", \n",
    "         alpha=0.5\n",
    "        )\n",
    "\n",
    "#plot inline in the notebook and show\n",
    "output_notebook()\n",
    "show(p)"
   ]
  },
  {
   "cell_type": "markdown",
   "metadata": {
    "slideshow": {
     "slide_type": "slide"
    }
   },
   "source": [
    "### K-means to seperate out the dataset"
   ]
  },
  {
   "cell_type": "code",
   "execution_count": 102,
   "metadata": {
    "slideshow": {
     "slide_type": "subslide"
    }
   },
   "outputs": [],
   "source": [
    "#scale\n",
    "scaler = StandardScaler()\n",
    "iris_data_scld = scaler.fit_transform(iris_data)\n",
    "\n",
    "#create clusters\n",
    "k_means_clst = KMeans(n_clusters = 3,\n",
    "                      random_state = 42,\n",
    "                      n_jobs = -1)\n",
    "\n",
    "clusters = k_means_clst.fit(iris_data_scld)"
   ]
  },
  {
   "cell_type": "markdown",
   "metadata": {},
   "source": [
    "### Lets have a look at the clusters"
   ]
  },
  {
   "cell_type": "code",
   "execution_count": 103,
   "metadata": {},
   "outputs": [
    {
     "data": {
      "text/html": [
       "\n",
       "\n",
       "\n",
       "\n",
       "\n",
       "\n",
       "  <div class=\"bk-root\" id=\"80494d76-d7bf-432d-ba67-fef5b7b9c28b\"></div>\n"
      ]
     },
     "metadata": {},
     "output_type": "display_data"
    },
    {
     "data": {
      "application/javascript": [
       "(function(root) {\n",
       "  function embed_document(root) {\n",
       "    \n",
       "  var docs_json = {\"3465b848-f0ad-431f-9ff8-74bbe77ddeba\":{\"roots\":{\"references\":[{\"attributes\":{},\"id\":\"d47748e7-f122-4fd0-9c90-4c925509c26d\",\"type\":\"BasicTickFormatter\"},{\"attributes\":{\"callback\":null,\"data\":{\"x\":{\"__ndarray__\":\"2xfQlUF5BcB7HBC3HrkFwIEB8LRZHgfA4au3ELT4BcArfKiOKNQFwPou3tM6PQLAoXRMIi+RBsCf3sb9CAMFwJ6OMgWKGgfABFbgrghkBcBfEdbqXQ0EwLQJll635wTAl1U1L6pMBsCBXT7kNc0JwFSZcvz5JQXAaz99FCoSA8CXoJoE7/oEwH0CKtTDLwXAjJitL7aXAcDNpwaP4rIEwNoWbAv4ewLA3FEHi4tYBMC+fGGZE7oJwGkBnqfObALAf7QIOnDZAsDwvzLoNhAEwHyXS26gwAPAttch08Z/BMCLs/ecWh4FwE2sYpASEAXA/UeKlyu1BMDuJH6g1kcDwIFw3yJcLgXA5ExEjPvGBMAEVuCuCGQFwK+yoZ2d7wbATKUCyHcABcAEVuCuCGQFwJfrulPQ2gfA4rpHR/u4BMCjQtiWPikGwH7uJAtU0QbAu2xt2IL8B8BVrVgtfj4DwNMgpJywqwHA3Crpq665BcDDoH1E80wEwNkIQF/6uAbAHTVVoWtXBMB1upzHnKEFwA==\",\"dtype\":\"float64\",\"shape\":[50]},\"y\":{\"__ndarray__\":\"DAnjXSLn1D9+cojtCbTFvxRbwHqKlMG/sEpJ9nXp07+t4vYhBV/VP3IdOgPW7ec/5n+0Hc0Etb9ZiGys18/FP6rl9jj6Q+K/bV5fwiVQu7+J6VrRptzkP4aQ1SmBCZY/lteXK5cmzb/tKP933hrgv7iauoCn+vI/yp2wIR2E9T8azrJlyi3qPyFyvDO8bNQ/a8Vxf8Qi7D+GQSNVuKfgPyq5dpiqdtk/Icnd8nop3D+sPF6EdSDCPyzV18SIA7s//f56EWj1n7/yQB0gmczBv1F8WaFKpsE/E/rU9dT61z9RL8+ZP2/UPwBtKqJnVMi/aCBSKi1Eyb8hPKKm0sHaP7ExxDdMPeo/C8nal7CZ8T9tXl/CJVC7v/wbnD3twrM/eEPs2edq4z9tXl/CJVC7v+lPb7NqvN6/IBvJPjE3zj8OgcqbCVnRP3lJm3gI2u2/vgnrmEtl1b8aZ0MT0RPJP+mKLrshVdw/9jIy1C8Qz7/JYJhR7lTgP4+elW/YO8y/0sTDbNDC4j+m5cHoWXG9Pw==\",\"dtype\":\"float64\",\"shape\":[50]}},\"selected\":{\"id\":\"23980e21-2dcf-4288-bef1-be22bdb03449\",\"type\":\"Selection\"},\"selection_policy\":{\"id\":\"80ce78b3-c7c6-4ae0-a46a-9b452923450b\",\"type\":\"UnionRenderers\"}},\"id\":\"e75f0772-be2d-4546-9291-580ff8b20a5a\",\"type\":\"ColumnDataSource\"},{\"attributes\":{},\"id\":\"9a429c59-1a93-4a96-b2b0-46a0b6067dd0\",\"type\":\"HelpTool\"},{\"attributes\":{\"fill_alpha\":{\"value\":0.7},\"fill_color\":{\"value\":\"#ff7f0e\"},\"line_alpha\":{\"value\":0.7},\"line_color\":{\"value\":\"#ff7f0e\"},\"size\":{\"units\":\"screen\",\"value\":5},\"x\":{\"field\":\"x\"},\"y\":{\"field\":\"y\"}},\"id\":\"3a4e7fee-59bd-4a2b-bcda-1563f310d057\",\"type\":\"Circle\"},{\"attributes\":{},\"id\":\"f9f7f6c4-fdd2-499e-8189-fd48bcbc9f92\",\"type\":\"BasicTicker\"},{\"attributes\":{},\"id\":\"673d169c-1163-4c3d-8241-0eb048ce289e\",\"type\":\"LinearScale\"},{\"attributes\":{\"bottom_units\":\"screen\",\"fill_alpha\":{\"value\":0.5},\"fill_color\":{\"value\":\"lightgrey\"},\"left_units\":\"screen\",\"level\":\"overlay\",\"line_alpha\":{\"value\":1.0},\"line_color\":{\"value\":\"black\"},\"line_dash\":[4,4],\"line_width\":{\"value\":2},\"plot\":null,\"render_mode\":\"css\",\"right_units\":\"screen\",\"top_units\":\"screen\"},\"id\":\"2f39dc82-f84d-4af3-af7d-aafca61256dd\",\"type\":\"BoxAnnotation\"},{\"attributes\":{},\"id\":\"f567b5fc-2452-4d45-967b-d9b7f085c9e5\",\"type\":\"BasicTicker\"},{\"attributes\":{\"callback\":null},\"id\":\"439a8892-8dcf-49c6-9ba3-f6e7af931806\",\"type\":\"DataRange1d\"},{\"attributes\":{},\"id\":\"ad439b2b-5391-41d1-ab71-ff190977713e\",\"type\":\"WheelZoomTool\"},{\"attributes\":{\"below\":[{\"id\":\"9baa1ac4-3efe-4490-abf6-666d85724855\",\"type\":\"LinearAxis\"}],\"left\":[{\"id\":\"2919fd57-95c7-4499-9b1d-a821502f0a37\",\"type\":\"LinearAxis\"}],\"plot_height\":400,\"renderers\":[{\"id\":\"9baa1ac4-3efe-4490-abf6-666d85724855\",\"type\":\"LinearAxis\"},{\"id\":\"d2f80368-da8f-4fbc-bcb3-b7a1ac59ca08\",\"type\":\"Grid\"},{\"id\":\"2919fd57-95c7-4499-9b1d-a821502f0a37\",\"type\":\"LinearAxis\"},{\"id\":\"1a7dce07-99b6-4b07-984b-1686facf9f4e\",\"type\":\"Grid\"},{\"id\":\"2f39dc82-f84d-4af3-af7d-aafca61256dd\",\"type\":\"BoxAnnotation\"},{\"id\":\"335ca140-6ae2-497f-96a2-2b42e43e1f9e\",\"type\":\"GlyphRenderer\"},{\"id\":\"4d119c52-7727-4950-9092-99c364b9ef49\",\"type\":\"GlyphRenderer\"},{\"id\":\"bff18a3b-3175-4507-bf8c-c50f69a62b35\",\"type\":\"GlyphRenderer\"}],\"title\":{\"id\":\"fbb75f97-8fed-49f5-a84e-701efc3c074c\",\"type\":\"Title\"},\"toolbar\":{\"id\":\"91639fd5-6d12-4456-a1e7-a619ace326a3\",\"type\":\"Toolbar\"},\"x_range\":{\"id\":\"439a8892-8dcf-49c6-9ba3-f6e7af931806\",\"type\":\"DataRange1d\"},\"x_scale\":{\"id\":\"0abad244-4b9b-4dff-9f54-e1c43514f34d\",\"type\":\"LinearScale\"},\"y_range\":{\"id\":\"3a301a27-4aca-44bf-b913-4183366f6d52\",\"type\":\"DataRange1d\"},\"y_scale\":{\"id\":\"673d169c-1163-4c3d-8241-0eb048ce289e\",\"type\":\"LinearScale\"}},\"id\":\"3f44cd14-925d-4fa0-b9cc-d102eca6df7c\",\"subtype\":\"Figure\",\"type\":\"Plot\"},{\"attributes\":{\"data_source\":{\"id\":\"e75f0772-be2d-4546-9291-580ff8b20a5a\",\"type\":\"ColumnDataSource\"},\"glyph\":{\"id\":\"4b4839dd-e4e0-4d87-a7b6-92ece97ad0d6\",\"type\":\"Circle\"},\"hover_glyph\":null,\"muted_glyph\":null,\"nonselection_glyph\":{\"id\":\"9a572e03-b38b-4e68-afab-c275716a3879\",\"type\":\"Circle\"},\"selection_glyph\":null,\"view\":{\"id\":\"2fd11194-8b7b-4e0e-8c9b-787f9377025d\",\"type\":\"CDSView\"}},\"id\":\"335ca140-6ae2-497f-96a2-2b42e43e1f9e\",\"type\":\"GlyphRenderer\"},{\"attributes\":{},\"id\":\"0abad244-4b9b-4dff-9f54-e1c43514f34d\",\"type\":\"LinearScale\"},{\"attributes\":{\"fill_alpha\":{\"value\":0.7},\"fill_color\":{\"value\":\"#1f77b4\"},\"line_alpha\":{\"value\":0.7},\"line_color\":{\"value\":\"#1f77b4\"},\"size\":{\"units\":\"screen\",\"value\":5},\"x\":{\"field\":\"x\"},\"y\":{\"field\":\"y\"}},\"id\":\"4b4839dd-e4e0-4d87-a7b6-92ece97ad0d6\",\"type\":\"Circle\"},{\"attributes\":{\"data_source\":{\"id\":\"fa0299c8-14f5-426d-8f91-104b8581c95c\",\"type\":\"ColumnDataSource\"},\"glyph\":{\"id\":\"27bee27e-a03a-4a38-8377-72576800ef53\",\"type\":\"Circle\"},\"hover_glyph\":null,\"muted_glyph\":null,\"nonselection_glyph\":{\"id\":\"9a67c842-c767-4d80-8a8a-cfae08eb7c31\",\"type\":\"Circle\"},\"selection_glyph\":null,\"view\":{\"id\":\"74e22129-9db1-49a6-a504-aca940030d48\",\"type\":\"CDSView\"}},\"id\":\"bff18a3b-3175-4507-bf8c-c50f69a62b35\",\"type\":\"GlyphRenderer\"},{\"attributes\":{\"source\":{\"id\":\"fa0299c8-14f5-426d-8f91-104b8581c95c\",\"type\":\"ColumnDataSource\"}},\"id\":\"74e22129-9db1-49a6-a504-aca940030d48\",\"type\":\"CDSView\"},{\"attributes\":{\"callback\":null},\"id\":\"3a301a27-4aca-44bf-b913-4183366f6d52\",\"type\":\"DataRange1d\"},{\"attributes\":{\"callback\":null,\"data\":{\"x\":{\"__ndarray__\":\"Frd09O4pxz9Ihs4h52TxP1d4yzV1fuQ/8Ukj0QQM6L8q94EDWbHwP5EZKSSI3oS/n84ZcNFa4L/N5/VR6lrgPwL1T+kbytA/mupp/Ep97z+eXdiQ8WHGv7qPNVZiG+U/AQvJCW0Fzj/I+0i90yfuPzq6KWZkJKY/R/geVJfV1j8sJQQfVr70P/RBnvjBdO0/lnvVwCfZ5j/ezYzHov/pPybnH2Vfq9O/SRWL1/0Bsr/lphjJq4/Iv9MpqLiDR8E/x+isgk4P9j/OcTyi9MriP/Br808DA+o/anlMGI5izz/ZpEypxg7FP9cvj7pMot0/rnZIwjF87D9n+S2h6EvNP7S4we1ooOa/qS39pQ3B1j/7kmcULzHVP3dCYjTnA9g/qF3cDLqI5D+rLSyyIRLtv8pjs+VID9M//9mUMgqg9j9VXXecyZ7gP72G6Tl1g/U/gy5fPkFd+T/2Cn9+9cX0PwWDdSZoK/M/FaODn+Mz9j+moXSVOx/0P1kTqcHyFvc/93ec52d5/D9lEBOyn7PyP//ZlDIKoPY/5AiTRB5p+D9Vcy+OEjz2Pw==\",\"dtype\":\"float64\",\"shape\":[53]},\"y\":{\"__ndarray__\":\"C3Uj9lhr6r/7jm3YyEyzP3thzY1ttdq/JhTAT4kE8L/Q+7HBdU7NPzy82QXzDue/DNFUwyoz9L/UtBKGSi+6v8zsloZXiOG/KoHFoRXWv7/obJoOvx3Qv22SxJDHhta/UxV8DjU+1b9O+d+hm1bhv0FqhcGPm+K/Cwmay10bsb9JobyXxPbUv2CrzEKRWMe/NOhixJ8/wz/BH5vyR8fEv91vgj2UXde/VHQf1DB75r+//G2mAK7lv16SUAAN89O/z35iZQb12r8xJSEjIe7evycAxmc0ude/bwOGdxIS0b/1UeFoyb/lv6Slpe/CbOW/ACeXT91Pob/GDc++lr7Zv5QKxQCCIvC/gGJEqF0a4L/89tpq8wfLv2w11mzvqdK/fhRO/WSHkz9PlOna2Qzovy8A3MiENda/FGsZO8ll4r9UHOjJxg/zvyDSZyll2Oi/qNLY3QBC4b+IHyXmOVrovw+WfSHnYOO/TT9Y968dyr9J27cM9u3Gv2PR3aQUaMK/N3Kr5f8L4L+UdGj8ag7FvxRrGTvJZeK/+lSTcVcA2L+mjBfb0BrSvw==\",\"dtype\":\"float64\",\"shape\":[53]}},\"selected\":{\"id\":\"4e549576-dbca-42d3-8fd6-27dfab05e89f\",\"type\":\"Selection\"},\"selection_policy\":{\"id\":\"498cafdf-c298-4bc0-bd5d-ee3f961b3eb4\",\"type\":\"UnionRenderers\"}},\"id\":\"fa0299c8-14f5-426d-8f91-104b8581c95c\",\"type\":\"ColumnDataSource\"},{\"attributes\":{},\"id\":\"6e449d53-edf8-40a1-84a1-f1b3cac0356a\",\"type\":\"SaveTool\"},{\"attributes\":{\"plot\":null,\"text\":\"K-means clusters of the iris data\"},\"id\":\"fbb75f97-8fed-49f5-a84e-701efc3c074c\",\"type\":\"Title\"},{\"attributes\":{},\"id\":\"23980e21-2dcf-4288-bef1-be22bdb03449\",\"type\":\"Selection\"},{\"attributes\":{},\"id\":\"4e549576-dbca-42d3-8fd6-27dfab05e89f\",\"type\":\"Selection\"},{\"attributes\":{\"fill_alpha\":{\"value\":0.7},\"fill_color\":{\"value\":\"#2ca02c\"},\"line_alpha\":{\"value\":0.7},\"line_color\":{\"value\":\"#2ca02c\"},\"size\":{\"units\":\"screen\",\"value\":5},\"x\":{\"field\":\"x\"},\"y\":{\"field\":\"y\"}},\"id\":\"27bee27e-a03a-4a38-8377-72576800ef53\",\"type\":\"Circle\"},{\"attributes\":{\"active_drag\":\"auto\",\"active_inspect\":\"auto\",\"active_multi\":null,\"active_scroll\":\"auto\",\"active_tap\":\"auto\",\"tools\":[{\"id\":\"64631144-c196-475b-aeed-df83bfd8be61\",\"type\":\"PanTool\"},{\"id\":\"ad439b2b-5391-41d1-ab71-ff190977713e\",\"type\":\"WheelZoomTool\"},{\"id\":\"f4f1d5fd-c469-47d9-a625-48961c8817cb\",\"type\":\"BoxZoomTool\"},{\"id\":\"6e449d53-edf8-40a1-84a1-f1b3cac0356a\",\"type\":\"SaveTool\"},{\"id\":\"0c6f2bdf-0465-4601-9f6f-07b164f9c4c7\",\"type\":\"ResetTool\"},{\"id\":\"9a429c59-1a93-4a96-b2b0-46a0b6067dd0\",\"type\":\"HelpTool\"}]},\"id\":\"91639fd5-6d12-4456-a1e7-a619ace326a3\",\"type\":\"Toolbar\"},{\"attributes\":{\"axis_label\":\"PCA component 2\",\"formatter\":{\"id\":\"d47748e7-f122-4fd0-9c90-4c925509c26d\",\"type\":\"BasicTickFormatter\"},\"plot\":{\"id\":\"3f44cd14-925d-4fa0-b9cc-d102eca6df7c\",\"subtype\":\"Figure\",\"type\":\"Plot\"},\"ticker\":{\"id\":\"f9f7f6c4-fdd2-499e-8189-fd48bcbc9f92\",\"type\":\"BasicTicker\"}},\"id\":\"2919fd57-95c7-4499-9b1d-a821502f0a37\",\"type\":\"LinearAxis\"},{\"attributes\":{\"fill_alpha\":{\"value\":0.1},\"fill_color\":{\"value\":\"#1f77b4\"},\"line_alpha\":{\"value\":0.1},\"line_color\":{\"value\":\"#1f77b4\"},\"size\":{\"units\":\"screen\",\"value\":5},\"x\":{\"field\":\"x\"},\"y\":{\"field\":\"y\"}},\"id\":\"9a67c842-c767-4d80-8a8a-cfae08eb7c31\",\"type\":\"Circle\"},{\"attributes\":{},\"id\":\"0e25a2c4-8465-4f68-bab9-42831b1db144\",\"type\":\"Selection\"},{\"attributes\":{\"plot\":{\"id\":\"3f44cd14-925d-4fa0-b9cc-d102eca6df7c\",\"subtype\":\"Figure\",\"type\":\"Plot\"},\"ticker\":{\"id\":\"f567b5fc-2452-4d45-967b-d9b7f085c9e5\",\"type\":\"BasicTicker\"}},\"id\":\"d2f80368-da8f-4fbc-bcb3-b7a1ac59ca08\",\"type\":\"Grid\"},{\"attributes\":{},\"id\":\"0c6f2bdf-0465-4601-9f6f-07b164f9c4c7\",\"type\":\"ResetTool\"},{\"attributes\":{},\"id\":\"533fd014-a0a3-49bd-af03-2678e8680972\",\"type\":\"UnionRenderers\"},{\"attributes\":{\"callback\":null,\"data\":{\"x\":{\"__ndarray__\":\"OPUNxYSO9D/jAlATT9btPzjLypDLbPc/KNX/SwmG8T/+6lVzra7tP6PGrzsf3PE/TV6+otvJ7D+fozkW8kv1P6hLd1oY6/g/6Bcsn6DU6T+jyhGG4IbzPxkcOxP6QARA4Il4e4/uBEBsLrJAdYj/P2Ss9OlNzAJAZAM+Yc8sC0BwQ5oWv3QHQEThGJywjgJAdbjWwlZYB0Blc1gZSZf6P4H4RvFi1vw/C60+J7JSAUC5Hftm1Hn+P3IDnn0fMP8/WVTI0v3oC0BgqfvIhFsOQC6ztfTibANAVK/45n7+C0BlABLC8jQCQMkIgnTe6QRAsJBvN5Wm9D+fuyPemvsAQGQmil27GQNAUYS6uEm6BkDiG+2X1tsJQPzQyZ8YRQFA3MMdXrecCECLVH/e7igBQNU67YtRev4/0XM1j3ncAEA5pYd/sYMCQKqS6Ntbwv4/PsiUVq+BBEDbVarI6VoDQKe9/J6xGv8/fq4bO4g5/D9IxfebEm3+Pw==\",\"dtype\":\"float64\",\"shape\":[47]},\"y\":{\"__ndarray__\":\"0M76KB7v5T8F/zHTvW3UP9P0crdSIuA/KJGmCkYr0j9Op938lPfdPwn2eLMMj7W/yTptplgY1T9GTKiyVFHPP8Ctvcn1HNE/YBGtPYf3yD9/BwI/QB3aP6cUpxi+QIi/Cl29ikTi1T+Fh5xzIC/HvxHPFCqhcaW/5zD/j2aC4T8EMFpJWI3WPzG2LFkfbs+/ebYyzOD46D+AiGpEHfvOP7KcK0P0qsu/R8RH6E2Oyz+2Fmrg62q+P7VTZriY2qQ/LbX2faW+8j8+6CHMgDXQP2eTECEyHdg/kqOSx8Y73T9XUUNwNFbVP22s010k3uE/7yQJmQvOvb/mw6v4Sv3Kvwbx6Ffqmd0/LHCYvQPb1z+LZ46cqu31P5bx+EwX8su/lZuGRcjx5T8txSkXscfBP00hBdmumag/+KbQe13G1z/7PQ8Rul/HP0KCOLt/Mdo/U5lp9ZCp0T/39ajHm2zTPxLoutQ4/cc//JbSWdUZtD+1ghc8Gaq9Pw==\",\"dtype\":\"float64\",\"shape\":[47]}},\"selected\":{\"id\":\"0e25a2c4-8465-4f68-bab9-42831b1db144\",\"type\":\"Selection\"},\"selection_policy\":{\"id\":\"533fd014-a0a3-49bd-af03-2678e8680972\",\"type\":\"UnionRenderers\"}},\"id\":\"a5d26022-fe44-48d1-9190-568ffd396eeb\",\"type\":\"ColumnDataSource\"},{\"attributes\":{\"fill_alpha\":{\"value\":0.1},\"fill_color\":{\"value\":\"#1f77b4\"},\"line_alpha\":{\"value\":0.1},\"line_color\":{\"value\":\"#1f77b4\"},\"size\":{\"units\":\"screen\",\"value\":5},\"x\":{\"field\":\"x\"},\"y\":{\"field\":\"y\"}},\"id\":\"f785266c-502f-45d4-8a06-f026159f2a66\",\"type\":\"Circle\"},{\"attributes\":{},\"id\":\"498cafdf-c298-4bc0-bd5d-ee3f961b3eb4\",\"type\":\"UnionRenderers\"},{\"attributes\":{\"overlay\":{\"id\":\"2f39dc82-f84d-4af3-af7d-aafca61256dd\",\"type\":\"BoxAnnotation\"}},\"id\":\"f4f1d5fd-c469-47d9-a625-48961c8817cb\",\"type\":\"BoxZoomTool\"},{\"attributes\":{\"fill_alpha\":{\"value\":0.1},\"fill_color\":{\"value\":\"#1f77b4\"},\"line_alpha\":{\"value\":0.1},\"line_color\":{\"value\":\"#1f77b4\"},\"size\":{\"units\":\"screen\",\"value\":5},\"x\":{\"field\":\"x\"},\"y\":{\"field\":\"y\"}},\"id\":\"9a572e03-b38b-4e68-afab-c275716a3879\",\"type\":\"Circle\"},{\"attributes\":{\"data_source\":{\"id\":\"a5d26022-fe44-48d1-9190-568ffd396eeb\",\"type\":\"ColumnDataSource\"},\"glyph\":{\"id\":\"3a4e7fee-59bd-4a2b-bcda-1563f310d057\",\"type\":\"Circle\"},\"hover_glyph\":null,\"muted_glyph\":null,\"nonselection_glyph\":{\"id\":\"f785266c-502f-45d4-8a06-f026159f2a66\",\"type\":\"Circle\"},\"selection_glyph\":null,\"view\":{\"id\":\"88effc21-e8bb-4fae-94a4-f636996370fb\",\"type\":\"CDSView\"}},\"id\":\"4d119c52-7727-4950-9092-99c364b9ef49\",\"type\":\"GlyphRenderer\"},{\"attributes\":{\"source\":{\"id\":\"e75f0772-be2d-4546-9291-580ff8b20a5a\",\"type\":\"ColumnDataSource\"}},\"id\":\"2fd11194-8b7b-4e0e-8c9b-787f9377025d\",\"type\":\"CDSView\"},{\"attributes\":{\"dimension\":1,\"plot\":{\"id\":\"3f44cd14-925d-4fa0-b9cc-d102eca6df7c\",\"subtype\":\"Figure\",\"type\":\"Plot\"},\"ticker\":{\"id\":\"f9f7f6c4-fdd2-499e-8189-fd48bcbc9f92\",\"type\":\"BasicTicker\"}},\"id\":\"1a7dce07-99b6-4b07-984b-1686facf9f4e\",\"type\":\"Grid\"},{\"attributes\":{\"source\":{\"id\":\"a5d26022-fe44-48d1-9190-568ffd396eeb\",\"type\":\"ColumnDataSource\"}},\"id\":\"88effc21-e8bb-4fae-94a4-f636996370fb\",\"type\":\"CDSView\"},{\"attributes\":{},\"id\":\"64631144-c196-475b-aeed-df83bfd8be61\",\"type\":\"PanTool\"},{\"attributes\":{},\"id\":\"80ce78b3-c7c6-4ae0-a46a-9b452923450b\",\"type\":\"UnionRenderers\"},{\"attributes\":{\"axis_label\":\"PCA component 1\",\"formatter\":{\"id\":\"7a0c3354-4285-4be9-8aa5-f07be0a67e85\",\"type\":\"BasicTickFormatter\"},\"plot\":{\"id\":\"3f44cd14-925d-4fa0-b9cc-d102eca6df7c\",\"subtype\":\"Figure\",\"type\":\"Plot\"},\"ticker\":{\"id\":\"f567b5fc-2452-4d45-967b-d9b7f085c9e5\",\"type\":\"BasicTicker\"}},\"id\":\"9baa1ac4-3efe-4490-abf6-666d85724855\",\"type\":\"LinearAxis\"},{\"attributes\":{},\"id\":\"7a0c3354-4285-4be9-8aa5-f07be0a67e85\",\"type\":\"BasicTickFormatter\"}],\"root_ids\":[\"3f44cd14-925d-4fa0-b9cc-d102eca6df7c\"]},\"title\":\"Bokeh Application\",\"version\":\"0.13.0\"}};\n",
       "  var render_items = [{\"docid\":\"3465b848-f0ad-431f-9ff8-74bbe77ddeba\",\"roots\":{\"3f44cd14-925d-4fa0-b9cc-d102eca6df7c\":\"80494d76-d7bf-432d-ba67-fef5b7b9c28b\"}}];\n",
       "  root.Bokeh.embed.embed_items_notebook(docs_json, render_items);\n",
       "\n",
       "  }\n",
       "  if (root.Bokeh !== undefined) {\n",
       "    embed_document(root);\n",
       "  } else {\n",
       "    var attempts = 0;\n",
       "    var timer = setInterval(function(root) {\n",
       "      if (root.Bokeh !== undefined) {\n",
       "        embed_document(root);\n",
       "        clearInterval(timer);\n",
       "      }\n",
       "      attempts++;\n",
       "      if (attempts > 100) {\n",
       "        console.log(\"Bokeh: ERROR: Unable to run BokehJS code because BokehJS library is missing\")\n",
       "        clearInterval(timer);\n",
       "      }\n",
       "    }, 10, root)\n",
       "  }\n",
       "})(window);"
      ],
      "application/vnd.bokehjs_exec.v0+json": ""
     },
     "metadata": {
      "application/vnd.bokehjs_exec.v0+json": {
       "id": "3f44cd14-925d-4fa0-b9cc-d102eca6df7c"
      }
     },
     "output_type": "display_data"
    }
   ],
   "source": [
    "from bokeh.palettes import Category10\n",
    "from bokeh.models import ColumnDataSource\n",
    "from bokeh.transform import factor_cmap, linear_cmap\n",
    "\n",
    "import numpy as np\n",
    "import itertools as it\n",
    "\n",
    "# create a convenience function\n",
    "\n",
    "def plot_by_category(data, \n",
    "                     categories, \n",
    "                     palette = Category10,\n",
    "                     plot_title = \"K-means clusters of the iris data\",\n",
    "                     x_label = \"PCA component 1\",\n",
    "                     y_label = \"PCA component 2\",\n",
    "                     plot_dims = [600,400]\n",
    "                    ):\n",
    "    \n",
    "    # create the figure\n",
    "    p = figure(title = plot_title,\n",
    "               x_axis_label = x_label,\n",
    "               y_axis_label = y_label,\n",
    "               plot_width = plot_dims[0], \n",
    "               plot_height = plot_dims[1]\n",
    "              )\n",
    "\n",
    "    # plotting by category is a little difficult as bokeh 0.13.0 is \n",
    "    # still under development\n",
    "\n",
    "    #enables us to cycle through the colours in the palette \n",
    "    n_cat = np.max(categories) + 1\n",
    "    colour_cycler = it.cycle(palette[n_cat])\n",
    "\n",
    "    #plot each category in a differen colour    \n",
    "    for cluster, colour in zip(np.unique(categories), colour_cycler):\n",
    "\n",
    "        mask = categories == cluster\n",
    "        \n",
    "        p.circle(data[mask,0], \n",
    "                 data[mask,1], \n",
    "                 size=5, \n",
    "                 alpha=0.7,\n",
    "                 color = colour\n",
    "                )\n",
    "    return p\n",
    "\n",
    "p_clusters = plot_by_category(data = iris_data_2D,categories = clusters.labels_)\n",
    "show(p_clusters)"
   ]
  },
  {
   "cell_type": "markdown",
   "metadata": {
    "slideshow": {
     "slide_type": "subslide"
    }
   },
   "source": [
    "### Has our clustering algorithm worked?\n",
    "\n",
    "lets look at them in a tabbed plot"
   ]
  },
  {
   "cell_type": "code",
   "execution_count": 107,
   "metadata": {
    "slideshow": {
     "slide_type": "fragment"
    }
   },
   "outputs": [
    {
     "data": {
      "text/html": [
       "\n",
       "\n",
       "\n",
       "\n",
       "\n",
       "\n",
       "  <div class=\"bk-root\" id=\"91415277-56d0-4b80-9244-ac31f3db8973\"></div>\n"
      ]
     },
     "metadata": {},
     "output_type": "display_data"
    },
    {
     "data": {
      "application/javascript": [
       "(function(root) {\n",
       "  function embed_document(root) {\n",
       "    \n",
       "  var docs_json = {\"5ce49be5-e7c7-49b3-bc2c-7c09b378b6e4\":{\"roots\":{\"references\":[{\"attributes\":{},\"id\":\"b14fb4c3-9859-4e15-9e92-3db35012b274\",\"type\":\"LinearScale\"},{\"attributes\":{\"source\":{\"id\":\"c8710cc9-08fd-4777-a3af-38da66bc9289\",\"type\":\"ColumnDataSource\"}},\"id\":\"bab4f9a8-ef57-4599-a1aa-859796c7ae7e\",\"type\":\"CDSView\"},{\"attributes\":{\"below\":[{\"id\":\"bc1d2b0e-254f-43ff-b12a-953ddab45c65\",\"type\":\"LinearAxis\"}],\"left\":[{\"id\":\"d194a679-0286-49c5-a85e-573a69fba0dc\",\"type\":\"LinearAxis\"}],\"plot_height\":400,\"renderers\":[{\"id\":\"bc1d2b0e-254f-43ff-b12a-953ddab45c65\",\"type\":\"LinearAxis\"},{\"id\":\"1e97f50b-2b3e-431f-b51d-bbb3db6fd00d\",\"type\":\"Grid\"},{\"id\":\"d194a679-0286-49c5-a85e-573a69fba0dc\",\"type\":\"LinearAxis\"},{\"id\":\"728482f7-ddf1-4225-ad87-4a03351949bb\",\"type\":\"Grid\"},{\"id\":\"43b21412-fbeb-4543-976f-65d25a677f22\",\"type\":\"BoxAnnotation\"},{\"id\":\"ad6afc67-155b-4e81-b527-ae1b295ae13b\",\"type\":\"GlyphRenderer\"},{\"id\":\"4aa19f9a-6bc0-46f8-bb64-eb1de1b73a77\",\"type\":\"GlyphRenderer\"},{\"id\":\"de691949-6f67-4253-8ec4-918a2c77d358\",\"type\":\"GlyphRenderer\"}],\"title\":{\"id\":\"fbea42b4-cd19-4e49-84a9-0f3c0e0a5162\",\"type\":\"Title\"},\"toolbar\":{\"id\":\"336803d3-3827-4496-9b4a-872e6a2956c7\",\"type\":\"Toolbar\"},\"x_range\":{\"id\":\"3e2f5884-5f4e-4a3a-821c-299f1f67ccbb\",\"type\":\"DataRange1d\"},\"x_scale\":{\"id\":\"84d1c3c5-bcd3-42d9-94c2-e7613d56dba6\",\"type\":\"LinearScale\"},\"y_range\":{\"id\":\"24265725-a653-419c-9969-1069fd3405f1\",\"type\":\"DataRange1d\"},\"y_scale\":{\"id\":\"b14fb4c3-9859-4e15-9e92-3db35012b274\",\"type\":\"LinearScale\"}},\"id\":\"867f7471-27fd-4fbb-ab7a-03f7d232d621\",\"subtype\":\"Figure\",\"type\":\"Plot\"},{\"attributes\":{\"fill_alpha\":{\"value\":0.1},\"fill_color\":{\"value\":\"#1f77b4\"},\"line_alpha\":{\"value\":0.1},\"line_color\":{\"value\":\"#1f77b4\"},\"size\":{\"units\":\"screen\",\"value\":5},\"x\":{\"field\":\"x\"},\"y\":{\"field\":\"y\"}},\"id\":\"1678eb95-9015-4ad5-8460-05ff36701b8e\",\"type\":\"Circle\"},{\"attributes\":{\"fill_alpha\":{\"value\":0.1},\"fill_color\":{\"value\":\"#1f77b4\"},\"line_alpha\":{\"value\":0.1},\"line_color\":{\"value\":\"#1f77b4\"},\"size\":{\"units\":\"screen\",\"value\":5},\"x\":{\"field\":\"x\"},\"y\":{\"field\":\"y\"}},\"id\":\"1aa56b4c-3134-4545-9a3f-48f9ea5e4dd5\",\"type\":\"Circle\"},{\"attributes\":{\"callback\":null,\"data\":{\"x\":{\"__ndarray__\":\"OPUNxYSO9D/jAlATT9btPzjLypDLbPc/Frd09O4pxz9Ihs4h52TxP1d4yzV1fuQ/KNX/SwmG8T/xSSPRBAzovyr3gQNZsfA/kRkpJIjehL+fzhlw0Vrgv83n9VHqWuA/AvVP6RvK0D+a6mn8Sn3vP55d2JDxYca//upVc62u7T+6jzVWYhvlPwELyQltBc4/yPtIvdMn7j86uilmZCSmP6PGrzsf3PE/R/geVJfV1j8sJQQfVr70P/RBnvjBdO0/lnvVwCfZ5j9NXr6i28nsP5+jORbyS/U/qEt3Whjr+D/ezYzHov/pPybnH2Vfq9O/SRWL1/0Bsr/lphjJq4/Iv9MpqLiDR8E/x+isgk4P9j/OcTyi9MriP+gXLJ+g1Ok/o8oRhuCG8z/wa/NPAwPqP2p5TBiOYs8/2aRMqcYOxT/XL4+6TKLdP652SMIxfOw/Z/ktoehLzT+0uMHtaKDmv6kt/aUNwdY/+5JnFC8x1T93QmI05wPYP6hd3Ay6iOQ/qy0ssiES7b/KY7PlSA/TPw==\",\"dtype\":\"float64\",\"shape\":[50]},\"y\":{\"__ndarray__\":\"0M76KB7v5T8F/zHTvW3UP9P0crdSIuA/C3Uj9lhr6r/7jm3YyEyzP3thzY1ttdq/KJGmCkYr0j8mFMBPiQTwv9D7scF1Ts0/PLzZBfMO578M0VTDKjP0v9S0EoZKL7q/zOyWhleI4b8qgcWhFda/v+hsmg6/HdC/Tqfd/JT33T9tksSQx4bWv1MVfA41PtW/TvnfoZtW4b9BaoXBj5vivwn2eLMMj7W/Cwmay10bsb9JobyXxPbUv2CrzEKRWMe/NOhixJ8/wz/JOm2mWBjVP0ZMqLJUUc8/wK29yfUc0T/BH5vyR8fEv91vgj2UXde/VHQf1DB75r+//G2mAK7lv16SUAAN89O/z35iZQb12r8xJSEjIe7ev2ARrT2H98g/fwcCP0Ad2j8nAMZnNLnXv28DhncSEtG/9VHhaMm/5b+kpaXvwmzlvwAnl0/dT6G/xg3Pvpa+2b+UCsUAgiLwv4BiRKhdGuC//PbaavMHy79sNdZs76nSv34UTv1kh5M/T5Tp2tkM6L8vANzIhDXWvw==\",\"dtype\":\"float64\",\"shape\":[50]}},\"selected\":{\"id\":\"edaa02b9-4966-4360-9b84-5f025590c6c1\",\"type\":\"Selection\"},\"selection_policy\":{\"id\":\"ef7898f8-b1c5-41f9-a676-ea479d839dde\",\"type\":\"UnionRenderers\"}},\"id\":\"8a130ac0-32d3-442f-889c-6a93c64f8c25\",\"type\":\"ColumnDataSource\"},{\"attributes\":{\"fill_alpha\":{\"value\":0.7},\"fill_color\":{\"value\":\"#1f77b4\"},\"line_alpha\":{\"value\":0.7},\"line_color\":{\"value\":\"#1f77b4\"},\"size\":{\"units\":\"screen\",\"value\":5},\"x\":{\"field\":\"x\"},\"y\":{\"field\":\"y\"}},\"id\":\"1ef45385-bca2-44eb-b383-59475eb1b44b\",\"type\":\"Circle\"},{\"attributes\":{\"axis_label\":\"PCA component 2\",\"formatter\":{\"id\":\"bc2d57f7-a6bc-427c-903e-e7d84b42b961\",\"type\":\"BasicTickFormatter\"},\"plot\":{\"id\":\"867f7471-27fd-4fbb-ab7a-03f7d232d621\",\"subtype\":\"Figure\",\"type\":\"Plot\"},\"ticker\":{\"id\":\"4ab1674c-68e6-4784-a090-e728569fe293\",\"type\":\"BasicTicker\"}},\"id\":\"d194a679-0286-49c5-a85e-573a69fba0dc\",\"type\":\"LinearAxis\"},{\"attributes\":{\"overlay\":{\"id\":\"43b21412-fbeb-4543-976f-65d25a677f22\",\"type\":\"BoxAnnotation\"}},\"id\":\"60cf68b0-f599-443f-ba9f-c4a48d6e7191\",\"type\":\"BoxZoomTool\"},{\"attributes\":{\"callback\":null},\"id\":\"24265725-a653-419c-9969-1069fd3405f1\",\"type\":\"DataRange1d\"},{\"attributes\":{},\"id\":\"edaa02b9-4966-4360-9b84-5f025590c6c1\",\"type\":\"Selection\"},{\"attributes\":{\"fill_alpha\":{\"value\":0.7},\"fill_color\":{\"value\":\"#2ca02c\"},\"line_alpha\":{\"value\":0.7},\"line_color\":{\"value\":\"#2ca02c\"},\"size\":{\"units\":\"screen\",\"value\":5},\"x\":{\"field\":\"x\"},\"y\":{\"field\":\"y\"}},\"id\":\"fb601a8a-4c70-4ad8-9b07-9b5c1890b547\",\"type\":\"Circle\"},{\"attributes\":{},\"id\":\"312ad333-257a-438e-a9be-6cfcd6bb4c03\",\"type\":\"BasicTicker\"},{\"attributes\":{},\"id\":\"1edc4bd9-6b3d-4ad0-87bc-b4055d2e084a\",\"type\":\"Selection\"},{\"attributes\":{},\"id\":\"a449dac3-84b6-4f9b-95ac-86f9b322ecdc\",\"type\":\"BasicTickFormatter\"},{\"attributes\":{\"axis_label\":\"PCA component 1\",\"formatter\":{\"id\":\"a449dac3-84b6-4f9b-95ac-86f9b322ecdc\",\"type\":\"BasicTickFormatter\"},\"plot\":{\"id\":\"867f7471-27fd-4fbb-ab7a-03f7d232d621\",\"subtype\":\"Figure\",\"type\":\"Plot\"},\"ticker\":{\"id\":\"312ad333-257a-438e-a9be-6cfcd6bb4c03\",\"type\":\"BasicTicker\"}},\"id\":\"bc1d2b0e-254f-43ff-b12a-953ddab45c65\",\"type\":\"LinearAxis\"},{\"attributes\":{},\"id\":\"4ab1674c-68e6-4784-a090-e728569fe293\",\"type\":\"BasicTicker\"},{\"attributes\":{\"plot\":null,\"text\":\"Labels of the iris data\"},\"id\":\"fbea42b4-cd19-4e49-84a9-0f3c0e0a5162\",\"type\":\"Title\"},{\"attributes\":{},\"id\":\"116fb1c8-aa83-473d-8c49-b92cc5328e0f\",\"type\":\"UnionRenderers\"},{\"attributes\":{},\"id\":\"cbbdf55f-8a1a-4e97-b7ec-19ea459e7f4b\",\"type\":\"Selection\"},{\"attributes\":{},\"id\":\"29f36d60-2422-4d04-b946-d84304b78645\",\"type\":\"SaveTool\"},{\"attributes\":{\"data_source\":{\"id\":\"8a130ac0-32d3-442f-889c-6a93c64f8c25\",\"type\":\"ColumnDataSource\"},\"glyph\":{\"id\":\"fb601a8a-4c70-4ad8-9b07-9b5c1890b547\",\"type\":\"Circle\"},\"hover_glyph\":null,\"muted_glyph\":null,\"nonselection_glyph\":{\"id\":\"7ecb22c9-fcc9-4754-897e-ff1f10f79884\",\"type\":\"Circle\"},\"selection_glyph\":null,\"view\":{\"id\":\"1316af0a-d60b-4b14-ba6b-345fb82234b8\",\"type\":\"CDSView\"}},\"id\":\"de691949-6f67-4253-8ec4-918a2c77d358\",\"type\":\"GlyphRenderer\"},{\"attributes\":{\"callback\":null,\"data\":{\"x\":{\"__ndarray__\":\"2xfQlUF5BcB7HBC3HrkFwIEB8LRZHgfA4au3ELT4BcArfKiOKNQFwPou3tM6PQLAoXRMIi+RBsCf3sb9CAMFwJ6OMgWKGgfABFbgrghkBcBfEdbqXQ0EwLQJll635wTAl1U1L6pMBsCBXT7kNc0JwFSZcvz5JQXAaz99FCoSA8CXoJoE7/oEwH0CKtTDLwXAjJitL7aXAcDNpwaP4rIEwNoWbAv4ewLA3FEHi4tYBMC+fGGZE7oJwGkBnqfObALAf7QIOnDZAsDwvzLoNhAEwHyXS26gwAPAttch08Z/BMCLs/ecWh4FwE2sYpASEAXA/UeKlyu1BMDuJH6g1kcDwIFw3yJcLgXA5ExEjPvGBMAEVuCuCGQFwK+yoZ2d7wbATKUCyHcABcAEVuCuCGQFwJfrulPQ2gfA4rpHR/u4BMCjQtiWPikGwH7uJAtU0QbAu2xt2IL8B8BVrVgtfj4DwNMgpJywqwHA3Crpq665BcDDoH1E80wEwNkIQF/6uAbAHTVVoWtXBMB1upzHnKEFwA==\",\"dtype\":\"float64\",\"shape\":[50]},\"y\":{\"__ndarray__\":\"DAnjXSLn1D9+cojtCbTFvxRbwHqKlMG/sEpJ9nXp07+t4vYhBV/VP3IdOgPW7ec/5n+0Hc0Etb9ZiGys18/FP6rl9jj6Q+K/bV5fwiVQu7+J6VrRptzkP4aQ1SmBCZY/lteXK5cmzb/tKP933hrgv7iauoCn+vI/yp2wIR2E9T8azrJlyi3qPyFyvDO8bNQ/a8Vxf8Qi7D+GQSNVuKfgPyq5dpiqdtk/Icnd8nop3D+sPF6EdSDCPyzV18SIA7s//f56EWj1n7/yQB0gmczBv1F8WaFKpsE/E/rU9dT61z9RL8+ZP2/UPwBtKqJnVMi/aCBSKi1Eyb8hPKKm0sHaP7ExxDdMPeo/C8nal7CZ8T9tXl/CJVC7v/wbnD3twrM/eEPs2edq4z9tXl/CJVC7v+lPb7NqvN6/IBvJPjE3zj8OgcqbCVnRP3lJm3gI2u2/vgnrmEtl1b8aZ0MT0RPJP+mKLrshVdw/9jIy1C8Qz7/JYJhR7lTgP4+elW/YO8y/0sTDbNDC4j+m5cHoWXG9Pw==\",\"dtype\":\"float64\",\"shape\":[50]}},\"selected\":{\"id\":\"1edc4bd9-6b3d-4ad0-87bc-b4055d2e084a\",\"type\":\"Selection\"},\"selection_policy\":{\"id\":\"116fb1c8-aa83-473d-8c49-b92cc5328e0f\",\"type\":\"UnionRenderers\"}},\"id\":\"4ff23514-2e75-4226-b242-e272a9dd1d69\",\"type\":\"ColumnDataSource\"},{\"attributes\":{\"dimension\":1,\"plot\":{\"id\":\"867f7471-27fd-4fbb-ab7a-03f7d232d621\",\"subtype\":\"Figure\",\"type\":\"Plot\"},\"ticker\":{\"id\":\"4ab1674c-68e6-4784-a090-e728569fe293\",\"type\":\"BasicTicker\"}},\"id\":\"728482f7-ddf1-4225-ad87-4a03351949bb\",\"type\":\"Grid\"},{\"attributes\":{},\"id\":\"4492fac4-f613-4451-aab7-48496d2ff305\",\"type\":\"WheelZoomTool\"},{\"attributes\":{\"data_source\":{\"id\":\"c8710cc9-08fd-4777-a3af-38da66bc9289\",\"type\":\"ColumnDataSource\"},\"glyph\":{\"id\":\"483f670f-7b56-4558-b819-e8789dbf5e76\",\"type\":\"Circle\"},\"hover_glyph\":null,\"muted_glyph\":null,\"nonselection_glyph\":{\"id\":\"1aa56b4c-3134-4545-9a3f-48f9ea5e4dd5\",\"type\":\"Circle\"},\"selection_glyph\":null,\"view\":{\"id\":\"bab4f9a8-ef57-4599-a1aa-859796c7ae7e\",\"type\":\"CDSView\"}},\"id\":\"4aa19f9a-6bc0-46f8-bb64-eb1de1b73a77\",\"type\":\"GlyphRenderer\"},{\"attributes\":{},\"id\":\"9a48fc94-9111-4214-bc46-192585353414\",\"type\":\"PanTool\"},{\"attributes\":{\"data_source\":{\"id\":\"4ff23514-2e75-4226-b242-e272a9dd1d69\",\"type\":\"ColumnDataSource\"},\"glyph\":{\"id\":\"1ef45385-bca2-44eb-b383-59475eb1b44b\",\"type\":\"Circle\"},\"hover_glyph\":null,\"muted_glyph\":null,\"nonselection_glyph\":{\"id\":\"1678eb95-9015-4ad5-8460-05ff36701b8e\",\"type\":\"Circle\"},\"selection_glyph\":null,\"view\":{\"id\":\"b372fbec-137d-4165-b68d-b812949cb2d4\",\"type\":\"CDSView\"}},\"id\":\"ad6afc67-155b-4e81-b527-ae1b295ae13b\",\"type\":\"GlyphRenderer\"},{\"attributes\":{\"active_drag\":\"auto\",\"active_inspect\":\"auto\",\"active_multi\":null,\"active_scroll\":\"auto\",\"active_tap\":\"auto\",\"tools\":[{\"id\":\"9a48fc94-9111-4214-bc46-192585353414\",\"type\":\"PanTool\"},{\"id\":\"4492fac4-f613-4451-aab7-48496d2ff305\",\"type\":\"WheelZoomTool\"},{\"id\":\"60cf68b0-f599-443f-ba9f-c4a48d6e7191\",\"type\":\"BoxZoomTool\"},{\"id\":\"29f36d60-2422-4d04-b946-d84304b78645\",\"type\":\"SaveTool\"},{\"id\":\"38f343e6-bc63-4806-a9b8-e1c7e4da6931\",\"type\":\"ResetTool\"},{\"id\":\"9c292b49-d05b-4f63-beb6-ab3ea0d02991\",\"type\":\"HelpTool\"}]},\"id\":\"336803d3-3827-4496-9b4a-872e6a2956c7\",\"type\":\"Toolbar\"},{\"attributes\":{\"source\":{\"id\":\"8a130ac0-32d3-442f-889c-6a93c64f8c25\",\"type\":\"ColumnDataSource\"}},\"id\":\"1316af0a-d60b-4b14-ba6b-345fb82234b8\",\"type\":\"CDSView\"},{\"attributes\":{\"fill_alpha\":{\"value\":0.1},\"fill_color\":{\"value\":\"#1f77b4\"},\"line_alpha\":{\"value\":0.1},\"line_color\":{\"value\":\"#1f77b4\"},\"size\":{\"units\":\"screen\",\"value\":5},\"x\":{\"field\":\"x\"},\"y\":{\"field\":\"y\"}},\"id\":\"7ecb22c9-fcc9-4754-897e-ff1f10f79884\",\"type\":\"Circle\"},{\"attributes\":{},\"id\":\"9c292b49-d05b-4f63-beb6-ab3ea0d02991\",\"type\":\"HelpTool\"},{\"attributes\":{\"callback\":null,\"data\":{\"x\":{\"__ndarray__\":\"GRw7E/pABED/2ZQyCqD2P+CJeHuP7gRAbC6yQHWI/z9krPTpTcwCQGQDPmHPLAtAVV13nMme4D9wQ5oWv3QHQEThGJywjgJAdbjWwlZYB0Blc1gZSZf6P4H4RvFi1vw/C60+J7JSAUC9huk5dYP1P4MuXz5BXfk/uR37ZtR5/j9yA559HzD/P1lUyNL96AtAYKn7yIRbDkD2Cn9+9cX0Py6ztfTibANABYN1Jmgr8z9Ur/jmfv4LQBWjg5/jM/Y/ZQASwvI0AkDJCIJ03ukEQKahdJU7H/Q/sJBvN5Wm9D+fuyPemvsAQGQmil27GQNAUYS6uEm6BkDiG+2X1tsJQPzQyZ8YRQFAWROpwfIW9z/3d5znZ3n8P9zDHV63nAhAi1R/3u4oAUDVOu2LUXr+P2UQE7Kfs/I/0XM1j3ncAEA5pYd/sYMCQKqS6Ntbwv4//9mUMgqg9j8+yJRWr4EEQNtVqsjpWgNAp738nrEa/z/kCJNEHmn4P36uGzuIOfw/SMX3mxJt/j9Vcy+OEjz2Pw==\",\"dtype\":\"float64\",\"shape\":[50]},\"y\":{\"__ndarray__\":\"pxSnGL5AiL8Uaxk7yWXivwpdvYpE4tU/hYeccyAvx78RzxQqoXGlv+cw/49mguE/VBzoycYP878EMFpJWI3WPzG2LFkfbs+/ebYyzOD46D+AiGpEHfvOP7KcK0P0qsu/R8RH6E2Oyz8g0mcpZdjov6jS2N0AQuG/thZq4Otqvj+1U2a4mNqkPy219n2lvvI/PughzIA10D+IHyXmOVrov2eTECEyHdg/D5Z9Iedg47+So5LHxjvdP00/WPevHcq/V1FDcDRW1T9trNNdJN7hP0nbtwz27ca/7yQJmQvOvb/mw6v4Sv3Kvwbx6Ffqmd0/LHCYvQPb1z+LZ46cqu31P5bx+EwX8su/Y9HdpBRowr83cqvl/wvgv5WbhkXI8eU/LcUpF7HHwT9NIQXZrpmoP5R0aPxqDsW/+KbQe13G1z/7PQ8Rul/HP0KCOLt/Mdo/FGsZO8ll4r9TmWn1kKnRP/f1qMebbNM/Eui61Dj9xz/6VJNxVwDYv/yW0lnVGbQ/tYIXPBmqvT+mjBfb0BrSvw==\",\"dtype\":\"float64\",\"shape\":[50]}},\"selected\":{\"id\":\"cbbdf55f-8a1a-4e97-b7ec-19ea459e7f4b\",\"type\":\"Selection\"},\"selection_policy\":{\"id\":\"fb55ea16-20c5-4436-9f51-5b01f1f9a660\",\"type\":\"UnionRenderers\"}},\"id\":\"c8710cc9-08fd-4777-a3af-38da66bc9289\",\"type\":\"ColumnDataSource\"},{\"attributes\":{\"callback\":null},\"id\":\"3e2f5884-5f4e-4a3a-821c-299f1f67ccbb\",\"type\":\"DataRange1d\"},{\"attributes\":{\"fill_alpha\":{\"value\":0.7},\"fill_color\":{\"value\":\"#ff7f0e\"},\"line_alpha\":{\"value\":0.7},\"line_color\":{\"value\":\"#ff7f0e\"},\"size\":{\"units\":\"screen\",\"value\":5},\"x\":{\"field\":\"x\"},\"y\":{\"field\":\"y\"}},\"id\":\"483f670f-7b56-4558-b819-e8789dbf5e76\",\"type\":\"Circle\"},{\"attributes\":{},\"id\":\"fb55ea16-20c5-4436-9f51-5b01f1f9a660\",\"type\":\"UnionRenderers\"},{\"attributes\":{\"source\":{\"id\":\"4ff23514-2e75-4226-b242-e272a9dd1d69\",\"type\":\"ColumnDataSource\"}},\"id\":\"b372fbec-137d-4165-b68d-b812949cb2d4\",\"type\":\"CDSView\"},{\"attributes\":{},\"id\":\"84d1c3c5-bcd3-42d9-94c2-e7613d56dba6\",\"type\":\"LinearScale\"},{\"attributes\":{},\"id\":\"bc2d57f7-a6bc-427c-903e-e7d84b42b961\",\"type\":\"BasicTickFormatter\"},{\"attributes\":{\"plot\":{\"id\":\"867f7471-27fd-4fbb-ab7a-03f7d232d621\",\"subtype\":\"Figure\",\"type\":\"Plot\"},\"ticker\":{\"id\":\"312ad333-257a-438e-a9be-6cfcd6bb4c03\",\"type\":\"BasicTicker\"}},\"id\":\"1e97f50b-2b3e-431f-b51d-bbb3db6fd00d\",\"type\":\"Grid\"},{\"attributes\":{},\"id\":\"ef7898f8-b1c5-41f9-a676-ea479d839dde\",\"type\":\"UnionRenderers\"},{\"attributes\":{\"bottom_units\":\"screen\",\"fill_alpha\":{\"value\":0.5},\"fill_color\":{\"value\":\"lightgrey\"},\"left_units\":\"screen\",\"level\":\"overlay\",\"line_alpha\":{\"value\":1.0},\"line_color\":{\"value\":\"black\"},\"line_dash\":[4,4],\"line_width\":{\"value\":2},\"plot\":null,\"render_mode\":\"css\",\"right_units\":\"screen\",\"top_units\":\"screen\"},\"id\":\"43b21412-fbeb-4543-976f-65d25a677f22\",\"type\":\"BoxAnnotation\"},{\"attributes\":{},\"id\":\"38f343e6-bc63-4806-a9b8-e1c7e4da6931\",\"type\":\"ResetTool\"}],\"root_ids\":[\"867f7471-27fd-4fbb-ab7a-03f7d232d621\"]},\"title\":\"Bokeh Application\",\"version\":\"0.13.0\"}};\n",
       "  var render_items = [{\"docid\":\"5ce49be5-e7c7-49b3-bc2c-7c09b378b6e4\",\"roots\":{\"867f7471-27fd-4fbb-ab7a-03f7d232d621\":\"91415277-56d0-4b80-9244-ac31f3db8973\"}}];\n",
       "  root.Bokeh.embed.embed_items_notebook(docs_json, render_items);\n",
       "\n",
       "  }\n",
       "  if (root.Bokeh !== undefined) {\n",
       "    embed_document(root);\n",
       "  } else {\n",
       "    var attempts = 0;\n",
       "    var timer = setInterval(function(root) {\n",
       "      if (root.Bokeh !== undefined) {\n",
       "        embed_document(root);\n",
       "        clearInterval(timer);\n",
       "      }\n",
       "      attempts++;\n",
       "      if (attempts > 100) {\n",
       "        console.log(\"Bokeh: ERROR: Unable to run BokehJS code because BokehJS library is missing\")\n",
       "        clearInterval(timer);\n",
       "      }\n",
       "    }, 10, root)\n",
       "  }\n",
       "})(window);"
      ],
      "application/vnd.bokehjs_exec.v0+json": ""
     },
     "metadata": {
      "application/vnd.bokehjs_exec.v0+json": {
       "id": "867f7471-27fd-4fbb-ab7a-03f7d232d621"
      }
     },
     "output_type": "display_data"
    }
   ],
   "source": [
    "p_labels = plot_by_category(data = iris_data_2D, \n",
    "                            categories = iris_labels,\n",
    "                            plot_title = \"Labels of the iris data\"\n",
    "                           )\n",
    "\n",
    "show(p_labels)"
   ]
  },
  {
   "cell_type": "markdown",
   "metadata": {
    "slideshow": {
     "slide_type": "fragment"
    }
   },
   "source": [
    "Looks a bit different... lets plot them in a more convenient way"
   ]
  },
  {
   "cell_type": "code",
   "execution_count": 108,
   "metadata": {
    "slideshow": {
     "slide_type": "subslide"
    }
   },
   "outputs": [
    {
     "data": {
      "text/html": [
       "\n",
       "\n",
       "\n",
       "\n",
       "\n",
       "\n",
       "  <div class=\"bk-root\" id=\"497f16ee-9b99-48ec-ad88-d7d4bbc74ac7\"></div>\n"
      ]
     },
     "metadata": {},
     "output_type": "display_data"
    },
    {
     "data": {
      "application/javascript": [
       "(function(root) {\n",
       "  function embed_document(root) {\n",
       "    \n",
       "  var docs_json = {\"3091a232-e59d-4ac6-a264-e2bd8960e836\":{\"roots\":{\"references\":[{\"attributes\":{},\"id\":\"b14fb4c3-9859-4e15-9e92-3db35012b274\",\"type\":\"LinearScale\"},{\"attributes\":{},\"id\":\"9a429c59-1a93-4a96-b2b0-46a0b6067dd0\",\"type\":\"HelpTool\"},{\"attributes\":{\"fill_alpha\":{\"value\":0.1},\"fill_color\":{\"value\":\"#1f77b4\"},\"line_alpha\":{\"value\":0.1},\"line_color\":{\"value\":\"#1f77b4\"},\"size\":{\"units\":\"screen\",\"value\":5},\"x\":{\"field\":\"x\"},\"y\":{\"field\":\"y\"}},\"id\":\"1678eb95-9015-4ad5-8460-05ff36701b8e\",\"type\":\"Circle\"},{\"attributes\":{},\"id\":\"673d169c-1163-4c3d-8241-0eb048ce289e\",\"type\":\"LinearScale\"},{\"attributes\":{\"axis_label\":\"PCA component 2\",\"formatter\":{\"id\":\"bc2d57f7-a6bc-427c-903e-e7d84b42b961\",\"type\":\"BasicTickFormatter\"},\"plot\":{\"id\":\"867f7471-27fd-4fbb-ab7a-03f7d232d621\",\"subtype\":\"Figure\",\"type\":\"Plot\"},\"ticker\":{\"id\":\"4ab1674c-68e6-4784-a090-e728569fe293\",\"type\":\"BasicTicker\"}},\"id\":\"d194a679-0286-49c5-a85e-573a69fba0dc\",\"type\":\"LinearAxis\"},{\"attributes\":{\"fill_alpha\":{\"value\":0.7},\"fill_color\":{\"value\":\"#2ca02c\"},\"line_alpha\":{\"value\":0.7},\"line_color\":{\"value\":\"#2ca02c\"},\"size\":{\"units\":\"screen\",\"value\":5},\"x\":{\"field\":\"x\"},\"y\":{\"field\":\"y\"}},\"id\":\"fb601a8a-4c70-4ad8-9b07-9b5c1890b547\",\"type\":\"Circle\"},{\"attributes\":{\"callback\":null,\"data\":{\"x\":{\"__ndarray__\":\"OPUNxYSO9D/jAlATT9btPzjLypDLbPc/KNX/SwmG8T/+6lVzra7tP6PGrzsf3PE/TV6+otvJ7D+fozkW8kv1P6hLd1oY6/g/6Bcsn6DU6T+jyhGG4IbzPxkcOxP6QARA4Il4e4/uBEBsLrJAdYj/P2Ss9OlNzAJAZAM+Yc8sC0BwQ5oWv3QHQEThGJywjgJAdbjWwlZYB0Blc1gZSZf6P4H4RvFi1vw/C60+J7JSAUC5Hftm1Hn+P3IDnn0fMP8/WVTI0v3oC0BgqfvIhFsOQC6ztfTibANAVK/45n7+C0BlABLC8jQCQMkIgnTe6QRAsJBvN5Wm9D+fuyPemvsAQGQmil27GQNAUYS6uEm6BkDiG+2X1tsJQPzQyZ8YRQFA3MMdXrecCECLVH/e7igBQNU67YtRev4/0XM1j3ncAEA5pYd/sYMCQKqS6Ntbwv4/PsiUVq+BBEDbVarI6VoDQKe9/J6xGv8/fq4bO4g5/D9IxfebEm3+Pw==\",\"dtype\":\"float64\",\"shape\":[47]},\"y\":{\"__ndarray__\":\"0M76KB7v5T8F/zHTvW3UP9P0crdSIuA/KJGmCkYr0j9Op938lPfdPwn2eLMMj7W/yTptplgY1T9GTKiyVFHPP8Ctvcn1HNE/YBGtPYf3yD9/BwI/QB3aP6cUpxi+QIi/Cl29ikTi1T+Fh5xzIC/HvxHPFCqhcaW/5zD/j2aC4T8EMFpJWI3WPzG2LFkfbs+/ebYyzOD46D+AiGpEHfvOP7KcK0P0qsu/R8RH6E2Oyz+2Fmrg62q+P7VTZriY2qQ/LbX2faW+8j8+6CHMgDXQP2eTECEyHdg/kqOSx8Y73T9XUUNwNFbVP22s010k3uE/7yQJmQvOvb/mw6v4Sv3Kvwbx6Ffqmd0/LHCYvQPb1z+LZ46cqu31P5bx+EwX8su/lZuGRcjx5T8txSkXscfBP00hBdmumag/+KbQe13G1z/7PQ8Rul/HP0KCOLt/Mdo/U5lp9ZCp0T/39ajHm2zTPxLoutQ4/cc//JbSWdUZtD+1ghc8Gaq9Pw==\",\"dtype\":\"float64\",\"shape\":[47]}},\"selected\":{\"id\":\"0e25a2c4-8465-4f68-bab9-42831b1db144\",\"type\":\"Selection\"},\"selection_policy\":{\"id\":\"533fd014-a0a3-49bd-af03-2678e8680972\",\"type\":\"UnionRenderers\"}},\"id\":\"a5d26022-fe44-48d1-9190-568ffd396eeb\",\"type\":\"ColumnDataSource\"},{\"attributes\":{\"plot\":null,\"text\":\"Labels of the iris data\"},\"id\":\"fbea42b4-cd19-4e49-84a9-0f3c0e0a5162\",\"type\":\"Title\"},{\"attributes\":{},\"id\":\"cbbdf55f-8a1a-4e97-b7ec-19ea459e7f4b\",\"type\":\"Selection\"},{\"attributes\":{\"callback\":null,\"data\":{\"x\":{\"__ndarray__\":\"Frd09O4pxz9Ihs4h52TxP1d4yzV1fuQ/8Ukj0QQM6L8q94EDWbHwP5EZKSSI3oS/n84ZcNFa4L/N5/VR6lrgPwL1T+kbytA/mupp/Ep97z+eXdiQ8WHGv7qPNVZiG+U/AQvJCW0Fzj/I+0i90yfuPzq6KWZkJKY/R/geVJfV1j8sJQQfVr70P/RBnvjBdO0/lnvVwCfZ5j/ezYzHov/pPybnH2Vfq9O/SRWL1/0Bsr/lphjJq4/Iv9MpqLiDR8E/x+isgk4P9j/OcTyi9MriP/Br808DA+o/anlMGI5izz/ZpEypxg7FP9cvj7pMot0/rnZIwjF87D9n+S2h6EvNP7S4we1ooOa/qS39pQ3B1j/7kmcULzHVP3dCYjTnA9g/qF3cDLqI5D+rLSyyIRLtv8pjs+VID9M//9mUMgqg9j9VXXecyZ7gP72G6Tl1g/U/gy5fPkFd+T/2Cn9+9cX0PwWDdSZoK/M/FaODn+Mz9j+moXSVOx/0P1kTqcHyFvc/93ec52d5/D9lEBOyn7PyP//ZlDIKoPY/5AiTRB5p+D9Vcy+OEjz2Pw==\",\"dtype\":\"float64\",\"shape\":[53]},\"y\":{\"__ndarray__\":\"C3Uj9lhr6r/7jm3YyEyzP3thzY1ttdq/JhTAT4kE8L/Q+7HBdU7NPzy82QXzDue/DNFUwyoz9L/UtBKGSi+6v8zsloZXiOG/KoHFoRXWv7/obJoOvx3Qv22SxJDHhta/UxV8DjU+1b9O+d+hm1bhv0FqhcGPm+K/Cwmay10bsb9JobyXxPbUv2CrzEKRWMe/NOhixJ8/wz/BH5vyR8fEv91vgj2UXde/VHQf1DB75r+//G2mAK7lv16SUAAN89O/z35iZQb12r8xJSEjIe7evycAxmc0ude/bwOGdxIS0b/1UeFoyb/lv6Slpe/CbOW/ACeXT91Pob/GDc++lr7Zv5QKxQCCIvC/gGJEqF0a4L/89tpq8wfLv2w11mzvqdK/fhRO/WSHkz9PlOna2Qzovy8A3MiENda/FGsZO8ll4r9UHOjJxg/zvyDSZyll2Oi/qNLY3QBC4b+IHyXmOVrovw+WfSHnYOO/TT9Y968dyr9J27cM9u3Gv2PR3aQUaMK/N3Kr5f8L4L+UdGj8ag7FvxRrGTvJZeK/+lSTcVcA2L+mjBfb0BrSvw==\",\"dtype\":\"float64\",\"shape\":[53]}},\"selected\":{\"id\":\"4e549576-dbca-42d3-8fd6-27dfab05e89f\",\"type\":\"Selection\"},\"selection_policy\":{\"id\":\"498cafdf-c298-4bc0-bd5d-ee3f961b3eb4\",\"type\":\"UnionRenderers\"}},\"id\":\"fa0299c8-14f5-426d-8f91-104b8581c95c\",\"type\":\"ColumnDataSource\"},{\"attributes\":{\"dimension\":1,\"plot\":{\"id\":\"867f7471-27fd-4fbb-ab7a-03f7d232d621\",\"subtype\":\"Figure\",\"type\":\"Plot\"},\"ticker\":{\"id\":\"4ab1674c-68e6-4784-a090-e728569fe293\",\"type\":\"BasicTicker\"}},\"id\":\"728482f7-ddf1-4225-ad87-4a03351949bb\",\"type\":\"Grid\"},{\"attributes\":{},\"id\":\"d47748e7-f122-4fd0-9c90-4c925509c26d\",\"type\":\"BasicTickFormatter\"},{\"attributes\":{\"source\":{\"id\":\"e75f0772-be2d-4546-9291-580ff8b20a5a\",\"type\":\"ColumnDataSource\"}},\"id\":\"2fd11194-8b7b-4e0e-8c9b-787f9377025d\",\"type\":\"CDSView\"},{\"attributes\":{\"data_source\":{\"id\":\"4ff23514-2e75-4226-b242-e272a9dd1d69\",\"type\":\"ColumnDataSource\"},\"glyph\":{\"id\":\"1ef45385-bca2-44eb-b383-59475eb1b44b\",\"type\":\"Circle\"},\"hover_glyph\":null,\"muted_glyph\":null,\"nonselection_glyph\":{\"id\":\"1678eb95-9015-4ad5-8460-05ff36701b8e\",\"type\":\"Circle\"},\"selection_glyph\":null,\"view\":{\"id\":\"b372fbec-137d-4165-b68d-b812949cb2d4\",\"type\":\"CDSView\"}},\"id\":\"ad6afc67-155b-4e81-b527-ae1b295ae13b\",\"type\":\"GlyphRenderer\"},{\"attributes\":{\"active_drag\":\"auto\",\"active_inspect\":\"auto\",\"active_multi\":null,\"active_scroll\":\"auto\",\"active_tap\":\"auto\",\"tools\":[{\"id\":\"9a48fc94-9111-4214-bc46-192585353414\",\"type\":\"PanTool\"},{\"id\":\"4492fac4-f613-4451-aab7-48496d2ff305\",\"type\":\"WheelZoomTool\"},{\"id\":\"60cf68b0-f599-443f-ba9f-c4a48d6e7191\",\"type\":\"BoxZoomTool\"},{\"id\":\"29f36d60-2422-4d04-b946-d84304b78645\",\"type\":\"SaveTool\"},{\"id\":\"38f343e6-bc63-4806-a9b8-e1c7e4da6931\",\"type\":\"ResetTool\"},{\"id\":\"9c292b49-d05b-4f63-beb6-ab3ea0d02991\",\"type\":\"HelpTool\"}]},\"id\":\"336803d3-3827-4496-9b4a-872e6a2956c7\",\"type\":\"Toolbar\"},{\"attributes\":{\"fill_alpha\":{\"value\":0.1},\"fill_color\":{\"value\":\"#1f77b4\"},\"line_alpha\":{\"value\":0.1},\"line_color\":{\"value\":\"#1f77b4\"},\"size\":{\"units\":\"screen\",\"value\":5},\"x\":{\"field\":\"x\"},\"y\":{\"field\":\"y\"}},\"id\":\"7ecb22c9-fcc9-4754-897e-ff1f10f79884\",\"type\":\"Circle\"},{\"attributes\":{\"callback\":null,\"data\":{\"x\":{\"__ndarray__\":\"OPUNxYSO9D/jAlATT9btPzjLypDLbPc/Frd09O4pxz9Ihs4h52TxP1d4yzV1fuQ/KNX/SwmG8T/xSSPRBAzovyr3gQNZsfA/kRkpJIjehL+fzhlw0Vrgv83n9VHqWuA/AvVP6RvK0D+a6mn8Sn3vP55d2JDxYca//upVc62u7T+6jzVWYhvlPwELyQltBc4/yPtIvdMn7j86uilmZCSmP6PGrzsf3PE/R/geVJfV1j8sJQQfVr70P/RBnvjBdO0/lnvVwCfZ5j9NXr6i28nsP5+jORbyS/U/qEt3Whjr+D/ezYzHov/pPybnH2Vfq9O/SRWL1/0Bsr/lphjJq4/Iv9MpqLiDR8E/x+isgk4P9j/OcTyi9MriP+gXLJ+g1Ok/o8oRhuCG8z/wa/NPAwPqP2p5TBiOYs8/2aRMqcYOxT/XL4+6TKLdP652SMIxfOw/Z/ktoehLzT+0uMHtaKDmv6kt/aUNwdY/+5JnFC8x1T93QmI05wPYP6hd3Ay6iOQ/qy0ssiES7b/KY7PlSA/TPw==\",\"dtype\":\"float64\",\"shape\":[50]},\"y\":{\"__ndarray__\":\"0M76KB7v5T8F/zHTvW3UP9P0crdSIuA/C3Uj9lhr6r/7jm3YyEyzP3thzY1ttdq/KJGmCkYr0j8mFMBPiQTwv9D7scF1Ts0/PLzZBfMO578M0VTDKjP0v9S0EoZKL7q/zOyWhleI4b8qgcWhFda/v+hsmg6/HdC/Tqfd/JT33T9tksSQx4bWv1MVfA41PtW/TvnfoZtW4b9BaoXBj5vivwn2eLMMj7W/Cwmay10bsb9JobyXxPbUv2CrzEKRWMe/NOhixJ8/wz/JOm2mWBjVP0ZMqLJUUc8/wK29yfUc0T/BH5vyR8fEv91vgj2UXde/VHQf1DB75r+//G2mAK7lv16SUAAN89O/z35iZQb12r8xJSEjIe7ev2ARrT2H98g/fwcCP0Ad2j8nAMZnNLnXv28DhncSEtG/9VHhaMm/5b+kpaXvwmzlvwAnl0/dT6G/xg3Pvpa+2b+UCsUAgiLwv4BiRKhdGuC//PbaavMHy79sNdZs76nSv34UTv1kh5M/T5Tp2tkM6L8vANzIhDXWvw==\",\"dtype\":\"float64\",\"shape\":[50]}},\"selected\":{\"id\":\"edaa02b9-4966-4360-9b84-5f025590c6c1\",\"type\":\"Selection\"},\"selection_policy\":{\"id\":\"ef7898f8-b1c5-41f9-a676-ea479d839dde\",\"type\":\"UnionRenderers\"}},\"id\":\"8a130ac0-32d3-442f-889c-6a93c64f8c25\",\"type\":\"ColumnDataSource\"},{\"attributes\":{\"overlay\":{\"id\":\"2f39dc82-f84d-4af3-af7d-aafca61256dd\",\"type\":\"BoxAnnotation\"}},\"id\":\"f4f1d5fd-c469-47d9-a625-48961c8817cb\",\"type\":\"BoxZoomTool\"},{\"attributes\":{},\"id\":\"1edc4bd9-6b3d-4ad0-87bc-b4055d2e084a\",\"type\":\"Selection\"},{\"attributes\":{\"data_source\":{\"id\":\"a5d26022-fe44-48d1-9190-568ffd396eeb\",\"type\":\"ColumnDataSource\"},\"glyph\":{\"id\":\"3a4e7fee-59bd-4a2b-bcda-1563f310d057\",\"type\":\"Circle\"},\"hover_glyph\":null,\"muted_glyph\":null,\"nonselection_glyph\":{\"id\":\"f785266c-502f-45d4-8a06-f026159f2a66\",\"type\":\"Circle\"},\"selection_glyph\":null,\"view\":{\"id\":\"88effc21-e8bb-4fae-94a4-f636996370fb\",\"type\":\"CDSView\"}},\"id\":\"4d119c52-7727-4950-9092-99c364b9ef49\",\"type\":\"GlyphRenderer\"},{\"attributes\":{},\"id\":\"38f343e6-bc63-4806-a9b8-e1c7e4da6931\",\"type\":\"ResetTool\"},{\"attributes\":{\"source\":{\"id\":\"4ff23514-2e75-4226-b242-e272a9dd1d69\",\"type\":\"ColumnDataSource\"}},\"id\":\"b372fbec-137d-4165-b68d-b812949cb2d4\",\"type\":\"CDSView\"},{\"attributes\":{\"plot\":{\"id\":\"867f7471-27fd-4fbb-ab7a-03f7d232d621\",\"subtype\":\"Figure\",\"type\":\"Plot\"},\"ticker\":{\"id\":\"312ad333-257a-438e-a9be-6cfcd6bb4c03\",\"type\":\"BasicTicker\"}},\"id\":\"1e97f50b-2b3e-431f-b51d-bbb3db6fd00d\",\"type\":\"Grid\"},{\"attributes\":{},\"id\":\"f567b5fc-2452-4d45-967b-d9b7f085c9e5\",\"type\":\"BasicTicker\"},{\"attributes\":{\"bottom_units\":\"screen\",\"fill_alpha\":{\"value\":0.5},\"fill_color\":{\"value\":\"lightgrey\"},\"left_units\":\"screen\",\"level\":\"overlay\",\"line_alpha\":{\"value\":1.0},\"line_color\":{\"value\":\"black\"},\"line_dash\":[4,4],\"line_width\":{\"value\":2},\"plot\":null,\"render_mode\":\"css\",\"right_units\":\"screen\",\"top_units\":\"screen\"},\"id\":\"43b21412-fbeb-4543-976f-65d25a677f22\",\"type\":\"BoxAnnotation\"},{\"attributes\":{\"below\":[{\"id\":\"bc1d2b0e-254f-43ff-b12a-953ddab45c65\",\"type\":\"LinearAxis\"}],\"left\":[{\"id\":\"d194a679-0286-49c5-a85e-573a69fba0dc\",\"type\":\"LinearAxis\"}],\"plot_height\":400,\"renderers\":[{\"id\":\"bc1d2b0e-254f-43ff-b12a-953ddab45c65\",\"type\":\"LinearAxis\"},{\"id\":\"1e97f50b-2b3e-431f-b51d-bbb3db6fd00d\",\"type\":\"Grid\"},{\"id\":\"d194a679-0286-49c5-a85e-573a69fba0dc\",\"type\":\"LinearAxis\"},{\"id\":\"728482f7-ddf1-4225-ad87-4a03351949bb\",\"type\":\"Grid\"},{\"id\":\"43b21412-fbeb-4543-976f-65d25a677f22\",\"type\":\"BoxAnnotation\"},{\"id\":\"ad6afc67-155b-4e81-b527-ae1b295ae13b\",\"type\":\"GlyphRenderer\"},{\"id\":\"4aa19f9a-6bc0-46f8-bb64-eb1de1b73a77\",\"type\":\"GlyphRenderer\"},{\"id\":\"de691949-6f67-4253-8ec4-918a2c77d358\",\"type\":\"GlyphRenderer\"}],\"title\":{\"id\":\"fbea42b4-cd19-4e49-84a9-0f3c0e0a5162\",\"type\":\"Title\"},\"toolbar\":{\"id\":\"336803d3-3827-4496-9b4a-872e6a2956c7\",\"type\":\"Toolbar\"},\"x_range\":{\"id\":\"3e2f5884-5f4e-4a3a-821c-299f1f67ccbb\",\"type\":\"DataRange1d\"},\"x_scale\":{\"id\":\"84d1c3c5-bcd3-42d9-94c2-e7613d56dba6\",\"type\":\"LinearScale\"},\"y_range\":{\"id\":\"24265725-a653-419c-9969-1069fd3405f1\",\"type\":\"DataRange1d\"},\"y_scale\":{\"id\":\"b14fb4c3-9859-4e15-9e92-3db35012b274\",\"type\":\"LinearScale\"}},\"id\":\"867f7471-27fd-4fbb-ab7a-03f7d232d621\",\"subtype\":\"Figure\",\"type\":\"Plot\"},{\"attributes\":{},\"id\":\"f9f7f6c4-fdd2-499e-8189-fd48bcbc9f92\",\"type\":\"BasicTicker\"},{\"attributes\":{\"bottom_units\":\"screen\",\"fill_alpha\":{\"value\":0.5},\"fill_color\":{\"value\":\"lightgrey\"},\"left_units\":\"screen\",\"level\":\"overlay\",\"line_alpha\":{\"value\":1.0},\"line_color\":{\"value\":\"black\"},\"line_dash\":[4,4],\"line_width\":{\"value\":2},\"plot\":null,\"render_mode\":\"css\",\"right_units\":\"screen\",\"top_units\":\"screen\"},\"id\":\"2f39dc82-f84d-4af3-af7d-aafca61256dd\",\"type\":\"BoxAnnotation\"},{\"attributes\":{\"child\":{\"id\":\"867f7471-27fd-4fbb-ab7a-03f7d232d621\",\"subtype\":\"Figure\",\"type\":\"Plot\"},\"title\":\"Labels\"},\"id\":\"8b32cd5e-bfa3-4d59-8e1e-178e7968d365\",\"type\":\"Panel\"},{\"attributes\":{\"callback\":null},\"id\":\"24265725-a653-419c-9969-1069fd3405f1\",\"type\":\"DataRange1d\"},{\"attributes\":{\"callback\":null},\"id\":\"439a8892-8dcf-49c6-9ba3-f6e7af931806\",\"type\":\"DataRange1d\"},{\"attributes\":{\"below\":[{\"id\":\"9baa1ac4-3efe-4490-abf6-666d85724855\",\"type\":\"LinearAxis\"}],\"left\":[{\"id\":\"2919fd57-95c7-4499-9b1d-a821502f0a37\",\"type\":\"LinearAxis\"}],\"plot_height\":400,\"renderers\":[{\"id\":\"9baa1ac4-3efe-4490-abf6-666d85724855\",\"type\":\"LinearAxis\"},{\"id\":\"d2f80368-da8f-4fbc-bcb3-b7a1ac59ca08\",\"type\":\"Grid\"},{\"id\":\"2919fd57-95c7-4499-9b1d-a821502f0a37\",\"type\":\"LinearAxis\"},{\"id\":\"1a7dce07-99b6-4b07-984b-1686facf9f4e\",\"type\":\"Grid\"},{\"id\":\"2f39dc82-f84d-4af3-af7d-aafca61256dd\",\"type\":\"BoxAnnotation\"},{\"id\":\"335ca140-6ae2-497f-96a2-2b42e43e1f9e\",\"type\":\"GlyphRenderer\"},{\"id\":\"4d119c52-7727-4950-9092-99c364b9ef49\",\"type\":\"GlyphRenderer\"},{\"id\":\"bff18a3b-3175-4507-bf8c-c50f69a62b35\",\"type\":\"GlyphRenderer\"}],\"title\":{\"id\":\"fbb75f97-8fed-49f5-a84e-701efc3c074c\",\"type\":\"Title\"},\"toolbar\":{\"id\":\"91639fd5-6d12-4456-a1e7-a619ace326a3\",\"type\":\"Toolbar\"},\"x_range\":{\"id\":\"439a8892-8dcf-49c6-9ba3-f6e7af931806\",\"type\":\"DataRange1d\"},\"x_scale\":{\"id\":\"0abad244-4b9b-4dff-9f54-e1c43514f34d\",\"type\":\"LinearScale\"},\"y_range\":{\"id\":\"3a301a27-4aca-44bf-b913-4183366f6d52\",\"type\":\"DataRange1d\"},\"y_scale\":{\"id\":\"673d169c-1163-4c3d-8241-0eb048ce289e\",\"type\":\"LinearScale\"}},\"id\":\"3f44cd14-925d-4fa0-b9cc-d102eca6df7c\",\"subtype\":\"Figure\",\"type\":\"Plot\"},{\"attributes\":{},\"id\":\"0abad244-4b9b-4dff-9f54-e1c43514f34d\",\"type\":\"LinearScale\"},{\"attributes\":{\"callback\":null,\"data\":{\"x\":{\"__ndarray__\":\"2xfQlUF5BcB7HBC3HrkFwIEB8LRZHgfA4au3ELT4BcArfKiOKNQFwPou3tM6PQLAoXRMIi+RBsCf3sb9CAMFwJ6OMgWKGgfABFbgrghkBcBfEdbqXQ0EwLQJll635wTAl1U1L6pMBsCBXT7kNc0JwFSZcvz5JQXAaz99FCoSA8CXoJoE7/oEwH0CKtTDLwXAjJitL7aXAcDNpwaP4rIEwNoWbAv4ewLA3FEHi4tYBMC+fGGZE7oJwGkBnqfObALAf7QIOnDZAsDwvzLoNhAEwHyXS26gwAPAttch08Z/BMCLs/ecWh4FwE2sYpASEAXA/UeKlyu1BMDuJH6g1kcDwIFw3yJcLgXA5ExEjPvGBMAEVuCuCGQFwK+yoZ2d7wbATKUCyHcABcAEVuCuCGQFwJfrulPQ2gfA4rpHR/u4BMCjQtiWPikGwH7uJAtU0QbAu2xt2IL8B8BVrVgtfj4DwNMgpJywqwHA3Crpq665BcDDoH1E80wEwNkIQF/6uAbAHTVVoWtXBMB1upzHnKEFwA==\",\"dtype\":\"float64\",\"shape\":[50]},\"y\":{\"__ndarray__\":\"DAnjXSLn1D9+cojtCbTFvxRbwHqKlMG/sEpJ9nXp07+t4vYhBV/VP3IdOgPW7ec/5n+0Hc0Etb9ZiGys18/FP6rl9jj6Q+K/bV5fwiVQu7+J6VrRptzkP4aQ1SmBCZY/lteXK5cmzb/tKP933hrgv7iauoCn+vI/yp2wIR2E9T8azrJlyi3qPyFyvDO8bNQ/a8Vxf8Qi7D+GQSNVuKfgPyq5dpiqdtk/Icnd8nop3D+sPF6EdSDCPyzV18SIA7s//f56EWj1n7/yQB0gmczBv1F8WaFKpsE/E/rU9dT61z9RL8+ZP2/UPwBtKqJnVMi/aCBSKi1Eyb8hPKKm0sHaP7ExxDdMPeo/C8nal7CZ8T9tXl/CJVC7v/wbnD3twrM/eEPs2edq4z9tXl/CJVC7v+lPb7NqvN6/IBvJPjE3zj8OgcqbCVnRP3lJm3gI2u2/vgnrmEtl1b8aZ0MT0RPJP+mKLrshVdw/9jIy1C8Qz7/JYJhR7lTgP4+elW/YO8y/0sTDbNDC4j+m5cHoWXG9Pw==\",\"dtype\":\"float64\",\"shape\":[50]}},\"selected\":{\"id\":\"1edc4bd9-6b3d-4ad0-87bc-b4055d2e084a\",\"type\":\"Selection\"},\"selection_policy\":{\"id\":\"116fb1c8-aa83-473d-8c49-b92cc5328e0f\",\"type\":\"UnionRenderers\"}},\"id\":\"4ff23514-2e75-4226-b242-e272a9dd1d69\",\"type\":\"ColumnDataSource\"},{\"attributes\":{},\"id\":\"116fb1c8-aa83-473d-8c49-b92cc5328e0f\",\"type\":\"UnionRenderers\"},{\"attributes\":{\"callback\":null},\"id\":\"3a301a27-4aca-44bf-b913-4183366f6d52\",\"type\":\"DataRange1d\"},{\"attributes\":{\"data_source\":{\"id\":\"8a130ac0-32d3-442f-889c-6a93c64f8c25\",\"type\":\"ColumnDataSource\"},\"glyph\":{\"id\":\"fb601a8a-4c70-4ad8-9b07-9b5c1890b547\",\"type\":\"Circle\"},\"hover_glyph\":null,\"muted_glyph\":null,\"nonselection_glyph\":{\"id\":\"7ecb22c9-fcc9-4754-897e-ff1f10f79884\",\"type\":\"Circle\"},\"selection_glyph\":null,\"view\":{\"id\":\"1316af0a-d60b-4b14-ba6b-345fb82234b8\",\"type\":\"CDSView\"}},\"id\":\"de691949-6f67-4253-8ec4-918a2c77d358\",\"type\":\"GlyphRenderer\"},{\"attributes\":{},\"id\":\"23980e21-2dcf-4288-bef1-be22bdb03449\",\"type\":\"Selection\"},{\"attributes\":{},\"id\":\"0e25a2c4-8465-4f68-bab9-42831b1db144\",\"type\":\"Selection\"},{\"attributes\":{\"plot\":{\"id\":\"3f44cd14-925d-4fa0-b9cc-d102eca6df7c\",\"subtype\":\"Figure\",\"type\":\"Plot\"},\"ticker\":{\"id\":\"f567b5fc-2452-4d45-967b-d9b7f085c9e5\",\"type\":\"BasicTicker\"}},\"id\":\"d2f80368-da8f-4fbc-bcb3-b7a1ac59ca08\",\"type\":\"Grid\"},{\"attributes\":{\"fill_alpha\":{\"value\":0.7},\"fill_color\":{\"value\":\"#2ca02c\"},\"line_alpha\":{\"value\":0.7},\"line_color\":{\"value\":\"#2ca02c\"},\"size\":{\"units\":\"screen\",\"value\":5},\"x\":{\"field\":\"x\"},\"y\":{\"field\":\"y\"}},\"id\":\"27bee27e-a03a-4a38-8377-72576800ef53\",\"type\":\"Circle\"},{\"attributes\":{\"child\":{\"id\":\"3f44cd14-925d-4fa0-b9cc-d102eca6df7c\",\"subtype\":\"Figure\",\"type\":\"Plot\"},\"title\":\"Clusters\"},\"id\":\"5d8927e5-fa9f-4bc8-b701-0020efc91e9d\",\"type\":\"Panel\"},{\"attributes\":{},\"id\":\"fb55ea16-20c5-4436-9f51-5b01f1f9a660\",\"type\":\"UnionRenderers\"},{\"attributes\":{},\"id\":\"7a0c3354-4285-4be9-8aa5-f07be0a67e85\",\"type\":\"BasicTickFormatter\"},{\"attributes\":{\"source\":{\"id\":\"c8710cc9-08fd-4777-a3af-38da66bc9289\",\"type\":\"ColumnDataSource\"}},\"id\":\"bab4f9a8-ef57-4599-a1aa-859796c7ae7e\",\"type\":\"CDSView\"},{\"attributes\":{\"callback\":null,\"data\":{\"x\":{\"__ndarray__\":\"2xfQlUF5BcB7HBC3HrkFwIEB8LRZHgfA4au3ELT4BcArfKiOKNQFwPou3tM6PQLAoXRMIi+RBsCf3sb9CAMFwJ6OMgWKGgfABFbgrghkBcBfEdbqXQ0EwLQJll635wTAl1U1L6pMBsCBXT7kNc0JwFSZcvz5JQXAaz99FCoSA8CXoJoE7/oEwH0CKtTDLwXAjJitL7aXAcDNpwaP4rIEwNoWbAv4ewLA3FEHi4tYBMC+fGGZE7oJwGkBnqfObALAf7QIOnDZAsDwvzLoNhAEwHyXS26gwAPAttch08Z/BMCLs/ecWh4FwE2sYpASEAXA/UeKlyu1BMDuJH6g1kcDwIFw3yJcLgXA5ExEjPvGBMAEVuCuCGQFwK+yoZ2d7wbATKUCyHcABcAEVuCuCGQFwJfrulPQ2gfA4rpHR/u4BMCjQtiWPikGwH7uJAtU0QbAu2xt2IL8B8BVrVgtfj4DwNMgpJywqwHA3Crpq665BcDDoH1E80wEwNkIQF/6uAbAHTVVoWtXBMB1upzHnKEFwA==\",\"dtype\":\"float64\",\"shape\":[50]},\"y\":{\"__ndarray__\":\"DAnjXSLn1D9+cojtCbTFvxRbwHqKlMG/sEpJ9nXp07+t4vYhBV/VP3IdOgPW7ec/5n+0Hc0Etb9ZiGys18/FP6rl9jj6Q+K/bV5fwiVQu7+J6VrRptzkP4aQ1SmBCZY/lteXK5cmzb/tKP933hrgv7iauoCn+vI/yp2wIR2E9T8azrJlyi3qPyFyvDO8bNQ/a8Vxf8Qi7D+GQSNVuKfgPyq5dpiqdtk/Icnd8nop3D+sPF6EdSDCPyzV18SIA7s//f56EWj1n7/yQB0gmczBv1F8WaFKpsE/E/rU9dT61z9RL8+ZP2/UPwBtKqJnVMi/aCBSKi1Eyb8hPKKm0sHaP7ExxDdMPeo/C8nal7CZ8T9tXl/CJVC7v/wbnD3twrM/eEPs2edq4z9tXl/CJVC7v+lPb7NqvN6/IBvJPjE3zj8OgcqbCVnRP3lJm3gI2u2/vgnrmEtl1b8aZ0MT0RPJP+mKLrshVdw/9jIy1C8Qz7/JYJhR7lTgP4+elW/YO8y/0sTDbNDC4j+m5cHoWXG9Pw==\",\"dtype\":\"float64\",\"shape\":[50]}},\"selected\":{\"id\":\"23980e21-2dcf-4288-bef1-be22bdb03449\",\"type\":\"Selection\"},\"selection_policy\":{\"id\":\"80ce78b3-c7c6-4ae0-a46a-9b452923450b\",\"type\":\"UnionRenderers\"}},\"id\":\"e75f0772-be2d-4546-9291-580ff8b20a5a\",\"type\":\"ColumnDataSource\"},{\"attributes\":{\"callback\":null,\"tabs\":[{\"id\":\"5d8927e5-fa9f-4bc8-b701-0020efc91e9d\",\"type\":\"Panel\"},{\"id\":\"8b32cd5e-bfa3-4d59-8e1e-178e7968d365\",\"type\":\"Panel\"}]},\"id\":\"2ec053b7-a592-47d5-98c8-7d082d43ec74\",\"type\":\"Tabs\"},{\"attributes\":{\"data_source\":{\"id\":\"fa0299c8-14f5-426d-8f91-104b8581c95c\",\"type\":\"ColumnDataSource\"},\"glyph\":{\"id\":\"27bee27e-a03a-4a38-8377-72576800ef53\",\"type\":\"Circle\"},\"hover_glyph\":null,\"muted_glyph\":null,\"nonselection_glyph\":{\"id\":\"9a67c842-c767-4d80-8a8a-cfae08eb7c31\",\"type\":\"Circle\"},\"selection_glyph\":null,\"view\":{\"id\":\"74e22129-9db1-49a6-a504-aca940030d48\",\"type\":\"CDSView\"}},\"id\":\"bff18a3b-3175-4507-bf8c-c50f69a62b35\",\"type\":\"GlyphRenderer\"},{\"attributes\":{\"dimension\":1,\"plot\":{\"id\":\"3f44cd14-925d-4fa0-b9cc-d102eca6df7c\",\"subtype\":\"Figure\",\"type\":\"Plot\"},\"ticker\":{\"id\":\"f9f7f6c4-fdd2-499e-8189-fd48bcbc9f92\",\"type\":\"BasicTicker\"}},\"id\":\"1a7dce07-99b6-4b07-984b-1686facf9f4e\",\"type\":\"Grid\"},{\"attributes\":{},\"id\":\"ef7898f8-b1c5-41f9-a676-ea479d839dde\",\"type\":\"UnionRenderers\"},{\"attributes\":{},\"id\":\"4ab1674c-68e6-4784-a090-e728569fe293\",\"type\":\"BasicTicker\"},{\"attributes\":{\"data_source\":{\"id\":\"c8710cc9-08fd-4777-a3af-38da66bc9289\",\"type\":\"ColumnDataSource\"},\"glyph\":{\"id\":\"483f670f-7b56-4558-b819-e8789dbf5e76\",\"type\":\"Circle\"},\"hover_glyph\":null,\"muted_glyph\":null,\"nonselection_glyph\":{\"id\":\"1aa56b4c-3134-4545-9a3f-48f9ea5e4dd5\",\"type\":\"Circle\"},\"selection_glyph\":null,\"view\":{\"id\":\"bab4f9a8-ef57-4599-a1aa-859796c7ae7e\",\"type\":\"CDSView\"}},\"id\":\"4aa19f9a-6bc0-46f8-bb64-eb1de1b73a77\",\"type\":\"GlyphRenderer\"},{\"attributes\":{},\"id\":\"498cafdf-c298-4bc0-bd5d-ee3f961b3eb4\",\"type\":\"UnionRenderers\"},{\"attributes\":{\"source\":{\"id\":\"fa0299c8-14f5-426d-8f91-104b8581c95c\",\"type\":\"ColumnDataSource\"}},\"id\":\"74e22129-9db1-49a6-a504-aca940030d48\",\"type\":\"CDSView\"},{\"attributes\":{\"plot\":null,\"text\":\"K-means clusters of the iris data\"},\"id\":\"fbb75f97-8fed-49f5-a84e-701efc3c074c\",\"type\":\"Title\"},{\"attributes\":{},\"id\":\"4492fac4-f613-4451-aab7-48496d2ff305\",\"type\":\"WheelZoomTool\"},{\"attributes\":{\"data_source\":{\"id\":\"e75f0772-be2d-4546-9291-580ff8b20a5a\",\"type\":\"ColumnDataSource\"},\"glyph\":{\"id\":\"4b4839dd-e4e0-4d87-a7b6-92ece97ad0d6\",\"type\":\"Circle\"},\"hover_glyph\":null,\"muted_glyph\":null,\"nonselection_glyph\":{\"id\":\"9a572e03-b38b-4e68-afab-c275716a3879\",\"type\":\"Circle\"},\"selection_glyph\":null,\"view\":{\"id\":\"2fd11194-8b7b-4e0e-8c9b-787f9377025d\",\"type\":\"CDSView\"}},\"id\":\"335ca140-6ae2-497f-96a2-2b42e43e1f9e\",\"type\":\"GlyphRenderer\"},{\"attributes\":{},\"id\":\"9a48fc94-9111-4214-bc46-192585353414\",\"type\":\"PanTool\"},{\"attributes\":{\"axis_label\":\"PCA component 2\",\"formatter\":{\"id\":\"d47748e7-f122-4fd0-9c90-4c925509c26d\",\"type\":\"BasicTickFormatter\"},\"plot\":{\"id\":\"3f44cd14-925d-4fa0-b9cc-d102eca6df7c\",\"subtype\":\"Figure\",\"type\":\"Plot\"},\"ticker\":{\"id\":\"f9f7f6c4-fdd2-499e-8189-fd48bcbc9f92\",\"type\":\"BasicTicker\"}},\"id\":\"2919fd57-95c7-4499-9b1d-a821502f0a37\",\"type\":\"LinearAxis\"},{\"attributes\":{\"fill_alpha\":{\"value\":0.1},\"fill_color\":{\"value\":\"#1f77b4\"},\"line_alpha\":{\"value\":0.1},\"line_color\":{\"value\":\"#1f77b4\"},\"size\":{\"units\":\"screen\",\"value\":5},\"x\":{\"field\":\"x\"},\"y\":{\"field\":\"y\"}},\"id\":\"9a67c842-c767-4d80-8a8a-cfae08eb7c31\",\"type\":\"Circle\"},{\"attributes\":{\"fill_alpha\":{\"value\":0.1},\"fill_color\":{\"value\":\"#1f77b4\"},\"line_alpha\":{\"value\":0.1},\"line_color\":{\"value\":\"#1f77b4\"},\"size\":{\"units\":\"screen\",\"value\":5},\"x\":{\"field\":\"x\"},\"y\":{\"field\":\"y\"}},\"id\":\"1aa56b4c-3134-4545-9a3f-48f9ea5e4dd5\",\"type\":\"Circle\"},{\"attributes\":{\"source\":{\"id\":\"8a130ac0-32d3-442f-889c-6a93c64f8c25\",\"type\":\"ColumnDataSource\"}},\"id\":\"1316af0a-d60b-4b14-ba6b-345fb82234b8\",\"type\":\"CDSView\"},{\"attributes\":{},\"id\":\"533fd014-a0a3-49bd-af03-2678e8680972\",\"type\":\"UnionRenderers\"},{\"attributes\":{},\"id\":\"9c292b49-d05b-4f63-beb6-ab3ea0d02991\",\"type\":\"HelpTool\"},{\"attributes\":{\"callback\":null},\"id\":\"3e2f5884-5f4e-4a3a-821c-299f1f67ccbb\",\"type\":\"DataRange1d\"},{\"attributes\":{\"source\":{\"id\":\"a5d26022-fe44-48d1-9190-568ffd396eeb\",\"type\":\"ColumnDataSource\"}},\"id\":\"88effc21-e8bb-4fae-94a4-f636996370fb\",\"type\":\"CDSView\"},{\"attributes\":{},\"id\":\"84d1c3c5-bcd3-42d9-94c2-e7613d56dba6\",\"type\":\"LinearScale\"},{\"attributes\":{},\"id\":\"64631144-c196-475b-aeed-df83bfd8be61\",\"type\":\"PanTool\"},{\"attributes\":{},\"id\":\"80ce78b3-c7c6-4ae0-a46a-9b452923450b\",\"type\":\"UnionRenderers\"},{\"attributes\":{\"callback\":null,\"data\":{\"x\":{\"__ndarray__\":\"GRw7E/pABED/2ZQyCqD2P+CJeHuP7gRAbC6yQHWI/z9krPTpTcwCQGQDPmHPLAtAVV13nMme4D9wQ5oWv3QHQEThGJywjgJAdbjWwlZYB0Blc1gZSZf6P4H4RvFi1vw/C60+J7JSAUC9huk5dYP1P4MuXz5BXfk/uR37ZtR5/j9yA559HzD/P1lUyNL96AtAYKn7yIRbDkD2Cn9+9cX0Py6ztfTibANABYN1Jmgr8z9Ur/jmfv4LQBWjg5/jM/Y/ZQASwvI0AkDJCIJ03ukEQKahdJU7H/Q/sJBvN5Wm9D+fuyPemvsAQGQmil27GQNAUYS6uEm6BkDiG+2X1tsJQPzQyZ8YRQFAWROpwfIW9z/3d5znZ3n8P9zDHV63nAhAi1R/3u4oAUDVOu2LUXr+P2UQE7Kfs/I/0XM1j3ncAEA5pYd/sYMCQKqS6Ntbwv4//9mUMgqg9j8+yJRWr4EEQNtVqsjpWgNAp738nrEa/z/kCJNEHmn4P36uGzuIOfw/SMX3mxJt/j9Vcy+OEjz2Pw==\",\"dtype\":\"float64\",\"shape\":[50]},\"y\":{\"__ndarray__\":\"pxSnGL5AiL8Uaxk7yWXivwpdvYpE4tU/hYeccyAvx78RzxQqoXGlv+cw/49mguE/VBzoycYP878EMFpJWI3WPzG2LFkfbs+/ebYyzOD46D+AiGpEHfvOP7KcK0P0qsu/R8RH6E2Oyz8g0mcpZdjov6jS2N0AQuG/thZq4Otqvj+1U2a4mNqkPy219n2lvvI/PughzIA10D+IHyXmOVrov2eTECEyHdg/D5Z9Iedg47+So5LHxjvdP00/WPevHcq/V1FDcDRW1T9trNNdJN7hP0nbtwz27ca/7yQJmQvOvb/mw6v4Sv3Kvwbx6Ffqmd0/LHCYvQPb1z+LZ46cqu31P5bx+EwX8su/Y9HdpBRowr83cqvl/wvgv5WbhkXI8eU/LcUpF7HHwT9NIQXZrpmoP5R0aPxqDsW/+KbQe13G1z/7PQ8Rul/HP0KCOLt/Mdo/FGsZO8ll4r9TmWn1kKnRP/f1qMebbNM/Eui61Dj9xz/6VJNxVwDYv/yW0lnVGbQ/tYIXPBmqvT+mjBfb0BrSvw==\",\"dtype\":\"float64\",\"shape\":[50]}},\"selected\":{\"id\":\"cbbdf55f-8a1a-4e97-b7ec-19ea459e7f4b\",\"type\":\"Selection\"},\"selection_policy\":{\"id\":\"fb55ea16-20c5-4436-9f51-5b01f1f9a660\",\"type\":\"UnionRenderers\"}},\"id\":\"c8710cc9-08fd-4777-a3af-38da66bc9289\",\"type\":\"ColumnDataSource\"},{\"attributes\":{\"overlay\":{\"id\":\"43b21412-fbeb-4543-976f-65d25a677f22\",\"type\":\"BoxAnnotation\"}},\"id\":\"60cf68b0-f599-443f-ba9f-c4a48d6e7191\",\"type\":\"BoxZoomTool\"},{\"attributes\":{\"fill_alpha\":{\"value\":0.7},\"fill_color\":{\"value\":\"#1f77b4\"},\"line_alpha\":{\"value\":0.7},\"line_color\":{\"value\":\"#1f77b4\"},\"size\":{\"units\":\"screen\",\"value\":5},\"x\":{\"field\":\"x\"},\"y\":{\"field\":\"y\"}},\"id\":\"1ef45385-bca2-44eb-b383-59475eb1b44b\",\"type\":\"Circle\"},{\"attributes\":{},\"id\":\"edaa02b9-4966-4360-9b84-5f025590c6c1\",\"type\":\"Selection\"},{\"attributes\":{},\"id\":\"312ad333-257a-438e-a9be-6cfcd6bb4c03\",\"type\":\"BasicTicker\"},{\"attributes\":{},\"id\":\"a449dac3-84b6-4f9b-95ac-86f9b322ecdc\",\"type\":\"BasicTickFormatter\"},{\"attributes\":{\"axis_label\":\"PCA component 1\",\"formatter\":{\"id\":\"a449dac3-84b6-4f9b-95ac-86f9b322ecdc\",\"type\":\"BasicTickFormatter\"},\"plot\":{\"id\":\"867f7471-27fd-4fbb-ab7a-03f7d232d621\",\"subtype\":\"Figure\",\"type\":\"Plot\"},\"ticker\":{\"id\":\"312ad333-257a-438e-a9be-6cfcd6bb4c03\",\"type\":\"BasicTicker\"}},\"id\":\"bc1d2b0e-254f-43ff-b12a-953ddab45c65\",\"type\":\"LinearAxis\"},{\"attributes\":{\"fill_alpha\":{\"value\":0.7},\"fill_color\":{\"value\":\"#1f77b4\"},\"line_alpha\":{\"value\":0.7},\"line_color\":{\"value\":\"#1f77b4\"},\"size\":{\"units\":\"screen\",\"value\":5},\"x\":{\"field\":\"x\"},\"y\":{\"field\":\"y\"}},\"id\":\"4b4839dd-e4e0-4d87-a7b6-92ece97ad0d6\",\"type\":\"Circle\"},{\"attributes\":{\"fill_alpha\":{\"value\":0.7},\"fill_color\":{\"value\":\"#ff7f0e\"},\"line_alpha\":{\"value\":0.7},\"line_color\":{\"value\":\"#ff7f0e\"},\"size\":{\"units\":\"screen\",\"value\":5},\"x\":{\"field\":\"x\"},\"y\":{\"field\":\"y\"}},\"id\":\"3a4e7fee-59bd-4a2b-bcda-1563f310d057\",\"type\":\"Circle\"},{\"attributes\":{},\"id\":\"6e449d53-edf8-40a1-84a1-f1b3cac0356a\",\"type\":\"SaveTool\"},{\"attributes\":{},\"id\":\"ad439b2b-5391-41d1-ab71-ff190977713e\",\"type\":\"WheelZoomTool\"},{\"attributes\":{},\"id\":\"4e549576-dbca-42d3-8fd6-27dfab05e89f\",\"type\":\"Selection\"},{\"attributes\":{\"fill_alpha\":{\"value\":0.7},\"fill_color\":{\"value\":\"#ff7f0e\"},\"line_alpha\":{\"value\":0.7},\"line_color\":{\"value\":\"#ff7f0e\"},\"size\":{\"units\":\"screen\",\"value\":5},\"x\":{\"field\":\"x\"},\"y\":{\"field\":\"y\"}},\"id\":\"483f670f-7b56-4558-b819-e8789dbf5e76\",\"type\":\"Circle\"},{\"attributes\":{\"active_drag\":\"auto\",\"active_inspect\":\"auto\",\"active_multi\":null,\"active_scroll\":\"auto\",\"active_tap\":\"auto\",\"tools\":[{\"id\":\"64631144-c196-475b-aeed-df83bfd8be61\",\"type\":\"PanTool\"},{\"id\":\"ad439b2b-5391-41d1-ab71-ff190977713e\",\"type\":\"WheelZoomTool\"},{\"id\":\"f4f1d5fd-c469-47d9-a625-48961c8817cb\",\"type\":\"BoxZoomTool\"},{\"id\":\"6e449d53-edf8-40a1-84a1-f1b3cac0356a\",\"type\":\"SaveTool\"},{\"id\":\"0c6f2bdf-0465-4601-9f6f-07b164f9c4c7\",\"type\":\"ResetTool\"},{\"id\":\"9a429c59-1a93-4a96-b2b0-46a0b6067dd0\",\"type\":\"HelpTool\"}]},\"id\":\"91639fd5-6d12-4456-a1e7-a619ace326a3\",\"type\":\"Toolbar\"},{\"attributes\":{},\"id\":\"0c6f2bdf-0465-4601-9f6f-07b164f9c4c7\",\"type\":\"ResetTool\"},{\"attributes\":{\"fill_alpha\":{\"value\":0.1},\"fill_color\":{\"value\":\"#1f77b4\"},\"line_alpha\":{\"value\":0.1},\"line_color\":{\"value\":\"#1f77b4\"},\"size\":{\"units\":\"screen\",\"value\":5},\"x\":{\"field\":\"x\"},\"y\":{\"field\":\"y\"}},\"id\":\"f785266c-502f-45d4-8a06-f026159f2a66\",\"type\":\"Circle\"},{\"attributes\":{\"fill_alpha\":{\"value\":0.1},\"fill_color\":{\"value\":\"#1f77b4\"},\"line_alpha\":{\"value\":0.1},\"line_color\":{\"value\":\"#1f77b4\"},\"size\":{\"units\":\"screen\",\"value\":5},\"x\":{\"field\":\"x\"},\"y\":{\"field\":\"y\"}},\"id\":\"9a572e03-b38b-4e68-afab-c275716a3879\",\"type\":\"Circle\"},{\"attributes\":{},\"id\":\"29f36d60-2422-4d04-b946-d84304b78645\",\"type\":\"SaveTool\"},{\"attributes\":{},\"id\":\"bc2d57f7-a6bc-427c-903e-e7d84b42b961\",\"type\":\"BasicTickFormatter\"},{\"attributes\":{\"axis_label\":\"PCA component 1\",\"formatter\":{\"id\":\"7a0c3354-4285-4be9-8aa5-f07be0a67e85\",\"type\":\"BasicTickFormatter\"},\"plot\":{\"id\":\"3f44cd14-925d-4fa0-b9cc-d102eca6df7c\",\"subtype\":\"Figure\",\"type\":\"Plot\"},\"ticker\":{\"id\":\"f567b5fc-2452-4d45-967b-d9b7f085c9e5\",\"type\":\"BasicTicker\"}},\"id\":\"9baa1ac4-3efe-4490-abf6-666d85724855\",\"type\":\"LinearAxis\"}],\"root_ids\":[\"2ec053b7-a592-47d5-98c8-7d082d43ec74\"]},\"title\":\"Bokeh Application\",\"version\":\"0.13.0\"}};\n",
       "  var render_items = [{\"docid\":\"3091a232-e59d-4ac6-a264-e2bd8960e836\",\"roots\":{\"2ec053b7-a592-47d5-98c8-7d082d43ec74\":\"497f16ee-9b99-48ec-ad88-d7d4bbc74ac7\"}}];\n",
       "  root.Bokeh.embed.embed_items_notebook(docs_json, render_items);\n",
       "\n",
       "  }\n",
       "  if (root.Bokeh !== undefined) {\n",
       "    embed_document(root);\n",
       "  } else {\n",
       "    var attempts = 0;\n",
       "    var timer = setInterval(function(root) {\n",
       "      if (root.Bokeh !== undefined) {\n",
       "        embed_document(root);\n",
       "        clearInterval(timer);\n",
       "      }\n",
       "      attempts++;\n",
       "      if (attempts > 100) {\n",
       "        console.log(\"Bokeh: ERROR: Unable to run BokehJS code because BokehJS library is missing\")\n",
       "        clearInterval(timer);\n",
       "      }\n",
       "    }, 10, root)\n",
       "  }\n",
       "})(window);"
      ],
      "application/vnd.bokehjs_exec.v0+json": ""
     },
     "metadata": {
      "application/vnd.bokehjs_exec.v0+json": {
       "id": "2ec053b7-a592-47d5-98c8-7d082d43ec74"
      }
     },
     "output_type": "display_data"
    }
   ],
   "source": [
    "from bokeh.models.widgets import Panel, Tabs\n",
    "\n",
    "#create panels\n",
    "panel_clusters = Panel(child = p_clusters, title = \"Clusters\")\n",
    "panel_labels = Panel(child = p_labels, title = \"Labels\")\n",
    "\n",
    "tabs = Tabs(tabs = [panel_clusters, panel_labels])\n",
    "\n",
    "show(tabs)"
   ]
  },
  {
   "cell_type": "markdown",
   "metadata": {
    "slideshow": {
     "slide_type": "subslide"
    }
   },
   "source": [
    "or side by side"
   ]
  },
  {
   "cell_type": "code",
   "execution_count": 115,
   "metadata": {
    "slideshow": {
     "slide_type": "fragment"
    }
   },
   "outputs": [
    {
     "data": {
      "text/html": [
       "\n",
       "\n",
       "\n",
       "\n",
       "\n",
       "\n",
       "  <div class=\"bk-root\" id=\"c43fbfa6-d886-4a0b-9d76-97cffccf2ae5\"></div>\n"
      ]
     },
     "metadata": {},
     "output_type": "display_data"
    },
    {
     "data": {
      "application/javascript": [
       "(function(root) {\n",
       "  function embed_document(root) {\n",
       "    \n",
       "  var docs_json = {\"e91b8a9e-1aa5-470c-875b-5b87495a1dc3\":{\"roots\":{\"references\":[{\"attributes\":{},\"id\":\"b14fb4c3-9859-4e15-9e92-3db35012b274\",\"type\":\"LinearScale\"},{\"attributes\":{\"children\":[{\"id\":\"3f44cd14-925d-4fa0-b9cc-d102eca6df7c\",\"subtype\":\"Figure\",\"type\":\"Plot\"},{\"id\":\"867f7471-27fd-4fbb-ab7a-03f7d232d621\",\"subtype\":\"Figure\",\"type\":\"Plot\"}]},\"id\":\"30343398-8ada-4565-ac52-8ee8f70ecfef\",\"type\":\"Row\"},{\"attributes\":{},\"id\":\"9a429c59-1a93-4a96-b2b0-46a0b6067dd0\",\"type\":\"HelpTool\"},{\"attributes\":{\"fill_alpha\":{\"value\":0.1},\"fill_color\":{\"value\":\"#1f77b4\"},\"line_alpha\":{\"value\":0.1},\"line_color\":{\"value\":\"#1f77b4\"},\"size\":{\"units\":\"screen\",\"value\":5},\"x\":{\"field\":\"x\"},\"y\":{\"field\":\"y\"}},\"id\":\"1678eb95-9015-4ad5-8460-05ff36701b8e\",\"type\":\"Circle\"},{\"attributes\":{},\"id\":\"673d169c-1163-4c3d-8241-0eb048ce289e\",\"type\":\"LinearScale\"},{\"attributes\":{\"axis_label\":\"PCA component 2\",\"formatter\":{\"id\":\"bc2d57f7-a6bc-427c-903e-e7d84b42b961\",\"type\":\"BasicTickFormatter\"},\"plot\":{\"id\":\"867f7471-27fd-4fbb-ab7a-03f7d232d621\",\"subtype\":\"Figure\",\"type\":\"Plot\"},\"ticker\":{\"id\":\"4ab1674c-68e6-4784-a090-e728569fe293\",\"type\":\"BasicTicker\"}},\"id\":\"d194a679-0286-49c5-a85e-573a69fba0dc\",\"type\":\"LinearAxis\"},{\"attributes\":{\"fill_alpha\":{\"value\":0.7},\"fill_color\":{\"value\":\"#2ca02c\"},\"line_alpha\":{\"value\":0.7},\"line_color\":{\"value\":\"#2ca02c\"},\"size\":{\"units\":\"screen\",\"value\":5},\"x\":{\"field\":\"x\"},\"y\":{\"field\":\"y\"}},\"id\":\"fb601a8a-4c70-4ad8-9b07-9b5c1890b547\",\"type\":\"Circle\"},{\"attributes\":{\"callback\":null,\"data\":{\"x\":{\"__ndarray__\":\"OPUNxYSO9D/jAlATT9btPzjLypDLbPc/KNX/SwmG8T/+6lVzra7tP6PGrzsf3PE/TV6+otvJ7D+fozkW8kv1P6hLd1oY6/g/6Bcsn6DU6T+jyhGG4IbzPxkcOxP6QARA4Il4e4/uBEBsLrJAdYj/P2Ss9OlNzAJAZAM+Yc8sC0BwQ5oWv3QHQEThGJywjgJAdbjWwlZYB0Blc1gZSZf6P4H4RvFi1vw/C60+J7JSAUC5Hftm1Hn+P3IDnn0fMP8/WVTI0v3oC0BgqfvIhFsOQC6ztfTibANAVK/45n7+C0BlABLC8jQCQMkIgnTe6QRAsJBvN5Wm9D+fuyPemvsAQGQmil27GQNAUYS6uEm6BkDiG+2X1tsJQPzQyZ8YRQFA3MMdXrecCECLVH/e7igBQNU67YtRev4/0XM1j3ncAEA5pYd/sYMCQKqS6Ntbwv4/PsiUVq+BBEDbVarI6VoDQKe9/J6xGv8/fq4bO4g5/D9IxfebEm3+Pw==\",\"dtype\":\"float64\",\"shape\":[47]},\"y\":{\"__ndarray__\":\"0M76KB7v5T8F/zHTvW3UP9P0crdSIuA/KJGmCkYr0j9Op938lPfdPwn2eLMMj7W/yTptplgY1T9GTKiyVFHPP8Ctvcn1HNE/YBGtPYf3yD9/BwI/QB3aP6cUpxi+QIi/Cl29ikTi1T+Fh5xzIC/HvxHPFCqhcaW/5zD/j2aC4T8EMFpJWI3WPzG2LFkfbs+/ebYyzOD46D+AiGpEHfvOP7KcK0P0qsu/R8RH6E2Oyz+2Fmrg62q+P7VTZriY2qQ/LbX2faW+8j8+6CHMgDXQP2eTECEyHdg/kqOSx8Y73T9XUUNwNFbVP22s010k3uE/7yQJmQvOvb/mw6v4Sv3Kvwbx6Ffqmd0/LHCYvQPb1z+LZ46cqu31P5bx+EwX8su/lZuGRcjx5T8txSkXscfBP00hBdmumag/+KbQe13G1z/7PQ8Rul/HP0KCOLt/Mdo/U5lp9ZCp0T/39ajHm2zTPxLoutQ4/cc//JbSWdUZtD+1ghc8Gaq9Pw==\",\"dtype\":\"float64\",\"shape\":[47]}},\"selected\":{\"id\":\"0e25a2c4-8465-4f68-bab9-42831b1db144\",\"type\":\"Selection\"},\"selection_policy\":{\"id\":\"533fd014-a0a3-49bd-af03-2678e8680972\",\"type\":\"UnionRenderers\"}},\"id\":\"a5d26022-fe44-48d1-9190-568ffd396eeb\",\"type\":\"ColumnDataSource\"},{\"attributes\":{\"plot\":null,\"text\":\"Labels of the iris data\"},\"id\":\"fbea42b4-cd19-4e49-84a9-0f3c0e0a5162\",\"type\":\"Title\"},{\"attributes\":{},\"id\":\"cbbdf55f-8a1a-4e97-b7ec-19ea459e7f4b\",\"type\":\"Selection\"},{\"attributes\":{\"callback\":null,\"data\":{\"x\":{\"__ndarray__\":\"Frd09O4pxz9Ihs4h52TxP1d4yzV1fuQ/8Ukj0QQM6L8q94EDWbHwP5EZKSSI3oS/n84ZcNFa4L/N5/VR6lrgPwL1T+kbytA/mupp/Ep97z+eXdiQ8WHGv7qPNVZiG+U/AQvJCW0Fzj/I+0i90yfuPzq6KWZkJKY/R/geVJfV1j8sJQQfVr70P/RBnvjBdO0/lnvVwCfZ5j/ezYzHov/pPybnH2Vfq9O/SRWL1/0Bsr/lphjJq4/Iv9MpqLiDR8E/x+isgk4P9j/OcTyi9MriP/Br808DA+o/anlMGI5izz/ZpEypxg7FP9cvj7pMot0/rnZIwjF87D9n+S2h6EvNP7S4we1ooOa/qS39pQ3B1j/7kmcULzHVP3dCYjTnA9g/qF3cDLqI5D+rLSyyIRLtv8pjs+VID9M//9mUMgqg9j9VXXecyZ7gP72G6Tl1g/U/gy5fPkFd+T/2Cn9+9cX0PwWDdSZoK/M/FaODn+Mz9j+moXSVOx/0P1kTqcHyFvc/93ec52d5/D9lEBOyn7PyP//ZlDIKoPY/5AiTRB5p+D9Vcy+OEjz2Pw==\",\"dtype\":\"float64\",\"shape\":[53]},\"y\":{\"__ndarray__\":\"C3Uj9lhr6r/7jm3YyEyzP3thzY1ttdq/JhTAT4kE8L/Q+7HBdU7NPzy82QXzDue/DNFUwyoz9L/UtBKGSi+6v8zsloZXiOG/KoHFoRXWv7/obJoOvx3Qv22SxJDHhta/UxV8DjU+1b9O+d+hm1bhv0FqhcGPm+K/Cwmay10bsb9JobyXxPbUv2CrzEKRWMe/NOhixJ8/wz/BH5vyR8fEv91vgj2UXde/VHQf1DB75r+//G2mAK7lv16SUAAN89O/z35iZQb12r8xJSEjIe7evycAxmc0ude/bwOGdxIS0b/1UeFoyb/lv6Slpe/CbOW/ACeXT91Pob/GDc++lr7Zv5QKxQCCIvC/gGJEqF0a4L/89tpq8wfLv2w11mzvqdK/fhRO/WSHkz9PlOna2Qzovy8A3MiENda/FGsZO8ll4r9UHOjJxg/zvyDSZyll2Oi/qNLY3QBC4b+IHyXmOVrovw+WfSHnYOO/TT9Y968dyr9J27cM9u3Gv2PR3aQUaMK/N3Kr5f8L4L+UdGj8ag7FvxRrGTvJZeK/+lSTcVcA2L+mjBfb0BrSvw==\",\"dtype\":\"float64\",\"shape\":[53]}},\"selected\":{\"id\":\"4e549576-dbca-42d3-8fd6-27dfab05e89f\",\"type\":\"Selection\"},\"selection_policy\":{\"id\":\"498cafdf-c298-4bc0-bd5d-ee3f961b3eb4\",\"type\":\"UnionRenderers\"}},\"id\":\"fa0299c8-14f5-426d-8f91-104b8581c95c\",\"type\":\"ColumnDataSource\"},{\"attributes\":{\"dimension\":1,\"plot\":{\"id\":\"867f7471-27fd-4fbb-ab7a-03f7d232d621\",\"subtype\":\"Figure\",\"type\":\"Plot\"},\"ticker\":{\"id\":\"4ab1674c-68e6-4784-a090-e728569fe293\",\"type\":\"BasicTicker\"}},\"id\":\"728482f7-ddf1-4225-ad87-4a03351949bb\",\"type\":\"Grid\"},{\"attributes\":{},\"id\":\"d47748e7-f122-4fd0-9c90-4c925509c26d\",\"type\":\"BasicTickFormatter\"},{\"attributes\":{\"source\":{\"id\":\"e75f0772-be2d-4546-9291-580ff8b20a5a\",\"type\":\"ColumnDataSource\"}},\"id\":\"2fd11194-8b7b-4e0e-8c9b-787f9377025d\",\"type\":\"CDSView\"},{\"attributes\":{\"data_source\":{\"id\":\"4ff23514-2e75-4226-b242-e272a9dd1d69\",\"type\":\"ColumnDataSource\"},\"glyph\":{\"id\":\"1ef45385-bca2-44eb-b383-59475eb1b44b\",\"type\":\"Circle\"},\"hover_glyph\":null,\"muted_glyph\":null,\"nonselection_glyph\":{\"id\":\"1678eb95-9015-4ad5-8460-05ff36701b8e\",\"type\":\"Circle\"},\"selection_glyph\":null,\"view\":{\"id\":\"b372fbec-137d-4165-b68d-b812949cb2d4\",\"type\":\"CDSView\"}},\"id\":\"ad6afc67-155b-4e81-b527-ae1b295ae13b\",\"type\":\"GlyphRenderer\"},{\"attributes\":{\"active_drag\":\"auto\",\"active_inspect\":\"auto\",\"active_multi\":null,\"active_scroll\":\"auto\",\"active_tap\":\"auto\",\"tools\":[{\"id\":\"9a48fc94-9111-4214-bc46-192585353414\",\"type\":\"PanTool\"},{\"id\":\"4492fac4-f613-4451-aab7-48496d2ff305\",\"type\":\"WheelZoomTool\"},{\"id\":\"60cf68b0-f599-443f-ba9f-c4a48d6e7191\",\"type\":\"BoxZoomTool\"},{\"id\":\"29f36d60-2422-4d04-b946-d84304b78645\",\"type\":\"SaveTool\"},{\"id\":\"38f343e6-bc63-4806-a9b8-e1c7e4da6931\",\"type\":\"ResetTool\"},{\"id\":\"9c292b49-d05b-4f63-beb6-ab3ea0d02991\",\"type\":\"HelpTool\"}]},\"id\":\"336803d3-3827-4496-9b4a-872e6a2956c7\",\"type\":\"Toolbar\"},{\"attributes\":{\"fill_alpha\":{\"value\":0.1},\"fill_color\":{\"value\":\"#1f77b4\"},\"line_alpha\":{\"value\":0.1},\"line_color\":{\"value\":\"#1f77b4\"},\"size\":{\"units\":\"screen\",\"value\":5},\"x\":{\"field\":\"x\"},\"y\":{\"field\":\"y\"}},\"id\":\"7ecb22c9-fcc9-4754-897e-ff1f10f79884\",\"type\":\"Circle\"},{\"attributes\":{\"callback\":null,\"data\":{\"x\":{\"__ndarray__\":\"OPUNxYSO9D/jAlATT9btPzjLypDLbPc/Frd09O4pxz9Ihs4h52TxP1d4yzV1fuQ/KNX/SwmG8T/xSSPRBAzovyr3gQNZsfA/kRkpJIjehL+fzhlw0Vrgv83n9VHqWuA/AvVP6RvK0D+a6mn8Sn3vP55d2JDxYca//upVc62u7T+6jzVWYhvlPwELyQltBc4/yPtIvdMn7j86uilmZCSmP6PGrzsf3PE/R/geVJfV1j8sJQQfVr70P/RBnvjBdO0/lnvVwCfZ5j9NXr6i28nsP5+jORbyS/U/qEt3Whjr+D/ezYzHov/pPybnH2Vfq9O/SRWL1/0Bsr/lphjJq4/Iv9MpqLiDR8E/x+isgk4P9j/OcTyi9MriP+gXLJ+g1Ok/o8oRhuCG8z/wa/NPAwPqP2p5TBiOYs8/2aRMqcYOxT/XL4+6TKLdP652SMIxfOw/Z/ktoehLzT+0uMHtaKDmv6kt/aUNwdY/+5JnFC8x1T93QmI05wPYP6hd3Ay6iOQ/qy0ssiES7b/KY7PlSA/TPw==\",\"dtype\":\"float64\",\"shape\":[50]},\"y\":{\"__ndarray__\":\"0M76KB7v5T8F/zHTvW3UP9P0crdSIuA/C3Uj9lhr6r/7jm3YyEyzP3thzY1ttdq/KJGmCkYr0j8mFMBPiQTwv9D7scF1Ts0/PLzZBfMO578M0VTDKjP0v9S0EoZKL7q/zOyWhleI4b8qgcWhFda/v+hsmg6/HdC/Tqfd/JT33T9tksSQx4bWv1MVfA41PtW/TvnfoZtW4b9BaoXBj5vivwn2eLMMj7W/Cwmay10bsb9JobyXxPbUv2CrzEKRWMe/NOhixJ8/wz/JOm2mWBjVP0ZMqLJUUc8/wK29yfUc0T/BH5vyR8fEv91vgj2UXde/VHQf1DB75r+//G2mAK7lv16SUAAN89O/z35iZQb12r8xJSEjIe7ev2ARrT2H98g/fwcCP0Ad2j8nAMZnNLnXv28DhncSEtG/9VHhaMm/5b+kpaXvwmzlvwAnl0/dT6G/xg3Pvpa+2b+UCsUAgiLwv4BiRKhdGuC//PbaavMHy79sNdZs76nSv34UTv1kh5M/T5Tp2tkM6L8vANzIhDXWvw==\",\"dtype\":\"float64\",\"shape\":[50]}},\"selected\":{\"id\":\"edaa02b9-4966-4360-9b84-5f025590c6c1\",\"type\":\"Selection\"},\"selection_policy\":{\"id\":\"ef7898f8-b1c5-41f9-a676-ea479d839dde\",\"type\":\"UnionRenderers\"}},\"id\":\"8a130ac0-32d3-442f-889c-6a93c64f8c25\",\"type\":\"ColumnDataSource\"},{\"attributes\":{\"overlay\":{\"id\":\"2f39dc82-f84d-4af3-af7d-aafca61256dd\",\"type\":\"BoxAnnotation\"}},\"id\":\"f4f1d5fd-c469-47d9-a625-48961c8817cb\",\"type\":\"BoxZoomTool\"},{\"attributes\":{},\"id\":\"1edc4bd9-6b3d-4ad0-87bc-b4055d2e084a\",\"type\":\"Selection\"},{\"attributes\":{\"data_source\":{\"id\":\"a5d26022-fe44-48d1-9190-568ffd396eeb\",\"type\":\"ColumnDataSource\"},\"glyph\":{\"id\":\"3a4e7fee-59bd-4a2b-bcda-1563f310d057\",\"type\":\"Circle\"},\"hover_glyph\":null,\"muted_glyph\":null,\"nonselection_glyph\":{\"id\":\"f785266c-502f-45d4-8a06-f026159f2a66\",\"type\":\"Circle\"},\"selection_glyph\":null,\"view\":{\"id\":\"88effc21-e8bb-4fae-94a4-f636996370fb\",\"type\":\"CDSView\"}},\"id\":\"4d119c52-7727-4950-9092-99c364b9ef49\",\"type\":\"GlyphRenderer\"},{\"attributes\":{},\"id\":\"38f343e6-bc63-4806-a9b8-e1c7e4da6931\",\"type\":\"ResetTool\"},{\"attributes\":{\"source\":{\"id\":\"4ff23514-2e75-4226-b242-e272a9dd1d69\",\"type\":\"ColumnDataSource\"}},\"id\":\"b372fbec-137d-4165-b68d-b812949cb2d4\",\"type\":\"CDSView\"},{\"attributes\":{},\"id\":\"0e25a2c4-8465-4f68-bab9-42831b1db144\",\"type\":\"Selection\"},{\"attributes\":{},\"id\":\"f567b5fc-2452-4d45-967b-d9b7f085c9e5\",\"type\":\"BasicTicker\"},{\"attributes\":{\"bottom_units\":\"screen\",\"fill_alpha\":{\"value\":0.5},\"fill_color\":{\"value\":\"lightgrey\"},\"left_units\":\"screen\",\"level\":\"overlay\",\"line_alpha\":{\"value\":1.0},\"line_color\":{\"value\":\"black\"},\"line_dash\":[4,4],\"line_width\":{\"value\":2},\"plot\":null,\"render_mode\":\"css\",\"right_units\":\"screen\",\"top_units\":\"screen\"},\"id\":\"43b21412-fbeb-4543-976f-65d25a677f22\",\"type\":\"BoxAnnotation\"},{\"attributes\":{\"below\":[{\"id\":\"bc1d2b0e-254f-43ff-b12a-953ddab45c65\",\"type\":\"LinearAxis\"}],\"left\":[{\"id\":\"d194a679-0286-49c5-a85e-573a69fba0dc\",\"type\":\"LinearAxis\"}],\"plot_height\":400,\"renderers\":[{\"id\":\"bc1d2b0e-254f-43ff-b12a-953ddab45c65\",\"type\":\"LinearAxis\"},{\"id\":\"1e97f50b-2b3e-431f-b51d-bbb3db6fd00d\",\"type\":\"Grid\"},{\"id\":\"d194a679-0286-49c5-a85e-573a69fba0dc\",\"type\":\"LinearAxis\"},{\"id\":\"728482f7-ddf1-4225-ad87-4a03351949bb\",\"type\":\"Grid\"},{\"id\":\"43b21412-fbeb-4543-976f-65d25a677f22\",\"type\":\"BoxAnnotation\"},{\"id\":\"ad6afc67-155b-4e81-b527-ae1b295ae13b\",\"type\":\"GlyphRenderer\"},{\"id\":\"4aa19f9a-6bc0-46f8-bb64-eb1de1b73a77\",\"type\":\"GlyphRenderer\"},{\"id\":\"de691949-6f67-4253-8ec4-918a2c77d358\",\"type\":\"GlyphRenderer\"}],\"title\":{\"id\":\"fbea42b4-cd19-4e49-84a9-0f3c0e0a5162\",\"type\":\"Title\"},\"toolbar\":{\"id\":\"336803d3-3827-4496-9b4a-872e6a2956c7\",\"type\":\"Toolbar\"},\"x_range\":{\"id\":\"3e2f5884-5f4e-4a3a-821c-299f1f67ccbb\",\"type\":\"DataRange1d\"},\"x_scale\":{\"id\":\"84d1c3c5-bcd3-42d9-94c2-e7613d56dba6\",\"type\":\"LinearScale\"},\"y_range\":{\"id\":\"24265725-a653-419c-9969-1069fd3405f1\",\"type\":\"DataRange1d\"},\"y_scale\":{\"id\":\"b14fb4c3-9859-4e15-9e92-3db35012b274\",\"type\":\"LinearScale\"}},\"id\":\"867f7471-27fd-4fbb-ab7a-03f7d232d621\",\"subtype\":\"Figure\",\"type\":\"Plot\"},{\"attributes\":{\"fill_alpha\":{\"value\":0.1},\"fill_color\":{\"value\":\"#1f77b4\"},\"line_alpha\":{\"value\":0.1},\"line_color\":{\"value\":\"#1f77b4\"},\"size\":{\"units\":\"screen\",\"value\":5},\"x\":{\"field\":\"x\"},\"y\":{\"field\":\"y\"}},\"id\":\"1aa56b4c-3134-4545-9a3f-48f9ea5e4dd5\",\"type\":\"Circle\"},{\"attributes\":{\"bottom_units\":\"screen\",\"fill_alpha\":{\"value\":0.5},\"fill_color\":{\"value\":\"lightgrey\"},\"left_units\":\"screen\",\"level\":\"overlay\",\"line_alpha\":{\"value\":1.0},\"line_color\":{\"value\":\"black\"},\"line_dash\":[4,4],\"line_width\":{\"value\":2},\"plot\":null,\"render_mode\":\"css\",\"right_units\":\"screen\",\"top_units\":\"screen\"},\"id\":\"2f39dc82-f84d-4af3-af7d-aafca61256dd\",\"type\":\"BoxAnnotation\"},{\"attributes\":{\"callback\":null},\"id\":\"24265725-a653-419c-9969-1069fd3405f1\",\"type\":\"DataRange1d\"},{\"attributes\":{\"callback\":null},\"id\":\"439a8892-8dcf-49c6-9ba3-f6e7af931806\",\"type\":\"DataRange1d\"},{\"attributes\":{\"below\":[{\"id\":\"9baa1ac4-3efe-4490-abf6-666d85724855\",\"type\":\"LinearAxis\"}],\"left\":[{\"id\":\"2919fd57-95c7-4499-9b1d-a821502f0a37\",\"type\":\"LinearAxis\"}],\"plot_height\":400,\"renderers\":[{\"id\":\"9baa1ac4-3efe-4490-abf6-666d85724855\",\"type\":\"LinearAxis\"},{\"id\":\"d2f80368-da8f-4fbc-bcb3-b7a1ac59ca08\",\"type\":\"Grid\"},{\"id\":\"2919fd57-95c7-4499-9b1d-a821502f0a37\",\"type\":\"LinearAxis\"},{\"id\":\"1a7dce07-99b6-4b07-984b-1686facf9f4e\",\"type\":\"Grid\"},{\"id\":\"2f39dc82-f84d-4af3-af7d-aafca61256dd\",\"type\":\"BoxAnnotation\"},{\"id\":\"335ca140-6ae2-497f-96a2-2b42e43e1f9e\",\"type\":\"GlyphRenderer\"},{\"id\":\"4d119c52-7727-4950-9092-99c364b9ef49\",\"type\":\"GlyphRenderer\"},{\"id\":\"bff18a3b-3175-4507-bf8c-c50f69a62b35\",\"type\":\"GlyphRenderer\"}],\"title\":{\"id\":\"fbb75f97-8fed-49f5-a84e-701efc3c074c\",\"type\":\"Title\"},\"toolbar\":{\"id\":\"91639fd5-6d12-4456-a1e7-a619ace326a3\",\"type\":\"Toolbar\"},\"x_range\":{\"id\":\"439a8892-8dcf-49c6-9ba3-f6e7af931806\",\"type\":\"DataRange1d\"},\"x_scale\":{\"id\":\"0abad244-4b9b-4dff-9f54-e1c43514f34d\",\"type\":\"LinearScale\"},\"y_range\":{\"id\":\"3a301a27-4aca-44bf-b913-4183366f6d52\",\"type\":\"DataRange1d\"},\"y_scale\":{\"id\":\"673d169c-1163-4c3d-8241-0eb048ce289e\",\"type\":\"LinearScale\"}},\"id\":\"3f44cd14-925d-4fa0-b9cc-d102eca6df7c\",\"subtype\":\"Figure\",\"type\":\"Plot\"},{\"attributes\":{},\"id\":\"0abad244-4b9b-4dff-9f54-e1c43514f34d\",\"type\":\"LinearScale\"},{\"attributes\":{\"callback\":null,\"data\":{\"x\":{\"__ndarray__\":\"2xfQlUF5BcB7HBC3HrkFwIEB8LRZHgfA4au3ELT4BcArfKiOKNQFwPou3tM6PQLAoXRMIi+RBsCf3sb9CAMFwJ6OMgWKGgfABFbgrghkBcBfEdbqXQ0EwLQJll635wTAl1U1L6pMBsCBXT7kNc0JwFSZcvz5JQXAaz99FCoSA8CXoJoE7/oEwH0CKtTDLwXAjJitL7aXAcDNpwaP4rIEwNoWbAv4ewLA3FEHi4tYBMC+fGGZE7oJwGkBnqfObALAf7QIOnDZAsDwvzLoNhAEwHyXS26gwAPAttch08Z/BMCLs/ecWh4FwE2sYpASEAXA/UeKlyu1BMDuJH6g1kcDwIFw3yJcLgXA5ExEjPvGBMAEVuCuCGQFwK+yoZ2d7wbATKUCyHcABcAEVuCuCGQFwJfrulPQ2gfA4rpHR/u4BMCjQtiWPikGwH7uJAtU0QbAu2xt2IL8B8BVrVgtfj4DwNMgpJywqwHA3Crpq665BcDDoH1E80wEwNkIQF/6uAbAHTVVoWtXBMB1upzHnKEFwA==\",\"dtype\":\"float64\",\"shape\":[50]},\"y\":{\"__ndarray__\":\"DAnjXSLn1D9+cojtCbTFvxRbwHqKlMG/sEpJ9nXp07+t4vYhBV/VP3IdOgPW7ec/5n+0Hc0Etb9ZiGys18/FP6rl9jj6Q+K/bV5fwiVQu7+J6VrRptzkP4aQ1SmBCZY/lteXK5cmzb/tKP933hrgv7iauoCn+vI/yp2wIR2E9T8azrJlyi3qPyFyvDO8bNQ/a8Vxf8Qi7D+GQSNVuKfgPyq5dpiqdtk/Icnd8nop3D+sPF6EdSDCPyzV18SIA7s//f56EWj1n7/yQB0gmczBv1F8WaFKpsE/E/rU9dT61z9RL8+ZP2/UPwBtKqJnVMi/aCBSKi1Eyb8hPKKm0sHaP7ExxDdMPeo/C8nal7CZ8T9tXl/CJVC7v/wbnD3twrM/eEPs2edq4z9tXl/CJVC7v+lPb7NqvN6/IBvJPjE3zj8OgcqbCVnRP3lJm3gI2u2/vgnrmEtl1b8aZ0MT0RPJP+mKLrshVdw/9jIy1C8Qz7/JYJhR7lTgP4+elW/YO8y/0sTDbNDC4j+m5cHoWXG9Pw==\",\"dtype\":\"float64\",\"shape\":[50]}},\"selected\":{\"id\":\"1edc4bd9-6b3d-4ad0-87bc-b4055d2e084a\",\"type\":\"Selection\"},\"selection_policy\":{\"id\":\"116fb1c8-aa83-473d-8c49-b92cc5328e0f\",\"type\":\"UnionRenderers\"}},\"id\":\"4ff23514-2e75-4226-b242-e272a9dd1d69\",\"type\":\"ColumnDataSource\"},{\"attributes\":{},\"id\":\"116fb1c8-aa83-473d-8c49-b92cc5328e0f\",\"type\":\"UnionRenderers\"},{\"attributes\":{\"callback\":null},\"id\":\"3a301a27-4aca-44bf-b913-4183366f6d52\",\"type\":\"DataRange1d\"},{\"attributes\":{\"data_source\":{\"id\":\"8a130ac0-32d3-442f-889c-6a93c64f8c25\",\"type\":\"ColumnDataSource\"},\"glyph\":{\"id\":\"fb601a8a-4c70-4ad8-9b07-9b5c1890b547\",\"type\":\"Circle\"},\"hover_glyph\":null,\"muted_glyph\":null,\"nonselection_glyph\":{\"id\":\"7ecb22c9-fcc9-4754-897e-ff1f10f79884\",\"type\":\"Circle\"},\"selection_glyph\":null,\"view\":{\"id\":\"1316af0a-d60b-4b14-ba6b-345fb82234b8\",\"type\":\"CDSView\"}},\"id\":\"de691949-6f67-4253-8ec4-918a2c77d358\",\"type\":\"GlyphRenderer\"},{\"attributes\":{},\"id\":\"23980e21-2dcf-4288-bef1-be22bdb03449\",\"type\":\"Selection\"},{\"attributes\":{},\"id\":\"f9f7f6c4-fdd2-499e-8189-fd48bcbc9f92\",\"type\":\"BasicTicker\"},{\"attributes\":{\"plot\":{\"id\":\"3f44cd14-925d-4fa0-b9cc-d102eca6df7c\",\"subtype\":\"Figure\",\"type\":\"Plot\"},\"ticker\":{\"id\":\"f567b5fc-2452-4d45-967b-d9b7f085c9e5\",\"type\":\"BasicTicker\"}},\"id\":\"d2f80368-da8f-4fbc-bcb3-b7a1ac59ca08\",\"type\":\"Grid\"},{\"attributes\":{\"fill_alpha\":{\"value\":0.7},\"fill_color\":{\"value\":\"#2ca02c\"},\"line_alpha\":{\"value\":0.7},\"line_color\":{\"value\":\"#2ca02c\"},\"size\":{\"units\":\"screen\",\"value\":5},\"x\":{\"field\":\"x\"},\"y\":{\"field\":\"y\"}},\"id\":\"27bee27e-a03a-4a38-8377-72576800ef53\",\"type\":\"Circle\"},{\"attributes\":{},\"id\":\"fb55ea16-20c5-4436-9f51-5b01f1f9a660\",\"type\":\"UnionRenderers\"},{\"attributes\":{},\"id\":\"7a0c3354-4285-4be9-8aa5-f07be0a67e85\",\"type\":\"BasicTickFormatter\"},{\"attributes\":{\"source\":{\"id\":\"c8710cc9-08fd-4777-a3af-38da66bc9289\",\"type\":\"ColumnDataSource\"}},\"id\":\"bab4f9a8-ef57-4599-a1aa-859796c7ae7e\",\"type\":\"CDSView\"},{\"attributes\":{\"callback\":null,\"data\":{\"x\":{\"__ndarray__\":\"2xfQlUF5BcB7HBC3HrkFwIEB8LRZHgfA4au3ELT4BcArfKiOKNQFwPou3tM6PQLAoXRMIi+RBsCf3sb9CAMFwJ6OMgWKGgfABFbgrghkBcBfEdbqXQ0EwLQJll635wTAl1U1L6pMBsCBXT7kNc0JwFSZcvz5JQXAaz99FCoSA8CXoJoE7/oEwH0CKtTDLwXAjJitL7aXAcDNpwaP4rIEwNoWbAv4ewLA3FEHi4tYBMC+fGGZE7oJwGkBnqfObALAf7QIOnDZAsDwvzLoNhAEwHyXS26gwAPAttch08Z/BMCLs/ecWh4FwE2sYpASEAXA/UeKlyu1BMDuJH6g1kcDwIFw3yJcLgXA5ExEjPvGBMAEVuCuCGQFwK+yoZ2d7wbATKUCyHcABcAEVuCuCGQFwJfrulPQ2gfA4rpHR/u4BMCjQtiWPikGwH7uJAtU0QbAu2xt2IL8B8BVrVgtfj4DwNMgpJywqwHA3Crpq665BcDDoH1E80wEwNkIQF/6uAbAHTVVoWtXBMB1upzHnKEFwA==\",\"dtype\":\"float64\",\"shape\":[50]},\"y\":{\"__ndarray__\":\"DAnjXSLn1D9+cojtCbTFvxRbwHqKlMG/sEpJ9nXp07+t4vYhBV/VP3IdOgPW7ec/5n+0Hc0Etb9ZiGys18/FP6rl9jj6Q+K/bV5fwiVQu7+J6VrRptzkP4aQ1SmBCZY/lteXK5cmzb/tKP933hrgv7iauoCn+vI/yp2wIR2E9T8azrJlyi3qPyFyvDO8bNQ/a8Vxf8Qi7D+GQSNVuKfgPyq5dpiqdtk/Icnd8nop3D+sPF6EdSDCPyzV18SIA7s//f56EWj1n7/yQB0gmczBv1F8WaFKpsE/E/rU9dT61z9RL8+ZP2/UPwBtKqJnVMi/aCBSKi1Eyb8hPKKm0sHaP7ExxDdMPeo/C8nal7CZ8T9tXl/CJVC7v/wbnD3twrM/eEPs2edq4z9tXl/CJVC7v+lPb7NqvN6/IBvJPjE3zj8OgcqbCVnRP3lJm3gI2u2/vgnrmEtl1b8aZ0MT0RPJP+mKLrshVdw/9jIy1C8Qz7/JYJhR7lTgP4+elW/YO8y/0sTDbNDC4j+m5cHoWXG9Pw==\",\"dtype\":\"float64\",\"shape\":[50]}},\"selected\":{\"id\":\"23980e21-2dcf-4288-bef1-be22bdb03449\",\"type\":\"Selection\"},\"selection_policy\":{\"id\":\"80ce78b3-c7c6-4ae0-a46a-9b452923450b\",\"type\":\"UnionRenderers\"}},\"id\":\"e75f0772-be2d-4546-9291-580ff8b20a5a\",\"type\":\"ColumnDataSource\"},{\"attributes\":{\"data_source\":{\"id\":\"fa0299c8-14f5-426d-8f91-104b8581c95c\",\"type\":\"ColumnDataSource\"},\"glyph\":{\"id\":\"27bee27e-a03a-4a38-8377-72576800ef53\",\"type\":\"Circle\"},\"hover_glyph\":null,\"muted_glyph\":null,\"nonselection_glyph\":{\"id\":\"9a67c842-c767-4d80-8a8a-cfae08eb7c31\",\"type\":\"Circle\"},\"selection_glyph\":null,\"view\":{\"id\":\"74e22129-9db1-49a6-a504-aca940030d48\",\"type\":\"CDSView\"}},\"id\":\"bff18a3b-3175-4507-bf8c-c50f69a62b35\",\"type\":\"GlyphRenderer\"},{\"attributes\":{\"dimension\":1,\"plot\":{\"id\":\"3f44cd14-925d-4fa0-b9cc-d102eca6df7c\",\"subtype\":\"Figure\",\"type\":\"Plot\"},\"ticker\":{\"id\":\"f9f7f6c4-fdd2-499e-8189-fd48bcbc9f92\",\"type\":\"BasicTicker\"}},\"id\":\"1a7dce07-99b6-4b07-984b-1686facf9f4e\",\"type\":\"Grid\"},{\"attributes\":{},\"id\":\"ef7898f8-b1c5-41f9-a676-ea479d839dde\",\"type\":\"UnionRenderers\"},{\"attributes\":{},\"id\":\"4ab1674c-68e6-4784-a090-e728569fe293\",\"type\":\"BasicTicker\"},{\"attributes\":{\"data_source\":{\"id\":\"c8710cc9-08fd-4777-a3af-38da66bc9289\",\"type\":\"ColumnDataSource\"},\"glyph\":{\"id\":\"483f670f-7b56-4558-b819-e8789dbf5e76\",\"type\":\"Circle\"},\"hover_glyph\":null,\"muted_glyph\":null,\"nonselection_glyph\":{\"id\":\"1aa56b4c-3134-4545-9a3f-48f9ea5e4dd5\",\"type\":\"Circle\"},\"selection_glyph\":null,\"view\":{\"id\":\"bab4f9a8-ef57-4599-a1aa-859796c7ae7e\",\"type\":\"CDSView\"}},\"id\":\"4aa19f9a-6bc0-46f8-bb64-eb1de1b73a77\",\"type\":\"GlyphRenderer\"},{\"attributes\":{},\"id\":\"498cafdf-c298-4bc0-bd5d-ee3f961b3eb4\",\"type\":\"UnionRenderers\"},{\"attributes\":{\"source\":{\"id\":\"fa0299c8-14f5-426d-8f91-104b8581c95c\",\"type\":\"ColumnDataSource\"}},\"id\":\"74e22129-9db1-49a6-a504-aca940030d48\",\"type\":\"CDSView\"},{\"attributes\":{\"plot\":null,\"text\":\"K-means clusters of the iris data\"},\"id\":\"fbb75f97-8fed-49f5-a84e-701efc3c074c\",\"type\":\"Title\"},{\"attributes\":{},\"id\":\"4492fac4-f613-4451-aab7-48496d2ff305\",\"type\":\"WheelZoomTool\"},{\"attributes\":{\"data_source\":{\"id\":\"e75f0772-be2d-4546-9291-580ff8b20a5a\",\"type\":\"ColumnDataSource\"},\"glyph\":{\"id\":\"4b4839dd-e4e0-4d87-a7b6-92ece97ad0d6\",\"type\":\"Circle\"},\"hover_glyph\":null,\"muted_glyph\":null,\"nonselection_glyph\":{\"id\":\"9a572e03-b38b-4e68-afab-c275716a3879\",\"type\":\"Circle\"},\"selection_glyph\":null,\"view\":{\"id\":\"2fd11194-8b7b-4e0e-8c9b-787f9377025d\",\"type\":\"CDSView\"}},\"id\":\"335ca140-6ae2-497f-96a2-2b42e43e1f9e\",\"type\":\"GlyphRenderer\"},{\"attributes\":{},\"id\":\"9a48fc94-9111-4214-bc46-192585353414\",\"type\":\"PanTool\"},{\"attributes\":{\"axis_label\":\"PCA component 2\",\"formatter\":{\"id\":\"d47748e7-f122-4fd0-9c90-4c925509c26d\",\"type\":\"BasicTickFormatter\"},\"plot\":{\"id\":\"3f44cd14-925d-4fa0-b9cc-d102eca6df7c\",\"subtype\":\"Figure\",\"type\":\"Plot\"},\"ticker\":{\"id\":\"f9f7f6c4-fdd2-499e-8189-fd48bcbc9f92\",\"type\":\"BasicTicker\"}},\"id\":\"2919fd57-95c7-4499-9b1d-a821502f0a37\",\"type\":\"LinearAxis\"},{\"attributes\":{\"fill_alpha\":{\"value\":0.1},\"fill_color\":{\"value\":\"#1f77b4\"},\"line_alpha\":{\"value\":0.1},\"line_color\":{\"value\":\"#1f77b4\"},\"size\":{\"units\":\"screen\",\"value\":5},\"x\":{\"field\":\"x\"},\"y\":{\"field\":\"y\"}},\"id\":\"9a67c842-c767-4d80-8a8a-cfae08eb7c31\",\"type\":\"Circle\"},{\"attributes\":{\"source\":{\"id\":\"8a130ac0-32d3-442f-889c-6a93c64f8c25\",\"type\":\"ColumnDataSource\"}},\"id\":\"1316af0a-d60b-4b14-ba6b-345fb82234b8\",\"type\":\"CDSView\"},{\"attributes\":{},\"id\":\"533fd014-a0a3-49bd-af03-2678e8680972\",\"type\":\"UnionRenderers\"},{\"attributes\":{},\"id\":\"9c292b49-d05b-4f63-beb6-ab3ea0d02991\",\"type\":\"HelpTool\"},{\"attributes\":{\"callback\":null},\"id\":\"3e2f5884-5f4e-4a3a-821c-299f1f67ccbb\",\"type\":\"DataRange1d\"},{\"attributes\":{\"source\":{\"id\":\"a5d26022-fe44-48d1-9190-568ffd396eeb\",\"type\":\"ColumnDataSource\"}},\"id\":\"88effc21-e8bb-4fae-94a4-f636996370fb\",\"type\":\"CDSView\"},{\"attributes\":{},\"id\":\"84d1c3c5-bcd3-42d9-94c2-e7613d56dba6\",\"type\":\"LinearScale\"},{\"attributes\":{},\"id\":\"64631144-c196-475b-aeed-df83bfd8be61\",\"type\":\"PanTool\"},{\"attributes\":{},\"id\":\"80ce78b3-c7c6-4ae0-a46a-9b452923450b\",\"type\":\"UnionRenderers\"},{\"attributes\":{\"callback\":null,\"data\":{\"x\":{\"__ndarray__\":\"GRw7E/pABED/2ZQyCqD2P+CJeHuP7gRAbC6yQHWI/z9krPTpTcwCQGQDPmHPLAtAVV13nMme4D9wQ5oWv3QHQEThGJywjgJAdbjWwlZYB0Blc1gZSZf6P4H4RvFi1vw/C60+J7JSAUC9huk5dYP1P4MuXz5BXfk/uR37ZtR5/j9yA559HzD/P1lUyNL96AtAYKn7yIRbDkD2Cn9+9cX0Py6ztfTibANABYN1Jmgr8z9Ur/jmfv4LQBWjg5/jM/Y/ZQASwvI0AkDJCIJ03ukEQKahdJU7H/Q/sJBvN5Wm9D+fuyPemvsAQGQmil27GQNAUYS6uEm6BkDiG+2X1tsJQPzQyZ8YRQFAWROpwfIW9z/3d5znZ3n8P9zDHV63nAhAi1R/3u4oAUDVOu2LUXr+P2UQE7Kfs/I/0XM1j3ncAEA5pYd/sYMCQKqS6Ntbwv4//9mUMgqg9j8+yJRWr4EEQNtVqsjpWgNAp738nrEa/z/kCJNEHmn4P36uGzuIOfw/SMX3mxJt/j9Vcy+OEjz2Pw==\",\"dtype\":\"float64\",\"shape\":[50]},\"y\":{\"__ndarray__\":\"pxSnGL5AiL8Uaxk7yWXivwpdvYpE4tU/hYeccyAvx78RzxQqoXGlv+cw/49mguE/VBzoycYP878EMFpJWI3WPzG2LFkfbs+/ebYyzOD46D+AiGpEHfvOP7KcK0P0qsu/R8RH6E2Oyz8g0mcpZdjov6jS2N0AQuG/thZq4Otqvj+1U2a4mNqkPy219n2lvvI/PughzIA10D+IHyXmOVrov2eTECEyHdg/D5Z9Iedg47+So5LHxjvdP00/WPevHcq/V1FDcDRW1T9trNNdJN7hP0nbtwz27ca/7yQJmQvOvb/mw6v4Sv3Kvwbx6Ffqmd0/LHCYvQPb1z+LZ46cqu31P5bx+EwX8su/Y9HdpBRowr83cqvl/wvgv5WbhkXI8eU/LcUpF7HHwT9NIQXZrpmoP5R0aPxqDsW/+KbQe13G1z/7PQ8Rul/HP0KCOLt/Mdo/FGsZO8ll4r9TmWn1kKnRP/f1qMebbNM/Eui61Dj9xz/6VJNxVwDYv/yW0lnVGbQ/tYIXPBmqvT+mjBfb0BrSvw==\",\"dtype\":\"float64\",\"shape\":[50]}},\"selected\":{\"id\":\"cbbdf55f-8a1a-4e97-b7ec-19ea459e7f4b\",\"type\":\"Selection\"},\"selection_policy\":{\"id\":\"fb55ea16-20c5-4436-9f51-5b01f1f9a660\",\"type\":\"UnionRenderers\"}},\"id\":\"c8710cc9-08fd-4777-a3af-38da66bc9289\",\"type\":\"ColumnDataSource\"},{\"attributes\":{\"overlay\":{\"id\":\"43b21412-fbeb-4543-976f-65d25a677f22\",\"type\":\"BoxAnnotation\"}},\"id\":\"60cf68b0-f599-443f-ba9f-c4a48d6e7191\",\"type\":\"BoxZoomTool\"},{\"attributes\":{\"fill_alpha\":{\"value\":0.7},\"fill_color\":{\"value\":\"#1f77b4\"},\"line_alpha\":{\"value\":0.7},\"line_color\":{\"value\":\"#1f77b4\"},\"size\":{\"units\":\"screen\",\"value\":5},\"x\":{\"field\":\"x\"},\"y\":{\"field\":\"y\"}},\"id\":\"1ef45385-bca2-44eb-b383-59475eb1b44b\",\"type\":\"Circle\"},{\"attributes\":{},\"id\":\"edaa02b9-4966-4360-9b84-5f025590c6c1\",\"type\":\"Selection\"},{\"attributes\":{},\"id\":\"312ad333-257a-438e-a9be-6cfcd6bb4c03\",\"type\":\"BasicTicker\"},{\"attributes\":{},\"id\":\"a449dac3-84b6-4f9b-95ac-86f9b322ecdc\",\"type\":\"BasicTickFormatter\"},{\"attributes\":{\"axis_label\":\"PCA component 1\",\"formatter\":{\"id\":\"a449dac3-84b6-4f9b-95ac-86f9b322ecdc\",\"type\":\"BasicTickFormatter\"},\"plot\":{\"id\":\"867f7471-27fd-4fbb-ab7a-03f7d232d621\",\"subtype\":\"Figure\",\"type\":\"Plot\"},\"ticker\":{\"id\":\"312ad333-257a-438e-a9be-6cfcd6bb4c03\",\"type\":\"BasicTicker\"}},\"id\":\"bc1d2b0e-254f-43ff-b12a-953ddab45c65\",\"type\":\"LinearAxis\"},{\"attributes\":{\"fill_alpha\":{\"value\":0.7},\"fill_color\":{\"value\":\"#1f77b4\"},\"line_alpha\":{\"value\":0.7},\"line_color\":{\"value\":\"#1f77b4\"},\"size\":{\"units\":\"screen\",\"value\":5},\"x\":{\"field\":\"x\"},\"y\":{\"field\":\"y\"}},\"id\":\"4b4839dd-e4e0-4d87-a7b6-92ece97ad0d6\",\"type\":\"Circle\"},{\"attributes\":{\"fill_alpha\":{\"value\":0.7},\"fill_color\":{\"value\":\"#ff7f0e\"},\"line_alpha\":{\"value\":0.7},\"line_color\":{\"value\":\"#ff7f0e\"},\"size\":{\"units\":\"screen\",\"value\":5},\"x\":{\"field\":\"x\"},\"y\":{\"field\":\"y\"}},\"id\":\"3a4e7fee-59bd-4a2b-bcda-1563f310d057\",\"type\":\"Circle\"},{\"attributes\":{},\"id\":\"6e449d53-edf8-40a1-84a1-f1b3cac0356a\",\"type\":\"SaveTool\"},{\"attributes\":{},\"id\":\"ad439b2b-5391-41d1-ab71-ff190977713e\",\"type\":\"WheelZoomTool\"},{\"attributes\":{\"plot\":{\"id\":\"867f7471-27fd-4fbb-ab7a-03f7d232d621\",\"subtype\":\"Figure\",\"type\":\"Plot\"},\"ticker\":{\"id\":\"312ad333-257a-438e-a9be-6cfcd6bb4c03\",\"type\":\"BasicTicker\"}},\"id\":\"1e97f50b-2b3e-431f-b51d-bbb3db6fd00d\",\"type\":\"Grid\"},{\"attributes\":{},\"id\":\"4e549576-dbca-42d3-8fd6-27dfab05e89f\",\"type\":\"Selection\"},{\"attributes\":{\"fill_alpha\":{\"value\":0.7},\"fill_color\":{\"value\":\"#ff7f0e\"},\"line_alpha\":{\"value\":0.7},\"line_color\":{\"value\":\"#ff7f0e\"},\"size\":{\"units\":\"screen\",\"value\":5},\"x\":{\"field\":\"x\"},\"y\":{\"field\":\"y\"}},\"id\":\"483f670f-7b56-4558-b819-e8789dbf5e76\",\"type\":\"Circle\"},{\"attributes\":{\"active_drag\":\"auto\",\"active_inspect\":\"auto\",\"active_multi\":null,\"active_scroll\":\"auto\",\"active_tap\":\"auto\",\"tools\":[{\"id\":\"64631144-c196-475b-aeed-df83bfd8be61\",\"type\":\"PanTool\"},{\"id\":\"ad439b2b-5391-41d1-ab71-ff190977713e\",\"type\":\"WheelZoomTool\"},{\"id\":\"f4f1d5fd-c469-47d9-a625-48961c8817cb\",\"type\":\"BoxZoomTool\"},{\"id\":\"6e449d53-edf8-40a1-84a1-f1b3cac0356a\",\"type\":\"SaveTool\"},{\"id\":\"0c6f2bdf-0465-4601-9f6f-07b164f9c4c7\",\"type\":\"ResetTool\"},{\"id\":\"9a429c59-1a93-4a96-b2b0-46a0b6067dd0\",\"type\":\"HelpTool\"}]},\"id\":\"91639fd5-6d12-4456-a1e7-a619ace326a3\",\"type\":\"Toolbar\"},{\"attributes\":{},\"id\":\"0c6f2bdf-0465-4601-9f6f-07b164f9c4c7\",\"type\":\"ResetTool\"},{\"attributes\":{\"fill_alpha\":{\"value\":0.1},\"fill_color\":{\"value\":\"#1f77b4\"},\"line_alpha\":{\"value\":0.1},\"line_color\":{\"value\":\"#1f77b4\"},\"size\":{\"units\":\"screen\",\"value\":5},\"x\":{\"field\":\"x\"},\"y\":{\"field\":\"y\"}},\"id\":\"f785266c-502f-45d4-8a06-f026159f2a66\",\"type\":\"Circle\"},{\"attributes\":{\"fill_alpha\":{\"value\":0.1},\"fill_color\":{\"value\":\"#1f77b4\"},\"line_alpha\":{\"value\":0.1},\"line_color\":{\"value\":\"#1f77b4\"},\"size\":{\"units\":\"screen\",\"value\":5},\"x\":{\"field\":\"x\"},\"y\":{\"field\":\"y\"}},\"id\":\"9a572e03-b38b-4e68-afab-c275716a3879\",\"type\":\"Circle\"},{\"attributes\":{},\"id\":\"29f36d60-2422-4d04-b946-d84304b78645\",\"type\":\"SaveTool\"},{\"attributes\":{},\"id\":\"bc2d57f7-a6bc-427c-903e-e7d84b42b961\",\"type\":\"BasicTickFormatter\"},{\"attributes\":{\"axis_label\":\"PCA component 1\",\"formatter\":{\"id\":\"7a0c3354-4285-4be9-8aa5-f07be0a67e85\",\"type\":\"BasicTickFormatter\"},\"plot\":{\"id\":\"3f44cd14-925d-4fa0-b9cc-d102eca6df7c\",\"subtype\":\"Figure\",\"type\":\"Plot\"},\"ticker\":{\"id\":\"f567b5fc-2452-4d45-967b-d9b7f085c9e5\",\"type\":\"BasicTicker\"}},\"id\":\"9baa1ac4-3efe-4490-abf6-666d85724855\",\"type\":\"LinearAxis\"}],\"root_ids\":[\"30343398-8ada-4565-ac52-8ee8f70ecfef\"]},\"title\":\"Bokeh Application\",\"version\":\"0.13.0\"}};\n",
       "  var render_items = [{\"docid\":\"e91b8a9e-1aa5-470c-875b-5b87495a1dc3\",\"roots\":{\"30343398-8ada-4565-ac52-8ee8f70ecfef\":\"c43fbfa6-d886-4a0b-9d76-97cffccf2ae5\"}}];\n",
       "  root.Bokeh.embed.embed_items_notebook(docs_json, render_items);\n",
       "\n",
       "  }\n",
       "  if (root.Bokeh !== undefined) {\n",
       "    embed_document(root);\n",
       "  } else {\n",
       "    var attempts = 0;\n",
       "    var timer = setInterval(function(root) {\n",
       "      if (root.Bokeh !== undefined) {\n",
       "        embed_document(root);\n",
       "        clearInterval(timer);\n",
       "      }\n",
       "      attempts++;\n",
       "      if (attempts > 100) {\n",
       "        console.log(\"Bokeh: ERROR: Unable to run BokehJS code because BokehJS library is missing\")\n",
       "        clearInterval(timer);\n",
       "      }\n",
       "    }, 10, root)\n",
       "  }\n",
       "})(window);"
      ],
      "application/vnd.bokehjs_exec.v0+json": ""
     },
     "metadata": {
      "application/vnd.bokehjs_exec.v0+json": {
       "id": "30343398-8ada-4565-ac52-8ee8f70ecfef"
      }
     },
     "output_type": "display_data"
    }
   ],
   "source": [
    "from bokeh.layouts import row\n",
    "\n",
    "plot_row = row(children = [p_clusters, p_labels])\n",
    "\n",
    "show(plot_row)"
   ]
  },
  {
   "cell_type": "markdown",
   "metadata": {
    "slideshow": {
     "slide_type": "slide"
    }
   },
   "source": [
    "we can also plot on a single figure and jazz things up a bit "
   ]
  },
  {
   "cell_type": "code",
   "execution_count": 229,
   "metadata": {
    "slideshow": {
     "slide_type": "fragment"
    }
   },
   "outputs": [],
   "source": [
    "from bokeh.models.sources import ColumnDataSource\n",
    "from bokeh.models import CustomJS\n",
    "from bokeh import events\n",
    "\n",
    "def jazzy_plot(data, \n",
    "               clusters,\n",
    "               labels,\n",
    "               label_names,\n",
    "               palette = Category10,\n",
    "               plot_title = \"K-means clusters of the iris data\",\n",
    "               x_label = \"PCA component 1\",\n",
    "               y_label = \"PCA component 2\",\n",
    "               plot_dims = [600,400]\n",
    "              ):\n",
    "    \n",
    "    #tooltips for plot \n",
    "    t_tips= [(\"PC 1\", \"$x\"),\n",
    "                (\"PC 2\", \"$y\"),\n",
    "                (\"cluster\", \"@cluster\"),\n",
    "                ('label', '@label'),\n",
    "                ('name', '@label_name')\n",
    "               ]\n",
    "    # create the figure\n",
    "    p = figure(title = plot_title,\n",
    "               x_axis_label = x_label,\n",
    "               y_axis_label = y_label,\n",
    "               plot_width = plot_dims[0], \n",
    "               plot_height = plot_dims[1],\n",
    "               tooltips = t_tips\n",
    "              )\n",
    "\n",
    "    # plotting by category is a little difficult as bokeh 0.13.0 is \n",
    "    # still under development\n",
    "\n",
    "    #enables us to cycle through the colours in the palette \n",
    "    n_cat = np.max(clusters) + 1\n",
    "    colour_cycler = it.cycle(palette[n_cat])\n",
    "\n",
    "    #plot each category in a differen colour     \n",
    "    for cluster, colour, name in zip(np.unique(clusters), colour_cycler, np.unique(label_names)):\n",
    "        \n",
    "        #find where clusters and labels agree\n",
    "        correct_mask = (clusters == cluster) & (labels == cluster) \n",
    "        incorrect_mask = (clusters == cluster) & (labels != cluster)\n",
    "        \n",
    "        # create a datasource \n",
    "        correct_src = ColumnDataSource({\"PCA_1\" : data[correct_mask,0],\n",
    "                                        \"PCA_2\" : data[correct_mask,1],\n",
    "                                        \"cluster\" : clusters[correct_mask],\n",
    "                                        \"label\": labels[correct_mask],\n",
    "                                        \"label_name\" : label_names[correct_mask]\n",
    "                                       })\n",
    "        \n",
    "        incorrect_src = ColumnDataSource({\"PCA_1\" : data[incorrect_mask,0],\n",
    "                                          \"PCA_2\" : data[incorrect_mask,1],\n",
    "                                          \"cluster\" : clusters[incorrect_mask],\n",
    "                                          \"label\": labels[incorrect_mask],\n",
    "                                          \"label_name\" : label_names[incorrect_mask]\n",
    "                                        })\n",
    "   \n",
    "        #plot circle if labels and clusters agree\n",
    "        p.circle(\"PCA_1\",\n",
    "                 \"PCA_2\",\n",
    "                 size=5, \n",
    "                 alpha=0.7,\n",
    "                 color = colour,\n",
    "                 source = correct_src,\n",
    "                 legend = \"{} correct\".format(name)\n",
    "                )\n",
    "        \n",
    "        #plot square if labels and cluster don't agree\n",
    "        p.square(\"PCA_1\",\n",
    "                 \"PCA_2\",\n",
    "                 size=5, \n",
    "                 alpha=0.7,\n",
    "                 color = colour,\n",
    "                 source = incorrect_src,\n",
    "                 legend = \"{} incorrect\".format(name)\n",
    "                )\n",
    "    \n",
    "    #set up the legend\n",
    "    p.legend.location = \"bottom_right\"\n",
    "    p.legend.orientation = \"vertical\"\n",
    "    p.legend.click_policy = \"hide\"\n",
    "\n",
    "    #make a event to get rid of the legend\n",
    "    def show_hide_legend(legend = p.legend[0]):\n",
    "        legend.visible = not legend.visible\n",
    "    \n",
    "    #turn into javascript and add to our plot\n",
    "    p.js_on_event(events.DoubleTap, CustomJS.from_py_func(show_hide_legend))\n",
    "        \n",
    "        \n",
    "    return p\n"
   ]
  },
  {
   "cell_type": "markdown",
   "metadata": {
    "slideshow": {
     "slide_type": "subslide"
    }
   },
   "source": [
    "### What does this look like?"
   ]
  },
  {
   "cell_type": "code",
   "execution_count": 199,
   "metadata": {
    "slideshow": {
     "slide_type": "fragment"
    }
   },
   "outputs": [],
   "source": [
    "# make some label names\n",
    "names = {0 : \"Setosa\",\n",
    "         1 : \"Versicolour\",\n",
    "         2 : \"Virginica\"}\n",
    "\n",
    "iris_names = np.asarray([names[label] for label in iris_labels]) # array for boolean"
   ]
  },
  {
   "cell_type": "code",
   "execution_count": 231,
   "metadata": {
    "slideshow": {
     "slide_type": "fragment"
    }
   },
   "outputs": [
    {
     "data": {
      "text/html": [
       "\n",
       "\n",
       "\n",
       "\n",
       "\n",
       "\n",
       "  <div class=\"bk-root\" id=\"7f6a7871-0f47-4c79-b59e-f49960157f8d\"></div>\n"
      ]
     },
     "metadata": {},
     "output_type": "display_data"
    },
    {
     "data": {
      "application/javascript": [
       "(function(root) {\n",
       "  function embed_document(root) {\n",
       "    \n",
       "  var docs_json = {\"774d54db-ea6e-42ee-bdb2-dd6e9492c744\":{\"roots\":{\"references\":[{\"attributes\":{\"source\":{\"id\":\"e1cb0ccc-5a70-4065-9975-cb5509e67daa\",\"type\":\"ColumnDataSource\"}},\"id\":\"2600db54-8413-4ee8-abeb-6b392539da13\",\"type\":\"CDSView\"},{\"attributes\":{},\"id\":\"84f0ae29-83db-4898-bc15-c9bddc115566\",\"type\":\"BasicTickFormatter\"},{\"attributes\":{\"callback\":null,\"data\":{\"PCA_1\":{\"__ndarray__\":\"2xfQlUF5BcB7HBC3HrkFwIEB8LRZHgfA4au3ELT4BcArfKiOKNQFwPou3tM6PQLAoXRMIi+RBsCf3sb9CAMFwJ6OMgWKGgfABFbgrghkBcBfEdbqXQ0EwLQJll635wTAl1U1L6pMBsCBXT7kNc0JwFSZcvz5JQXAaz99FCoSA8CXoJoE7/oEwH0CKtTDLwXAjJitL7aXAcDNpwaP4rIEwNoWbAv4ewLA3FEHi4tYBMC+fGGZE7oJwGkBnqfObALAf7QIOnDZAsDwvzLoNhAEwHyXS26gwAPAttch08Z/BMCLs/ecWh4FwE2sYpASEAXA/UeKlyu1BMDuJH6g1kcDwIFw3yJcLgXA5ExEjPvGBMAEVuCuCGQFwK+yoZ2d7wbATKUCyHcABcAEVuCuCGQFwJfrulPQ2gfA4rpHR/u4BMCjQtiWPikGwH7uJAtU0QbAu2xt2IL8B8BVrVgtfj4DwNMgpJywqwHA3Crpq665BcDDoH1E80wEwNkIQF/6uAbAHTVVoWtXBMB1upzHnKEFwA==\",\"dtype\":\"float64\",\"shape\":[50]},\"PCA_2\":{\"__ndarray__\":\"DAnjXSLn1D9+cojtCbTFvxRbwHqKlMG/sEpJ9nXp07+t4vYhBV/VP3IdOgPW7ec/5n+0Hc0Etb9ZiGys18/FP6rl9jj6Q+K/bV5fwiVQu7+J6VrRptzkP4aQ1SmBCZY/lteXK5cmzb/tKP933hrgv7iauoCn+vI/yp2wIR2E9T8azrJlyi3qPyFyvDO8bNQ/a8Vxf8Qi7D+GQSNVuKfgPyq5dpiqdtk/Icnd8nop3D+sPF6EdSDCPyzV18SIA7s//f56EWj1n7/yQB0gmczBv1F8WaFKpsE/E/rU9dT61z9RL8+ZP2/UPwBtKqJnVMi/aCBSKi1Eyb8hPKKm0sHaP7ExxDdMPeo/C8nal7CZ8T9tXl/CJVC7v/wbnD3twrM/eEPs2edq4z9tXl/CJVC7v+lPb7NqvN6/IBvJPjE3zj8OgcqbCVnRP3lJm3gI2u2/vgnrmEtl1b8aZ0MT0RPJP+mKLrshVdw/9jIy1C8Qz7/JYJhR7lTgP4+elW/YO8y/0sTDbNDC4j+m5cHoWXG9Pw==\",\"dtype\":\"float64\",\"shape\":[50]},\"cluster\":{\"__ndarray__\":\"AAAAAAAAAAAAAAAAAAAAAAAAAAAAAAAAAAAAAAAAAAAAAAAAAAAAAAAAAAAAAAAAAAAAAAAAAAAAAAAAAAAAAAAAAAAAAAAAAAAAAAAAAAAAAAAAAAAAAAAAAAAAAAAAAAAAAAAAAAAAAAAAAAAAAAAAAAAAAAAAAAAAAAAAAAAAAAAAAAAAAAAAAAAAAAAAAAAAAAAAAAAAAAAAAAAAAAAAAAAAAAAAAAAAAAAAAAAAAAAAAAAAAAAAAAAAAAAAAAAAAAAAAAA=\",\"dtype\":\"int32\",\"shape\":[50]},\"label\":[0,0,0,0,0,0,0,0,0,0,0,0,0,0,0,0,0,0,0,0,0,0,0,0,0,0,0,0,0,0,0,0,0,0,0,0,0,0,0,0,0,0,0,0,0,0,0,0,0,0],\"label_name\":[\"Setosa\",\"Setosa\",\"Setosa\",\"Setosa\",\"Setosa\",\"Setosa\",\"Setosa\",\"Setosa\",\"Setosa\",\"Setosa\",\"Setosa\",\"Setosa\",\"Setosa\",\"Setosa\",\"Setosa\",\"Setosa\",\"Setosa\",\"Setosa\",\"Setosa\",\"Setosa\",\"Setosa\",\"Setosa\",\"Setosa\",\"Setosa\",\"Setosa\",\"Setosa\",\"Setosa\",\"Setosa\",\"Setosa\",\"Setosa\",\"Setosa\",\"Setosa\",\"Setosa\",\"Setosa\",\"Setosa\",\"Setosa\",\"Setosa\",\"Setosa\",\"Setosa\",\"Setosa\",\"Setosa\",\"Setosa\",\"Setosa\",\"Setosa\",\"Setosa\",\"Setosa\",\"Setosa\",\"Setosa\",\"Setosa\",\"Setosa\"]},\"selected\":{\"id\":\"f08ef79d-b49b-4ee4-bd6e-47d35a926e59\",\"type\":\"Selection\"},\"selection_policy\":{\"id\":\"0f4ca06c-60ff-4441-8881-7c025d2deecc\",\"type\":\"UnionRenderers\"}},\"id\":\"e1cb0ccc-5a70-4065-9975-cb5509e67daa\",\"type\":\"ColumnDataSource\"},{\"attributes\":{\"callback\":null,\"data\":{\"PCA_1\":{\"__ndarray__\":\"Frd09O4pxz9Ihs4h52TxP1d4yzV1fuQ/8Ukj0QQM6L8q94EDWbHwP5EZKSSI3oS/n84ZcNFa4L/N5/VR6lrgPwL1T+kbytA/mupp/Ep97z+eXdiQ8WHGv7qPNVZiG+U/AQvJCW0Fzj/I+0i90yfuPzq6KWZkJKY/R/geVJfV1j8sJQQfVr70P/RBnvjBdO0/lnvVwCfZ5j/ezYzHov/pPybnH2Vfq9O/SRWL1/0Bsr/lphjJq4/Iv9MpqLiDR8E/x+isgk4P9j/OcTyi9MriP/Br808DA+o/anlMGI5izz/ZpEypxg7FP9cvj7pMot0/rnZIwjF87D9n+S2h6EvNP7S4we1ooOa/qS39pQ3B1j/7kmcULzHVP3dCYjTnA9g/qF3cDLqI5D+rLSyyIRLtv8pjs+VID9M/\",\"dtype\":\"float64\",\"shape\":[39]},\"PCA_2\":{\"__ndarray__\":\"C3Uj9lhr6r/7jm3YyEyzP3thzY1ttdq/JhTAT4kE8L/Q+7HBdU7NPzy82QXzDue/DNFUwyoz9L/UtBKGSi+6v8zsloZXiOG/KoHFoRXWv7/obJoOvx3Qv22SxJDHhta/UxV8DjU+1b9O+d+hm1bhv0FqhcGPm+K/Cwmay10bsb9JobyXxPbUv2CrzEKRWMe/NOhixJ8/wz/BH5vyR8fEv91vgj2UXde/VHQf1DB75r+//G2mAK7lv16SUAAN89O/z35iZQb12r8xJSEjIe7evycAxmc0ude/bwOGdxIS0b/1UeFoyb/lv6Slpe/CbOW/ACeXT91Pob/GDc++lr7Zv5QKxQCCIvC/gGJEqF0a4L/89tpq8wfLv2w11mzvqdK/fhRO/WSHkz9PlOna2Qzovy8A3MiENda/\",\"dtype\":\"float64\",\"shape\":[39]},\"cluster\":{\"__ndarray__\":\"AgAAAAIAAAACAAAAAgAAAAIAAAACAAAAAgAAAAIAAAACAAAAAgAAAAIAAAACAAAAAgAAAAIAAAACAAAAAgAAAAIAAAACAAAAAgAAAAIAAAACAAAAAgAAAAIAAAACAAAAAgAAAAIAAAACAAAAAgAAAAIAAAACAAAAAgAAAAIAAAACAAAAAgAAAAIAAAACAAAAAgAAAAIAAAACAAAA\",\"dtype\":\"int32\",\"shape\":[39]},\"label\":[2,2,2,2,2,2,2,2,2,2,2,2,2,2,2,2,2,2,2,2,2,2,2,2,2,2,2,2,2,2,2,2,2,2,2,2,2,2,2],\"label_name\":[\"Virginica\",\"Virginica\",\"Virginica\",\"Virginica\",\"Virginica\",\"Virginica\",\"Virginica\",\"Virginica\",\"Virginica\",\"Virginica\",\"Virginica\",\"Virginica\",\"Virginica\",\"Virginica\",\"Virginica\",\"Virginica\",\"Virginica\",\"Virginica\",\"Virginica\",\"Virginica\",\"Virginica\",\"Virginica\",\"Virginica\",\"Virginica\",\"Virginica\",\"Virginica\",\"Virginica\",\"Virginica\",\"Virginica\",\"Virginica\",\"Virginica\",\"Virginica\",\"Virginica\",\"Virginica\",\"Virginica\",\"Virginica\",\"Virginica\",\"Virginica\",\"Virginica\"]},\"selected\":{\"id\":\"b68ae7d7-3e0a-4f32-bf94-61f046c079e6\",\"type\":\"Selection\"},\"selection_policy\":{\"id\":\"3e99105e-6367-4259-a140-a6ccf31c0ca1\",\"type\":\"UnionRenderers\"}},\"id\":\"12f20ab8-24ac-4da0-9d34-eb5d7579f3b8\",\"type\":\"ColumnDataSource\"},{\"attributes\":{},\"id\":\"4fbd8ce1-c5cb-4434-a5e7-0a5ee9346da9\",\"type\":\"LinearScale\"},{\"attributes\":{\"axis_label\":\"PCA component 1\",\"formatter\":{\"id\":\"8b87d269-cdce-40a1-8747-bb95b8479c7d\",\"type\":\"BasicTickFormatter\"},\"plot\":{\"id\":\"f19b88a0-92ec-48b5-8b33-7aec7f4a7ca7\",\"subtype\":\"Figure\",\"type\":\"Plot\"},\"ticker\":{\"id\":\"1e34b98e-df2b-43f4-a7c9-a49c0ca6c414\",\"type\":\"BasicTicker\"}},\"id\":\"82bd0cbb-e351-4e8a-907e-ea2f2fa25f40\",\"type\":\"LinearAxis\"},{\"attributes\":{\"source\":{\"id\":\"c80622d2-caa3-4a29-b252-758528c5cb9e\",\"type\":\"ColumnDataSource\"}},\"id\":\"6e35fe85-3ecd-4179-9e2e-a961be9c9aeb\",\"type\":\"CDSView\"},{\"attributes\":{\"args\":{\"legend\":{\"id\":\"a914d362-dedc-4173-bbf3-65b6248c414e\",\"type\":\"Legend\"}},\"code\":\"var _pyfunc_truthy = function (v) {\\n    if (v === null || typeof v !== \\\"object\\\") {return v;}\\n    else if (v.length !== undefined) {return v.length ? v : false;}\\n    else if (v.byteLength !== undefined) {return v.byteLength ? v : false;}\\n    else if (v.constructor !== Object) {return true;}\\n    else {return Object.getOwnPropertyNames(v).length ? v : false;}\\n};\\nvar cb;\\ncb = function flx_cb (legend) {\\n    legend = (legend === undefined) ? p.legend[0]: legend;\\n    legend.visible = !_pyfunc_truthy(legend.visible);\\n    return null;\\n};\\ncb(legend);\\n\"},\"id\":\"9b08a090-cb19-41ef-8229-0d5ba04db400\",\"type\":\"CustomJS\"},{\"attributes\":{\"plot\":null,\"text\":\"Clusters and targets comparison\"},\"id\":\"69ce1b6d-cb33-482f-b98e-718eeb4efe88\",\"type\":\"Title\"},{\"attributes\":{\"callback\":null,\"data\":{\"PCA_1\":{\"__ndarray__\":\"\",\"dtype\":\"float64\",\"shape\":[0]},\"PCA_2\":{\"__ndarray__\":\"\",\"dtype\":\"float64\",\"shape\":[0]},\"cluster\":{\"__ndarray__\":\"\",\"dtype\":\"int32\",\"shape\":[0]},\"label\":[],\"label_name\":[]},\"selected\":{\"id\":\"4bfc24ee-f4cf-44d3-b76a-2085a1136c3f\",\"type\":\"Selection\"},\"selection_policy\":{\"id\":\"b09beeca-9b50-451c-8fde-ee9cef7890d1\",\"type\":\"UnionRenderers\"}},\"id\":\"36e06420-3b1f-4169-8657-ff696d76f2ba\",\"type\":\"ColumnDataSource\"},{\"attributes\":{\"label\":{\"value\":\"Setosa correct\"},\"renderers\":[{\"id\":\"17924a1e-5b03-4a9a-85a3-e9f2e15454b0\",\"type\":\"GlyphRenderer\"}]},\"id\":\"26446aba-45a2-4f9c-91d0-a1bd563cabc6\",\"type\":\"LegendItem\"},{\"attributes\":{\"below\":[{\"id\":\"82bd0cbb-e351-4e8a-907e-ea2f2fa25f40\",\"type\":\"LinearAxis\"}],\"js_event_callbacks\":{\"doubletap\":[{\"id\":\"9b08a090-cb19-41ef-8229-0d5ba04db400\",\"type\":\"CustomJS\"}]},\"left\":[{\"id\":\"ea97a97b-7401-4913-88e6-12660c766bf6\",\"type\":\"LinearAxis\"}],\"plot_height\":400,\"renderers\":[{\"id\":\"82bd0cbb-e351-4e8a-907e-ea2f2fa25f40\",\"type\":\"LinearAxis\"},{\"id\":\"6b0e88f6-f237-4ca7-8e6e-0707bc771f1e\",\"type\":\"Grid\"},{\"id\":\"ea97a97b-7401-4913-88e6-12660c766bf6\",\"type\":\"LinearAxis\"},{\"id\":\"d3844d1a-140c-464a-b613-9665201a7b19\",\"type\":\"Grid\"},{\"id\":\"c9650f82-ad09-47a0-9e89-3db6e8b8eaef\",\"type\":\"BoxAnnotation\"},{\"id\":\"a914d362-dedc-4173-bbf3-65b6248c414e\",\"type\":\"Legend\"},{\"id\":\"17924a1e-5b03-4a9a-85a3-e9f2e15454b0\",\"type\":\"GlyphRenderer\"},{\"id\":\"b46b5cdd-f8e4-415a-a80f-f529c3cb80aa\",\"type\":\"GlyphRenderer\"},{\"id\":\"28c8a82b-7bf5-4076-be75-3562f1551b02\",\"type\":\"GlyphRenderer\"},{\"id\":\"9358aa7a-4434-4566-b7e7-89bb7ff33e99\",\"type\":\"GlyphRenderer\"},{\"id\":\"3fdd3a9e-ea8f-4723-aa2a-30d9bf69c30d\",\"type\":\"GlyphRenderer\"},{\"id\":\"efea23f7-455b-47d6-9f46-fc44a326a983\",\"type\":\"GlyphRenderer\"}],\"title\":{\"id\":\"69ce1b6d-cb33-482f-b98e-718eeb4efe88\",\"type\":\"Title\"},\"toolbar\":{\"id\":\"1958a366-9c1e-4fb4-aea8-28a3589f6521\",\"type\":\"Toolbar\"},\"x_range\":{\"id\":\"bd762600-08f4-4eb7-ae58-3110f9b2e08b\",\"type\":\"DataRange1d\"},\"x_scale\":{\"id\":\"e86360cf-8014-4888-bca6-2a7d161ccfa4\",\"type\":\"LinearScale\"},\"y_range\":{\"id\":\"e7388c77-3a96-45a9-b7c1-70c4bccc1a8c\",\"type\":\"DataRange1d\"},\"y_scale\":{\"id\":\"4fbd8ce1-c5cb-4434-a5e7-0a5ee9346da9\",\"type\":\"LinearScale\"}},\"id\":\"f19b88a0-92ec-48b5-8b33-7aec7f4a7ca7\",\"subtype\":\"Figure\",\"type\":\"Plot\"},{\"attributes\":{},\"id\":\"7abf2bfd-d920-430c-a4c7-fca603b4d7b2\",\"type\":\"Selection\"},{\"attributes\":{},\"id\":\"bb369c6a-f96b-44af-9c9e-d9f191a29c4c\",\"type\":\"PanTool\"},{\"attributes\":{\"source\":{\"id\":\"88bf6008-bc6d-4405-8652-7483676ad843\",\"type\":\"ColumnDataSource\"}},\"id\":\"032be0ac-e4b5-4fd2-9af5-1335c0c77e10\",\"type\":\"CDSView\"},{\"attributes\":{\"label\":{\"value\":\"Virginica incorrect\"},\"renderers\":[{\"id\":\"efea23f7-455b-47d6-9f46-fc44a326a983\",\"type\":\"GlyphRenderer\"}]},\"id\":\"919dbab0-5785-44d7-99bb-263448b56807\",\"type\":\"LegendItem\"},{\"attributes\":{\"data_source\":{\"id\":\"e1cb0ccc-5a70-4065-9975-cb5509e67daa\",\"type\":\"ColumnDataSource\"},\"glyph\":{\"id\":\"f83d829c-2917-43a1-81ea-b08455be5f97\",\"type\":\"Circle\"},\"hover_glyph\":null,\"muted_glyph\":null,\"nonselection_glyph\":{\"id\":\"d90ba502-8cb6-4eb4-998a-8edf3925ec4b\",\"type\":\"Circle\"},\"selection_glyph\":null,\"view\":{\"id\":\"2600db54-8413-4ee8-abeb-6b392539da13\",\"type\":\"CDSView\"}},\"id\":\"17924a1e-5b03-4a9a-85a3-e9f2e15454b0\",\"type\":\"GlyphRenderer\"},{\"attributes\":{},\"id\":\"99ec9964-c83b-4690-a138-a920e72466b0\",\"type\":\"SaveTool\"},{\"attributes\":{},\"id\":\"5194fe70-c63f-4e81-b4f4-7a4fa58049e9\",\"type\":\"UnionRenderers\"},{\"attributes\":{},\"id\":\"0f4ca06c-60ff-4441-8881-7c025d2deecc\",\"type\":\"UnionRenderers\"},{\"attributes\":{},\"id\":\"8b87d269-cdce-40a1-8747-bb95b8479c7d\",\"type\":\"BasicTickFormatter\"},{\"attributes\":{},\"id\":\"5d753eba-9035-4264-80ba-78d84fdba914\",\"type\":\"UnionRenderers\"},{\"attributes\":{\"fill_alpha\":{\"value\":0.7},\"fill_color\":{\"value\":\"#2ca02c\"},\"line_alpha\":{\"value\":0.7},\"line_color\":{\"value\":\"#2ca02c\"},\"size\":{\"units\":\"screen\",\"value\":5},\"x\":{\"field\":\"PCA_1\"},\"y\":{\"field\":\"PCA_2\"}},\"id\":\"129c755e-7bdc-4a37-96d4-5d53a0be05fe\",\"type\":\"Square\"},{\"attributes\":{\"callback\":null,\"renderers\":\"auto\",\"tooltips\":[[\"PC 1\",\"$x\"],[\"PC 2\",\"$y\"],[\"cluster\",\"@cluster\"],[\"label\",\"@label\"],[\"name\",\"@label_name\"]]},\"id\":\"c6def420-9c77-4d6e-a1f7-84e03f112eb8\",\"type\":\"HoverTool\"},{\"attributes\":{},\"id\":\"b09beeca-9b50-451c-8fde-ee9cef7890d1\",\"type\":\"UnionRenderers\"},{\"attributes\":{\"fill_alpha\":{\"value\":0.1},\"fill_color\":{\"value\":\"#1f77b4\"},\"line_alpha\":{\"value\":0.1},\"line_color\":{\"value\":\"#1f77b4\"},\"size\":{\"units\":\"screen\",\"value\":5},\"x\":{\"field\":\"PCA_1\"},\"y\":{\"field\":\"PCA_2\"}},\"id\":\"d90ba502-8cb6-4eb4-998a-8edf3925ec4b\",\"type\":\"Circle\"},{\"attributes\":{\"callback\":null,\"data\":{\"PCA_1\":{\"__ndarray__\":\"OPUNxYSO9D/jAlATT9btPzjLypDLbPc/KNX/SwmG8T/+6lVzra7tP6PGrzsf3PE/TV6+otvJ7D+fozkW8kv1P6hLd1oY6/g/6Bcsn6DU6T+jyhGG4IbzPw==\",\"dtype\":\"float64\",\"shape\":[11]},\"PCA_2\":{\"__ndarray__\":\"0M76KB7v5T8F/zHTvW3UP9P0crdSIuA/KJGmCkYr0j9Op938lPfdPwn2eLMMj7W/yTptplgY1T9GTKiyVFHPP8Ctvcn1HNE/YBGtPYf3yD9/BwI/QB3aPw==\",\"dtype\":\"float64\",\"shape\":[11]},\"cluster\":{\"__ndarray__\":\"AQAAAAEAAAABAAAAAQAAAAEAAAABAAAAAQAAAAEAAAABAAAAAQAAAAEAAAA=\",\"dtype\":\"int32\",\"shape\":[11]},\"label\":[2,2,2,2,2,2,2,2,2,2,2],\"label_name\":[\"Virginica\",\"Virginica\",\"Virginica\",\"Virginica\",\"Virginica\",\"Virginica\",\"Virginica\",\"Virginica\",\"Virginica\",\"Virginica\",\"Virginica\"]},\"selected\":{\"id\":\"0906e3e3-0461-4b5f-8829-5d6ee5993a70\",\"type\":\"Selection\"},\"selection_policy\":{\"id\":\"5194fe70-c63f-4e81-b4f4-7a4fa58049e9\",\"type\":\"UnionRenderers\"}},\"id\":\"c80622d2-caa3-4a29-b252-758528c5cb9e\",\"type\":\"ColumnDataSource\"},{\"attributes\":{},\"id\":\"3e99105e-6367-4259-a140-a6ccf31c0ca1\",\"type\":\"UnionRenderers\"},{\"attributes\":{\"fill_alpha\":{\"value\":0.7},\"fill_color\":{\"value\":\"#1f77b4\"},\"line_alpha\":{\"value\":0.7},\"line_color\":{\"value\":\"#1f77b4\"},\"size\":{\"units\":\"screen\",\"value\":5},\"x\":{\"field\":\"PCA_1\"},\"y\":{\"field\":\"PCA_2\"}},\"id\":\"f83d829c-2917-43a1-81ea-b08455be5f97\",\"type\":\"Circle\"},{\"attributes\":{\"data_source\":{\"id\":\"36e06420-3b1f-4169-8657-ff696d76f2ba\",\"type\":\"ColumnDataSource\"},\"glyph\":{\"id\":\"6089c051-4161-41fa-8438-88a4a6e9286f\",\"type\":\"Square\"},\"hover_glyph\":null,\"muted_glyph\":null,\"nonselection_glyph\":{\"id\":\"5f912000-a10b-4690-bf6d-3bdaffdc019d\",\"type\":\"Square\"},\"selection_glyph\":null,\"view\":{\"id\":\"d5f4e259-af0d-42b6-921e-42093ac09d1c\",\"type\":\"CDSView\"}},\"id\":\"b46b5cdd-f8e4-415a-a80f-f529c3cb80aa\",\"type\":\"GlyphRenderer\"},{\"attributes\":{\"click_policy\":\"hide\",\"items\":[{\"id\":\"26446aba-45a2-4f9c-91d0-a1bd563cabc6\",\"type\":\"LegendItem\"},{\"id\":\"82974264-b242-4db6-86bf-8a0156793c7d\",\"type\":\"LegendItem\"},{\"id\":\"d928e619-d047-43b9-b06d-937fd0ea326e\",\"type\":\"LegendItem\"},{\"id\":\"13f6bc04-53cd-4b0d-a15a-b651cebaa95d\",\"type\":\"LegendItem\"},{\"id\":\"eee61af2-d0bd-4b8b-ba9c-b8cd7f8bb165\",\"type\":\"LegendItem\"},{\"id\":\"919dbab0-5785-44d7-99bb-263448b56807\",\"type\":\"LegendItem\"}],\"location\":\"bottom_right\",\"plot\":{\"id\":\"f19b88a0-92ec-48b5-8b33-7aec7f4a7ca7\",\"subtype\":\"Figure\",\"type\":\"Plot\"}},\"id\":\"a914d362-dedc-4173-bbf3-65b6248c414e\",\"type\":\"Legend\"},{\"attributes\":{\"label\":{\"value\":\"Virginica correct\"},\"renderers\":[{\"id\":\"3fdd3a9e-ea8f-4723-aa2a-30d9bf69c30d\",\"type\":\"GlyphRenderer\"}]},\"id\":\"eee61af2-d0bd-4b8b-ba9c-b8cd7f8bb165\",\"type\":\"LegendItem\"},{\"attributes\":{},\"id\":\"e86360cf-8014-4888-bca6-2a7d161ccfa4\",\"type\":\"LinearScale\"},{\"attributes\":{\"label\":{\"value\":\"Setosa incorrect\"},\"renderers\":[{\"id\":\"b46b5cdd-f8e4-415a-a80f-f529c3cb80aa\",\"type\":\"GlyphRenderer\"}]},\"id\":\"82974264-b242-4db6-86bf-8a0156793c7d\",\"type\":\"LegendItem\"},{\"attributes\":{\"axis_label\":\"PCA component 2\",\"formatter\":{\"id\":\"84f0ae29-83db-4898-bc15-c9bddc115566\",\"type\":\"BasicTickFormatter\"},\"plot\":{\"id\":\"f19b88a0-92ec-48b5-8b33-7aec7f4a7ca7\",\"subtype\":\"Figure\",\"type\":\"Plot\"},\"ticker\":{\"id\":\"eb2b9e2e-6c57-494a-a865-0e8529b88e56\",\"type\":\"BasicTicker\"}},\"id\":\"ea97a97b-7401-4913-88e6-12660c766bf6\",\"type\":\"LinearAxis\"},{\"attributes\":{},\"id\":\"f08ef79d-b49b-4ee4-bd6e-47d35a926e59\",\"type\":\"Selection\"},{\"attributes\":{\"active_drag\":\"auto\",\"active_inspect\":\"auto\",\"active_multi\":null,\"active_scroll\":\"auto\",\"active_tap\":\"auto\",\"tools\":[{\"id\":\"bb369c6a-f96b-44af-9c9e-d9f191a29c4c\",\"type\":\"PanTool\"},{\"id\":\"45e245ed-724b-4b4b-8bb1-b0e28028436e\",\"type\":\"WheelZoomTool\"},{\"id\":\"d7ecd84e-ecc2-459e-a859-cdfa6c791318\",\"type\":\"BoxZoomTool\"},{\"id\":\"99ec9964-c83b-4690-a138-a920e72466b0\",\"type\":\"SaveTool\"},{\"id\":\"04a3cd39-b52f-44f1-81a4-6c4079311b6b\",\"type\":\"ResetTool\"},{\"id\":\"5a300049-65f6-4019-89e5-8cce590e563f\",\"type\":\"HelpTool\"},{\"id\":\"c6def420-9c77-4d6e-a1f7-84e03f112eb8\",\"type\":\"HoverTool\"}]},\"id\":\"1958a366-9c1e-4fb4-aea8-28a3589f6521\",\"type\":\"Toolbar\"},{\"attributes\":{\"fill_alpha\":{\"value\":0.7},\"fill_color\":{\"value\":\"#ff7f0e\"},\"line_alpha\":{\"value\":0.7},\"line_color\":{\"value\":\"#ff7f0e\"},\"size\":{\"units\":\"screen\",\"value\":5},\"x\":{\"field\":\"PCA_1\"},\"y\":{\"field\":\"PCA_2\"}},\"id\":\"4bd537a4-47a7-44de-9401-02f0a2c39693\",\"type\":\"Square\"},{\"attributes\":{\"fill_alpha\":{\"value\":0.7},\"fill_color\":{\"value\":\"#ff7f0e\"},\"line_alpha\":{\"value\":0.7},\"line_color\":{\"value\":\"#ff7f0e\"},\"size\":{\"units\":\"screen\",\"value\":5},\"x\":{\"field\":\"PCA_1\"},\"y\":{\"field\":\"PCA_2\"}},\"id\":\"51a2eb7a-eaae-446d-a028-b321b2f4c343\",\"type\":\"Circle\"},{\"attributes\":{\"fill_alpha\":{\"value\":0.1},\"fill_color\":{\"value\":\"#1f77b4\"},\"line_alpha\":{\"value\":0.1},\"line_color\":{\"value\":\"#1f77b4\"},\"size\":{\"units\":\"screen\",\"value\":5},\"x\":{\"field\":\"PCA_1\"},\"y\":{\"field\":\"PCA_2\"}},\"id\":\"7de428f4-75f9-48a3-9870-148c7478cf73\",\"type\":\"Circle\"},{\"attributes\":{},\"id\":\"5a300049-65f6-4019-89e5-8cce590e563f\",\"type\":\"HelpTool\"},{\"attributes\":{\"fill_alpha\":{\"value\":0.7},\"fill_color\":{\"value\":\"#2ca02c\"},\"line_alpha\":{\"value\":0.7},\"line_color\":{\"value\":\"#2ca02c\"},\"size\":{\"units\":\"screen\",\"value\":5},\"x\":{\"field\":\"PCA_1\"},\"y\":{\"field\":\"PCA_2\"}},\"id\":\"f099aab6-8e98-4fda-8050-4741a0579b21\",\"type\":\"Circle\"},{\"attributes\":{\"callback\":null,\"data\":{\"PCA_1\":{\"__ndarray__\":\"/9mUMgqg9j9VXXecyZ7gP72G6Tl1g/U/gy5fPkFd+T/2Cn9+9cX0PwWDdSZoK/M/FaODn+Mz9j+moXSVOx/0P1kTqcHyFvc/93ec52d5/D9lEBOyn7PyP//ZlDIKoPY/5AiTRB5p+D9Vcy+OEjz2Pw==\",\"dtype\":\"float64\",\"shape\":[14]},\"PCA_2\":{\"__ndarray__\":\"FGsZO8ll4r9UHOjJxg/zvyDSZyll2Oi/qNLY3QBC4b+IHyXmOVrovw+WfSHnYOO/TT9Y968dyr9J27cM9u3Gv2PR3aQUaMK/N3Kr5f8L4L+UdGj8ag7FvxRrGTvJZeK/+lSTcVcA2L+mjBfb0BrSvw==\",\"dtype\":\"float64\",\"shape\":[14]},\"cluster\":{\"__ndarray__\":\"AgAAAAIAAAACAAAAAgAAAAIAAAACAAAAAgAAAAIAAAACAAAAAgAAAAIAAAACAAAAAgAAAAIAAAA=\",\"dtype\":\"int32\",\"shape\":[14]},\"label\":[1,1,1,1,1,1,1,1,1,1,1,1,1,1],\"label_name\":[\"Versicolour\",\"Versicolour\",\"Versicolour\",\"Versicolour\",\"Versicolour\",\"Versicolour\",\"Versicolour\",\"Versicolour\",\"Versicolour\",\"Versicolour\",\"Versicolour\",\"Versicolour\",\"Versicolour\",\"Versicolour\"]},\"selected\":{\"id\":\"bc43df36-1877-4ea8-adaa-f267c45a2451\",\"type\":\"Selection\"},\"selection_policy\":{\"id\":\"1d99bcb4-ad09-4e94-9db6-916f2cdd8ebf\",\"type\":\"UnionRenderers\"}},\"id\":\"88bf6008-bc6d-4405-8652-7483676ad843\",\"type\":\"ColumnDataSource\"},{\"attributes\":{\"fill_alpha\":{\"value\":0.1},\"fill_color\":{\"value\":\"#1f77b4\"},\"line_alpha\":{\"value\":0.1},\"line_color\":{\"value\":\"#1f77b4\"},\"size\":{\"units\":\"screen\",\"value\":5},\"x\":{\"field\":\"PCA_1\"},\"y\":{\"field\":\"PCA_2\"}},\"id\":\"ae7d17fa-dd26-41e4-af92-f9d54d075432\",\"type\":\"Square\"},{\"attributes\":{\"callback\":null},\"id\":\"e7388c77-3a96-45a9-b7c1-70c4bccc1a8c\",\"type\":\"DataRange1d\"},{\"attributes\":{\"fill_alpha\":{\"value\":0.1},\"fill_color\":{\"value\":\"#1f77b4\"},\"line_alpha\":{\"value\":0.1},\"line_color\":{\"value\":\"#1f77b4\"},\"size\":{\"units\":\"screen\",\"value\":5},\"x\":{\"field\":\"PCA_1\"},\"y\":{\"field\":\"PCA_2\"}},\"id\":\"e6bc3b63-aa93-4479-8918-ef8dd780e7c4\",\"type\":\"Circle\"},{\"attributes\":{},\"id\":\"b68ae7d7-3e0a-4f32-bf94-61f046c079e6\",\"type\":\"Selection\"},{\"attributes\":{\"callback\":null,\"data\":{\"PCA_1\":{\"__ndarray__\":\"GRw7E/pABEDgiXh7j+4EQGwuskB1iP8/ZKz06U3MAkBkAz5hzywLQHBDmha/dAdAROEYnLCOAkB1uNbCVlgHQGVzWBlJl/o/gfhG8WLW/D8LrT4nslIBQLkd+2bUef4/cgOefR8w/z9ZVMjS/egLQGCp+8iEWw5ALrO19OJsA0BUr/jmfv4LQGUAEsLyNAJAyQiCdN7pBECwkG83lab0P5+7I96a+wBAZCaKXbsZA0BRhLq4SboGQOIb7ZfW2wlA/NDJnxhFAUDcwx1et5wIQItUf97uKAFA1Trti1F6/j/RczWPedwAQDmlh3+xgwJAqpLo21vC/j8+yJRWr4EEQNtVqsjpWgNAp738nrEa/z9+rhs7iDn8P0jF95sSbf4/\",\"dtype\":\"float64\",\"shape\":[36]},\"PCA_2\":{\"__ndarray__\":\"pxSnGL5AiL8KXb2KROLVP4WHnHMgL8e/Ec8UKqFxpb/nMP+PZoLhPwQwWklYjdY/MbYsWR9uz795tjLM4PjoP4CIakQd+84/spwrQ/Sqy79HxEfoTY7LP7YWauDrar4/tVNmuJjapD8ttfZ9pb7yPz7oIcyANdA/Z5MQITId2D+So5LHxjvdP1dRQ3A0VtU/bazTXSTe4T/vJAmZC869v+bDq/hK/cq/BvHoV+qZ3T8scJi9A9vXP4tnjpyq7fU/lvH4TBfyy7+Vm4ZFyPHlPy3FKRexx8E/TSEF2a6ZqD/4ptB7XcbXP/s9DxG6X8c/QoI4u38x2j9TmWn1kKnRP/f1qMebbNM/Eui61Dj9xz/8ltJZ1Rm0P7WCFzwZqr0/\",\"dtype\":\"float64\",\"shape\":[36]},\"cluster\":{\"__ndarray__\":\"AQAAAAEAAAABAAAAAQAAAAEAAAABAAAAAQAAAAEAAAABAAAAAQAAAAEAAAABAAAAAQAAAAEAAAABAAAAAQAAAAEAAAABAAAAAQAAAAEAAAABAAAAAQAAAAEAAAABAAAAAQAAAAEAAAABAAAAAQAAAAEAAAABAAAAAQAAAAEAAAABAAAAAQAAAAEAAAABAAAA\",\"dtype\":\"int32\",\"shape\":[36]},\"label\":[1,1,1,1,1,1,1,1,1,1,1,1,1,1,1,1,1,1,1,1,1,1,1,1,1,1,1,1,1,1,1,1,1,1,1,1],\"label_name\":[\"Versicolour\",\"Versicolour\",\"Versicolour\",\"Versicolour\",\"Versicolour\",\"Versicolour\",\"Versicolour\",\"Versicolour\",\"Versicolour\",\"Versicolour\",\"Versicolour\",\"Versicolour\",\"Versicolour\",\"Versicolour\",\"Versicolour\",\"Versicolour\",\"Versicolour\",\"Versicolour\",\"Versicolour\",\"Versicolour\",\"Versicolour\",\"Versicolour\",\"Versicolour\",\"Versicolour\",\"Versicolour\",\"Versicolour\",\"Versicolour\",\"Versicolour\",\"Versicolour\",\"Versicolour\",\"Versicolour\",\"Versicolour\",\"Versicolour\",\"Versicolour\",\"Versicolour\",\"Versicolour\"]},\"selected\":{\"id\":\"7abf2bfd-d920-430c-a4c7-fca603b4d7b2\",\"type\":\"Selection\"},\"selection_policy\":{\"id\":\"5d753eba-9035-4264-80ba-78d84fdba914\",\"type\":\"UnionRenderers\"}},\"id\":\"708e4b7f-60ae-444b-9020-10536b1332a9\",\"type\":\"ColumnDataSource\"},{\"attributes\":{\"label\":{\"value\":\"Versicolour incorrect\"},\"renderers\":[{\"id\":\"9358aa7a-4434-4566-b7e7-89bb7ff33e99\",\"type\":\"GlyphRenderer\"}]},\"id\":\"13f6bc04-53cd-4b0d-a15a-b651cebaa95d\",\"type\":\"LegendItem\"},{\"attributes\":{\"source\":{\"id\":\"708e4b7f-60ae-444b-9020-10536b1332a9\",\"type\":\"ColumnDataSource\"}},\"id\":\"6f8a8637-0ea5-4545-8c29-2d5c3ff1158b\",\"type\":\"CDSView\"},{\"attributes\":{\"data_source\":{\"id\":\"708e4b7f-60ae-444b-9020-10536b1332a9\",\"type\":\"ColumnDataSource\"},\"glyph\":{\"id\":\"51a2eb7a-eaae-446d-a028-b321b2f4c343\",\"type\":\"Circle\"},\"hover_glyph\":null,\"muted_glyph\":null,\"nonselection_glyph\":{\"id\":\"7de428f4-75f9-48a3-9870-148c7478cf73\",\"type\":\"Circle\"},\"selection_glyph\":null,\"view\":{\"id\":\"6f8a8637-0ea5-4545-8c29-2d5c3ff1158b\",\"type\":\"CDSView\"}},\"id\":\"28c8a82b-7bf5-4076-be75-3562f1551b02\",\"type\":\"GlyphRenderer\"},{\"attributes\":{},\"id\":\"45e245ed-724b-4b4b-8bb1-b0e28028436e\",\"type\":\"WheelZoomTool\"},{\"attributes\":{},\"id\":\"1d99bcb4-ad09-4e94-9db6-916f2cdd8ebf\",\"type\":\"UnionRenderers\"},{\"attributes\":{\"plot\":{\"id\":\"f19b88a0-92ec-48b5-8b33-7aec7f4a7ca7\",\"subtype\":\"Figure\",\"type\":\"Plot\"},\"ticker\":{\"id\":\"1e34b98e-df2b-43f4-a7c9-a49c0ca6c414\",\"type\":\"BasicTicker\"}},\"id\":\"6b0e88f6-f237-4ca7-8e6e-0707bc771f1e\",\"type\":\"Grid\"},{\"attributes\":{\"fill_alpha\":{\"value\":0.1},\"fill_color\":{\"value\":\"#1f77b4\"},\"line_alpha\":{\"value\":0.1},\"line_color\":{\"value\":\"#1f77b4\"},\"size\":{\"units\":\"screen\",\"value\":5},\"x\":{\"field\":\"PCA_1\"},\"y\":{\"field\":\"PCA_2\"}},\"id\":\"3ee2992c-a9c9-4e00-980a-9523bdf65950\",\"type\":\"Square\"},{\"attributes\":{},\"id\":\"eb2b9e2e-6c57-494a-a865-0e8529b88e56\",\"type\":\"BasicTicker\"},{\"attributes\":{\"fill_alpha\":{\"value\":0.1},\"fill_color\":{\"value\":\"#1f77b4\"},\"line_alpha\":{\"value\":0.1},\"line_color\":{\"value\":\"#1f77b4\"},\"size\":{\"units\":\"screen\",\"value\":5},\"x\":{\"field\":\"PCA_1\"},\"y\":{\"field\":\"PCA_2\"}},\"id\":\"5f912000-a10b-4690-bf6d-3bdaffdc019d\",\"type\":\"Square\"},{\"attributes\":{\"source\":{\"id\":\"12f20ab8-24ac-4da0-9d34-eb5d7579f3b8\",\"type\":\"ColumnDataSource\"}},\"id\":\"c152ef7a-9730-4d1f-aeb6-6b8c03348532\",\"type\":\"CDSView\"},{\"attributes\":{\"source\":{\"id\":\"36e06420-3b1f-4169-8657-ff696d76f2ba\",\"type\":\"ColumnDataSource\"}},\"id\":\"d5f4e259-af0d-42b6-921e-42093ac09d1c\",\"type\":\"CDSView\"},{\"attributes\":{\"data_source\":{\"id\":\"12f20ab8-24ac-4da0-9d34-eb5d7579f3b8\",\"type\":\"ColumnDataSource\"},\"glyph\":{\"id\":\"f099aab6-8e98-4fda-8050-4741a0579b21\",\"type\":\"Circle\"},\"hover_glyph\":null,\"muted_glyph\":null,\"nonselection_glyph\":{\"id\":\"e6bc3b63-aa93-4479-8918-ef8dd780e7c4\",\"type\":\"Circle\"},\"selection_glyph\":null,\"view\":{\"id\":\"c152ef7a-9730-4d1f-aeb6-6b8c03348532\",\"type\":\"CDSView\"}},\"id\":\"3fdd3a9e-ea8f-4723-aa2a-30d9bf69c30d\",\"type\":\"GlyphRenderer\"},{\"attributes\":{\"data_source\":{\"id\":\"c80622d2-caa3-4a29-b252-758528c5cb9e\",\"type\":\"ColumnDataSource\"},\"glyph\":{\"id\":\"4bd537a4-47a7-44de-9401-02f0a2c39693\",\"type\":\"Square\"},\"hover_glyph\":null,\"muted_glyph\":null,\"nonselection_glyph\":{\"id\":\"3ee2992c-a9c9-4e00-980a-9523bdf65950\",\"type\":\"Square\"},\"selection_glyph\":null,\"view\":{\"id\":\"6e35fe85-3ecd-4179-9e2e-a961be9c9aeb\",\"type\":\"CDSView\"}},\"id\":\"9358aa7a-4434-4566-b7e7-89bb7ff33e99\",\"type\":\"GlyphRenderer\"},{\"attributes\":{\"label\":{\"value\":\"Versicolour correct\"},\"renderers\":[{\"id\":\"28c8a82b-7bf5-4076-be75-3562f1551b02\",\"type\":\"GlyphRenderer\"}]},\"id\":\"d928e619-d047-43b9-b06d-937fd0ea326e\",\"type\":\"LegendItem\"},{\"attributes\":{\"fill_alpha\":{\"value\":0.7},\"fill_color\":{\"value\":\"#1f77b4\"},\"line_alpha\":{\"value\":0.7},\"line_color\":{\"value\":\"#1f77b4\"},\"size\":{\"units\":\"screen\",\"value\":5},\"x\":{\"field\":\"PCA_1\"},\"y\":{\"field\":\"PCA_2\"}},\"id\":\"6089c051-4161-41fa-8438-88a4a6e9286f\",\"type\":\"Square\"},{\"attributes\":{\"overlay\":{\"id\":\"c9650f82-ad09-47a0-9e89-3db6e8b8eaef\",\"type\":\"BoxAnnotation\"}},\"id\":\"d7ecd84e-ecc2-459e-a859-cdfa6c791318\",\"type\":\"BoxZoomTool\"},{\"attributes\":{\"data_source\":{\"id\":\"88bf6008-bc6d-4405-8652-7483676ad843\",\"type\":\"ColumnDataSource\"},\"glyph\":{\"id\":\"129c755e-7bdc-4a37-96d4-5d53a0be05fe\",\"type\":\"Square\"},\"hover_glyph\":null,\"muted_glyph\":null,\"nonselection_glyph\":{\"id\":\"ae7d17fa-dd26-41e4-af92-f9d54d075432\",\"type\":\"Square\"},\"selection_glyph\":null,\"view\":{\"id\":\"032be0ac-e4b5-4fd2-9af5-1335c0c77e10\",\"type\":\"CDSView\"}},\"id\":\"efea23f7-455b-47d6-9f46-fc44a326a983\",\"type\":\"GlyphRenderer\"},{\"attributes\":{},\"id\":\"1e34b98e-df2b-43f4-a7c9-a49c0ca6c414\",\"type\":\"BasicTicker\"},{\"attributes\":{},\"id\":\"0906e3e3-0461-4b5f-8829-5d6ee5993a70\",\"type\":\"Selection\"},{\"attributes\":{\"callback\":null},\"id\":\"bd762600-08f4-4eb7-ae58-3110f9b2e08b\",\"type\":\"DataRange1d\"},{\"attributes\":{},\"id\":\"04a3cd39-b52f-44f1-81a4-6c4079311b6b\",\"type\":\"ResetTool\"},{\"attributes\":{\"bottom_units\":\"screen\",\"fill_alpha\":{\"value\":0.5},\"fill_color\":{\"value\":\"lightgrey\"},\"left_units\":\"screen\",\"level\":\"overlay\",\"line_alpha\":{\"value\":1.0},\"line_color\":{\"value\":\"black\"},\"line_dash\":[4,4],\"line_width\":{\"value\":2},\"plot\":null,\"render_mode\":\"css\",\"right_units\":\"screen\",\"top_units\":\"screen\"},\"id\":\"c9650f82-ad09-47a0-9e89-3db6e8b8eaef\",\"type\":\"BoxAnnotation\"},{\"attributes\":{},\"id\":\"bc43df36-1877-4ea8-adaa-f267c45a2451\",\"type\":\"Selection\"},{\"attributes\":{\"dimension\":1,\"plot\":{\"id\":\"f19b88a0-92ec-48b5-8b33-7aec7f4a7ca7\",\"subtype\":\"Figure\",\"type\":\"Plot\"},\"ticker\":{\"id\":\"eb2b9e2e-6c57-494a-a865-0e8529b88e56\",\"type\":\"BasicTicker\"}},\"id\":\"d3844d1a-140c-464a-b613-9665201a7b19\",\"type\":\"Grid\"},{\"attributes\":{},\"id\":\"4bfc24ee-f4cf-44d3-b76a-2085a1136c3f\",\"type\":\"Selection\"}],\"root_ids\":[\"f19b88a0-92ec-48b5-8b33-7aec7f4a7ca7\"]},\"title\":\"Bokeh Application\",\"version\":\"0.13.0\"}};\n",
       "  var render_items = [{\"docid\":\"774d54db-ea6e-42ee-bdb2-dd6e9492c744\",\"roots\":{\"f19b88a0-92ec-48b5-8b33-7aec7f4a7ca7\":\"7f6a7871-0f47-4c79-b59e-f49960157f8d\"}}];\n",
       "  root.Bokeh.embed.embed_items_notebook(docs_json, render_items);\n",
       "\n",
       "  }\n",
       "  if (root.Bokeh !== undefined) {\n",
       "    embed_document(root);\n",
       "  } else {\n",
       "    var attempts = 0;\n",
       "    var timer = setInterval(function(root) {\n",
       "      if (root.Bokeh !== undefined) {\n",
       "        embed_document(root);\n",
       "        clearInterval(timer);\n",
       "      }\n",
       "      attempts++;\n",
       "      if (attempts > 100) {\n",
       "        console.log(\"Bokeh: ERROR: Unable to run BokehJS code because BokehJS library is missing\")\n",
       "        clearInterval(timer);\n",
       "      }\n",
       "    }, 10, root)\n",
       "  }\n",
       "})(window);"
      ],
      "application/vnd.bokehjs_exec.v0+json": ""
     },
     "metadata": {
      "application/vnd.bokehjs_exec.v0+json": {
       "id": "f19b88a0-92ec-48b5-8b33-7aec7f4a7ca7"
      }
     },
     "output_type": "display_data"
    }
   ],
   "source": [
    "p_jazz = jazzy_plot(data = iris_data_2D,\n",
    "                    clusters = clusters.labels_,\n",
    "                    labels = iris_labels,\n",
    "                    label_names = iris_names,\n",
    "                    plot_title = \"Clusters and targets comparison\")\n",
    "\n",
    "show(p_jazz)"
   ]
  },
  {
   "cell_type": "markdown",
   "metadata": {
    "slideshow": {
     "slide_type": "slide"
    }
   },
   "source": [
    "### what if I want to hide all my code so no one sees?"
   ]
  },
  {
   "cell_type": "markdown",
   "metadata": {
    "slideshow": {
     "slide_type": "fragment"
    }
   },
   "source": [
    "**Use this handy button!**"
   ]
  },
  {
   "cell_type": "code",
   "execution_count": 256,
   "metadata": {
    "slideshow": {
     "slide_type": "fragment"
    }
   },
   "outputs": [
    {
     "data": {
      "text/html": [
       "<script>\n",
       "code_show=true; \n",
       "function code_toggle() {\n",
       " if (code_show){\n",
       " $('div.input').hide();\n",
       " } else {\n",
       " $('div.input').show();\n",
       " }\n",
       " code_show = !code_show\n",
       "} \n",
       "$( document ).ready(code_toggle);\n",
       "</script>\n",
       "<form action=\"javascript:code_toggle()\"><input type=\"submit\" value=\"Click here to toggle on/off the raw code.\"></form>"
      ],
      "text/plain": [
       "<IPython.core.display.HTML object>"
      ]
     },
     "execution_count": 256,
     "metadata": {},
     "output_type": "execute_result"
    }
   ],
   "source": [
    "# source: https://stackoverflow.com/questions/27934885/how-to-hide-code-from-cells-in-ipython-notebook-visualized-with-nbviewer\n",
    "from IPython.display import HTML\n",
    "HTML('''<script>\n",
    "code_show=true; \n",
    "function code_toggle() {\n",
    " if (code_show){\n",
    " $('div.input').hide();\n",
    " } else {\n",
    " $('div.input').show();\n",
    " }\n",
    " code_show = !code_show\n",
    "} \n",
    "$( document ).ready(code_toggle);\n",
    "</script>\n",
    "<form action=\"javascript:code_toggle()\"><input type=\"submit\" value=\"Click here to toggle on/off the raw code.\"></form>''')"
   ]
  },
  {
   "cell_type": "markdown",
   "metadata": {
    "slideshow": {
     "slide_type": "slide"
    }
   },
   "source": [
    "### But I did all my code somewhere else!"
   ]
  },
  {
   "cell_type": "markdown",
   "metadata": {
    "slideshow": {
     "slide_type": "fragment"
    }
   },
   "source": [
    "Well, that sounds quite sensible, you can just output the chart html..."
   ]
  },
  {
   "cell_type": "code",
   "execution_count": 238,
   "metadata": {
    "slideshow": {
     "slide_type": "fragment"
    }
   },
   "outputs": [],
   "source": [
    "import os\n",
    "from bokeh.io import output_file\n",
    "from bokeh.plotting import reset_output\n",
    "p_jazz = jazzy_plot(data = iris_data_2D,\n",
    "                    clusters = clusters.labels_,\n",
    "                    labels = iris_labels,\n",
    "                    label_names = iris_names,\n",
    "                    plot_title = \"Clusters and targets comparison\")\n",
    "\n",
    "reset_output() #make sure you call this in bokeh 0.13.0 as otherwise it will output everything you have created which can literally break your laptop\n",
    "output_file(\"{}/figures/jazzy_plot.html\".format(os.getcwd()))\n",
    "show(p_jazz)"
   ]
  },
  {
   "cell_type": "markdown",
   "metadata": {
    "slideshow": {
     "slide_type": "subslide"
    }
   },
   "source": [
    "..then use an IFrame to display the HTML file"
   ]
  },
  {
   "cell_type": "code",
   "execution_count": 243,
   "metadata": {
    "slideshow": {
     "slide_type": "subslide"
    }
   },
   "outputs": [
    {
     "data": {
      "text/html": [
       "\n",
       "        <iframe\n",
       "            width=\"800\"\n",
       "            height=\"600\"\n",
       "            src=\"figures/jazzy_plot.html\"\n",
       "            frameborder=\"0\"\n",
       "            allowfullscreen\n",
       "        ></iframe>\n",
       "        "
      ],
      "text/plain": [
       "<IPython.lib.display.IFrame at 0x7fa3efc3bb70>"
      ]
     },
     "execution_count": 243,
     "metadata": {},
     "output_type": "execute_result"
    }
   ],
   "source": [
    "from IPython.display import IFrame\n",
    "\n",
    "IFrame(\"figures/jazzy_plot.html\".format(os.getcwd()), width = 800, height = 600)"
   ]
  },
  {
   "cell_type": "markdown",
   "metadata": {
    "slideshow": {
     "slide_type": "slide"
    }
   },
   "source": [
    "# I've made some rad slides! "
   ]
  },
  {
   "cell_type": "markdown",
   "metadata": {
    "slideshow": {
     "slide_type": "fragment"
    }
   },
   "source": [
    "neat"
   ]
  },
  {
   "cell_type": "markdown",
   "metadata": {
    "slideshow": {
     "slide_type": "fragment"
    }
   },
   "source": [
    "# But, how do I actually use them as slides?"
   ]
  },
  {
   "cell_type": "markdown",
   "metadata": {
    "slideshow": {
     "slide_type": "fragment"
    }
   },
   "source": [
    "Well there are a couple of methods...."
   ]
  },
  {
   "cell_type": "markdown",
   "metadata": {
    "slideshow": {
     "slide_type": "subslide"
    }
   },
   "source": [
    "...the first is to run a reveal.js server locally that you can view your slides."
   ]
  },
  {
   "cell_type": "code",
   "execution_count": null,
   "metadata": {
    "slideshow": {
     "slide_type": "fragment"
    }
   },
   "outputs": [],
   "source": [
    "%%bash\n",
    "\n",
    "jupyter nbconvert ~/Documents/Projects/revealjs-demo/meta-presentation.ipynb --to slides --post serve\n"
   ]
  },
  {
   "cell_type": "markdown",
   "metadata": {
    "slideshow": {
     "slide_type": "fragment"
    }
   },
   "source": [
    "(yes the %%bash magic command does mean you can run your slides from your notebook)"
   ]
  },
  {
   "cell_type": "markdown",
   "metadata": {
    "slideshow": {
     "slide_type": "subslide"
    }
   },
   "source": [
    "You can just generate the slides.html file and run it from there, if you have reveal.js cloned to your folder\n",
    "\n",
    "You can add it to your folder with the below commands"
   ]
  },
  {
   "cell_type": "code",
   "execution_count": 262,
   "metadata": {
    "slideshow": {
     "slide_type": "fragment"
    }
   },
   "outputs": [
    {
     "name": "stderr",
     "output_type": "stream",
     "text": [
      "Cloning into 'revealjs-demo/reveal.js'...\n"
     ]
    }
   ],
   "source": [
    "%%bash\n",
    "cd ~/Documents/Projects/revealjs-demo\n",
    "git submodule add https://github.com/hakimel/reveal.js.git reveal.js"
   ]
  },
  {
   "cell_type": "code",
   "execution_count": null,
   "metadata": {
    "slideshow": {
     "slide_type": "subslide"
    }
   },
   "outputs": [],
   "source": [
    "Then just drop the --post serve"
   ]
  },
  {
   "cell_type": "code",
   "execution_count": 265,
   "metadata": {
    "slideshow": {
     "slide_type": "fragment"
    }
   },
   "outputs": [
    {
     "name": "stderr",
     "output_type": "stream",
     "text": [
      "[NbConvertApp] Converting notebook /home/eddr/Documents/Projects/revealjs-demo/meta-presentation.ipynb to slides\n",
      "[NbConvertApp] Writing 448648 bytes to /home/eddr/Documents/Projects/revealjs-demo/meta-presentation.slides.html\n"
     ]
    }
   ],
   "source": [
    "%%bash\n",
    "\n",
    "jupyter nbconvert ~/Documents/Projects/revealjs-demo/meta-presentation.ipynb --to slides"
   ]
  },
  {
   "cell_type": "markdown",
   "metadata": {
    "slideshow": {
     "slide_type": "subslide"
    }
   },
   "source": [
    "lets have a look..."
   ]
  },
  {
   "cell_type": "code",
   "execution_count": 266,
   "metadata": {
    "slideshow": {
     "slide_type": "fragment"
    }
   },
   "outputs": [
    {
     "name": "stdout",
     "output_type": "stream",
     "text": [
      "figures\n",
      "images\n",
      "menu\n",
      "meta-presentation.ipynb\n",
      "meta-presentation.slides.html\n",
      "Pipfile\n",
      "Pipfile.lock\n",
      "reveal.js\n"
     ]
    }
   ],
   "source": [
    "%%bash\n",
    "cd ~/Documents/Projects/revealjs-demo\n",
    "ls"
   ]
  },
  {
   "cell_type": "markdown",
   "metadata": {
    "slideshow": {
     "slide_type": "slide"
    }
   },
   "source": [
    "# But I want to use it on another machine or share it with someone"
   ]
  },
  {
   "cell_type": "markdown",
   "metadata": {
    "slideshow": {
     "slide_type": "fragment"
    }
   },
   "source": [
    "The easiest way is to host it on github. You need to make sure you've added reveal.js as a submodule via git, like I did earlier then change your slides' name to index.html"
   ]
  },
  {
   "cell_type": "code",
   "execution_count": 269,
   "metadata": {
    "slideshow": {
     "slide_type": "fragment"
    }
   },
   "outputs": [],
   "source": [
    "%%bash\n",
    "\n",
    "cp meta-presentation.slides.html index.html"
   ]
  },
  {
   "cell_type": "code",
   "execution_count": 270,
   "metadata": {
    "slideshow": {
     "slide_type": "fragment"
    }
   },
   "outputs": [
    {
     "name": "stdout",
     "output_type": "stream",
     "text": [
      "figures\n",
      "images\n",
      "index.html\n",
      "menu\n",
      "meta-presentation.ipynb\n",
      "meta-presentation.slides.html\n",
      "Pipfile\n",
      "Pipfile.lock\n",
      "reveal.js\n"
     ]
    }
   ],
   "source": [
    "%%bash\n",
    "ls"
   ]
  },
  {
   "cell_type": "markdown",
   "metadata": {
    "slideshow": {
     "slide_type": "subslide"
    }
   },
   "source": [
    "good now create a new (empty) repo on GitHub and intialise git "
   ]
  },
  {
   "cell_type": "code",
   "execution_count": 271,
   "metadata": {
    "slideshow": {
     "slide_type": "fragment"
    }
   },
   "outputs": [
    {
     "name": "stdout",
     "output_type": "stream",
     "text": [
      "Initialised empty Git repository in /home/eddr/Documents/Projects/revealjs-demo/.git/\n"
     ]
    }
   ],
   "source": [
    "%%bash\n",
    "git init"
   ]
  },
  {
   "cell_type": "markdown",
   "metadata": {},
   "source": [
    "then"
   ]
  },
  {
   "cell_type": "code",
   "execution_count": null,
   "metadata": {},
   "outputs": [],
   "source": []
  },
  {
   "cell_type": "code",
   "execution_count": 267,
   "metadata": {},
   "outputs": [
    {
     "name": "stdout",
     "output_type": "stream",
     "text": [
      "Process is terminated.\n"
     ]
    }
   ],
   "source": [
    "%%bash\n",
    "\n",
    "jupyter nbconvert ~/Documents/Projects/revealjs-demo/meta-presentation.ipynb --to slides --post serve \n",
    "--SlidesExporter.reveal_theme=solarized\n",
    "--SlidesExporter.reveal_scroll=True \n",
    "--SlidesExporter.reveal_transition=none"
   ]
  }
 ],
 "metadata": {
  "celltoolbar": "Slideshow",
  "kernelspec": {
   "display_name": "reveal-js-demo-jB7rpN85",
   "language": "python",
   "name": "reveal-js-demo-jb7rpn85"
  },
  "language_info": {
   "codemirror_mode": {
    "name": "ipython",
    "version": 3
   },
   "file_extension": ".py",
   "mimetype": "text/x-python",
   "name": "python",
   "nbconvert_exporter": "python",
   "pygments_lexer": "ipython3",
   "version": "3.5.4"
  }
 },
 "nbformat": 4,
 "nbformat_minor": 2
}
