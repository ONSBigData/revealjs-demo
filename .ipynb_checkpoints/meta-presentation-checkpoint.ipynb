{
 "cells": [
  {
   "cell_type": "code",
   "execution_count": 342,
   "metadata": {
    "scrolled": true,
    "slideshow": {
     "slide_type": "skip"
    }
   },
   "outputs": [
    {
     "data": {
      "text/plain": [
       "{'height': 2000, 'max_height': 100, 'width': 1500}"
      ]
     },
     "execution_count": 342,
     "metadata": {},
     "output_type": "execute_result"
    }
   ],
   "source": [
    "from notebook.services.config import ConfigManager\n",
    "cm = ConfigManager()\n",
    "cm.update('livereveal', {\n",
    "          'width': 1500,\n",
    "          'height': 2000,\n",
    "         \"max_height\" : 100\n",
    "})"
   ]
  },
  {
   "cell_type": "code",
   "execution_count": null,
   "metadata": {
    "scrolled": true,
    "slideshow": {
     "slide_type": "skip"
    }
   },
   "outputs": [],
   "source": [
    "%%bash\n",
    "\n",
    "jupyter nbconvert ~/Documents/Projects/revealjs-demo/meta-presentation.ipynb --to slides --post serve --SlidesExporter.reveal_theme=serif --SlidesExporter.reveal_scroll=True --SlidesExporter.reveal_transition=slide"
   ]
  },
  {
   "cell_type": "markdown",
   "metadata": {
    "slideshow": {
     "slide_type": "slide"
    }
   },
   "source": [
    "# A meta presentation (With some examples of interactive graphs using Bokeh)\n",
    "### Or how I stopped using clunky tools like PowerPoint to present my work and learned how to use reveal.js with jupyter notebook"
   ]
  },
  {
   "cell_type": "code",
   "execution_count": 264,
   "metadata": {
    "scrolled": true,
    "slideshow": {
     "slide_type": "subslide"
    }
   },
   "outputs": [
    {
     "data": {
      "text/html": [
       "<script>\n",
       "code_show=true; \n",
       "function code_toggle() {\n",
       " if (code_show){\n",
       " $('div.input').hide();\n",
       " } else {\n",
       " $('div.input').show();\n",
       " }\n",
       " code_show = !code_show\n",
       "} \n",
       "$( document ).ready(code_toggle);\n",
       "</script>\n",
       "<form action=\"javascript:code_toggle()\"><input type=\"submit\" value=\"Click here to toggle on/off the raw code.\"></form>"
      ],
      "text/plain": [
       "<IPython.core.display.HTML object>"
      ]
     },
     "execution_count": 264,
     "metadata": {},
     "output_type": "execute_result"
    }
   ],
   "source": [
    "# source: https://stackoverflow.com/questions/27934885/how-to-hide-code-from-cells-in-ipython-notebook-visualized-with-nbviewer\n",
    "from IPython.display import HTML\n",
    "HTML('''<script>\n",
    "code_show=true; \n",
    "function code_toggle() {\n",
    " if (code_show){\n",
    " $('div.input').hide();\n",
    " } else {\n",
    " $('div.input').show();\n",
    " }\n",
    " code_show = !code_show\n",
    "} \n",
    "$( document ).ready(code_toggle);\n",
    "</script>\n",
    "<form action=\"javascript:code_toggle()\"><input type=\"submit\" value=\"Click here to toggle on/off the raw code.\"></form>''')"
   ]
  },
  {
   "cell_type": "markdown",
   "metadata": {
    "slideshow": {
     "slide_type": "slide"
    }
   },
   "source": [
    "# Contents\n"
   ]
  },
  {
   "cell_type": "markdown",
   "metadata": {
    "slideshow": {
     "slide_type": "fragment"
    }
   },
   "source": [
    "1. What? Why?\n",
    "2. Basic setup steps\n",
    "2. Formatting\n",
    "4. An example analysis, with code and charts!\n",
    "7. Publishing and running on your own machine\n",
    "8. Using gitpages for hosting and sharing slides"
   ]
  },
  {
   "cell_type": "markdown",
   "metadata": {
    "slideshow": {
     "slide_type": "slide"
    }
   },
   "source": [
    "# A meta presention? What's one of those?"
   ]
  },
  {
   "cell_type": "markdown",
   "metadata": {
    "slideshow": {
     "slide_type": "fragment"
    }
   },
   "source": [
    "It is a presentation made with Reveal.js and Jupyter Notebook about making presentations with Reveal.js and Jupyter Notebook."
   ]
  },
  {
   "cell_type": "markdown",
   "metadata": {
    "slideshow": {
     "slide_type": "fragment"
    }
   },
   "source": [
    "# Reveal.js what's that?"
   ]
  },
  {
   "cell_type": "markdown",
   "metadata": {
    "slideshow": {
     "slide_type": "fragment"
    }
   },
   "source": [
    "It is a presentation framework using HTML and javascript"
   ]
  },
  {
   "cell_type": "markdown",
   "metadata": {
    "slideshow": {
     "slide_type": "slide"
    }
   },
   "source": [
    "# Why would I want to do that?"
   ]
  },
  {
   "cell_type": "markdown",
   "metadata": {
    "slideshow": {
     "slide_type": "fragment"
    }
   },
   "source": [
    "- It is really nice for sharing code and analysis "
   ]
  },
  {
   "cell_type": "markdown",
   "metadata": {
    "slideshow": {
     "slide_type": "fragment"
    }
   },
   "source": [
    "- Also, as a training tool for teaching coding and ML "
   ]
  },
  {
   "cell_type": "markdown",
   "metadata": {
    "slideshow": {
     "slide_type": "fragment"
    }
   },
   "source": [
    "- Get rid of all that tedious mucking about exporting images and playing around drawing boxes and whatever that make PowerPoint really dull "
   ]
  },
  {
   "cell_type": "markdown",
   "metadata": {
    "slideshow": {
     "slide_type": "fragment"
    }
   },
   "source": [
    "- They look really slick"
   ]
  },
  {
   "cell_type": "markdown",
   "metadata": {
    "slideshow": {
     "slide_type": "fragment"
    }
   },
   "source": [
    "- INTERACTIVE BOKEH CHARTS! (This was the main reason I decided to use reveal.js)"
   ]
  },
  {
   "cell_type": "markdown",
   "metadata": {
    "slideshow": {
     "slide_type": "fragment"
    }
   },
   "source": [
    "- PowerPoint is kind of boring in 2018 and all the cool data scientists will be sniggering behind your back if you use it"
   ]
  },
  {
   "cell_type": "markdown",
   "metadata": {
    "slideshow": {
     "slide_type": "fragment"
    }
   },
   "source": [
    "- You can host slides remotely on the web (with gitpages) for easy access and sharing"
   ]
  },
  {
   "cell_type": "markdown",
   "metadata": {
    "slideshow": {
     "slide_type": "slide"
    }
   },
   "source": [
    "# This sounds amazing! How do I use it with Jupyter?"
   ]
  },
  {
   "cell_type": "markdown",
   "metadata": {
    "slideshow": {
     "slide_type": "subslide"
    }
   },
   "source": [
    "Select slideshow from the toolbar\n",
    "\n",
    "![toolbar](files/images/menu \"Toolbar\")"
   ]
  },
  {
   "cell_type": "markdown",
   "metadata": {
    "slideshow": {
     "slide_type": "subslide"
    }
   },
   "source": [
    "This gives you a drop down at the top right of each cell with some options. These are...\n",
    "![alt text](files/images/slide_type.png \"options\")"
   ]
  },
  {
   "cell_type": "markdown",
   "metadata": {
    "slideshow": {
     "slide_type": "subslide"
    }
   },
   "source": [
    "- Slide\n",
    "    - Creates a new slide"
   ]
  },
  {
   "cell_type": "markdown",
   "metadata": {
    "slideshow": {
     "slide_type": "fragment"
    }
   },
   "source": [
    "- Fragment\n",
    "    - create new part of a slide that appears when you press next like..."
   ]
  },
  {
   "cell_type": "markdown",
   "metadata": {
    "slideshow": {
     "slide_type": "fragment"
    }
   },
   "source": [
    "- ... this!"
   ]
  },
  {
   "cell_type": "markdown",
   "metadata": {
    "slideshow": {
     "slide_type": "fragment"
    }
   },
   "source": [
    "- Sub-slide\n",
    "    - allows you to scroll though vertically as well as horizontally like..."
   ]
  },
  {
   "cell_type": "markdown",
   "metadata": {
    "slideshow": {
     "slide_type": "subslide"
    }
   },
   "source": [
    " - ...this"
   ]
  },
  {
   "cell_type": "markdown",
   "metadata": {
    "slideshow": {
     "slide_type": "fragment"
    }
   },
   "source": [
    "- Skip means you skip this slide in your presentation"
   ]
  },
  {
   "cell_type": "markdown",
   "metadata": {
    "slideshow": {
     "slide_type": "fragment"
    }
   },
   "source": [
    "- Note means this is a notes slide, you can see these in speaker view [S]"
   ]
  },
  {
   "cell_type": "markdown",
   "metadata": {
    "slideshow": {
     "slide_type": "notes"
    }
   },
   "source": [
    "Enter speaker view and show everyone this!"
   ]
  },
  {
   "cell_type": "markdown",
   "metadata": {
    "slideshow": {
     "slide_type": "slide"
    }
   },
   "source": [
    "# How do I format text and stuff?"
   ]
  },
  {
   "cell_type": "markdown",
   "metadata": {
    "slideshow": {
     "slide_type": "fragment"
    }
   },
   "source": [
    "Just use standard Markdown"
   ]
  },
  {
   "cell_type": "markdown",
   "metadata": {
    "slideshow": {
     "slide_type": "subslide"
    }
   },
   "source": [
    "```\n",
    "# A hash (#) preceding the text means it is formatted as heading 1\n",
    "## two hashes means heading 2\n",
    "### three means heading 3\n",
    "#### and so on\n",
    "```"
   ]
  },
  {
   "cell_type": "markdown",
   "metadata": {
    "slideshow": {
     "slide_type": "fragment"
    }
   },
   "source": [
    "# A hash (#) preceding the text means it is formatted as heading 1"
   ]
  },
  {
   "cell_type": "markdown",
   "metadata": {
    "slideshow": {
     "slide_type": "fragment"
    }
   },
   "source": [
    " ## two hashes means heading 2"
   ]
  },
  {
   "cell_type": "markdown",
   "metadata": {
    "slideshow": {
     "slide_type": "fragment"
    }
   },
   "source": [
    "### three means heading 3"
   ]
  },
  {
   "cell_type": "markdown",
   "metadata": {
    "slideshow": {
     "slide_type": "fragment"
    }
   },
   "source": [
    "#### and so on"
   ]
  },
  {
   "cell_type": "markdown",
   "metadata": {
    "slideshow": {
     "slide_type": "subslide"
    }
   },
   "source": [
    "# Lists"
   ]
  },
  {
   "cell_type": "markdown",
   "metadata": {
    "slideshow": {
     "slide_type": "fragment"
    }
   },
   "source": [
    "Adding a - before creates a..."
   ]
  },
  {
   "cell_type": "markdown",
   "metadata": {
    "slideshow": {
     "slide_type": "fragment"
    }
   },
   "source": [
    "```\n",
    "- bullet\n",
    "- point\n",
    "- list\n",
    "```"
   ]
  },
  {
   "cell_type": "markdown",
   "metadata": {
    "slideshow": {
     "slide_type": "fragment"
    }
   },
   "source": [
    "- bullet\n",
    "- point\n",
    "- list"
   ]
  },
  {
   "cell_type": "markdown",
   "metadata": {
    "slideshow": {
     "slide_type": "subslide"
    }
   },
   "source": [
    "## While..."
   ]
  },
  {
   "cell_type": "markdown",
   "metadata": {
    "slideshow": {
     "slide_type": "fragment"
    }
   },
   "source": [
    "... adding a number and a full stop"
   ]
  },
  {
   "cell_type": "markdown",
   "metadata": {
    "slideshow": {
     "slide_type": "fragment"
    }
   },
   "source": [
    "```\n",
    "1. creates a\n",
    "2. numbered\n",
    "3. list\n",
    "```"
   ]
  },
  {
   "cell_type": "markdown",
   "metadata": {
    "slideshow": {
     "slide_type": "fragment"
    }
   },
   "source": [
    "1. creates a\n",
    "2. numbered\n",
    "3. list"
   ]
  },
  {
   "cell_type": "markdown",
   "metadata": {
    "slideshow": {
     "slide_type": "subslide"
    }
   },
   "source": [
    "## also...\n",
    "\n",
    "```\n",
    "**is bold text**\n",
    "_italic text_\n",
    "~~strikethrough~~\n",
    "\n",
    "```\n",
    "**bold text**\n",
    "\n",
    "_italic text_ \n",
    "\n",
    "~~strikethrough~~ \n"
   ]
  },
  {
   "cell_type": "markdown",
   "metadata": {
    "slideshow": {
     "slide_type": "subslide"
    }
   },
   "source": [
    "# ... anything else?"
   ]
  },
  {
   "cell_type": "markdown",
   "metadata": {
    "slideshow": {
     "slide_type": "fragment"
    }
   },
   "source": [
    "Well, anything you can do in Markdown with Jupyter or with HTML. A couple more examples..."
   ]
  },
  {
   "cell_type": "markdown",
   "metadata": {
    "slideshow": {
     "slide_type": "subslide"
    }
   },
   "source": [
    "## Images\n",
    "\n",
    "```\n",
    "Format: ![Alt Text](location \"hover text\") \n",
    "\n",
    "```\n",
    "\n",
    "e.g. \n",
    "\n",
    "```\n",
    "![Goat](files/images/goat.png \"mmmheaaaaa\")\n",
    "```\n",
    "\n",
    "![Goat](files/images/goat.png \"mmmheaaaaa\")"
   ]
  },
  {
   "cell_type": "markdown",
   "metadata": {
    "slideshow": {
     "slide_type": "subslide"
    }
   },
   "source": [
    "## Links\n",
    "\n",
    "```\n",
    "[I'm an inline-style link with title](https://www.ons.gov.uk \"ONS Homepage\")\n",
    "```\n",
    "[I'm an inline-style link with title](https://www.ons.gov.uk \"ONS Homepage\")"
   ]
  },
  {
   "cell_type": "markdown",
   "metadata": {
    "slideshow": {
     "slide_type": "slide"
    }
   },
   "source": [
    "# Ok, but what would be really useful is to show code in my presentation"
   ]
  },
  {
   "cell_type": "markdown",
   "metadata": {
    "slideshow": {
     "slide_type": "fragment"
    }
   },
   "source": [
    "One of the most useful things about using reveal.js with jupyter is that you can show code easily in your presentation."
   ]
  },
  {
   "cell_type": "markdown",
   "metadata": {
    "slideshow": {
     "slide_type": "subslide"
    }
   },
   "source": [
    "# Can you give me an example?"
   ]
  },
  {
   "cell_type": "markdown",
   "metadata": {
    "slideshow": {
     "slide_type": "fragment"
    }
   },
   "source": [
    "yes..."
   ]
  },
  {
   "cell_type": "markdown",
   "metadata": {
    "slideshow": {
     "slide_type": "subslide"
    }
   },
   "source": [
    "## A clustering example\n"
   ]
  },
  {
   "cell_type": "code",
   "execution_count": 88,
   "metadata": {
    "scrolled": true,
    "slideshow": {
     "slide_type": "fragment"
    }
   },
   "outputs": [
    {
     "name": "stdout",
     "output_type": "stream",
     "text": [
      "iris dimensions: (150, 4)\n"
     ]
    }
   ],
   "source": [
    "#import modules and functions we need\n",
    "from sklearn import datasets\n",
    "from sklearn.preprocessing import StandardScaler\n",
    "from sklearn.cluster import KMeans\n",
    "from sklearn.decomposition import PCA\n",
    "\n",
    "# load data\n",
    "iris_data = datasets.load_iris().data\n",
    "iris_labels = np.asarray(datasets.load_iris().target) #array for boolean later\n",
    "\n",
    "print(\"iris dimensions: {}\".format(iris_data.shape))"
   ]
  },
  {
   "cell_type": "code",
   "execution_count": null,
   "metadata": {
    "scrolled": true,
    "slideshow": {
     "slide_type": "skip"
    }
   },
   "outputs": [],
   "source": [
    "#to make the colours match in the graphs\n",
    "iris_labels = [2 if label == 1 else 1 if label == 2 else label for label in iris.target]"
   ]
  },
  {
   "cell_type": "markdown",
   "metadata": {
    "slideshow": {
     "slide_type": "subslide"
    }
   },
   "source": [
    "To plot this on a 2D scatter, we reduce four features into two with Principle Components Analysis"
   ]
  },
  {
   "cell_type": "code",
   "execution_count": 383,
   "metadata": {
    "scrolled": true,
    "slideshow": {
     "slide_type": "fragment"
    }
   },
   "outputs": [
    {
     "name": "stdout",
     "output_type": "stream",
     "text": [
      "iris reduced dimensions: (150, 2)\n"
     ]
    }
   ],
   "source": [
    "iris_data_2D = PCA(n_components = 2).fit_transform(iris_data)\n",
    "\n",
    "print(\"iris reduced dimensions: {}\".format(iris_data_2D.shape))"
   ]
  },
  {
   "cell_type": "markdown",
   "metadata": {
    "slideshow": {
     "slide_type": "subslide"
    }
   },
   "source": [
    "### Plot with bokeh"
   ]
  },
  {
   "cell_type": "code",
   "execution_count": 295,
   "metadata": {
    "scrolled": true,
    "slideshow": {
     "slide_type": "subslide"
    }
   },
   "outputs": [
    {
     "data": {
      "text/html": [
       "<div style=\"display: table;\"><div style=\"display: table-row;\"><div style=\"display: table-cell;\"><b title=\"bokeh.models.renderers.GlyphRenderer\">GlyphRenderer</b>(</div><div style=\"display: table-cell;\">id&nbsp;=&nbsp;'17aff72d-2293-4c09-a3f3-379f980f7e8c', <span id=\"2d4e49be-2689-48b7-b0cd-cfd07af032f9\" style=\"cursor: pointer;\">&hellip;)</span></div></div><div class=\"346cf15f-7567-4338-af2f-0ea2c9ae80ea\" style=\"display: none;\"><div style=\"display: table-cell;\"></div><div style=\"display: table-cell;\">data_source&nbsp;=&nbsp;ColumnDataSource(id='075929ef-0cb3-4be8-82b4-2753fda4ba74', ...),</div></div><div class=\"346cf15f-7567-4338-af2f-0ea2c9ae80ea\" style=\"display: none;\"><div style=\"display: table-cell;\"></div><div style=\"display: table-cell;\">glyph&nbsp;=&nbsp;Circle(id='ec4d1248-7107-4036-8f84-d777974f6c80', ...),</div></div><div class=\"346cf15f-7567-4338-af2f-0ea2c9ae80ea\" style=\"display: none;\"><div style=\"display: table-cell;\"></div><div style=\"display: table-cell;\">hover_glyph&nbsp;=&nbsp;None,</div></div><div class=\"346cf15f-7567-4338-af2f-0ea2c9ae80ea\" style=\"display: none;\"><div style=\"display: table-cell;\"></div><div style=\"display: table-cell;\">js_event_callbacks&nbsp;=&nbsp;{},</div></div><div class=\"346cf15f-7567-4338-af2f-0ea2c9ae80ea\" style=\"display: none;\"><div style=\"display: table-cell;\"></div><div style=\"display: table-cell;\">js_property_callbacks&nbsp;=&nbsp;{},</div></div><div class=\"346cf15f-7567-4338-af2f-0ea2c9ae80ea\" style=\"display: none;\"><div style=\"display: table-cell;\"></div><div style=\"display: table-cell;\">level&nbsp;=&nbsp;'glyph',</div></div><div class=\"346cf15f-7567-4338-af2f-0ea2c9ae80ea\" style=\"display: none;\"><div style=\"display: table-cell;\"></div><div style=\"display: table-cell;\">muted&nbsp;=&nbsp;False,</div></div><div class=\"346cf15f-7567-4338-af2f-0ea2c9ae80ea\" style=\"display: none;\"><div style=\"display: table-cell;\"></div><div style=\"display: table-cell;\">muted_glyph&nbsp;=&nbsp;None,</div></div><div class=\"346cf15f-7567-4338-af2f-0ea2c9ae80ea\" style=\"display: none;\"><div style=\"display: table-cell;\"></div><div style=\"display: table-cell;\">name&nbsp;=&nbsp;None,</div></div><div class=\"346cf15f-7567-4338-af2f-0ea2c9ae80ea\" style=\"display: none;\"><div style=\"display: table-cell;\"></div><div style=\"display: table-cell;\">nonselection_glyph&nbsp;=&nbsp;Circle(id='f3f01db6-ed1d-4d62-ab07-2c3a4efe7932', ...),</div></div><div class=\"346cf15f-7567-4338-af2f-0ea2c9ae80ea\" style=\"display: none;\"><div style=\"display: table-cell;\"></div><div style=\"display: table-cell;\">selection_glyph&nbsp;=&nbsp;None,</div></div><div class=\"346cf15f-7567-4338-af2f-0ea2c9ae80ea\" style=\"display: none;\"><div style=\"display: table-cell;\"></div><div style=\"display: table-cell;\">subscribed_events&nbsp;=&nbsp;[],</div></div><div class=\"346cf15f-7567-4338-af2f-0ea2c9ae80ea\" style=\"display: none;\"><div style=\"display: table-cell;\"></div><div style=\"display: table-cell;\">tags&nbsp;=&nbsp;[],</div></div><div class=\"346cf15f-7567-4338-af2f-0ea2c9ae80ea\" style=\"display: none;\"><div style=\"display: table-cell;\"></div><div style=\"display: table-cell;\">view&nbsp;=&nbsp;CDSView(id='97135207-cf6b-42df-b36c-b97dc16de296', ...),</div></div><div class=\"346cf15f-7567-4338-af2f-0ea2c9ae80ea\" style=\"display: none;\"><div style=\"display: table-cell;\"></div><div style=\"display: table-cell;\">visible&nbsp;=&nbsp;True,</div></div><div class=\"346cf15f-7567-4338-af2f-0ea2c9ae80ea\" style=\"display: none;\"><div style=\"display: table-cell;\"></div><div style=\"display: table-cell;\">x_range_name&nbsp;=&nbsp;'default',</div></div><div class=\"346cf15f-7567-4338-af2f-0ea2c9ae80ea\" style=\"display: none;\"><div style=\"display: table-cell;\"></div><div style=\"display: table-cell;\">y_range_name&nbsp;=&nbsp;'default')</div></div></div>\n",
       "<script>\n",
       "(function() {\n",
       "  var expanded = false;\n",
       "  var ellipsis = document.getElementById(\"2d4e49be-2689-48b7-b0cd-cfd07af032f9\");\n",
       "  ellipsis.addEventListener(\"click\", function() {\n",
       "    var rows = document.getElementsByClassName(\"346cf15f-7567-4338-af2f-0ea2c9ae80ea\");\n",
       "    for (var i = 0; i < rows.length; i++) {\n",
       "      var el = rows[i];\n",
       "      el.style.display = expanded ? \"none\" : \"table-row\";\n",
       "    }\n",
       "    ellipsis.innerHTML = expanded ? \"&hellip;)\" : \"&lsaquo;&lsaquo;&lsaquo;\";\n",
       "    expanded = !expanded;\n",
       "  });\n",
       "})();\n",
       "</script>\n"
      ],
      "text/plain": [
       "bokeh.models.renderers.GlyphRenderer(\n",
       "    id='17aff72d-2293-4c09-a3f3-379f980f7e8c',\n",
       "    data_source=bokeh.models.sources.ColumnDataSource(\n",
       "        id='075929ef-0cb3-4be8-82b4-2753fda4ba74',\n",
       "        callback=None,\n",
       "        data={'x': {'__ndarray__': '2xfQlUF5BcB7HBC3HrkFwIEB8LRZHgfA4au3ELT4BcArfKiOKNQFwPou3tM6PQLAoXRMIi+RBsCf3sb9CAMFwJ6OMgWKGgfABFbgrghkBcBfEdbqXQ0EwLQJll635wTAl1U1L6pMBsCBXT7kNc0JwFSZcvz5JQXAaz99FCoSA8CXoJoE7/oEwH0CKtTDLwXAjJitL7aXAcDNpwaP4rIEwNoWbAv4ewLA3FEHi4tYBMC+fGGZE7oJwGkBnqfObALAf7QIOnDZAsDwvzLoNhAEwHyXS26gwAPAttch08Z/BMCLs/ecWh4FwE2sYpASEAXA/UeKlyu1BMDuJH6g1kcDwIFw3yJcLgXA5ExEjPvGBMAEVuCuCGQFwK+yoZ2d7wbATKUCyHcABcAEVuCuCGQFwJfrulPQ2gfA4rpHR/u4BMCjQtiWPikGwH7uJAtU0QbAu2xt2IL8B8BVrVgtfj4DwNMgpJywqwHA3Crpq665BcDDoH1E80wEwNkIQF/6uAbAHTVVoWtXBMB1upzHnKEFwDj1DcWEjvQ/4wJQE0/W7T84y8qQy2z3Pxa3dPTuKcc/SIbOIedk8T9XeMs1dX7kPyjV/0sJhvE/8Ukj0QQM6L8q94EDWbHwP5EZKSSI3oS/n84ZcNFa4L/N5/VR6lrgPwL1T+kbytA/mupp/Ep97z+eXdiQ8WHGv/7qVXOtru0/uo81VmIb5T8BC8kJbQXOP8j7SL3TJ+4/OropZmQkpj+jxq87H9zxP0f4HlSX1dY/LCUEH1a+9D/0QZ74wXTtP5Z71cAn2eY/TV6+otvJ7D+fozkW8kv1P6hLd1oY6/g/3s2Mx6L/6T8m5x9lX6vTv0kVi9f9AbK/5aYYyauPyL/TKai4g0fBP8forIJOD/Y/znE8ovTK4j/oFyyfoNTpP6PKEYbghvM/8GvzTwMD6j9qeUwYjmLPP9mkTKnGDsU/1y+Pukyi3T+udkjCMXzsP2f5LaHoS80/tLjB7Wig5r+pLf2lDcHWP/uSZxQvMdU/d0JiNOcD2D+oXdwMuojkP6stLLIhEu2/ymOz5UgP0z8ZHDsT+kAEQP/ZlDIKoPY/4Il4e4/uBEBsLrJAdYj/P2Ss9OlNzAJAZAM+Yc8sC0BVXXecyZ7gP3BDmha/dAdAROEYnLCOAkB1uNbCVlgHQGVzWBlJl/o/gfhG8WLW/D8LrT4nslIBQL2G6Tl1g/U/gy5fPkFd+T+5Hftm1Hn+P3IDnn0fMP8/WVTI0v3oC0BgqfvIhFsOQPYKf371xfQ/LrO19OJsA0AFg3UmaCvzP1Sv+OZ+/gtAFaODn+Mz9j9lABLC8jQCQMkIgnTe6QRApqF0lTsf9D+wkG83lab0P5+7I96a+wBAZCaKXbsZA0BRhLq4SboGQOIb7ZfW2wlA/NDJnxhFAUBZE6nB8hb3P/d3nOdnefw/3MMdXrecCECLVH/e7igBQNU67YtRev4/ZRATsp+z8j/RczWPedwAQDmlh3+xgwJAqpLo21vC/j//2ZQyCqD2Pz7IlFavgQRA21WqyOlaA0CnvfyesRr/P+QIk0Qeafg/fq4bO4g5/D9IxfebEm3+P1VzL44SPPY/',\n",
       "          'dtype': 'float64',\n",
       "          'shape': (150,)},\n",
       "         'y': {'__ndarray__': 'DAnjXSLn1D9+cojtCbTFvxRbwHqKlMG/sEpJ9nXp07+t4vYhBV/VP3IdOgPW7ec/5n+0Hc0Etb9ZiGys18/FP6rl9jj6Q+K/bV5fwiVQu7+J6VrRptzkP4aQ1SmBCZY/lteXK5cmzb/tKP933hrgv7iauoCn+vI/yp2wIR2E9T8azrJlyi3qPyFyvDO8bNQ/a8Vxf8Qi7D+GQSNVuKfgPyq5dpiqdtk/Icnd8nop3D+sPF6EdSDCPyzV18SIA7s//f56EWj1n7/yQB0gmczBv1F8WaFKpsE/E/rU9dT61z9RL8+ZP2/UPwBtKqJnVMi/aCBSKi1Eyb8hPKKm0sHaP7ExxDdMPeo/C8nal7CZ8T9tXl/CJVC7v/wbnD3twrM/eEPs2edq4z9tXl/CJVC7v+lPb7NqvN6/IBvJPjE3zj8OgcqbCVnRP3lJm3gI2u2/vgnrmEtl1b8aZ0MT0RPJP+mKLrshVdw/9jIy1C8Qz7/JYJhR7lTgP4+elW/YO8y/0sTDbNDC4j+m5cHoWXG9P9DO+ige7+U/Bf8x071t1D/T9HK3UiLgPwt1I/ZYa+q/+45t2MhMsz97Yc2NbbXavyiRpgpGK9I/JhTAT4kE8L/Q+7HBdU7NPzy82QXzDue/DNFUwyoz9L/UtBKGSi+6v8zsloZXiOG/KoHFoRXWv7/obJoOvx3Qv06n3fyU990/bZLEkMeG1r9TFXwONT7Vv07536GbVuG/QWqFwY+b4r8J9nizDI+1vwsJmstdG7G/SaG8l8T21L9gq8xCkVjHvzToYsSfP8M/yTptplgY1T9GTKiyVFHPP8Ctvcn1HNE/wR+b8kfHxL/db4I9lF3Xv1R0H9Qwe+a/v/xtpgCu5b9eklAADfPTv89+YmUG9dq/MSUhIyHu3r9gEa09h/fIP38HAj9AHdo/JwDGZzS5179vA4Z3EhLRv/VR4WjJv+W/pKWl78Js5b8AJ5dP3U+hv8YNz76Wvtm/lArFAIIi8L+AYkSoXRrgv/z22mrzB8u/bDXWbO+p0r9+FE79ZIeTP0+U6drZDOi/LwDcyIQ11r+nFKcYvkCIvxRrGTvJZeK/Cl29ikTi1T+Fh5xzIC/HvxHPFCqhcaW/5zD/j2aC4T9UHOjJxg/zvwQwWklYjdY/MbYsWR9uz795tjLM4PjoP4CIakQd+84/spwrQ/Sqy79HxEfoTY7LPyDSZyll2Oi/qNLY3QBC4b+2Fmrg62q+P7VTZriY2qQ/LbX2faW+8j8+6CHMgDXQP4gfJeY5Wui/Z5MQITId2D8Pln0h52Djv5KjksfGO90/TT9Y968dyr9XUUNwNFbVP22s010k3uE/Sdu3DPbtxr/vJAmZC869v+bDq/hK/cq/BvHoV+qZ3T8scJi9A9vXP4tnjpyq7fU/lvH4TBfyy79j0d2kFGjCvzdyq+X/C+C/lZuGRcjx5T8txSkXscfBP00hBdmumag/lHRo/GoOxb/4ptB7XcbXP/s9DxG6X8c/QoI4u38x2j8Uaxk7yWXiv1OZafWQqdE/9/Wox5ts0z8S6LrUOP3HP/pUk3FXANi//JbSWdUZtD+1ghc8Gaq9P6aMF9vQGtK/',\n",
       "          'dtype': 'float64',\n",
       "          'shape': (150,)}},\n",
       "        js_event_callbacks={},\n",
       "        js_property_callbacks={},\n",
       "        name=None,\n",
       "        selected=bokeh.models.selections.Selection(\n",
       "            id='43879b8c-00e3-4e33-890c-dbe9956a01fc',\n",
       "            indices=[],\n",
       "            js_event_callbacks={},\n",
       "            js_property_callbacks={},\n",
       "            line_indices=[],\n",
       "            multiline_indices={},\n",
       "            name=None,\n",
       "            subscribed_events=[],\n",
       "            tags=[]),\n",
       "        selection_policy=bokeh.models.selections.UnionRenderers(\n",
       "            id='02925415-e0c9-455f-93e9-656997dbf885',\n",
       "            js_event_callbacks={},\n",
       "            js_property_callbacks={},\n",
       "            name=None,\n",
       "            subscribed_events=[],\n",
       "            tags=[]),\n",
       "        subscribed_events=[],\n",
       "        tags=[]),\n",
       "    glyph=bokeh.models.markers.Circle(\n",
       "        id='ec4d1248-7107-4036-8f84-d777974f6c80',\n",
       "        angle={'units': 'rad', 'value': 0.0},\n",
       "        fill_alpha={'value': 0.5},\n",
       "        fill_color={'value': 'navy'},\n",
       "        js_event_callbacks={},\n",
       "        js_property_callbacks={},\n",
       "        line_alpha={'value': 0.5},\n",
       "        line_cap='butt',\n",
       "        line_color={'value': 'navy'},\n",
       "        line_dash=[],\n",
       "        line_dash_offset=0,\n",
       "        line_join='bevel',\n",
       "        line_width={'value': 1},\n",
       "        name=None,\n",
       "        radius=None,\n",
       "        radius_dimension='x',\n",
       "        size={'units': 'screen', 'value': 5},\n",
       "        subscribed_events=[],\n",
       "        tags=[],\n",
       "        x={'field': 'x'},\n",
       "        y={'field': 'y'}),\n",
       "    hover_glyph=None,\n",
       "    js_event_callbacks={},\n",
       "    js_property_callbacks={},\n",
       "    level='glyph',\n",
       "    muted=False,\n",
       "    muted_glyph=None,\n",
       "    name=None,\n",
       "    nonselection_glyph=bokeh.models.markers.Circle(\n",
       "        id='f3f01db6-ed1d-4d62-ab07-2c3a4efe7932',\n",
       "        angle={'units': 'rad', 'value': 0.0},\n",
       "        fill_alpha={'value': 0.1},\n",
       "        fill_color={'value': '#1f77b4'},\n",
       "        js_event_callbacks={},\n",
       "        js_property_callbacks={},\n",
       "        line_alpha={'value': 0.1},\n",
       "        line_cap='butt',\n",
       "        line_color={'value': '#1f77b4'},\n",
       "        line_dash=[],\n",
       "        line_dash_offset=0,\n",
       "        line_join='bevel',\n",
       "        line_width={'value': 1},\n",
       "        name=None,\n",
       "        radius=None,\n",
       "        radius_dimension='x',\n",
       "        size={'units': 'screen', 'value': 5},\n",
       "        subscribed_events=[],\n",
       "        tags=[],\n",
       "        x={'field': 'x'},\n",
       "        y={'field': 'y'}),\n",
       "    selection_glyph=None,\n",
       "    subscribed_events=[],\n",
       "    tags=[],\n",
       "    view=bokeh.models.sources.CDSView(\n",
       "        id='97135207-cf6b-42df-b36c-b97dc16de296',\n",
       "        filters=[],\n",
       "        js_event_callbacks={},\n",
       "        js_property_callbacks={},\n",
       "        name=None,\n",
       "        source=bokeh.models.sources.ColumnDataSource(\n",
       "            id='075929ef-0cb3-4be8-82b4-2753fda4ba74',\n",
       "            callback=None,\n",
       "            data={'x': {'__ndarray__': '2xfQlUF5BcB7HBC3HrkFwIEB8LRZHgfA4au3ELT4BcArfKiOKNQFwPou3tM6PQLAoXRMIi+RBsCf3sb9CAMFwJ6OMgWKGgfABFbgrghkBcBfEdbqXQ0EwLQJll635wTAl1U1L6pMBsCBXT7kNc0JwFSZcvz5JQXAaz99FCoSA8CXoJoE7/oEwH0CKtTDLwXAjJitL7aXAcDNpwaP4rIEwNoWbAv4ewLA3FEHi4tYBMC+fGGZE7oJwGkBnqfObALAf7QIOnDZAsDwvzLoNhAEwHyXS26gwAPAttch08Z/BMCLs/ecWh4FwE2sYpASEAXA/UeKlyu1BMDuJH6g1kcDwIFw3yJcLgXA5ExEjPvGBMAEVuCuCGQFwK+yoZ2d7wbATKUCyHcABcAEVuCuCGQFwJfrulPQ2gfA4rpHR/u4BMCjQtiWPikGwH7uJAtU0QbAu2xt2IL8B8BVrVgtfj4DwNMgpJywqwHA3Crpq665BcDDoH1E80wEwNkIQF/6uAbAHTVVoWtXBMB1upzHnKEFwDj1DcWEjvQ/4wJQE0/W7T84y8qQy2z3Pxa3dPTuKcc/SIbOIedk8T9XeMs1dX7kPyjV/0sJhvE/8Ukj0QQM6L8q94EDWbHwP5EZKSSI3oS/n84ZcNFa4L/N5/VR6lrgPwL1T+kbytA/mupp/Ep97z+eXdiQ8WHGv/7qVXOtru0/uo81VmIb5T8BC8kJbQXOP8j7SL3TJ+4/OropZmQkpj+jxq87H9zxP0f4HlSX1dY/LCUEH1a+9D/0QZ74wXTtP5Z71cAn2eY/TV6+otvJ7D+fozkW8kv1P6hLd1oY6/g/3s2Mx6L/6T8m5x9lX6vTv0kVi9f9AbK/5aYYyauPyL/TKai4g0fBP8forIJOD/Y/znE8ovTK4j/oFyyfoNTpP6PKEYbghvM/8GvzTwMD6j9qeUwYjmLPP9mkTKnGDsU/1y+Pukyi3T+udkjCMXzsP2f5LaHoS80/tLjB7Wig5r+pLf2lDcHWP/uSZxQvMdU/d0JiNOcD2D+oXdwMuojkP6stLLIhEu2/ymOz5UgP0z8ZHDsT+kAEQP/ZlDIKoPY/4Il4e4/uBEBsLrJAdYj/P2Ss9OlNzAJAZAM+Yc8sC0BVXXecyZ7gP3BDmha/dAdAROEYnLCOAkB1uNbCVlgHQGVzWBlJl/o/gfhG8WLW/D8LrT4nslIBQL2G6Tl1g/U/gy5fPkFd+T+5Hftm1Hn+P3IDnn0fMP8/WVTI0v3oC0BgqfvIhFsOQPYKf371xfQ/LrO19OJsA0AFg3UmaCvzP1Sv+OZ+/gtAFaODn+Mz9j9lABLC8jQCQMkIgnTe6QRApqF0lTsf9D+wkG83lab0P5+7I96a+wBAZCaKXbsZA0BRhLq4SboGQOIb7ZfW2wlA/NDJnxhFAUBZE6nB8hb3P/d3nOdnefw/3MMdXrecCECLVH/e7igBQNU67YtRev4/ZRATsp+z8j/RczWPedwAQDmlh3+xgwJAqpLo21vC/j//2ZQyCqD2Pz7IlFavgQRA21WqyOlaA0CnvfyesRr/P+QIk0Qeafg/fq4bO4g5/D9IxfebEm3+P1VzL44SPPY/',\n",
       "              'dtype': 'float64',\n",
       "              'shape': (150,)},\n",
       "             'y': {'__ndarray__': 'DAnjXSLn1D9+cojtCbTFvxRbwHqKlMG/sEpJ9nXp07+t4vYhBV/VP3IdOgPW7ec/5n+0Hc0Etb9ZiGys18/FP6rl9jj6Q+K/bV5fwiVQu7+J6VrRptzkP4aQ1SmBCZY/lteXK5cmzb/tKP933hrgv7iauoCn+vI/yp2wIR2E9T8azrJlyi3qPyFyvDO8bNQ/a8Vxf8Qi7D+GQSNVuKfgPyq5dpiqdtk/Icnd8nop3D+sPF6EdSDCPyzV18SIA7s//f56EWj1n7/yQB0gmczBv1F8WaFKpsE/E/rU9dT61z9RL8+ZP2/UPwBtKqJnVMi/aCBSKi1Eyb8hPKKm0sHaP7ExxDdMPeo/C8nal7CZ8T9tXl/CJVC7v/wbnD3twrM/eEPs2edq4z9tXl/CJVC7v+lPb7NqvN6/IBvJPjE3zj8OgcqbCVnRP3lJm3gI2u2/vgnrmEtl1b8aZ0MT0RPJP+mKLrshVdw/9jIy1C8Qz7/JYJhR7lTgP4+elW/YO8y/0sTDbNDC4j+m5cHoWXG9P9DO+ige7+U/Bf8x071t1D/T9HK3UiLgPwt1I/ZYa+q/+45t2MhMsz97Yc2NbbXavyiRpgpGK9I/JhTAT4kE8L/Q+7HBdU7NPzy82QXzDue/DNFUwyoz9L/UtBKGSi+6v8zsloZXiOG/KoHFoRXWv7/obJoOvx3Qv06n3fyU990/bZLEkMeG1r9TFXwONT7Vv07536GbVuG/QWqFwY+b4r8J9nizDI+1vwsJmstdG7G/SaG8l8T21L9gq8xCkVjHvzToYsSfP8M/yTptplgY1T9GTKiyVFHPP8Ctvcn1HNE/wR+b8kfHxL/db4I9lF3Xv1R0H9Qwe+a/v/xtpgCu5b9eklAADfPTv89+YmUG9dq/MSUhIyHu3r9gEa09h/fIP38HAj9AHdo/JwDGZzS5179vA4Z3EhLRv/VR4WjJv+W/pKWl78Js5b8AJ5dP3U+hv8YNz76Wvtm/lArFAIIi8L+AYkSoXRrgv/z22mrzB8u/bDXWbO+p0r9+FE79ZIeTP0+U6drZDOi/LwDcyIQ11r+nFKcYvkCIvxRrGTvJZeK/Cl29ikTi1T+Fh5xzIC/HvxHPFCqhcaW/5zD/j2aC4T9UHOjJxg/zvwQwWklYjdY/MbYsWR9uz795tjLM4PjoP4CIakQd+84/spwrQ/Sqy79HxEfoTY7LPyDSZyll2Oi/qNLY3QBC4b+2Fmrg62q+P7VTZriY2qQ/LbX2faW+8j8+6CHMgDXQP4gfJeY5Wui/Z5MQITId2D8Pln0h52Djv5KjksfGO90/TT9Y968dyr9XUUNwNFbVP22s010k3uE/Sdu3DPbtxr/vJAmZC869v+bDq/hK/cq/BvHoV+qZ3T8scJi9A9vXP4tnjpyq7fU/lvH4TBfyy79j0d2kFGjCvzdyq+X/C+C/lZuGRcjx5T8txSkXscfBP00hBdmumag/lHRo/GoOxb/4ptB7XcbXP/s9DxG6X8c/QoI4u38x2j8Uaxk7yWXiv1OZafWQqdE/9/Wox5ts0z8S6LrUOP3HP/pUk3FXANi//JbSWdUZtD+1ghc8Gaq9P6aMF9vQGtK/',\n",
       "              'dtype': 'float64',\n",
       "              'shape': (150,)}},\n",
       "            js_event_callbacks={},\n",
       "            js_property_callbacks={},\n",
       "            name=None,\n",
       "            selected=bokeh.models.selections.Selection(\n",
       "                id='43879b8c-00e3-4e33-890c-dbe9956a01fc',\n",
       "                indices=[],\n",
       "                js_event_callbacks={},\n",
       "                js_property_callbacks={},\n",
       "                line_indices=[],\n",
       "                multiline_indices={},\n",
       "                name=None,\n",
       "                subscribed_events=[],\n",
       "                tags=[]),\n",
       "            selection_policy=bokeh.models.selections.UnionRenderers(\n",
       "                id='02925415-e0c9-455f-93e9-656997dbf885',\n",
       "                js_event_callbacks={},\n",
       "                js_property_callbacks={},\n",
       "                name=None,\n",
       "                subscribed_events=[],\n",
       "                tags=[]),\n",
       "            subscribed_events=[],\n",
       "            tags=[]),\n",
       "        subscribed_events=[],\n",
       "        tags=[]),\n",
       "    visible=True,\n",
       "    x_range_name='default',\n",
       "    y_range_name='default')"
      ]
     },
     "execution_count": 295,
     "metadata": {},
     "output_type": "execute_result"
    }
   ],
   "source": [
    "from bokeh.plotting import figure, show\n",
    "from bokeh.io import output_notebook, reset_output\n",
    "\n",
    "#create figure\n",
    "p = figure(title = \"Principle components of the iris data\",\n",
    "           x_axis_label = \"PCA component 1\",\n",
    "           y_axis_label = \"PCA component 2\",\n",
    "           plot_width=600, \n",
    "           plot_height=400\n",
    "          )\n",
    "\n",
    "# plot points on the figure\n",
    "p.circle(iris_data_2D[:,0], \n",
    "         iris_data_2D[:,1], \n",
    "         size=5, \n",
    "         color=\"navy\", \n",
    "         alpha=0.5\n",
    "        )"
   ]
  },
  {
   "cell_type": "code",
   "execution_count": 296,
   "metadata": {
    "scrolled": true,
    "slideshow": {
     "slide_type": "subslide"
    }
   },
   "outputs": [
    {
     "data": {
      "text/html": [
       "\n",
       "    <div class=\"bk-root\">\n",
       "        <a href=\"https://bokeh.pydata.org\" target=\"_blank\" class=\"bk-logo bk-logo-small bk-logo-notebook\"></a>\n",
       "        <span id=\"5b8ca08a-d479-4419-a748-b5ffdcb50db1\">Loading BokehJS ...</span>\n",
       "    </div>"
      ]
     },
     "metadata": {},
     "output_type": "display_data"
    },
    {
     "data": {
      "application/javascript": [
       "\n",
       "(function(root) {\n",
       "  function now() {\n",
       "    return new Date();\n",
       "  }\n",
       "\n",
       "  var force = true;\n",
       "\n",
       "  if (typeof (root._bokeh_onload_callbacks) === \"undefined\" || force === true) {\n",
       "    root._bokeh_onload_callbacks = [];\n",
       "    root._bokeh_is_loading = undefined;\n",
       "  }\n",
       "\n",
       "  var JS_MIME_TYPE = 'application/javascript';\n",
       "  var HTML_MIME_TYPE = 'text/html';\n",
       "  var EXEC_MIME_TYPE = 'application/vnd.bokehjs_exec.v0+json';\n",
       "  var CLASS_NAME = 'output_bokeh rendered_html';\n",
       "\n",
       "  /**\n",
       "   * Render data to the DOM node\n",
       "   */\n",
       "  function render(props, node) {\n",
       "    var script = document.createElement(\"script\");\n",
       "    node.appendChild(script);\n",
       "  }\n",
       "\n",
       "  /**\n",
       "   * Handle when an output is cleared or removed\n",
       "   */\n",
       "  function handleClearOutput(event, handle) {\n",
       "    var cell = handle.cell;\n",
       "\n",
       "    var id = cell.output_area._bokeh_element_id;\n",
       "    var server_id = cell.output_area._bokeh_server_id;\n",
       "    // Clean up Bokeh references\n",
       "    if (id != null && id in Bokeh.index) {\n",
       "      Bokeh.index[id].model.document.clear();\n",
       "      delete Bokeh.index[id];\n",
       "    }\n",
       "\n",
       "    if (server_id !== undefined) {\n",
       "      // Clean up Bokeh references\n",
       "      var cmd = \"from bokeh.io.state import curstate; print(curstate().uuid_to_server['\" + server_id + \"'].get_sessions()[0].document.roots[0]._id)\";\n",
       "      cell.notebook.kernel.execute(cmd, {\n",
       "        iopub: {\n",
       "          output: function(msg) {\n",
       "            var id = msg.content.text.trim();\n",
       "            if (id in Bokeh.index) {\n",
       "              Bokeh.index[id].model.document.clear();\n",
       "              delete Bokeh.index[id];\n",
       "            }\n",
       "          }\n",
       "        }\n",
       "      });\n",
       "      // Destroy server and session\n",
       "      var cmd = \"import bokeh.io.notebook as ion; ion.destroy_server('\" + server_id + \"')\";\n",
       "      cell.notebook.kernel.execute(cmd);\n",
       "    }\n",
       "  }\n",
       "\n",
       "  /**\n",
       "   * Handle when a new output is added\n",
       "   */\n",
       "  function handleAddOutput(event, handle) {\n",
       "    var output_area = handle.output_area;\n",
       "    var output = handle.output;\n",
       "\n",
       "    // limit handleAddOutput to display_data with EXEC_MIME_TYPE content only\n",
       "    if ((output.output_type != \"display_data\") || (!output.data.hasOwnProperty(EXEC_MIME_TYPE))) {\n",
       "      return\n",
       "    }\n",
       "\n",
       "    var toinsert = output_area.element.find(\".\" + CLASS_NAME.split(' ')[0]);\n",
       "\n",
       "    if (output.metadata[EXEC_MIME_TYPE][\"id\"] !== undefined) {\n",
       "      toinsert[toinsert.length - 1].firstChild.textContent = output.data[JS_MIME_TYPE];\n",
       "      // store reference to embed id on output_area\n",
       "      output_area._bokeh_element_id = output.metadata[EXEC_MIME_TYPE][\"id\"];\n",
       "    }\n",
       "    if (output.metadata[EXEC_MIME_TYPE][\"server_id\"] !== undefined) {\n",
       "      var bk_div = document.createElement(\"div\");\n",
       "      bk_div.innerHTML = output.data[HTML_MIME_TYPE];\n",
       "      var script_attrs = bk_div.children[0].attributes;\n",
       "      for (var i = 0; i < script_attrs.length; i++) {\n",
       "        toinsert[toinsert.length - 1].firstChild.setAttribute(script_attrs[i].name, script_attrs[i].value);\n",
       "      }\n",
       "      // store reference to server id on output_area\n",
       "      output_area._bokeh_server_id = output.metadata[EXEC_MIME_TYPE][\"server_id\"];\n",
       "    }\n",
       "  }\n",
       "\n",
       "  function register_renderer(events, OutputArea) {\n",
       "\n",
       "    function append_mime(data, metadata, element) {\n",
       "      // create a DOM node to render to\n",
       "      var toinsert = this.create_output_subarea(\n",
       "        metadata,\n",
       "        CLASS_NAME,\n",
       "        EXEC_MIME_TYPE\n",
       "      );\n",
       "      this.keyboard_manager.register_events(toinsert);\n",
       "      // Render to node\n",
       "      var props = {data: data, metadata: metadata[EXEC_MIME_TYPE]};\n",
       "      render(props, toinsert[toinsert.length - 1]);\n",
       "      element.append(toinsert);\n",
       "      return toinsert\n",
       "    }\n",
       "\n",
       "    /* Handle when an output is cleared or removed */\n",
       "    events.on('clear_output.CodeCell', handleClearOutput);\n",
       "    events.on('delete.Cell', handleClearOutput);\n",
       "\n",
       "    /* Handle when a new output is added */\n",
       "    events.on('output_added.OutputArea', handleAddOutput);\n",
       "\n",
       "    /**\n",
       "     * Register the mime type and append_mime function with output_area\n",
       "     */\n",
       "    OutputArea.prototype.register_mime_type(EXEC_MIME_TYPE, append_mime, {\n",
       "      /* Is output safe? */\n",
       "      safe: true,\n",
       "      /* Index of renderer in `output_area.display_order` */\n",
       "      index: 0\n",
       "    });\n",
       "  }\n",
       "\n",
       "  // register the mime type if in Jupyter Notebook environment and previously unregistered\n",
       "  if (root.Jupyter !== undefined) {\n",
       "    var events = require('base/js/events');\n",
       "    var OutputArea = require('notebook/js/outputarea').OutputArea;\n",
       "\n",
       "    if (OutputArea.prototype.mime_types().indexOf(EXEC_MIME_TYPE) == -1) {\n",
       "      register_renderer(events, OutputArea);\n",
       "    }\n",
       "  }\n",
       "\n",
       "  \n",
       "  if (typeof (root._bokeh_timeout) === \"undefined\" || force === true) {\n",
       "    root._bokeh_timeout = Date.now() + 5000;\n",
       "    root._bokeh_failed_load = false;\n",
       "  }\n",
       "\n",
       "  var NB_LOAD_WARNING = {'data': {'text/html':\n",
       "     \"<div style='background-color: #fdd'>\\n\"+\n",
       "     \"<p>\\n\"+\n",
       "     \"BokehJS does not appear to have successfully loaded. If loading BokehJS from CDN, this \\n\"+\n",
       "     \"may be due to a slow or bad network connection. Possible fixes:\\n\"+\n",
       "     \"</p>\\n\"+\n",
       "     \"<ul>\\n\"+\n",
       "     \"<li>re-rerun `output_notebook()` to attempt to load from CDN again, or</li>\\n\"+\n",
       "     \"<li>use INLINE resources instead, as so:</li>\\n\"+\n",
       "     \"</ul>\\n\"+\n",
       "     \"<code>\\n\"+\n",
       "     \"from bokeh.resources import INLINE\\n\"+\n",
       "     \"output_notebook(resources=INLINE)\\n\"+\n",
       "     \"</code>\\n\"+\n",
       "     \"</div>\"}};\n",
       "\n",
       "  function display_loaded() {\n",
       "    var el = document.getElementById(\"5b8ca08a-d479-4419-a748-b5ffdcb50db1\");\n",
       "    if (el != null) {\n",
       "      el.textContent = \"BokehJS is loading...\";\n",
       "    }\n",
       "    if (root.Bokeh !== undefined) {\n",
       "      if (el != null) {\n",
       "        el.textContent = \"BokehJS \" + root.Bokeh.version + \" successfully loaded.\";\n",
       "      }\n",
       "    } else if (Date.now() < root._bokeh_timeout) {\n",
       "      setTimeout(display_loaded, 100)\n",
       "    }\n",
       "  }\n",
       "\n",
       "\n",
       "  function run_callbacks() {\n",
       "    try {\n",
       "      root._bokeh_onload_callbacks.forEach(function(callback) { callback() });\n",
       "    }\n",
       "    finally {\n",
       "      delete root._bokeh_onload_callbacks\n",
       "    }\n",
       "    console.info(\"Bokeh: all callbacks have finished\");\n",
       "  }\n",
       "\n",
       "  function load_libs(js_urls, callback) {\n",
       "    root._bokeh_onload_callbacks.push(callback);\n",
       "    if (root._bokeh_is_loading > 0) {\n",
       "      console.log(\"Bokeh: BokehJS is being loaded, scheduling callback at\", now());\n",
       "      return null;\n",
       "    }\n",
       "    if (js_urls == null || js_urls.length === 0) {\n",
       "      run_callbacks();\n",
       "      return null;\n",
       "    }\n",
       "    console.log(\"Bokeh: BokehJS not loaded, scheduling load and callback at\", now());\n",
       "    root._bokeh_is_loading = js_urls.length;\n",
       "    for (var i = 0; i < js_urls.length; i++) {\n",
       "      var url = js_urls[i];\n",
       "      var s = document.createElement('script');\n",
       "      s.src = url;\n",
       "      s.async = false;\n",
       "      s.onreadystatechange = s.onload = function() {\n",
       "        root._bokeh_is_loading--;\n",
       "        if (root._bokeh_is_loading === 0) {\n",
       "          console.log(\"Bokeh: all BokehJS libraries loaded\");\n",
       "          run_callbacks()\n",
       "        }\n",
       "      };\n",
       "      s.onerror = function() {\n",
       "        console.warn(\"failed to load library \" + url);\n",
       "      };\n",
       "      console.log(\"Bokeh: injecting script tag for BokehJS library: \", url);\n",
       "      document.getElementsByTagName(\"head\")[0].appendChild(s);\n",
       "    }\n",
       "  };var element = document.getElementById(\"5b8ca08a-d479-4419-a748-b5ffdcb50db1\");\n",
       "  if (element == null) {\n",
       "    console.log(\"Bokeh: ERROR: autoload.js configured with elementid '5b8ca08a-d479-4419-a748-b5ffdcb50db1' but no matching script tag was found. \")\n",
       "    return false;\n",
       "  }\n",
       "\n",
       "  var js_urls = [\"https://cdn.pydata.org/bokeh/release/bokeh-0.13.0.min.js\", \"https://cdn.pydata.org/bokeh/release/bokeh-widgets-0.13.0.min.js\", \"https://cdn.pydata.org/bokeh/release/bokeh-tables-0.13.0.min.js\", \"https://cdn.pydata.org/bokeh/release/bokeh-gl-0.13.0.min.js\"];\n",
       "\n",
       "  var inline_js = [\n",
       "    function(Bokeh) {\n",
       "      Bokeh.set_log_level(\"info\");\n",
       "    },\n",
       "    \n",
       "    function(Bokeh) {\n",
       "      \n",
       "    },\n",
       "    function(Bokeh) {\n",
       "      console.log(\"Bokeh: injecting CSS: https://cdn.pydata.org/bokeh/release/bokeh-0.13.0.min.css\");\n",
       "      Bokeh.embed.inject_css(\"https://cdn.pydata.org/bokeh/release/bokeh-0.13.0.min.css\");\n",
       "      console.log(\"Bokeh: injecting CSS: https://cdn.pydata.org/bokeh/release/bokeh-widgets-0.13.0.min.css\");\n",
       "      Bokeh.embed.inject_css(\"https://cdn.pydata.org/bokeh/release/bokeh-widgets-0.13.0.min.css\");\n",
       "      console.log(\"Bokeh: injecting CSS: https://cdn.pydata.org/bokeh/release/bokeh-tables-0.13.0.min.css\");\n",
       "      Bokeh.embed.inject_css(\"https://cdn.pydata.org/bokeh/release/bokeh-tables-0.13.0.min.css\");\n",
       "    }\n",
       "  ];\n",
       "\n",
       "  function run_inline_js() {\n",
       "    \n",
       "    if ((root.Bokeh !== undefined) || (force === true)) {\n",
       "      for (var i = 0; i < inline_js.length; i++) {\n",
       "        inline_js[i].call(root, root.Bokeh);\n",
       "      }if (force === true) {\n",
       "        display_loaded();\n",
       "      }} else if (Date.now() < root._bokeh_timeout) {\n",
       "      setTimeout(run_inline_js, 100);\n",
       "    } else if (!root._bokeh_failed_load) {\n",
       "      console.log(\"Bokeh: BokehJS failed to load within specified timeout.\");\n",
       "      root._bokeh_failed_load = true;\n",
       "    } else if (force !== true) {\n",
       "      var cell = $(document.getElementById(\"5b8ca08a-d479-4419-a748-b5ffdcb50db1\")).parents('.cell').data().cell;\n",
       "      cell.output_area.append_execute_result(NB_LOAD_WARNING)\n",
       "    }\n",
       "\n",
       "  }\n",
       "\n",
       "  if (root._bokeh_is_loading === 0) {\n",
       "    console.log(\"Bokeh: BokehJS loaded, going straight to plotting\");\n",
       "    run_inline_js();\n",
       "  } else {\n",
       "    load_libs(js_urls, function() {\n",
       "      console.log(\"Bokeh: BokehJS plotting callback run at\", now());\n",
       "      run_inline_js();\n",
       "    });\n",
       "  }\n",
       "}(window));"
      ],
      "application/vnd.bokehjs_load.v0+json": "\n(function(root) {\n  function now() {\n    return new Date();\n  }\n\n  var force = true;\n\n  if (typeof (root._bokeh_onload_callbacks) === \"undefined\" || force === true) {\n    root._bokeh_onload_callbacks = [];\n    root._bokeh_is_loading = undefined;\n  }\n\n  \n\n  \n  if (typeof (root._bokeh_timeout) === \"undefined\" || force === true) {\n    root._bokeh_timeout = Date.now() + 5000;\n    root._bokeh_failed_load = false;\n  }\n\n  var NB_LOAD_WARNING = {'data': {'text/html':\n     \"<div style='background-color: #fdd'>\\n\"+\n     \"<p>\\n\"+\n     \"BokehJS does not appear to have successfully loaded. If loading BokehJS from CDN, this \\n\"+\n     \"may be due to a slow or bad network connection. Possible fixes:\\n\"+\n     \"</p>\\n\"+\n     \"<ul>\\n\"+\n     \"<li>re-rerun `output_notebook()` to attempt to load from CDN again, or</li>\\n\"+\n     \"<li>use INLINE resources instead, as so:</li>\\n\"+\n     \"</ul>\\n\"+\n     \"<code>\\n\"+\n     \"from bokeh.resources import INLINE\\n\"+\n     \"output_notebook(resources=INLINE)\\n\"+\n     \"</code>\\n\"+\n     \"</div>\"}};\n\n  function display_loaded() {\n    var el = document.getElementById(\"5b8ca08a-d479-4419-a748-b5ffdcb50db1\");\n    if (el != null) {\n      el.textContent = \"BokehJS is loading...\";\n    }\n    if (root.Bokeh !== undefined) {\n      if (el != null) {\n        el.textContent = \"BokehJS \" + root.Bokeh.version + \" successfully loaded.\";\n      }\n    } else if (Date.now() < root._bokeh_timeout) {\n      setTimeout(display_loaded, 100)\n    }\n  }\n\n\n  function run_callbacks() {\n    try {\n      root._bokeh_onload_callbacks.forEach(function(callback) { callback() });\n    }\n    finally {\n      delete root._bokeh_onload_callbacks\n    }\n    console.info(\"Bokeh: all callbacks have finished\");\n  }\n\n  function load_libs(js_urls, callback) {\n    root._bokeh_onload_callbacks.push(callback);\n    if (root._bokeh_is_loading > 0) {\n      console.log(\"Bokeh: BokehJS is being loaded, scheduling callback at\", now());\n      return null;\n    }\n    if (js_urls == null || js_urls.length === 0) {\n      run_callbacks();\n      return null;\n    }\n    console.log(\"Bokeh: BokehJS not loaded, scheduling load and callback at\", now());\n    root._bokeh_is_loading = js_urls.length;\n    for (var i = 0; i < js_urls.length; i++) {\n      var url = js_urls[i];\n      var s = document.createElement('script');\n      s.src = url;\n      s.async = false;\n      s.onreadystatechange = s.onload = function() {\n        root._bokeh_is_loading--;\n        if (root._bokeh_is_loading === 0) {\n          console.log(\"Bokeh: all BokehJS libraries loaded\");\n          run_callbacks()\n        }\n      };\n      s.onerror = function() {\n        console.warn(\"failed to load library \" + url);\n      };\n      console.log(\"Bokeh: injecting script tag for BokehJS library: \", url);\n      document.getElementsByTagName(\"head\")[0].appendChild(s);\n    }\n  };var element = document.getElementById(\"5b8ca08a-d479-4419-a748-b5ffdcb50db1\");\n  if (element == null) {\n    console.log(\"Bokeh: ERROR: autoload.js configured with elementid '5b8ca08a-d479-4419-a748-b5ffdcb50db1' but no matching script tag was found. \")\n    return false;\n  }\n\n  var js_urls = [\"https://cdn.pydata.org/bokeh/release/bokeh-0.13.0.min.js\", \"https://cdn.pydata.org/bokeh/release/bokeh-widgets-0.13.0.min.js\", \"https://cdn.pydata.org/bokeh/release/bokeh-tables-0.13.0.min.js\", \"https://cdn.pydata.org/bokeh/release/bokeh-gl-0.13.0.min.js\"];\n\n  var inline_js = [\n    function(Bokeh) {\n      Bokeh.set_log_level(\"info\");\n    },\n    \n    function(Bokeh) {\n      \n    },\n    function(Bokeh) {\n      console.log(\"Bokeh: injecting CSS: https://cdn.pydata.org/bokeh/release/bokeh-0.13.0.min.css\");\n      Bokeh.embed.inject_css(\"https://cdn.pydata.org/bokeh/release/bokeh-0.13.0.min.css\");\n      console.log(\"Bokeh: injecting CSS: https://cdn.pydata.org/bokeh/release/bokeh-widgets-0.13.0.min.css\");\n      Bokeh.embed.inject_css(\"https://cdn.pydata.org/bokeh/release/bokeh-widgets-0.13.0.min.css\");\n      console.log(\"Bokeh: injecting CSS: https://cdn.pydata.org/bokeh/release/bokeh-tables-0.13.0.min.css\");\n      Bokeh.embed.inject_css(\"https://cdn.pydata.org/bokeh/release/bokeh-tables-0.13.0.min.css\");\n    }\n  ];\n\n  function run_inline_js() {\n    \n    if ((root.Bokeh !== undefined) || (force === true)) {\n      for (var i = 0; i < inline_js.length; i++) {\n        inline_js[i].call(root, root.Bokeh);\n      }if (force === true) {\n        display_loaded();\n      }} else if (Date.now() < root._bokeh_timeout) {\n      setTimeout(run_inline_js, 100);\n    } else if (!root._bokeh_failed_load) {\n      console.log(\"Bokeh: BokehJS failed to load within specified timeout.\");\n      root._bokeh_failed_load = true;\n    } else if (force !== true) {\n      var cell = $(document.getElementById(\"5b8ca08a-d479-4419-a748-b5ffdcb50db1\")).parents('.cell').data().cell;\n      cell.output_area.append_execute_result(NB_LOAD_WARNING)\n    }\n\n  }\n\n  if (root._bokeh_is_loading === 0) {\n    console.log(\"Bokeh: BokehJS loaded, going straight to plotting\");\n    run_inline_js();\n  } else {\n    load_libs(js_urls, function() {\n      console.log(\"Bokeh: BokehJS plotting callback run at\", now());\n      run_inline_js();\n    });\n  }\n}(window));"
     },
     "metadata": {},
     "output_type": "display_data"
    },
    {
     "data": {
      "text/html": [
       "\n",
       "\n",
       "\n",
       "\n",
       "\n",
       "\n",
       "  <div class=\"bk-root\" id=\"afe9afe1-2668-449b-9c85-b10b8d878a78\"></div>\n"
      ]
     },
     "metadata": {},
     "output_type": "display_data"
    },
    {
     "data": {
      "application/javascript": [
       "(function(root) {\n",
       "  function embed_document(root) {\n",
       "    \n",
       "  var docs_json = {\"cc4636d7-cbe0-44aa-8701-2a55acbd6af2\":{\"roots\":{\"references\":[{\"attributes\":{\"bottom_units\":\"screen\",\"fill_alpha\":{\"value\":0.5},\"fill_color\":{\"value\":\"lightgrey\"},\"left_units\":\"screen\",\"level\":\"overlay\",\"line_alpha\":{\"value\":1.0},\"line_color\":{\"value\":\"black\"},\"line_dash\":[4,4],\"line_width\":{\"value\":2},\"plot\":null,\"render_mode\":\"css\",\"right_units\":\"screen\",\"top_units\":\"screen\"},\"id\":\"6985f321-4d05-4c13-a31d-156775c7bce5\",\"type\":\"BoxAnnotation\"},{\"attributes\":{},\"id\":\"bf4ad3b0-b916-4d8d-a5b6-b132098fa0b5\",\"type\":\"PanTool\"},{\"attributes\":{},\"id\":\"38358c40-cfaa-4c60-a2e8-a65aeb73bcd0\",\"type\":\"SaveTool\"},{\"attributes\":{\"callback\":null},\"id\":\"0a5ed4e0-7664-4402-a776-62269b90bdca\",\"type\":\"DataRange1d\"},{\"attributes\":{\"plot\":{\"id\":\"5145ba4b-2068-4381-9367-c73c3d983520\",\"subtype\":\"Figure\",\"type\":\"Plot\"},\"ticker\":{\"id\":\"3f1c790a-5fa4-4662-96e3-0a5c1027dcaa\",\"type\":\"BasicTicker\"}},\"id\":\"224cee8d-7470-4a88-b82f-b4c342cb4b82\",\"type\":\"Grid\"},{\"attributes\":{},\"id\":\"c42488dd-fc02-49c2-8864-d2e3c54e8c57\",\"type\":\"LinearScale\"},{\"attributes\":{\"overlay\":{\"id\":\"6985f321-4d05-4c13-a31d-156775c7bce5\",\"type\":\"BoxAnnotation\"}},\"id\":\"6eed6c3b-d213-49a9-9de0-9710e5bdcaff\",\"type\":\"BoxZoomTool\"},{\"attributes\":{\"fill_alpha\":{\"value\":0.5},\"fill_color\":{\"value\":\"navy\"},\"line_alpha\":{\"value\":0.5},\"line_color\":{\"value\":\"navy\"},\"size\":{\"units\":\"screen\",\"value\":5},\"x\":{\"field\":\"x\"},\"y\":{\"field\":\"y\"}},\"id\":\"ec4d1248-7107-4036-8f84-d777974f6c80\",\"type\":\"Circle\"},{\"attributes\":{\"source\":{\"id\":\"075929ef-0cb3-4be8-82b4-2753fda4ba74\",\"type\":\"ColumnDataSource\"}},\"id\":\"97135207-cf6b-42df-b36c-b97dc16de296\",\"type\":\"CDSView\"},{\"attributes\":{},\"id\":\"2d94f326-d197-490c-9a9f-87a0fdea55b0\",\"type\":\"HelpTool\"},{\"attributes\":{\"dimension\":1,\"plot\":{\"id\":\"5145ba4b-2068-4381-9367-c73c3d983520\",\"subtype\":\"Figure\",\"type\":\"Plot\"},\"ticker\":{\"id\":\"c1d98d0a-b3f1-45bf-bf8f-3b3ba39b9251\",\"type\":\"BasicTicker\"}},\"id\":\"c96535c8-2949-4dfe-930a-9d325ec7ad10\",\"type\":\"Grid\"},{\"attributes\":{},\"id\":\"bbff7d4c-ff56-489c-9d53-0cd11d3391e1\",\"type\":\"BasicTickFormatter\"},{\"attributes\":{},\"id\":\"3f1c790a-5fa4-4662-96e3-0a5c1027dcaa\",\"type\":\"BasicTicker\"},{\"attributes\":{\"axis_label\":\"PCA component 2\",\"formatter\":{\"id\":\"bbff7d4c-ff56-489c-9d53-0cd11d3391e1\",\"type\":\"BasicTickFormatter\"},\"plot\":{\"id\":\"5145ba4b-2068-4381-9367-c73c3d983520\",\"subtype\":\"Figure\",\"type\":\"Plot\"},\"ticker\":{\"id\":\"c1d98d0a-b3f1-45bf-bf8f-3b3ba39b9251\",\"type\":\"BasicTicker\"}},\"id\":\"2d661be6-a874-4897-b9a6-86d01fee0551\",\"type\":\"LinearAxis\"},{\"attributes\":{\"active_drag\":\"auto\",\"active_inspect\":\"auto\",\"active_multi\":null,\"active_scroll\":\"auto\",\"active_tap\":\"auto\",\"tools\":[{\"id\":\"bf4ad3b0-b916-4d8d-a5b6-b132098fa0b5\",\"type\":\"PanTool\"},{\"id\":\"59bc725b-9dea-409b-8a23-40495715040c\",\"type\":\"WheelZoomTool\"},{\"id\":\"6eed6c3b-d213-49a9-9de0-9710e5bdcaff\",\"type\":\"BoxZoomTool\"},{\"id\":\"38358c40-cfaa-4c60-a2e8-a65aeb73bcd0\",\"type\":\"SaveTool\"},{\"id\":\"50e1b6df-1260-46f4-a89b-dc4ef23fe2d7\",\"type\":\"ResetTool\"},{\"id\":\"2d94f326-d197-490c-9a9f-87a0fdea55b0\",\"type\":\"HelpTool\"}]},\"id\":\"975b3eae-f955-4027-a56d-479e19c57bfc\",\"type\":\"Toolbar\"},{\"attributes\":{},\"id\":\"50e1b6df-1260-46f4-a89b-dc4ef23fe2d7\",\"type\":\"ResetTool\"},{\"attributes\":{\"data_source\":{\"id\":\"075929ef-0cb3-4be8-82b4-2753fda4ba74\",\"type\":\"ColumnDataSource\"},\"glyph\":{\"id\":\"ec4d1248-7107-4036-8f84-d777974f6c80\",\"type\":\"Circle\"},\"hover_glyph\":null,\"muted_glyph\":null,\"nonselection_glyph\":{\"id\":\"f3f01db6-ed1d-4d62-ab07-2c3a4efe7932\",\"type\":\"Circle\"},\"selection_glyph\":null,\"view\":{\"id\":\"97135207-cf6b-42df-b36c-b97dc16de296\",\"type\":\"CDSView\"}},\"id\":\"17aff72d-2293-4c09-a3f3-379f980f7e8c\",\"type\":\"GlyphRenderer\"},{\"attributes\":{},\"id\":\"59bc725b-9dea-409b-8a23-40495715040c\",\"type\":\"WheelZoomTool\"},{\"attributes\":{\"indices\":[],\"line_indices\":[]},\"id\":\"43879b8c-00e3-4e33-890c-dbe9956a01fc\",\"type\":\"Selection\"},{\"attributes\":{\"axis_label\":\"PCA component 1\",\"formatter\":{\"id\":\"bea98cba-6af4-4767-b497-b63c21783fa1\",\"type\":\"BasicTickFormatter\"},\"plot\":{\"id\":\"5145ba4b-2068-4381-9367-c73c3d983520\",\"subtype\":\"Figure\",\"type\":\"Plot\"},\"ticker\":{\"id\":\"3f1c790a-5fa4-4662-96e3-0a5c1027dcaa\",\"type\":\"BasicTicker\"}},\"id\":\"361b8d2f-4aad-40c7-a815-5f10c64d9c85\",\"type\":\"LinearAxis\"},{\"attributes\":{\"callback\":null,\"data\":{\"x\":{\"__ndarray__\":\"2xfQlUF5BcB7HBC3HrkFwIEB8LRZHgfA4au3ELT4BcArfKiOKNQFwPou3tM6PQLAoXRMIi+RBsCf3sb9CAMFwJ6OMgWKGgfABFbgrghkBcBfEdbqXQ0EwLQJll635wTAl1U1L6pMBsCBXT7kNc0JwFSZcvz5JQXAaz99FCoSA8CXoJoE7/oEwH0CKtTDLwXAjJitL7aXAcDNpwaP4rIEwNoWbAv4ewLA3FEHi4tYBMC+fGGZE7oJwGkBnqfObALAf7QIOnDZAsDwvzLoNhAEwHyXS26gwAPAttch08Z/BMCLs/ecWh4FwE2sYpASEAXA/UeKlyu1BMDuJH6g1kcDwIFw3yJcLgXA5ExEjPvGBMAEVuCuCGQFwK+yoZ2d7wbATKUCyHcABcAEVuCuCGQFwJfrulPQ2gfA4rpHR/u4BMCjQtiWPikGwH7uJAtU0QbAu2xt2IL8B8BVrVgtfj4DwNMgpJywqwHA3Crpq665BcDDoH1E80wEwNkIQF/6uAbAHTVVoWtXBMB1upzHnKEFwDj1DcWEjvQ/4wJQE0/W7T84y8qQy2z3Pxa3dPTuKcc/SIbOIedk8T9XeMs1dX7kPyjV/0sJhvE/8Ukj0QQM6L8q94EDWbHwP5EZKSSI3oS/n84ZcNFa4L/N5/VR6lrgPwL1T+kbytA/mupp/Ep97z+eXdiQ8WHGv/7qVXOtru0/uo81VmIb5T8BC8kJbQXOP8j7SL3TJ+4/OropZmQkpj+jxq87H9zxP0f4HlSX1dY/LCUEH1a+9D/0QZ74wXTtP5Z71cAn2eY/TV6+otvJ7D+fozkW8kv1P6hLd1oY6/g/3s2Mx6L/6T8m5x9lX6vTv0kVi9f9AbK/5aYYyauPyL/TKai4g0fBP8forIJOD/Y/znE8ovTK4j/oFyyfoNTpP6PKEYbghvM/8GvzTwMD6j9qeUwYjmLPP9mkTKnGDsU/1y+Pukyi3T+udkjCMXzsP2f5LaHoS80/tLjB7Wig5r+pLf2lDcHWP/uSZxQvMdU/d0JiNOcD2D+oXdwMuojkP6stLLIhEu2/ymOz5UgP0z8ZHDsT+kAEQP/ZlDIKoPY/4Il4e4/uBEBsLrJAdYj/P2Ss9OlNzAJAZAM+Yc8sC0BVXXecyZ7gP3BDmha/dAdAROEYnLCOAkB1uNbCVlgHQGVzWBlJl/o/gfhG8WLW/D8LrT4nslIBQL2G6Tl1g/U/gy5fPkFd+T+5Hftm1Hn+P3IDnn0fMP8/WVTI0v3oC0BgqfvIhFsOQPYKf371xfQ/LrO19OJsA0AFg3UmaCvzP1Sv+OZ+/gtAFaODn+Mz9j9lABLC8jQCQMkIgnTe6QRApqF0lTsf9D+wkG83lab0P5+7I96a+wBAZCaKXbsZA0BRhLq4SboGQOIb7ZfW2wlA/NDJnxhFAUBZE6nB8hb3P/d3nOdnefw/3MMdXrecCECLVH/e7igBQNU67YtRev4/ZRATsp+z8j/RczWPedwAQDmlh3+xgwJAqpLo21vC/j//2ZQyCqD2Pz7IlFavgQRA21WqyOlaA0CnvfyesRr/P+QIk0Qeafg/fq4bO4g5/D9IxfebEm3+P1VzL44SPPY/\",\"dtype\":\"float64\",\"shape\":[150]},\"y\":{\"__ndarray__\":\"DAnjXSLn1D9+cojtCbTFvxRbwHqKlMG/sEpJ9nXp07+t4vYhBV/VP3IdOgPW7ec/5n+0Hc0Etb9ZiGys18/FP6rl9jj6Q+K/bV5fwiVQu7+J6VrRptzkP4aQ1SmBCZY/lteXK5cmzb/tKP933hrgv7iauoCn+vI/yp2wIR2E9T8azrJlyi3qPyFyvDO8bNQ/a8Vxf8Qi7D+GQSNVuKfgPyq5dpiqdtk/Icnd8nop3D+sPF6EdSDCPyzV18SIA7s//f56EWj1n7/yQB0gmczBv1F8WaFKpsE/E/rU9dT61z9RL8+ZP2/UPwBtKqJnVMi/aCBSKi1Eyb8hPKKm0sHaP7ExxDdMPeo/C8nal7CZ8T9tXl/CJVC7v/wbnD3twrM/eEPs2edq4z9tXl/CJVC7v+lPb7NqvN6/IBvJPjE3zj8OgcqbCVnRP3lJm3gI2u2/vgnrmEtl1b8aZ0MT0RPJP+mKLrshVdw/9jIy1C8Qz7/JYJhR7lTgP4+elW/YO8y/0sTDbNDC4j+m5cHoWXG9P9DO+ige7+U/Bf8x071t1D/T9HK3UiLgPwt1I/ZYa+q/+45t2MhMsz97Yc2NbbXavyiRpgpGK9I/JhTAT4kE8L/Q+7HBdU7NPzy82QXzDue/DNFUwyoz9L/UtBKGSi+6v8zsloZXiOG/KoHFoRXWv7/obJoOvx3Qv06n3fyU990/bZLEkMeG1r9TFXwONT7Vv07536GbVuG/QWqFwY+b4r8J9nizDI+1vwsJmstdG7G/SaG8l8T21L9gq8xCkVjHvzToYsSfP8M/yTptplgY1T9GTKiyVFHPP8Ctvcn1HNE/wR+b8kfHxL/db4I9lF3Xv1R0H9Qwe+a/v/xtpgCu5b9eklAADfPTv89+YmUG9dq/MSUhIyHu3r9gEa09h/fIP38HAj9AHdo/JwDGZzS5179vA4Z3EhLRv/VR4WjJv+W/pKWl78Js5b8AJ5dP3U+hv8YNz76Wvtm/lArFAIIi8L+AYkSoXRrgv/z22mrzB8u/bDXWbO+p0r9+FE79ZIeTP0+U6drZDOi/LwDcyIQ11r+nFKcYvkCIvxRrGTvJZeK/Cl29ikTi1T+Fh5xzIC/HvxHPFCqhcaW/5zD/j2aC4T9UHOjJxg/zvwQwWklYjdY/MbYsWR9uz795tjLM4PjoP4CIakQd+84/spwrQ/Sqy79HxEfoTY7LPyDSZyll2Oi/qNLY3QBC4b+2Fmrg62q+P7VTZriY2qQ/LbX2faW+8j8+6CHMgDXQP4gfJeY5Wui/Z5MQITId2D8Pln0h52Djv5KjksfGO90/TT9Y968dyr9XUUNwNFbVP22s010k3uE/Sdu3DPbtxr/vJAmZC869v+bDq/hK/cq/BvHoV+qZ3T8scJi9A9vXP4tnjpyq7fU/lvH4TBfyy79j0d2kFGjCvzdyq+X/C+C/lZuGRcjx5T8txSkXscfBP00hBdmumag/lHRo/GoOxb/4ptB7XcbXP/s9DxG6X8c/QoI4u38x2j8Uaxk7yWXiv1OZafWQqdE/9/Wox5ts0z8S6LrUOP3HP/pUk3FXANi//JbSWdUZtD+1ghc8Gaq9P6aMF9vQGtK/\",\"dtype\":\"float64\",\"shape\":[150]}},\"selected\":{\"id\":\"43879b8c-00e3-4e33-890c-dbe9956a01fc\",\"type\":\"Selection\"},\"selection_policy\":{\"id\":\"02925415-e0c9-455f-93e9-656997dbf885\",\"type\":\"UnionRenderers\"}},\"id\":\"075929ef-0cb3-4be8-82b4-2753fda4ba74\",\"type\":\"ColumnDataSource\"},{\"attributes\":{},\"id\":\"bea98cba-6af4-4767-b497-b63c21783fa1\",\"type\":\"BasicTickFormatter\"},{\"attributes\":{\"fill_alpha\":{\"value\":0.1},\"fill_color\":{\"value\":\"#1f77b4\"},\"line_alpha\":{\"value\":0.1},\"line_color\":{\"value\":\"#1f77b4\"},\"size\":{\"units\":\"screen\",\"value\":5},\"x\":{\"field\":\"x\"},\"y\":{\"field\":\"y\"}},\"id\":\"f3f01db6-ed1d-4d62-ab07-2c3a4efe7932\",\"type\":\"Circle\"},{\"attributes\":{\"plot\":null,\"text\":\"Principle components of the iris data\"},\"id\":\"997acff8-0477-428a-be9d-d4668eb5f2ae\",\"type\":\"Title\"},{\"attributes\":{},\"id\":\"dc9cdac4-f75b-44fc-99f0-9e18daa492d2\",\"type\":\"LinearScale\"},{\"attributes\":{},\"id\":\"02925415-e0c9-455f-93e9-656997dbf885\",\"type\":\"UnionRenderers\"},{\"attributes\":{},\"id\":\"c1d98d0a-b3f1-45bf-bf8f-3b3ba39b9251\",\"type\":\"BasicTicker\"},{\"attributes\":{\"callback\":null},\"id\":\"8635bfb0-da7d-4860-8288-a49aa4d5364e\",\"type\":\"DataRange1d\"},{\"attributes\":{\"below\":[{\"id\":\"361b8d2f-4aad-40c7-a815-5f10c64d9c85\",\"type\":\"LinearAxis\"}],\"left\":[{\"id\":\"2d661be6-a874-4897-b9a6-86d01fee0551\",\"type\":\"LinearAxis\"}],\"plot_height\":400,\"renderers\":[{\"id\":\"361b8d2f-4aad-40c7-a815-5f10c64d9c85\",\"type\":\"LinearAxis\"},{\"id\":\"224cee8d-7470-4a88-b82f-b4c342cb4b82\",\"type\":\"Grid\"},{\"id\":\"2d661be6-a874-4897-b9a6-86d01fee0551\",\"type\":\"LinearAxis\"},{\"id\":\"c96535c8-2949-4dfe-930a-9d325ec7ad10\",\"type\":\"Grid\"},{\"id\":\"6985f321-4d05-4c13-a31d-156775c7bce5\",\"type\":\"BoxAnnotation\"},{\"id\":\"17aff72d-2293-4c09-a3f3-379f980f7e8c\",\"type\":\"GlyphRenderer\"}],\"title\":{\"id\":\"997acff8-0477-428a-be9d-d4668eb5f2ae\",\"type\":\"Title\"},\"toolbar\":{\"id\":\"975b3eae-f955-4027-a56d-479e19c57bfc\",\"type\":\"Toolbar\"},\"x_range\":{\"id\":\"8635bfb0-da7d-4860-8288-a49aa4d5364e\",\"type\":\"DataRange1d\"},\"x_scale\":{\"id\":\"c42488dd-fc02-49c2-8864-d2e3c54e8c57\",\"type\":\"LinearScale\"},\"y_range\":{\"id\":\"0a5ed4e0-7664-4402-a776-62269b90bdca\",\"type\":\"DataRange1d\"},\"y_scale\":{\"id\":\"dc9cdac4-f75b-44fc-99f0-9e18daa492d2\",\"type\":\"LinearScale\"}},\"id\":\"5145ba4b-2068-4381-9367-c73c3d983520\",\"subtype\":\"Figure\",\"type\":\"Plot\"}],\"root_ids\":[\"5145ba4b-2068-4381-9367-c73c3d983520\"]},\"title\":\"Bokeh Application\",\"version\":\"0.13.0\"}};\n",
       "  var render_items = [{\"docid\":\"cc4636d7-cbe0-44aa-8701-2a55acbd6af2\",\"roots\":{\"5145ba4b-2068-4381-9367-c73c3d983520\":\"afe9afe1-2668-449b-9c85-b10b8d878a78\"}}];\n",
       "  root.Bokeh.embed.embed_items_notebook(docs_json, render_items);\n",
       "\n",
       "  }\n",
       "  if (root.Bokeh !== undefined) {\n",
       "    embed_document(root);\n",
       "  } else {\n",
       "    var attempts = 0;\n",
       "    var timer = setInterval(function(root) {\n",
       "      if (root.Bokeh !== undefined) {\n",
       "        embed_document(root);\n",
       "        clearInterval(timer);\n",
       "      }\n",
       "      attempts++;\n",
       "      if (attempts > 100) {\n",
       "        console.log(\"Bokeh: ERROR: Unable to run BokehJS code because BokehJS library is missing\")\n",
       "        clearInterval(timer);\n",
       "      }\n",
       "    }, 10, root)\n",
       "  }\n",
       "})(window);"
      ],
      "application/vnd.bokehjs_exec.v0+json": ""
     },
     "metadata": {
      "application/vnd.bokehjs_exec.v0+json": {
       "id": "5145ba4b-2068-4381-9367-c73c3d983520"
      }
     },
     "output_type": "display_data"
    }
   ],
   "source": [
    "#plot inline in the notebook and show\n",
    "output_notebook()\n",
    "show(p)"
   ]
  },
  {
   "cell_type": "markdown",
   "metadata": {
    "slideshow": {
     "slide_type": "slide"
    }
   },
   "source": [
    "### K-means to seperate out the dataset"
   ]
  },
  {
   "cell_type": "code",
   "execution_count": 372,
   "metadata": {
    "scrolled": true,
    "slideshow": {
     "slide_type": "subslide"
    }
   },
   "outputs": [],
   "source": [
    "#scale\n",
    "scaler = StandardScaler()\n",
    "iris_data_scld = scaler.fit_transform(iris_data)\n",
    "\n",
    "#create clusters\n",
    "k_means_clst = KMeans(n_clusters = 3,\n",
    "                      random_state = 42,\n",
    "                      n_jobs = -1)\n",
    "\n",
    "clusters = k_means_clst.fit(iris_data_scld)"
   ]
  },
  {
   "cell_type": "markdown",
   "metadata": {
    "slideshow": {
     "slide_type": "subslide"
    }
   },
   "source": [
    "### Lets have a look at the clusters"
   ]
  },
  {
   "cell_type": "code",
   "execution_count": 361,
   "metadata": {
    "scrolled": true,
    "slideshow": {
     "slide_type": "fragment"
    }
   },
   "outputs": [],
   "source": [
    "from bokeh.palettes import Category10\n",
    "from bokeh.models import ColumnDataSource\n",
    "from bokeh.transform import factor_cmap, linear_cmap\n",
    "\n",
    "import numpy as np\n",
    "import itertools as it\n",
    "\n",
    "#data\n",
    "data = iris_data_2D\n",
    "categories =  clusters.labels_\n",
    "#other vars\n",
    "palette = Category10\n",
    "plot_title = \"K-means clusters of the iris data\"\n",
    "x_label = \"PCA component 1\"\n",
    "y_label = \"PCA component 2\"\n",
    "plot_dims = [600,400]\n",
    "\n",
    "# create the figure\n",
    "p_clusters = figure(title = plot_title,\n",
    "           x_axis_label = x_label,\n",
    "           y_axis_label = y_label,\n",
    "           plot_width = plot_dims[0], \n",
    "           plot_height = plot_dims[1]\n",
    "          )"
   ]
  },
  {
   "cell_type": "code",
   "execution_count": 363,
   "metadata": {
    "scrolled": true,
    "slideshow": {
     "slide_type": "subslide"
    }
   },
   "outputs": [],
   "source": [
    "# plotting by category is a little difficult as bokeh 0.13.0 is \n",
    "# still under development\n",
    "\n",
    "#enables us to cycle through the colours in the palette \n",
    "n_cat = np.max(categories) + 1\n",
    "colour_cycler = it.cycle(palette[n_cat])\n",
    "\n",
    "#plot each category in a differen colour    \n",
    "for cluster, colour in zip(np.unique(categories), colour_cycler):\n",
    "\n",
    "    mask = categories == cluster\n",
    "\n",
    "    p_clusters.circle(data[mask,0], \n",
    "             data[mask,1], \n",
    "             size=5, \n",
    "             alpha=0.7,\n",
    "             color = colour\n",
    "            )"
   ]
  },
  {
   "cell_type": "code",
   "execution_count": 358,
   "metadata": {
    "scrolled": true,
    "slideshow": {
     "slide_type": "notes"
    }
   },
   "outputs": [],
   "source": [
    "from bokeh.palettes import Category10\n",
    "from bokeh.models import ColumnDataSource\n",
    "from bokeh.transform import factor_cmap, linear_cmap\n",
    "\n",
    "import numpy as np\n",
    "import itertools as it\n",
    "\n",
    "# create a convenience function\n",
    "\n",
    "def plot_by_category(data, \n",
    "                     categories, \n",
    "                     palette = Category10,\n",
    "                     plot_title = \"K-means clusters of the iris data\",\n",
    "                     x_label = \"PCA component 1\",\n",
    "                     y_label = \"PCA component 2\",\n",
    "                     plot_dims = [600,400]\n",
    "                    ):\n",
    "    \n",
    "    # create the figure\n",
    "    p = figure(title = plot_title,\n",
    "               x_axis_label = x_label,\n",
    "               y_axis_label = y_label,\n",
    "               plot_width = plot_dims[0], \n",
    "               plot_height = plot_dims[1]\n",
    "              )\n",
    "\n",
    "    # plotting by category is a little difficult as bokeh 0.13.0 is \n",
    "    # still under development\n",
    "\n",
    "    #enables us to cycle through the colours in the palette \n",
    "    n_cat = np.max(categories) + 1\n",
    "    colour_cycler = it.cycle(palette[n_cat])\n",
    "\n",
    "    #plot each category in a differen colour    \n",
    "    for cluster, colour in zip(np.unique(categories), colour_cycler):\n",
    "\n",
    "        mask = categories == cluster\n",
    "        \n",
    "        p.circle(data[mask,0], \n",
    "                 data[mask,1], \n",
    "                 size=5, \n",
    "                 alpha=0.7,\n",
    "                 color = colour\n",
    "                )\n",
    "    return p"
   ]
  },
  {
   "cell_type": "code",
   "execution_count": 364,
   "metadata": {
    "scrolled": true,
    "slideshow": {
     "slide_type": "subslide"
    }
   },
   "outputs": [
    {
     "data": {
      "text/html": [
       "\n",
       "    <div class=\"bk-root\">\n",
       "        <a href=\"https://bokeh.pydata.org\" target=\"_blank\" class=\"bk-logo bk-logo-small bk-logo-notebook\"></a>\n",
       "        <span id=\"a3b248e1-5389-4deb-bf56-ad614eedf915\">Loading BokehJS ...</span>\n",
       "    </div>"
      ]
     },
     "metadata": {},
     "output_type": "display_data"
    },
    {
     "data": {
      "application/javascript": [
       "\n",
       "(function(root) {\n",
       "  function now() {\n",
       "    return new Date();\n",
       "  }\n",
       "\n",
       "  var force = true;\n",
       "\n",
       "  if (typeof (root._bokeh_onload_callbacks) === \"undefined\" || force === true) {\n",
       "    root._bokeh_onload_callbacks = [];\n",
       "    root._bokeh_is_loading = undefined;\n",
       "  }\n",
       "\n",
       "  var JS_MIME_TYPE = 'application/javascript';\n",
       "  var HTML_MIME_TYPE = 'text/html';\n",
       "  var EXEC_MIME_TYPE = 'application/vnd.bokehjs_exec.v0+json';\n",
       "  var CLASS_NAME = 'output_bokeh rendered_html';\n",
       "\n",
       "  /**\n",
       "   * Render data to the DOM node\n",
       "   */\n",
       "  function render(props, node) {\n",
       "    var script = document.createElement(\"script\");\n",
       "    node.appendChild(script);\n",
       "  }\n",
       "\n",
       "  /**\n",
       "   * Handle when an output is cleared or removed\n",
       "   */\n",
       "  function handleClearOutput(event, handle) {\n",
       "    var cell = handle.cell;\n",
       "\n",
       "    var id = cell.output_area._bokeh_element_id;\n",
       "    var server_id = cell.output_area._bokeh_server_id;\n",
       "    // Clean up Bokeh references\n",
       "    if (id != null && id in Bokeh.index) {\n",
       "      Bokeh.index[id].model.document.clear();\n",
       "      delete Bokeh.index[id];\n",
       "    }\n",
       "\n",
       "    if (server_id !== undefined) {\n",
       "      // Clean up Bokeh references\n",
       "      var cmd = \"from bokeh.io.state import curstate; print(curstate().uuid_to_server['\" + server_id + \"'].get_sessions()[0].document.roots[0]._id)\";\n",
       "      cell.notebook.kernel.execute(cmd, {\n",
       "        iopub: {\n",
       "          output: function(msg) {\n",
       "            var id = msg.content.text.trim();\n",
       "            if (id in Bokeh.index) {\n",
       "              Bokeh.index[id].model.document.clear();\n",
       "              delete Bokeh.index[id];\n",
       "            }\n",
       "          }\n",
       "        }\n",
       "      });\n",
       "      // Destroy server and session\n",
       "      var cmd = \"import bokeh.io.notebook as ion; ion.destroy_server('\" + server_id + \"')\";\n",
       "      cell.notebook.kernel.execute(cmd);\n",
       "    }\n",
       "  }\n",
       "\n",
       "  /**\n",
       "   * Handle when a new output is added\n",
       "   */\n",
       "  function handleAddOutput(event, handle) {\n",
       "    var output_area = handle.output_area;\n",
       "    var output = handle.output;\n",
       "\n",
       "    // limit handleAddOutput to display_data with EXEC_MIME_TYPE content only\n",
       "    if ((output.output_type != \"display_data\") || (!output.data.hasOwnProperty(EXEC_MIME_TYPE))) {\n",
       "      return\n",
       "    }\n",
       "\n",
       "    var toinsert = output_area.element.find(\".\" + CLASS_NAME.split(' ')[0]);\n",
       "\n",
       "    if (output.metadata[EXEC_MIME_TYPE][\"id\"] !== undefined) {\n",
       "      toinsert[toinsert.length - 1].firstChild.textContent = output.data[JS_MIME_TYPE];\n",
       "      // store reference to embed id on output_area\n",
       "      output_area._bokeh_element_id = output.metadata[EXEC_MIME_TYPE][\"id\"];\n",
       "    }\n",
       "    if (output.metadata[EXEC_MIME_TYPE][\"server_id\"] !== undefined) {\n",
       "      var bk_div = document.createElement(\"div\");\n",
       "      bk_div.innerHTML = output.data[HTML_MIME_TYPE];\n",
       "      var script_attrs = bk_div.children[0].attributes;\n",
       "      for (var i = 0; i < script_attrs.length; i++) {\n",
       "        toinsert[toinsert.length - 1].firstChild.setAttribute(script_attrs[i].name, script_attrs[i].value);\n",
       "      }\n",
       "      // store reference to server id on output_area\n",
       "      output_area._bokeh_server_id = output.metadata[EXEC_MIME_TYPE][\"server_id\"];\n",
       "    }\n",
       "  }\n",
       "\n",
       "  function register_renderer(events, OutputArea) {\n",
       "\n",
       "    function append_mime(data, metadata, element) {\n",
       "      // create a DOM node to render to\n",
       "      var toinsert = this.create_output_subarea(\n",
       "        metadata,\n",
       "        CLASS_NAME,\n",
       "        EXEC_MIME_TYPE\n",
       "      );\n",
       "      this.keyboard_manager.register_events(toinsert);\n",
       "      // Render to node\n",
       "      var props = {data: data, metadata: metadata[EXEC_MIME_TYPE]};\n",
       "      render(props, toinsert[toinsert.length - 1]);\n",
       "      element.append(toinsert);\n",
       "      return toinsert\n",
       "    }\n",
       "\n",
       "    /* Handle when an output is cleared or removed */\n",
       "    events.on('clear_output.CodeCell', handleClearOutput);\n",
       "    events.on('delete.Cell', handleClearOutput);\n",
       "\n",
       "    /* Handle when a new output is added */\n",
       "    events.on('output_added.OutputArea', handleAddOutput);\n",
       "\n",
       "    /**\n",
       "     * Register the mime type and append_mime function with output_area\n",
       "     */\n",
       "    OutputArea.prototype.register_mime_type(EXEC_MIME_TYPE, append_mime, {\n",
       "      /* Is output safe? */\n",
       "      safe: true,\n",
       "      /* Index of renderer in `output_area.display_order` */\n",
       "      index: 0\n",
       "    });\n",
       "  }\n",
       "\n",
       "  // register the mime type if in Jupyter Notebook environment and previously unregistered\n",
       "  if (root.Jupyter !== undefined) {\n",
       "    var events = require('base/js/events');\n",
       "    var OutputArea = require('notebook/js/outputarea').OutputArea;\n",
       "\n",
       "    if (OutputArea.prototype.mime_types().indexOf(EXEC_MIME_TYPE) == -1) {\n",
       "      register_renderer(events, OutputArea);\n",
       "    }\n",
       "  }\n",
       "\n",
       "  \n",
       "  if (typeof (root._bokeh_timeout) === \"undefined\" || force === true) {\n",
       "    root._bokeh_timeout = Date.now() + 5000;\n",
       "    root._bokeh_failed_load = false;\n",
       "  }\n",
       "\n",
       "  var NB_LOAD_WARNING = {'data': {'text/html':\n",
       "     \"<div style='background-color: #fdd'>\\n\"+\n",
       "     \"<p>\\n\"+\n",
       "     \"BokehJS does not appear to have successfully loaded. If loading BokehJS from CDN, this \\n\"+\n",
       "     \"may be due to a slow or bad network connection. Possible fixes:\\n\"+\n",
       "     \"</p>\\n\"+\n",
       "     \"<ul>\\n\"+\n",
       "     \"<li>re-rerun `output_notebook()` to attempt to load from CDN again, or</li>\\n\"+\n",
       "     \"<li>use INLINE resources instead, as so:</li>\\n\"+\n",
       "     \"</ul>\\n\"+\n",
       "     \"<code>\\n\"+\n",
       "     \"from bokeh.resources import INLINE\\n\"+\n",
       "     \"output_notebook(resources=INLINE)\\n\"+\n",
       "     \"</code>\\n\"+\n",
       "     \"</div>\"}};\n",
       "\n",
       "  function display_loaded() {\n",
       "    var el = document.getElementById(\"a3b248e1-5389-4deb-bf56-ad614eedf915\");\n",
       "    if (el != null) {\n",
       "      el.textContent = \"BokehJS is loading...\";\n",
       "    }\n",
       "    if (root.Bokeh !== undefined) {\n",
       "      if (el != null) {\n",
       "        el.textContent = \"BokehJS \" + root.Bokeh.version + \" successfully loaded.\";\n",
       "      }\n",
       "    } else if (Date.now() < root._bokeh_timeout) {\n",
       "      setTimeout(display_loaded, 100)\n",
       "    }\n",
       "  }\n",
       "\n",
       "\n",
       "  function run_callbacks() {\n",
       "    try {\n",
       "      root._bokeh_onload_callbacks.forEach(function(callback) { callback() });\n",
       "    }\n",
       "    finally {\n",
       "      delete root._bokeh_onload_callbacks\n",
       "    }\n",
       "    console.info(\"Bokeh: all callbacks have finished\");\n",
       "  }\n",
       "\n",
       "  function load_libs(js_urls, callback) {\n",
       "    root._bokeh_onload_callbacks.push(callback);\n",
       "    if (root._bokeh_is_loading > 0) {\n",
       "      console.log(\"Bokeh: BokehJS is being loaded, scheduling callback at\", now());\n",
       "      return null;\n",
       "    }\n",
       "    if (js_urls == null || js_urls.length === 0) {\n",
       "      run_callbacks();\n",
       "      return null;\n",
       "    }\n",
       "    console.log(\"Bokeh: BokehJS not loaded, scheduling load and callback at\", now());\n",
       "    root._bokeh_is_loading = js_urls.length;\n",
       "    for (var i = 0; i < js_urls.length; i++) {\n",
       "      var url = js_urls[i];\n",
       "      var s = document.createElement('script');\n",
       "      s.src = url;\n",
       "      s.async = false;\n",
       "      s.onreadystatechange = s.onload = function() {\n",
       "        root._bokeh_is_loading--;\n",
       "        if (root._bokeh_is_loading === 0) {\n",
       "          console.log(\"Bokeh: all BokehJS libraries loaded\");\n",
       "          run_callbacks()\n",
       "        }\n",
       "      };\n",
       "      s.onerror = function() {\n",
       "        console.warn(\"failed to load library \" + url);\n",
       "      };\n",
       "      console.log(\"Bokeh: injecting script tag for BokehJS library: \", url);\n",
       "      document.getElementsByTagName(\"head\")[0].appendChild(s);\n",
       "    }\n",
       "  };var element = document.getElementById(\"a3b248e1-5389-4deb-bf56-ad614eedf915\");\n",
       "  if (element == null) {\n",
       "    console.log(\"Bokeh: ERROR: autoload.js configured with elementid 'a3b248e1-5389-4deb-bf56-ad614eedf915' but no matching script tag was found. \")\n",
       "    return false;\n",
       "  }\n",
       "\n",
       "  var js_urls = [\"https://cdn.pydata.org/bokeh/release/bokeh-0.13.0.min.js\", \"https://cdn.pydata.org/bokeh/release/bokeh-widgets-0.13.0.min.js\", \"https://cdn.pydata.org/bokeh/release/bokeh-tables-0.13.0.min.js\", \"https://cdn.pydata.org/bokeh/release/bokeh-gl-0.13.0.min.js\"];\n",
       "\n",
       "  var inline_js = [\n",
       "    function(Bokeh) {\n",
       "      Bokeh.set_log_level(\"info\");\n",
       "    },\n",
       "    \n",
       "    function(Bokeh) {\n",
       "      \n",
       "    },\n",
       "    function(Bokeh) {\n",
       "      console.log(\"Bokeh: injecting CSS: https://cdn.pydata.org/bokeh/release/bokeh-0.13.0.min.css\");\n",
       "      Bokeh.embed.inject_css(\"https://cdn.pydata.org/bokeh/release/bokeh-0.13.0.min.css\");\n",
       "      console.log(\"Bokeh: injecting CSS: https://cdn.pydata.org/bokeh/release/bokeh-widgets-0.13.0.min.css\");\n",
       "      Bokeh.embed.inject_css(\"https://cdn.pydata.org/bokeh/release/bokeh-widgets-0.13.0.min.css\");\n",
       "      console.log(\"Bokeh: injecting CSS: https://cdn.pydata.org/bokeh/release/bokeh-tables-0.13.0.min.css\");\n",
       "      Bokeh.embed.inject_css(\"https://cdn.pydata.org/bokeh/release/bokeh-tables-0.13.0.min.css\");\n",
       "    }\n",
       "  ];\n",
       "\n",
       "  function run_inline_js() {\n",
       "    \n",
       "    if ((root.Bokeh !== undefined) || (force === true)) {\n",
       "      for (var i = 0; i < inline_js.length; i++) {\n",
       "        inline_js[i].call(root, root.Bokeh);\n",
       "      }if (force === true) {\n",
       "        display_loaded();\n",
       "      }} else if (Date.now() < root._bokeh_timeout) {\n",
       "      setTimeout(run_inline_js, 100);\n",
       "    } else if (!root._bokeh_failed_load) {\n",
       "      console.log(\"Bokeh: BokehJS failed to load within specified timeout.\");\n",
       "      root._bokeh_failed_load = true;\n",
       "    } else if (force !== true) {\n",
       "      var cell = $(document.getElementById(\"a3b248e1-5389-4deb-bf56-ad614eedf915\")).parents('.cell').data().cell;\n",
       "      cell.output_area.append_execute_result(NB_LOAD_WARNING)\n",
       "    }\n",
       "\n",
       "  }\n",
       "\n",
       "  if (root._bokeh_is_loading === 0) {\n",
       "    console.log(\"Bokeh: BokehJS loaded, going straight to plotting\");\n",
       "    run_inline_js();\n",
       "  } else {\n",
       "    load_libs(js_urls, function() {\n",
       "      console.log(\"Bokeh: BokehJS plotting callback run at\", now());\n",
       "      run_inline_js();\n",
       "    });\n",
       "  }\n",
       "}(window));"
      ],
      "application/vnd.bokehjs_load.v0+json": "\n(function(root) {\n  function now() {\n    return new Date();\n  }\n\n  var force = true;\n\n  if (typeof (root._bokeh_onload_callbacks) === \"undefined\" || force === true) {\n    root._bokeh_onload_callbacks = [];\n    root._bokeh_is_loading = undefined;\n  }\n\n  \n\n  \n  if (typeof (root._bokeh_timeout) === \"undefined\" || force === true) {\n    root._bokeh_timeout = Date.now() + 5000;\n    root._bokeh_failed_load = false;\n  }\n\n  var NB_LOAD_WARNING = {'data': {'text/html':\n     \"<div style='background-color: #fdd'>\\n\"+\n     \"<p>\\n\"+\n     \"BokehJS does not appear to have successfully loaded. If loading BokehJS from CDN, this \\n\"+\n     \"may be due to a slow or bad network connection. Possible fixes:\\n\"+\n     \"</p>\\n\"+\n     \"<ul>\\n\"+\n     \"<li>re-rerun `output_notebook()` to attempt to load from CDN again, or</li>\\n\"+\n     \"<li>use INLINE resources instead, as so:</li>\\n\"+\n     \"</ul>\\n\"+\n     \"<code>\\n\"+\n     \"from bokeh.resources import INLINE\\n\"+\n     \"output_notebook(resources=INLINE)\\n\"+\n     \"</code>\\n\"+\n     \"</div>\"}};\n\n  function display_loaded() {\n    var el = document.getElementById(\"a3b248e1-5389-4deb-bf56-ad614eedf915\");\n    if (el != null) {\n      el.textContent = \"BokehJS is loading...\";\n    }\n    if (root.Bokeh !== undefined) {\n      if (el != null) {\n        el.textContent = \"BokehJS \" + root.Bokeh.version + \" successfully loaded.\";\n      }\n    } else if (Date.now() < root._bokeh_timeout) {\n      setTimeout(display_loaded, 100)\n    }\n  }\n\n\n  function run_callbacks() {\n    try {\n      root._bokeh_onload_callbacks.forEach(function(callback) { callback() });\n    }\n    finally {\n      delete root._bokeh_onload_callbacks\n    }\n    console.info(\"Bokeh: all callbacks have finished\");\n  }\n\n  function load_libs(js_urls, callback) {\n    root._bokeh_onload_callbacks.push(callback);\n    if (root._bokeh_is_loading > 0) {\n      console.log(\"Bokeh: BokehJS is being loaded, scheduling callback at\", now());\n      return null;\n    }\n    if (js_urls == null || js_urls.length === 0) {\n      run_callbacks();\n      return null;\n    }\n    console.log(\"Bokeh: BokehJS not loaded, scheduling load and callback at\", now());\n    root._bokeh_is_loading = js_urls.length;\n    for (var i = 0; i < js_urls.length; i++) {\n      var url = js_urls[i];\n      var s = document.createElement('script');\n      s.src = url;\n      s.async = false;\n      s.onreadystatechange = s.onload = function() {\n        root._bokeh_is_loading--;\n        if (root._bokeh_is_loading === 0) {\n          console.log(\"Bokeh: all BokehJS libraries loaded\");\n          run_callbacks()\n        }\n      };\n      s.onerror = function() {\n        console.warn(\"failed to load library \" + url);\n      };\n      console.log(\"Bokeh: injecting script tag for BokehJS library: \", url);\n      document.getElementsByTagName(\"head\")[0].appendChild(s);\n    }\n  };var element = document.getElementById(\"a3b248e1-5389-4deb-bf56-ad614eedf915\");\n  if (element == null) {\n    console.log(\"Bokeh: ERROR: autoload.js configured with elementid 'a3b248e1-5389-4deb-bf56-ad614eedf915' but no matching script tag was found. \")\n    return false;\n  }\n\n  var js_urls = [\"https://cdn.pydata.org/bokeh/release/bokeh-0.13.0.min.js\", \"https://cdn.pydata.org/bokeh/release/bokeh-widgets-0.13.0.min.js\", \"https://cdn.pydata.org/bokeh/release/bokeh-tables-0.13.0.min.js\", \"https://cdn.pydata.org/bokeh/release/bokeh-gl-0.13.0.min.js\"];\n\n  var inline_js = [\n    function(Bokeh) {\n      Bokeh.set_log_level(\"info\");\n    },\n    \n    function(Bokeh) {\n      \n    },\n    function(Bokeh) {\n      console.log(\"Bokeh: injecting CSS: https://cdn.pydata.org/bokeh/release/bokeh-0.13.0.min.css\");\n      Bokeh.embed.inject_css(\"https://cdn.pydata.org/bokeh/release/bokeh-0.13.0.min.css\");\n      console.log(\"Bokeh: injecting CSS: https://cdn.pydata.org/bokeh/release/bokeh-widgets-0.13.0.min.css\");\n      Bokeh.embed.inject_css(\"https://cdn.pydata.org/bokeh/release/bokeh-widgets-0.13.0.min.css\");\n      console.log(\"Bokeh: injecting CSS: https://cdn.pydata.org/bokeh/release/bokeh-tables-0.13.0.min.css\");\n      Bokeh.embed.inject_css(\"https://cdn.pydata.org/bokeh/release/bokeh-tables-0.13.0.min.css\");\n    }\n  ];\n\n  function run_inline_js() {\n    \n    if ((root.Bokeh !== undefined) || (force === true)) {\n      for (var i = 0; i < inline_js.length; i++) {\n        inline_js[i].call(root, root.Bokeh);\n      }if (force === true) {\n        display_loaded();\n      }} else if (Date.now() < root._bokeh_timeout) {\n      setTimeout(run_inline_js, 100);\n    } else if (!root._bokeh_failed_load) {\n      console.log(\"Bokeh: BokehJS failed to load within specified timeout.\");\n      root._bokeh_failed_load = true;\n    } else if (force !== true) {\n      var cell = $(document.getElementById(\"a3b248e1-5389-4deb-bf56-ad614eedf915\")).parents('.cell').data().cell;\n      cell.output_area.append_execute_result(NB_LOAD_WARNING)\n    }\n\n  }\n\n  if (root._bokeh_is_loading === 0) {\n    console.log(\"Bokeh: BokehJS loaded, going straight to plotting\");\n    run_inline_js();\n  } else {\n    load_libs(js_urls, function() {\n      console.log(\"Bokeh: BokehJS plotting callback run at\", now());\n      run_inline_js();\n    });\n  }\n}(window));"
     },
     "metadata": {},
     "output_type": "display_data"
    },
    {
     "data": {
      "text/html": [
       "\n",
       "\n",
       "\n",
       "\n",
       "\n",
       "\n",
       "  <div class=\"bk-root\" id=\"7182a8bc-200a-4e87-92fe-478d98d19895\"></div>\n"
      ]
     },
     "metadata": {},
     "output_type": "display_data"
    },
    {
     "data": {
      "application/javascript": [
       "(function(root) {\n",
       "  function embed_document(root) {\n",
       "    \n",
       "  var docs_json = {\"6d9d521d-1953-4300-ae1e-fd4716b861b9\":{\"roots\":{\"references\":[{\"attributes\":{},\"id\":\"ec9e6459-4528-4e27-9ec1-c7ea0a9655fc\",\"type\":\"BasicTickFormatter\"},{\"attributes\":{\"fill_alpha\":{\"value\":0.1},\"fill_color\":{\"value\":\"#1f77b4\"},\"line_alpha\":{\"value\":0.1},\"line_color\":{\"value\":\"#1f77b4\"},\"size\":{\"units\":\"screen\",\"value\":5},\"x\":{\"field\":\"x\"},\"y\":{\"field\":\"y\"}},\"id\":\"37b6b56c-86b6-4108-a989-1d774e02c9d4\",\"type\":\"Circle\"},{\"attributes\":{\"callback\":null,\"data\":{\"x\":{\"__ndarray__\":\"OPUNxYSO9D/jAlATT9btPzjLypDLbPc/KNX/SwmG8T/+6lVzra7tP6PGrzsf3PE/TV6+otvJ7D+fozkW8kv1P6hLd1oY6/g/6Bcsn6DU6T+jyhGG4IbzPxkcOxP6QARA4Il4e4/uBEBsLrJAdYj/P2Ss9OlNzAJAZAM+Yc8sC0BwQ5oWv3QHQEThGJywjgJAdbjWwlZYB0Blc1gZSZf6P4H4RvFi1vw/C60+J7JSAUC5Hftm1Hn+P3IDnn0fMP8/WVTI0v3oC0BgqfvIhFsOQC6ztfTibANAVK/45n7+C0BlABLC8jQCQMkIgnTe6QRAsJBvN5Wm9D+fuyPemvsAQGQmil27GQNAUYS6uEm6BkDiG+2X1tsJQPzQyZ8YRQFA3MMdXrecCECLVH/e7igBQNU67YtRev4/0XM1j3ncAEA5pYd/sYMCQKqS6Ntbwv4/PsiUVq+BBEDbVarI6VoDQKe9/J6xGv8/fq4bO4g5/D9IxfebEm3+Pw==\",\"dtype\":\"float64\",\"shape\":[47]},\"y\":{\"__ndarray__\":\"0M76KB7v5T8F/zHTvW3UP9P0crdSIuA/KJGmCkYr0j9Op938lPfdPwn2eLMMj7W/yTptplgY1T9GTKiyVFHPP8Ctvcn1HNE/YBGtPYf3yD9/BwI/QB3aP6cUpxi+QIi/Cl29ikTi1T+Fh5xzIC/HvxHPFCqhcaW/5zD/j2aC4T8EMFpJWI3WPzG2LFkfbs+/ebYyzOD46D+AiGpEHfvOP7KcK0P0qsu/R8RH6E2Oyz+2Fmrg62q+P7VTZriY2qQ/LbX2faW+8j8+6CHMgDXQP2eTECEyHdg/kqOSx8Y73T9XUUNwNFbVP22s010k3uE/7yQJmQvOvb/mw6v4Sv3Kvwbx6Ffqmd0/LHCYvQPb1z+LZ46cqu31P5bx+EwX8su/lZuGRcjx5T8txSkXscfBP00hBdmumag/+KbQe13G1z/7PQ8Rul/HP0KCOLt/Mdo/U5lp9ZCp0T/39ajHm2zTPxLoutQ4/cc//JbSWdUZtD+1ghc8Gaq9Pw==\",\"dtype\":\"float64\",\"shape\":[47]}},\"selected\":{\"id\":\"64e18c81-241e-4e46-9630-ab058463b02a\",\"type\":\"Selection\"},\"selection_policy\":{\"id\":\"8f83b115-fcd3-44fc-b5b3-1a8d755cc9d6\",\"type\":\"UnionRenderers\"}},\"id\":\"705c9fe4-6e60-4748-9a18-ab9a30005677\",\"type\":\"ColumnDataSource\"},{\"attributes\":{},\"id\":\"936803e6-68b9-4550-84ee-48cabf32ee57\",\"type\":\"WheelZoomTool\"},{\"attributes\":{\"fill_alpha\":{\"value\":0.1},\"fill_color\":{\"value\":\"#1f77b4\"},\"line_alpha\":{\"value\":0.1},\"line_color\":{\"value\":\"#1f77b4\"},\"size\":{\"units\":\"screen\",\"value\":5},\"x\":{\"field\":\"x\"},\"y\":{\"field\":\"y\"}},\"id\":\"dfc23203-8cfb-4aa8-9016-9e5b42347599\",\"type\":\"Circle\"},{\"attributes\":{\"callback\":null},\"id\":\"34827c2b-eed0-45dc-acd3-387ef503a0ab\",\"type\":\"DataRange1d\"},{\"attributes\":{},\"id\":\"409be617-be8e-4c3d-8776-6c1f19f1a84c\",\"type\":\"BasicTickFormatter\"},{\"attributes\":{},\"id\":\"8f83b115-fcd3-44fc-b5b3-1a8d755cc9d6\",\"type\":\"UnionRenderers\"},{\"attributes\":{},\"id\":\"7a53be82-7890-4e80-ba6e-4daeb577e3d4\",\"type\":\"PanTool\"},{\"attributes\":{\"source\":{\"id\":\"705c9fe4-6e60-4748-9a18-ab9a30005677\",\"type\":\"ColumnDataSource\"}},\"id\":\"64d37668-7cd6-43b3-aed8-2c9c22a9098a\",\"type\":\"CDSView\"},{\"attributes\":{},\"id\":\"ce7bf074-f31f-44f1-ba7e-298b591920ba\",\"type\":\"UnionRenderers\"},{\"attributes\":{},\"id\":\"64e18c81-241e-4e46-9630-ab058463b02a\",\"type\":\"Selection\"},{\"attributes\":{\"axis_label\":\"PCA component 1\",\"formatter\":{\"id\":\"ec9e6459-4528-4e27-9ec1-c7ea0a9655fc\",\"type\":\"BasicTickFormatter\"},\"plot\":{\"id\":\"2134748e-5927-4302-8616-494a8053df08\",\"subtype\":\"Figure\",\"type\":\"Plot\"},\"ticker\":{\"id\":\"84768e04-4ef4-4976-8b3c-9e7116c1092f\",\"type\":\"BasicTicker\"}},\"id\":\"7876d648-7fbb-44e7-b2cd-eaee37da267c\",\"type\":\"LinearAxis\"},{\"attributes\":{\"axis_label\":\"PCA component 2\",\"formatter\":{\"id\":\"409be617-be8e-4c3d-8776-6c1f19f1a84c\",\"type\":\"BasicTickFormatter\"},\"plot\":{\"id\":\"2134748e-5927-4302-8616-494a8053df08\",\"subtype\":\"Figure\",\"type\":\"Plot\"},\"ticker\":{\"id\":\"e7904ed8-d73b-4a2b-9fdf-7dd23baf1122\",\"type\":\"BasicTicker\"}},\"id\":\"d15dd617-021f-4756-a336-f060a198441c\",\"type\":\"LinearAxis\"},{\"attributes\":{\"fill_alpha\":{\"value\":0.1},\"fill_color\":{\"value\":\"#1f77b4\"},\"line_alpha\":{\"value\":0.1},\"line_color\":{\"value\":\"#1f77b4\"},\"size\":{\"units\":\"screen\",\"value\":5},\"x\":{\"field\":\"x\"},\"y\":{\"field\":\"y\"}},\"id\":\"07f343b7-a8a4-4b64-acd9-5e18242d7ebf\",\"type\":\"Circle\"},{\"attributes\":{\"source\":{\"id\":\"1278dce8-0fe7-4363-a941-57e7169340e5\",\"type\":\"ColumnDataSource\"}},\"id\":\"d39761af-a435-4e41-9a1b-45ba6a140a8b\",\"type\":\"CDSView\"},{\"attributes\":{},\"id\":\"fb269949-6de0-40e3-b70a-d8a8efc1f7ab\",\"type\":\"UnionRenderers\"},{\"attributes\":{},\"id\":\"b73970b9-be85-4fd5-80bd-84ee19abf679\",\"type\":\"HelpTool\"},{\"attributes\":{},\"id\":\"00f23660-dc66-46ad-b810-d3f09d29aa98\",\"type\":\"Selection\"},{\"attributes\":{\"active_drag\":\"auto\",\"active_inspect\":\"auto\",\"active_multi\":null,\"active_scroll\":\"auto\",\"active_tap\":\"auto\",\"tools\":[{\"id\":\"7a53be82-7890-4e80-ba6e-4daeb577e3d4\",\"type\":\"PanTool\"},{\"id\":\"936803e6-68b9-4550-84ee-48cabf32ee57\",\"type\":\"WheelZoomTool\"},{\"id\":\"7037a43d-ab34-42b3-9516-ac6c14316721\",\"type\":\"BoxZoomTool\"},{\"id\":\"222c5527-e25b-4078-997b-d8c74009acad\",\"type\":\"SaveTool\"},{\"id\":\"63b6f85f-49c9-4a4a-8885-379797d9d841\",\"type\":\"ResetTool\"},{\"id\":\"b73970b9-be85-4fd5-80bd-84ee19abf679\",\"type\":\"HelpTool\"}]},\"id\":\"8cf01527-862c-433f-9776-87a83f7072fa\",\"type\":\"Toolbar\"},{\"attributes\":{\"below\":[{\"id\":\"7876d648-7fbb-44e7-b2cd-eaee37da267c\",\"type\":\"LinearAxis\"}],\"left\":[{\"id\":\"d15dd617-021f-4756-a336-f060a198441c\",\"type\":\"LinearAxis\"}],\"plot_height\":400,\"renderers\":[{\"id\":\"7876d648-7fbb-44e7-b2cd-eaee37da267c\",\"type\":\"LinearAxis\"},{\"id\":\"bc3a2175-eb5f-4b67-aedb-27f7250394fa\",\"type\":\"Grid\"},{\"id\":\"d15dd617-021f-4756-a336-f060a198441c\",\"type\":\"LinearAxis\"},{\"id\":\"c2600842-7af1-4477-b1aa-3afb085ac520\",\"type\":\"Grid\"},{\"id\":\"15e0330a-437d-421b-a9b6-07885b8953c7\",\"type\":\"BoxAnnotation\"},{\"id\":\"a316bd01-48e4-429b-b00c-d4b5031d2718\",\"type\":\"GlyphRenderer\"},{\"id\":\"00bda4f6-dad0-41d4-b4f1-c214c93a6b18\",\"type\":\"GlyphRenderer\"},{\"id\":\"b0989a19-1111-4b30-b03b-8d9aa4b79dd2\",\"type\":\"GlyphRenderer\"}],\"title\":{\"id\":\"fca1ee44-f1a6-46a3-a24d-36ae6a5e1022\",\"type\":\"Title\"},\"toolbar\":{\"id\":\"8cf01527-862c-433f-9776-87a83f7072fa\",\"type\":\"Toolbar\"},\"x_range\":{\"id\":\"34827c2b-eed0-45dc-acd3-387ef503a0ab\",\"type\":\"DataRange1d\"},\"x_scale\":{\"id\":\"90e0e9b8-2b76-4e4a-897d-cc958b735224\",\"type\":\"LinearScale\"},\"y_range\":{\"id\":\"d3d43385-209f-4e58-a6d3-bbc144cfbd7b\",\"type\":\"DataRange1d\"},\"y_scale\":{\"id\":\"788844a3-7a00-48e6-9a7d-99b670afb416\",\"type\":\"LinearScale\"}},\"id\":\"2134748e-5927-4302-8616-494a8053df08\",\"subtype\":\"Figure\",\"type\":\"Plot\"},{\"attributes\":{\"plot\":{\"id\":\"2134748e-5927-4302-8616-494a8053df08\",\"subtype\":\"Figure\",\"type\":\"Plot\"},\"ticker\":{\"id\":\"84768e04-4ef4-4976-8b3c-9e7116c1092f\",\"type\":\"BasicTicker\"}},\"id\":\"bc3a2175-eb5f-4b67-aedb-27f7250394fa\",\"type\":\"Grid\"},{\"attributes\":{\"data_source\":{\"id\":\"705c9fe4-6e60-4748-9a18-ab9a30005677\",\"type\":\"ColumnDataSource\"},\"glyph\":{\"id\":\"42714804-feb0-4267-addd-b4bd2d1f846f\",\"type\":\"Circle\"},\"hover_glyph\":null,\"muted_glyph\":null,\"nonselection_glyph\":{\"id\":\"dfc23203-8cfb-4aa8-9016-9e5b42347599\",\"type\":\"Circle\"},\"selection_glyph\":null,\"view\":{\"id\":\"64d37668-7cd6-43b3-aed8-2c9c22a9098a\",\"type\":\"CDSView\"}},\"id\":\"00bda4f6-dad0-41d4-b4f1-c214c93a6b18\",\"type\":\"GlyphRenderer\"},{\"attributes\":{\"data_source\":{\"id\":\"1278dce8-0fe7-4363-a941-57e7169340e5\",\"type\":\"ColumnDataSource\"},\"glyph\":{\"id\":\"58a18d8e-9847-4ba1-a008-c60680ef81e9\",\"type\":\"Circle\"},\"hover_glyph\":null,\"muted_glyph\":null,\"nonselection_glyph\":{\"id\":\"37b6b56c-86b6-4108-a989-1d774e02c9d4\",\"type\":\"Circle\"},\"selection_glyph\":null,\"view\":{\"id\":\"d39761af-a435-4e41-9a1b-45ba6a140a8b\",\"type\":\"CDSView\"}},\"id\":\"a316bd01-48e4-429b-b00c-d4b5031d2718\",\"type\":\"GlyphRenderer\"},{\"attributes\":{},\"id\":\"e7904ed8-d73b-4a2b-9fdf-7dd23baf1122\",\"type\":\"BasicTicker\"},{\"attributes\":{\"plot\":null,\"text\":\"K-means clusters of the iris data\"},\"id\":\"fca1ee44-f1a6-46a3-a24d-36ae6a5e1022\",\"type\":\"Title\"},{\"attributes\":{},\"id\":\"788844a3-7a00-48e6-9a7d-99b670afb416\",\"type\":\"LinearScale\"},{\"attributes\":{\"bottom_units\":\"screen\",\"fill_alpha\":{\"value\":0.5},\"fill_color\":{\"value\":\"lightgrey\"},\"left_units\":\"screen\",\"level\":\"overlay\",\"line_alpha\":{\"value\":1.0},\"line_color\":{\"value\":\"black\"},\"line_dash\":[4,4],\"line_width\":{\"value\":2},\"plot\":null,\"render_mode\":\"css\",\"right_units\":\"screen\",\"top_units\":\"screen\"},\"id\":\"15e0330a-437d-421b-a9b6-07885b8953c7\",\"type\":\"BoxAnnotation\"},{\"attributes\":{\"callback\":null,\"data\":{\"x\":{\"__ndarray__\":\"Frd09O4pxz9Ihs4h52TxP1d4yzV1fuQ/8Ukj0QQM6L8q94EDWbHwP5EZKSSI3oS/n84ZcNFa4L/N5/VR6lrgPwL1T+kbytA/mupp/Ep97z+eXdiQ8WHGv7qPNVZiG+U/AQvJCW0Fzj/I+0i90yfuPzq6KWZkJKY/R/geVJfV1j8sJQQfVr70P/RBnvjBdO0/lnvVwCfZ5j/ezYzHov/pPybnH2Vfq9O/SRWL1/0Bsr/lphjJq4/Iv9MpqLiDR8E/x+isgk4P9j/OcTyi9MriP/Br808DA+o/anlMGI5izz/ZpEypxg7FP9cvj7pMot0/rnZIwjF87D9n+S2h6EvNP7S4we1ooOa/qS39pQ3B1j/7kmcULzHVP3dCYjTnA9g/qF3cDLqI5D+rLSyyIRLtv8pjs+VID9M//9mUMgqg9j9VXXecyZ7gP72G6Tl1g/U/gy5fPkFd+T/2Cn9+9cX0PwWDdSZoK/M/FaODn+Mz9j+moXSVOx/0P1kTqcHyFvc/93ec52d5/D9lEBOyn7PyP//ZlDIKoPY/5AiTRB5p+D9Vcy+OEjz2Pw==\",\"dtype\":\"float64\",\"shape\":[53]},\"y\":{\"__ndarray__\":\"C3Uj9lhr6r/7jm3YyEyzP3thzY1ttdq/JhTAT4kE8L/Q+7HBdU7NPzy82QXzDue/DNFUwyoz9L/UtBKGSi+6v8zsloZXiOG/KoHFoRXWv7/obJoOvx3Qv22SxJDHhta/UxV8DjU+1b9O+d+hm1bhv0FqhcGPm+K/Cwmay10bsb9JobyXxPbUv2CrzEKRWMe/NOhixJ8/wz/BH5vyR8fEv91vgj2UXde/VHQf1DB75r+//G2mAK7lv16SUAAN89O/z35iZQb12r8xJSEjIe7evycAxmc0ude/bwOGdxIS0b/1UeFoyb/lv6Slpe/CbOW/ACeXT91Pob/GDc++lr7Zv5QKxQCCIvC/gGJEqF0a4L/89tpq8wfLv2w11mzvqdK/fhRO/WSHkz9PlOna2Qzovy8A3MiENda/FGsZO8ll4r9UHOjJxg/zvyDSZyll2Oi/qNLY3QBC4b+IHyXmOVrovw+WfSHnYOO/TT9Y968dyr9J27cM9u3Gv2PR3aQUaMK/N3Kr5f8L4L+UdGj8ag7FvxRrGTvJZeK/+lSTcVcA2L+mjBfb0BrSvw==\",\"dtype\":\"float64\",\"shape\":[53]}},\"selected\":{\"id\":\"00f23660-dc66-46ad-b810-d3f09d29aa98\",\"type\":\"Selection\"},\"selection_policy\":{\"id\":\"ce7bf074-f31f-44f1-ba7e-298b591920ba\",\"type\":\"UnionRenderers\"}},\"id\":\"4d5cb1a9-a191-46ed-b087-ff2415ca4a9f\",\"type\":\"ColumnDataSource\"},{\"attributes\":{\"source\":{\"id\":\"4d5cb1a9-a191-46ed-b087-ff2415ca4a9f\",\"type\":\"ColumnDataSource\"}},\"id\":\"72c4c306-c994-4877-9812-87a5463bbf2c\",\"type\":\"CDSView\"},{\"attributes\":{},\"id\":\"275e59ab-16e9-45d7-8b98-ed21670c98ae\",\"type\":\"Selection\"},{\"attributes\":{\"fill_alpha\":{\"value\":0.7},\"fill_color\":{\"value\":\"#2ca02c\"},\"line_alpha\":{\"value\":0.7},\"line_color\":{\"value\":\"#2ca02c\"},\"size\":{\"units\":\"screen\",\"value\":5},\"x\":{\"field\":\"x\"},\"y\":{\"field\":\"y\"}},\"id\":\"07fb15a9-02c9-43c6-a09c-eab9a4d37afd\",\"type\":\"Circle\"},{\"attributes\":{},\"id\":\"222c5527-e25b-4078-997b-d8c74009acad\",\"type\":\"SaveTool\"},{\"attributes\":{\"callback\":null,\"data\":{\"x\":{\"__ndarray__\":\"2xfQlUF5BcB7HBC3HrkFwIEB8LRZHgfA4au3ELT4BcArfKiOKNQFwPou3tM6PQLAoXRMIi+RBsCf3sb9CAMFwJ6OMgWKGgfABFbgrghkBcBfEdbqXQ0EwLQJll635wTAl1U1L6pMBsCBXT7kNc0JwFSZcvz5JQXAaz99FCoSA8CXoJoE7/oEwH0CKtTDLwXAjJitL7aXAcDNpwaP4rIEwNoWbAv4ewLA3FEHi4tYBMC+fGGZE7oJwGkBnqfObALAf7QIOnDZAsDwvzLoNhAEwHyXS26gwAPAttch08Z/BMCLs/ecWh4FwE2sYpASEAXA/UeKlyu1BMDuJH6g1kcDwIFw3yJcLgXA5ExEjPvGBMAEVuCuCGQFwK+yoZ2d7wbATKUCyHcABcAEVuCuCGQFwJfrulPQ2gfA4rpHR/u4BMCjQtiWPikGwH7uJAtU0QbAu2xt2IL8B8BVrVgtfj4DwNMgpJywqwHA3Crpq665BcDDoH1E80wEwNkIQF/6uAbAHTVVoWtXBMB1upzHnKEFwA==\",\"dtype\":\"float64\",\"shape\":[50]},\"y\":{\"__ndarray__\":\"DAnjXSLn1D9+cojtCbTFvxRbwHqKlMG/sEpJ9nXp07+t4vYhBV/VP3IdOgPW7ec/5n+0Hc0Etb9ZiGys18/FP6rl9jj6Q+K/bV5fwiVQu7+J6VrRptzkP4aQ1SmBCZY/lteXK5cmzb/tKP933hrgv7iauoCn+vI/yp2wIR2E9T8azrJlyi3qPyFyvDO8bNQ/a8Vxf8Qi7D+GQSNVuKfgPyq5dpiqdtk/Icnd8nop3D+sPF6EdSDCPyzV18SIA7s//f56EWj1n7/yQB0gmczBv1F8WaFKpsE/E/rU9dT61z9RL8+ZP2/UPwBtKqJnVMi/aCBSKi1Eyb8hPKKm0sHaP7ExxDdMPeo/C8nal7CZ8T9tXl/CJVC7v/wbnD3twrM/eEPs2edq4z9tXl/CJVC7v+lPb7NqvN6/IBvJPjE3zj8OgcqbCVnRP3lJm3gI2u2/vgnrmEtl1b8aZ0MT0RPJP+mKLrshVdw/9jIy1C8Qz7/JYJhR7lTgP4+elW/YO8y/0sTDbNDC4j+m5cHoWXG9Pw==\",\"dtype\":\"float64\",\"shape\":[50]}},\"selected\":{\"id\":\"275e59ab-16e9-45d7-8b98-ed21670c98ae\",\"type\":\"Selection\"},\"selection_policy\":{\"id\":\"fb269949-6de0-40e3-b70a-d8a8efc1f7ab\",\"type\":\"UnionRenderers\"}},\"id\":\"1278dce8-0fe7-4363-a941-57e7169340e5\",\"type\":\"ColumnDataSource\"},{\"attributes\":{},\"id\":\"90e0e9b8-2b76-4e4a-897d-cc958b735224\",\"type\":\"LinearScale\"},{\"attributes\":{\"dimension\":1,\"plot\":{\"id\":\"2134748e-5927-4302-8616-494a8053df08\",\"subtype\":\"Figure\",\"type\":\"Plot\"},\"ticker\":{\"id\":\"e7904ed8-d73b-4a2b-9fdf-7dd23baf1122\",\"type\":\"BasicTicker\"}},\"id\":\"c2600842-7af1-4477-b1aa-3afb085ac520\",\"type\":\"Grid\"},{\"attributes\":{\"fill_alpha\":{\"value\":0.7},\"fill_color\":{\"value\":\"#ff7f0e\"},\"line_alpha\":{\"value\":0.7},\"line_color\":{\"value\":\"#ff7f0e\"},\"size\":{\"units\":\"screen\",\"value\":5},\"x\":{\"field\":\"x\"},\"y\":{\"field\":\"y\"}},\"id\":\"42714804-feb0-4267-addd-b4bd2d1f846f\",\"type\":\"Circle\"},{\"attributes\":{},\"id\":\"63b6f85f-49c9-4a4a-8885-379797d9d841\",\"type\":\"ResetTool\"},{\"attributes\":{},\"id\":\"84768e04-4ef4-4976-8b3c-9e7116c1092f\",\"type\":\"BasicTicker\"},{\"attributes\":{\"overlay\":{\"id\":\"15e0330a-437d-421b-a9b6-07885b8953c7\",\"type\":\"BoxAnnotation\"}},\"id\":\"7037a43d-ab34-42b3-9516-ac6c14316721\",\"type\":\"BoxZoomTool\"},{\"attributes\":{\"fill_alpha\":{\"value\":0.7},\"fill_color\":{\"value\":\"#1f77b4\"},\"line_alpha\":{\"value\":0.7},\"line_color\":{\"value\":\"#1f77b4\"},\"size\":{\"units\":\"screen\",\"value\":5},\"x\":{\"field\":\"x\"},\"y\":{\"field\":\"y\"}},\"id\":\"58a18d8e-9847-4ba1-a008-c60680ef81e9\",\"type\":\"Circle\"},{\"attributes\":{\"data_source\":{\"id\":\"4d5cb1a9-a191-46ed-b087-ff2415ca4a9f\",\"type\":\"ColumnDataSource\"},\"glyph\":{\"id\":\"07fb15a9-02c9-43c6-a09c-eab9a4d37afd\",\"type\":\"Circle\"},\"hover_glyph\":null,\"muted_glyph\":null,\"nonselection_glyph\":{\"id\":\"07f343b7-a8a4-4b64-acd9-5e18242d7ebf\",\"type\":\"Circle\"},\"selection_glyph\":null,\"view\":{\"id\":\"72c4c306-c994-4877-9812-87a5463bbf2c\",\"type\":\"CDSView\"}},\"id\":\"b0989a19-1111-4b30-b03b-8d9aa4b79dd2\",\"type\":\"GlyphRenderer\"},{\"attributes\":{\"callback\":null},\"id\":\"d3d43385-209f-4e58-a6d3-bbc144cfbd7b\",\"type\":\"DataRange1d\"}],\"root_ids\":[\"2134748e-5927-4302-8616-494a8053df08\"]},\"title\":\"Bokeh Application\",\"version\":\"0.13.0\"}};\n",
       "  var render_items = [{\"docid\":\"6d9d521d-1953-4300-ae1e-fd4716b861b9\",\"roots\":{\"2134748e-5927-4302-8616-494a8053df08\":\"7182a8bc-200a-4e87-92fe-478d98d19895\"}}];\n",
       "  root.Bokeh.embed.embed_items_notebook(docs_json, render_items);\n",
       "\n",
       "  }\n",
       "  if (root.Bokeh !== undefined) {\n",
       "    embed_document(root);\n",
       "  } else {\n",
       "    var attempts = 0;\n",
       "    var timer = setInterval(function(root) {\n",
       "      if (root.Bokeh !== undefined) {\n",
       "        embed_document(root);\n",
       "        clearInterval(timer);\n",
       "      }\n",
       "      attempts++;\n",
       "      if (attempts > 100) {\n",
       "        console.log(\"Bokeh: ERROR: Unable to run BokehJS code because BokehJS library is missing\")\n",
       "        clearInterval(timer);\n",
       "      }\n",
       "    }, 10, root)\n",
       "  }\n",
       "})(window);"
      ],
      "application/vnd.bokehjs_exec.v0+json": ""
     },
     "metadata": {
      "application/vnd.bokehjs_exec.v0+json": {
       "id": "2134748e-5927-4302-8616-494a8053df08"
      }
     },
     "output_type": "display_data"
    }
   ],
   "source": [
    "output_notebook()\n",
    "show(p_clusters)"
   ]
  },
  {
   "cell_type": "markdown",
   "metadata": {
    "slideshow": {
     "slide_type": "subslide"
    }
   },
   "source": [
    "### Has our clustering algorithm worked?\n",
    "\n",
    "lets look at the labels"
   ]
  },
  {
   "cell_type": "code",
   "execution_count": 415,
   "metadata": {
    "scrolled": true,
    "slideshow": {
     "slide_type": "fragment"
    }
   },
   "outputs": [],
   "source": [
    "# I created a convenice function from the previous code\n",
    "p_labels = plot_by_category(data = iris_data_2D, \n",
    "                            categories = iris_labels,\n",
    "                            plot_title = \"Labels of the iris data\"\n",
    "                           )"
   ]
  },
  {
   "cell_type": "code",
   "execution_count": 416,
   "metadata": {
    "slideshow": {
     "slide_type": "subslide"
    }
   },
   "outputs": [
    {
     "data": {
      "text/html": [
       "\n",
       "    <div class=\"bk-root\">\n",
       "        <a href=\"https://bokeh.pydata.org\" target=\"_blank\" class=\"bk-logo bk-logo-small bk-logo-notebook\"></a>\n",
       "        <span id=\"f7441af6-0420-4c17-b276-5c7ada5d1080\">Loading BokehJS ...</span>\n",
       "    </div>"
      ]
     },
     "metadata": {},
     "output_type": "display_data"
    },
    {
     "data": {
      "application/javascript": [
       "\n",
       "(function(root) {\n",
       "  function now() {\n",
       "    return new Date();\n",
       "  }\n",
       "\n",
       "  var force = true;\n",
       "\n",
       "  if (typeof (root._bokeh_onload_callbacks) === \"undefined\" || force === true) {\n",
       "    root._bokeh_onload_callbacks = [];\n",
       "    root._bokeh_is_loading = undefined;\n",
       "  }\n",
       "\n",
       "  var JS_MIME_TYPE = 'application/javascript';\n",
       "  var HTML_MIME_TYPE = 'text/html';\n",
       "  var EXEC_MIME_TYPE = 'application/vnd.bokehjs_exec.v0+json';\n",
       "  var CLASS_NAME = 'output_bokeh rendered_html';\n",
       "\n",
       "  /**\n",
       "   * Render data to the DOM node\n",
       "   */\n",
       "  function render(props, node) {\n",
       "    var script = document.createElement(\"script\");\n",
       "    node.appendChild(script);\n",
       "  }\n",
       "\n",
       "  /**\n",
       "   * Handle when an output is cleared or removed\n",
       "   */\n",
       "  function handleClearOutput(event, handle) {\n",
       "    var cell = handle.cell;\n",
       "\n",
       "    var id = cell.output_area._bokeh_element_id;\n",
       "    var server_id = cell.output_area._bokeh_server_id;\n",
       "    // Clean up Bokeh references\n",
       "    if (id != null && id in Bokeh.index) {\n",
       "      Bokeh.index[id].model.document.clear();\n",
       "      delete Bokeh.index[id];\n",
       "    }\n",
       "\n",
       "    if (server_id !== undefined) {\n",
       "      // Clean up Bokeh references\n",
       "      var cmd = \"from bokeh.io.state import curstate; print(curstate().uuid_to_server['\" + server_id + \"'].get_sessions()[0].document.roots[0]._id)\";\n",
       "      cell.notebook.kernel.execute(cmd, {\n",
       "        iopub: {\n",
       "          output: function(msg) {\n",
       "            var id = msg.content.text.trim();\n",
       "            if (id in Bokeh.index) {\n",
       "              Bokeh.index[id].model.document.clear();\n",
       "              delete Bokeh.index[id];\n",
       "            }\n",
       "          }\n",
       "        }\n",
       "      });\n",
       "      // Destroy server and session\n",
       "      var cmd = \"import bokeh.io.notebook as ion; ion.destroy_server('\" + server_id + \"')\";\n",
       "      cell.notebook.kernel.execute(cmd);\n",
       "    }\n",
       "  }\n",
       "\n",
       "  /**\n",
       "   * Handle when a new output is added\n",
       "   */\n",
       "  function handleAddOutput(event, handle) {\n",
       "    var output_area = handle.output_area;\n",
       "    var output = handle.output;\n",
       "\n",
       "    // limit handleAddOutput to display_data with EXEC_MIME_TYPE content only\n",
       "    if ((output.output_type != \"display_data\") || (!output.data.hasOwnProperty(EXEC_MIME_TYPE))) {\n",
       "      return\n",
       "    }\n",
       "\n",
       "    var toinsert = output_area.element.find(\".\" + CLASS_NAME.split(' ')[0]);\n",
       "\n",
       "    if (output.metadata[EXEC_MIME_TYPE][\"id\"] !== undefined) {\n",
       "      toinsert[toinsert.length - 1].firstChild.textContent = output.data[JS_MIME_TYPE];\n",
       "      // store reference to embed id on output_area\n",
       "      output_area._bokeh_element_id = output.metadata[EXEC_MIME_TYPE][\"id\"];\n",
       "    }\n",
       "    if (output.metadata[EXEC_MIME_TYPE][\"server_id\"] !== undefined) {\n",
       "      var bk_div = document.createElement(\"div\");\n",
       "      bk_div.innerHTML = output.data[HTML_MIME_TYPE];\n",
       "      var script_attrs = bk_div.children[0].attributes;\n",
       "      for (var i = 0; i < script_attrs.length; i++) {\n",
       "        toinsert[toinsert.length - 1].firstChild.setAttribute(script_attrs[i].name, script_attrs[i].value);\n",
       "      }\n",
       "      // store reference to server id on output_area\n",
       "      output_area._bokeh_server_id = output.metadata[EXEC_MIME_TYPE][\"server_id\"];\n",
       "    }\n",
       "  }\n",
       "\n",
       "  function register_renderer(events, OutputArea) {\n",
       "\n",
       "    function append_mime(data, metadata, element) {\n",
       "      // create a DOM node to render to\n",
       "      var toinsert = this.create_output_subarea(\n",
       "        metadata,\n",
       "        CLASS_NAME,\n",
       "        EXEC_MIME_TYPE\n",
       "      );\n",
       "      this.keyboard_manager.register_events(toinsert);\n",
       "      // Render to node\n",
       "      var props = {data: data, metadata: metadata[EXEC_MIME_TYPE]};\n",
       "      render(props, toinsert[toinsert.length - 1]);\n",
       "      element.append(toinsert);\n",
       "      return toinsert\n",
       "    }\n",
       "\n",
       "    /* Handle when an output is cleared or removed */\n",
       "    events.on('clear_output.CodeCell', handleClearOutput);\n",
       "    events.on('delete.Cell', handleClearOutput);\n",
       "\n",
       "    /* Handle when a new output is added */\n",
       "    events.on('output_added.OutputArea', handleAddOutput);\n",
       "\n",
       "    /**\n",
       "     * Register the mime type and append_mime function with output_area\n",
       "     */\n",
       "    OutputArea.prototype.register_mime_type(EXEC_MIME_TYPE, append_mime, {\n",
       "      /* Is output safe? */\n",
       "      safe: true,\n",
       "      /* Index of renderer in `output_area.display_order` */\n",
       "      index: 0\n",
       "    });\n",
       "  }\n",
       "\n",
       "  // register the mime type if in Jupyter Notebook environment and previously unregistered\n",
       "  if (root.Jupyter !== undefined) {\n",
       "    var events = require('base/js/events');\n",
       "    var OutputArea = require('notebook/js/outputarea').OutputArea;\n",
       "\n",
       "    if (OutputArea.prototype.mime_types().indexOf(EXEC_MIME_TYPE) == -1) {\n",
       "      register_renderer(events, OutputArea);\n",
       "    }\n",
       "  }\n",
       "\n",
       "  \n",
       "  if (typeof (root._bokeh_timeout) === \"undefined\" || force === true) {\n",
       "    root._bokeh_timeout = Date.now() + 5000;\n",
       "    root._bokeh_failed_load = false;\n",
       "  }\n",
       "\n",
       "  var NB_LOAD_WARNING = {'data': {'text/html':\n",
       "     \"<div style='background-color: #fdd'>\\n\"+\n",
       "     \"<p>\\n\"+\n",
       "     \"BokehJS does not appear to have successfully loaded. If loading BokehJS from CDN, this \\n\"+\n",
       "     \"may be due to a slow or bad network connection. Possible fixes:\\n\"+\n",
       "     \"</p>\\n\"+\n",
       "     \"<ul>\\n\"+\n",
       "     \"<li>re-rerun `output_notebook()` to attempt to load from CDN again, or</li>\\n\"+\n",
       "     \"<li>use INLINE resources instead, as so:</li>\\n\"+\n",
       "     \"</ul>\\n\"+\n",
       "     \"<code>\\n\"+\n",
       "     \"from bokeh.resources import INLINE\\n\"+\n",
       "     \"output_notebook(resources=INLINE)\\n\"+\n",
       "     \"</code>\\n\"+\n",
       "     \"</div>\"}};\n",
       "\n",
       "  function display_loaded() {\n",
       "    var el = document.getElementById(\"f7441af6-0420-4c17-b276-5c7ada5d1080\");\n",
       "    if (el != null) {\n",
       "      el.textContent = \"BokehJS is loading...\";\n",
       "    }\n",
       "    if (root.Bokeh !== undefined) {\n",
       "      if (el != null) {\n",
       "        el.textContent = \"BokehJS \" + root.Bokeh.version + \" successfully loaded.\";\n",
       "      }\n",
       "    } else if (Date.now() < root._bokeh_timeout) {\n",
       "      setTimeout(display_loaded, 100)\n",
       "    }\n",
       "  }\n",
       "\n",
       "\n",
       "  function run_callbacks() {\n",
       "    try {\n",
       "      root._bokeh_onload_callbacks.forEach(function(callback) { callback() });\n",
       "    }\n",
       "    finally {\n",
       "      delete root._bokeh_onload_callbacks\n",
       "    }\n",
       "    console.info(\"Bokeh: all callbacks have finished\");\n",
       "  }\n",
       "\n",
       "  function load_libs(js_urls, callback) {\n",
       "    root._bokeh_onload_callbacks.push(callback);\n",
       "    if (root._bokeh_is_loading > 0) {\n",
       "      console.log(\"Bokeh: BokehJS is being loaded, scheduling callback at\", now());\n",
       "      return null;\n",
       "    }\n",
       "    if (js_urls == null || js_urls.length === 0) {\n",
       "      run_callbacks();\n",
       "      return null;\n",
       "    }\n",
       "    console.log(\"Bokeh: BokehJS not loaded, scheduling load and callback at\", now());\n",
       "    root._bokeh_is_loading = js_urls.length;\n",
       "    for (var i = 0; i < js_urls.length; i++) {\n",
       "      var url = js_urls[i];\n",
       "      var s = document.createElement('script');\n",
       "      s.src = url;\n",
       "      s.async = false;\n",
       "      s.onreadystatechange = s.onload = function() {\n",
       "        root._bokeh_is_loading--;\n",
       "        if (root._bokeh_is_loading === 0) {\n",
       "          console.log(\"Bokeh: all BokehJS libraries loaded\");\n",
       "          run_callbacks()\n",
       "        }\n",
       "      };\n",
       "      s.onerror = function() {\n",
       "        console.warn(\"failed to load library \" + url);\n",
       "      };\n",
       "      console.log(\"Bokeh: injecting script tag for BokehJS library: \", url);\n",
       "      document.getElementsByTagName(\"head\")[0].appendChild(s);\n",
       "    }\n",
       "  };var element = document.getElementById(\"f7441af6-0420-4c17-b276-5c7ada5d1080\");\n",
       "  if (element == null) {\n",
       "    console.log(\"Bokeh: ERROR: autoload.js configured with elementid 'f7441af6-0420-4c17-b276-5c7ada5d1080' but no matching script tag was found. \")\n",
       "    return false;\n",
       "  }\n",
       "\n",
       "  var js_urls = [\"https://cdn.pydata.org/bokeh/release/bokeh-0.13.0.min.js\", \"https://cdn.pydata.org/bokeh/release/bokeh-widgets-0.13.0.min.js\", \"https://cdn.pydata.org/bokeh/release/bokeh-tables-0.13.0.min.js\", \"https://cdn.pydata.org/bokeh/release/bokeh-gl-0.13.0.min.js\"];\n",
       "\n",
       "  var inline_js = [\n",
       "    function(Bokeh) {\n",
       "      Bokeh.set_log_level(\"info\");\n",
       "    },\n",
       "    \n",
       "    function(Bokeh) {\n",
       "      \n",
       "    },\n",
       "    function(Bokeh) {\n",
       "      console.log(\"Bokeh: injecting CSS: https://cdn.pydata.org/bokeh/release/bokeh-0.13.0.min.css\");\n",
       "      Bokeh.embed.inject_css(\"https://cdn.pydata.org/bokeh/release/bokeh-0.13.0.min.css\");\n",
       "      console.log(\"Bokeh: injecting CSS: https://cdn.pydata.org/bokeh/release/bokeh-widgets-0.13.0.min.css\");\n",
       "      Bokeh.embed.inject_css(\"https://cdn.pydata.org/bokeh/release/bokeh-widgets-0.13.0.min.css\");\n",
       "      console.log(\"Bokeh: injecting CSS: https://cdn.pydata.org/bokeh/release/bokeh-tables-0.13.0.min.css\");\n",
       "      Bokeh.embed.inject_css(\"https://cdn.pydata.org/bokeh/release/bokeh-tables-0.13.0.min.css\");\n",
       "    }\n",
       "  ];\n",
       "\n",
       "  function run_inline_js() {\n",
       "    \n",
       "    if ((root.Bokeh !== undefined) || (force === true)) {\n",
       "      for (var i = 0; i < inline_js.length; i++) {\n",
       "        inline_js[i].call(root, root.Bokeh);\n",
       "      }if (force === true) {\n",
       "        display_loaded();\n",
       "      }} else if (Date.now() < root._bokeh_timeout) {\n",
       "      setTimeout(run_inline_js, 100);\n",
       "    } else if (!root._bokeh_failed_load) {\n",
       "      console.log(\"Bokeh: BokehJS failed to load within specified timeout.\");\n",
       "      root._bokeh_failed_load = true;\n",
       "    } else if (force !== true) {\n",
       "      var cell = $(document.getElementById(\"f7441af6-0420-4c17-b276-5c7ada5d1080\")).parents('.cell').data().cell;\n",
       "      cell.output_area.append_execute_result(NB_LOAD_WARNING)\n",
       "    }\n",
       "\n",
       "  }\n",
       "\n",
       "  if (root._bokeh_is_loading === 0) {\n",
       "    console.log(\"Bokeh: BokehJS loaded, going straight to plotting\");\n",
       "    run_inline_js();\n",
       "  } else {\n",
       "    load_libs(js_urls, function() {\n",
       "      console.log(\"Bokeh: BokehJS plotting callback run at\", now());\n",
       "      run_inline_js();\n",
       "    });\n",
       "  }\n",
       "}(window));"
      ],
      "application/vnd.bokehjs_load.v0+json": "\n(function(root) {\n  function now() {\n    return new Date();\n  }\n\n  var force = true;\n\n  if (typeof (root._bokeh_onload_callbacks) === \"undefined\" || force === true) {\n    root._bokeh_onload_callbacks = [];\n    root._bokeh_is_loading = undefined;\n  }\n\n  \n\n  \n  if (typeof (root._bokeh_timeout) === \"undefined\" || force === true) {\n    root._bokeh_timeout = Date.now() + 5000;\n    root._bokeh_failed_load = false;\n  }\n\n  var NB_LOAD_WARNING = {'data': {'text/html':\n     \"<div style='background-color: #fdd'>\\n\"+\n     \"<p>\\n\"+\n     \"BokehJS does not appear to have successfully loaded. If loading BokehJS from CDN, this \\n\"+\n     \"may be due to a slow or bad network connection. Possible fixes:\\n\"+\n     \"</p>\\n\"+\n     \"<ul>\\n\"+\n     \"<li>re-rerun `output_notebook()` to attempt to load from CDN again, or</li>\\n\"+\n     \"<li>use INLINE resources instead, as so:</li>\\n\"+\n     \"</ul>\\n\"+\n     \"<code>\\n\"+\n     \"from bokeh.resources import INLINE\\n\"+\n     \"output_notebook(resources=INLINE)\\n\"+\n     \"</code>\\n\"+\n     \"</div>\"}};\n\n  function display_loaded() {\n    var el = document.getElementById(\"f7441af6-0420-4c17-b276-5c7ada5d1080\");\n    if (el != null) {\n      el.textContent = \"BokehJS is loading...\";\n    }\n    if (root.Bokeh !== undefined) {\n      if (el != null) {\n        el.textContent = \"BokehJS \" + root.Bokeh.version + \" successfully loaded.\";\n      }\n    } else if (Date.now() < root._bokeh_timeout) {\n      setTimeout(display_loaded, 100)\n    }\n  }\n\n\n  function run_callbacks() {\n    try {\n      root._bokeh_onload_callbacks.forEach(function(callback) { callback() });\n    }\n    finally {\n      delete root._bokeh_onload_callbacks\n    }\n    console.info(\"Bokeh: all callbacks have finished\");\n  }\n\n  function load_libs(js_urls, callback) {\n    root._bokeh_onload_callbacks.push(callback);\n    if (root._bokeh_is_loading > 0) {\n      console.log(\"Bokeh: BokehJS is being loaded, scheduling callback at\", now());\n      return null;\n    }\n    if (js_urls == null || js_urls.length === 0) {\n      run_callbacks();\n      return null;\n    }\n    console.log(\"Bokeh: BokehJS not loaded, scheduling load and callback at\", now());\n    root._bokeh_is_loading = js_urls.length;\n    for (var i = 0; i < js_urls.length; i++) {\n      var url = js_urls[i];\n      var s = document.createElement('script');\n      s.src = url;\n      s.async = false;\n      s.onreadystatechange = s.onload = function() {\n        root._bokeh_is_loading--;\n        if (root._bokeh_is_loading === 0) {\n          console.log(\"Bokeh: all BokehJS libraries loaded\");\n          run_callbacks()\n        }\n      };\n      s.onerror = function() {\n        console.warn(\"failed to load library \" + url);\n      };\n      console.log(\"Bokeh: injecting script tag for BokehJS library: \", url);\n      document.getElementsByTagName(\"head\")[0].appendChild(s);\n    }\n  };var element = document.getElementById(\"f7441af6-0420-4c17-b276-5c7ada5d1080\");\n  if (element == null) {\n    console.log(\"Bokeh: ERROR: autoload.js configured with elementid 'f7441af6-0420-4c17-b276-5c7ada5d1080' but no matching script tag was found. \")\n    return false;\n  }\n\n  var js_urls = [\"https://cdn.pydata.org/bokeh/release/bokeh-0.13.0.min.js\", \"https://cdn.pydata.org/bokeh/release/bokeh-widgets-0.13.0.min.js\", \"https://cdn.pydata.org/bokeh/release/bokeh-tables-0.13.0.min.js\", \"https://cdn.pydata.org/bokeh/release/bokeh-gl-0.13.0.min.js\"];\n\n  var inline_js = [\n    function(Bokeh) {\n      Bokeh.set_log_level(\"info\");\n    },\n    \n    function(Bokeh) {\n      \n    },\n    function(Bokeh) {\n      console.log(\"Bokeh: injecting CSS: https://cdn.pydata.org/bokeh/release/bokeh-0.13.0.min.css\");\n      Bokeh.embed.inject_css(\"https://cdn.pydata.org/bokeh/release/bokeh-0.13.0.min.css\");\n      console.log(\"Bokeh: injecting CSS: https://cdn.pydata.org/bokeh/release/bokeh-widgets-0.13.0.min.css\");\n      Bokeh.embed.inject_css(\"https://cdn.pydata.org/bokeh/release/bokeh-widgets-0.13.0.min.css\");\n      console.log(\"Bokeh: injecting CSS: https://cdn.pydata.org/bokeh/release/bokeh-tables-0.13.0.min.css\");\n      Bokeh.embed.inject_css(\"https://cdn.pydata.org/bokeh/release/bokeh-tables-0.13.0.min.css\");\n    }\n  ];\n\n  function run_inline_js() {\n    \n    if ((root.Bokeh !== undefined) || (force === true)) {\n      for (var i = 0; i < inline_js.length; i++) {\n        inline_js[i].call(root, root.Bokeh);\n      }if (force === true) {\n        display_loaded();\n      }} else if (Date.now() < root._bokeh_timeout) {\n      setTimeout(run_inline_js, 100);\n    } else if (!root._bokeh_failed_load) {\n      console.log(\"Bokeh: BokehJS failed to load within specified timeout.\");\n      root._bokeh_failed_load = true;\n    } else if (force !== true) {\n      var cell = $(document.getElementById(\"f7441af6-0420-4c17-b276-5c7ada5d1080\")).parents('.cell').data().cell;\n      cell.output_area.append_execute_result(NB_LOAD_WARNING)\n    }\n\n  }\n\n  if (root._bokeh_is_loading === 0) {\n    console.log(\"Bokeh: BokehJS loaded, going straight to plotting\");\n    run_inline_js();\n  } else {\n    load_libs(js_urls, function() {\n      console.log(\"Bokeh: BokehJS plotting callback run at\", now());\n      run_inline_js();\n    });\n  }\n}(window));"
     },
     "metadata": {},
     "output_type": "display_data"
    },
    {
     "data": {
      "text/html": [
       "\n",
       "\n",
       "\n",
       "\n",
       "\n",
       "\n",
       "  <div class=\"bk-root\" id=\"4a0747cc-5021-4f59-9d3c-016259f8b13f\"></div>\n"
      ]
     },
     "metadata": {},
     "output_type": "display_data"
    },
    {
     "data": {
      "application/javascript": [
       "(function(root) {\n",
       "  function embed_document(root) {\n",
       "    \n",
       "  var docs_json = {\"2db32182-f5e2-485d-b19b-8841fa33762c\":{\"roots\":{\"references\":[{\"attributes\":{\"callback\":null,\"data\":{\"x\":{\"__ndarray__\":\"2xfQlUF5BcB7HBC3HrkFwIEB8LRZHgfA4au3ELT4BcArfKiOKNQFwPou3tM6PQLAoXRMIi+RBsCf3sb9CAMFwJ6OMgWKGgfABFbgrghkBcBfEdbqXQ0EwLQJll635wTAl1U1L6pMBsCBXT7kNc0JwFSZcvz5JQXAaz99FCoSA8CXoJoE7/oEwH0CKtTDLwXAjJitL7aXAcDNpwaP4rIEwNoWbAv4ewLA3FEHi4tYBMC+fGGZE7oJwGkBnqfObALAf7QIOnDZAsDwvzLoNhAEwHyXS26gwAPAttch08Z/BMCLs/ecWh4FwE2sYpASEAXA/UeKlyu1BMDuJH6g1kcDwIFw3yJcLgXA5ExEjPvGBMAEVuCuCGQFwK+yoZ2d7wbATKUCyHcABcAEVuCuCGQFwJfrulPQ2gfA4rpHR/u4BMCjQtiWPikGwH7uJAtU0QbAu2xt2IL8B8BVrVgtfj4DwNMgpJywqwHA3Crpq665BcDDoH1E80wEwNkIQF/6uAbAHTVVoWtXBMB1upzHnKEFwA==\",\"dtype\":\"float64\",\"shape\":[50]},\"y\":{\"__ndarray__\":\"DAnjXSLn1D9+cojtCbTFvxRbwHqKlMG/sEpJ9nXp07+t4vYhBV/VP3IdOgPW7ec/5n+0Hc0Etb9ZiGys18/FP6rl9jj6Q+K/bV5fwiVQu7+J6VrRptzkP4aQ1SmBCZY/lteXK5cmzb/tKP933hrgv7iauoCn+vI/yp2wIR2E9T8azrJlyi3qPyFyvDO8bNQ/a8Vxf8Qi7D+GQSNVuKfgPyq5dpiqdtk/Icnd8nop3D+sPF6EdSDCPyzV18SIA7s//f56EWj1n7/yQB0gmczBv1F8WaFKpsE/E/rU9dT61z9RL8+ZP2/UPwBtKqJnVMi/aCBSKi1Eyb8hPKKm0sHaP7ExxDdMPeo/C8nal7CZ8T9tXl/CJVC7v/wbnD3twrM/eEPs2edq4z9tXl/CJVC7v+lPb7NqvN6/IBvJPjE3zj8OgcqbCVnRP3lJm3gI2u2/vgnrmEtl1b8aZ0MT0RPJP+mKLrshVdw/9jIy1C8Qz7/JYJhR7lTgP4+elW/YO8y/0sTDbNDC4j+m5cHoWXG9Pw==\",\"dtype\":\"float64\",\"shape\":[50]}},\"selected\":{\"id\":\"a9c8de30-3ad9-4784-a92b-7c810e819125\",\"type\":\"Selection\"},\"selection_policy\":{\"id\":\"aef70761-a55a-467c-8a4d-553ea56009c3\",\"type\":\"UnionRenderers\"}},\"id\":\"bcec6920-44ac-43e0-bc09-4a1ea56dce5b\",\"type\":\"ColumnDataSource\"},{\"attributes\":{},\"id\":\"7beb4151-2371-4f0a-95eb-0d519a6042e0\",\"type\":\"PanTool\"},{\"attributes\":{\"below\":[{\"id\":\"e0d42921-f4bf-443b-a51a-989f26b909ea\",\"type\":\"LinearAxis\"}],\"left\":[{\"id\":\"771d0e40-642e-48f3-98c7-23c398ad8262\",\"type\":\"LinearAxis\"}],\"plot_height\":400,\"renderers\":[{\"id\":\"e0d42921-f4bf-443b-a51a-989f26b909ea\",\"type\":\"LinearAxis\"},{\"id\":\"8d3702ec-7141-40dc-bf5a-14a3b10f2f50\",\"type\":\"Grid\"},{\"id\":\"771d0e40-642e-48f3-98c7-23c398ad8262\",\"type\":\"LinearAxis\"},{\"id\":\"4cdc7b7d-bf13-47a6-9efd-904b64c53f10\",\"type\":\"Grid\"},{\"id\":\"4d9172c1-a0b3-4516-b740-a2928bc4610d\",\"type\":\"BoxAnnotation\"},{\"id\":\"da75e6ac-5118-4d6a-9634-28862c79ec07\",\"type\":\"GlyphRenderer\"},{\"id\":\"3d1772da-8d2b-40fd-80e3-e5e2df8d6eb7\",\"type\":\"GlyphRenderer\"},{\"id\":\"278eb3ce-9fa6-4d3f-bebe-91c84bbc44c0\",\"type\":\"GlyphRenderer\"}],\"title\":{\"id\":\"b6cc507b-a255-40b9-a3c8-9ace77f90d59\",\"type\":\"Title\"},\"toolbar\":{\"id\":\"1e457afb-7fe7-4f0c-be20-df731c2da868\",\"type\":\"Toolbar\"},\"x_range\":{\"id\":\"a9c224cf-6f5f-43fe-a783-1d47301d1d7c\",\"type\":\"DataRange1d\"},\"x_scale\":{\"id\":\"cdc47300-be7a-4ccd-954f-d1c972f2b53b\",\"type\":\"LinearScale\"},\"y_range\":{\"id\":\"1447fe94-ca09-491e-ab9a-da64a9bb8bb0\",\"type\":\"DataRange1d\"},\"y_scale\":{\"id\":\"f1b340cf-96e9-45eb-9545-2203cce44a82\",\"type\":\"LinearScale\"}},\"id\":\"1f14c874-41d6-4c49-9a90-c0b9cd5c9d34\",\"subtype\":\"Figure\",\"type\":\"Plot\"},{\"attributes\":{\"data_source\":{\"id\":\"bcec6920-44ac-43e0-bc09-4a1ea56dce5b\",\"type\":\"ColumnDataSource\"},\"glyph\":{\"id\":\"1d7b03b7-a07a-42a0-893a-e38432f6ee27\",\"type\":\"Circle\"},\"hover_glyph\":null,\"muted_glyph\":null,\"nonselection_glyph\":{\"id\":\"e9f4b4a0-f500-4265-8199-162f17767319\",\"type\":\"Circle\"},\"selection_glyph\":null,\"view\":{\"id\":\"8f87a271-05da-4739-8cb8-3669675a82e4\",\"type\":\"CDSView\"}},\"id\":\"da75e6ac-5118-4d6a-9634-28862c79ec07\",\"type\":\"GlyphRenderer\"},{\"attributes\":{\"callback\":null,\"data\":{\"x\":{\"__ndarray__\":\"OPUNxYSO9D/jAlATT9btPzjLypDLbPc/Frd09O4pxz9Ihs4h52TxP1d4yzV1fuQ/KNX/SwmG8T/xSSPRBAzovyr3gQNZsfA/kRkpJIjehL+fzhlw0Vrgv83n9VHqWuA/AvVP6RvK0D+a6mn8Sn3vP55d2JDxYca//upVc62u7T+6jzVWYhvlPwELyQltBc4/yPtIvdMn7j86uilmZCSmP6PGrzsf3PE/R/geVJfV1j8sJQQfVr70P/RBnvjBdO0/lnvVwCfZ5j9NXr6i28nsP5+jORbyS/U/qEt3Whjr+D/ezYzHov/pPybnH2Vfq9O/SRWL1/0Bsr/lphjJq4/Iv9MpqLiDR8E/x+isgk4P9j/OcTyi9MriP+gXLJ+g1Ok/o8oRhuCG8z/wa/NPAwPqP2p5TBiOYs8/2aRMqcYOxT/XL4+6TKLdP652SMIxfOw/Z/ktoehLzT+0uMHtaKDmv6kt/aUNwdY/+5JnFC8x1T93QmI05wPYP6hd3Ay6iOQ/qy0ssiES7b/KY7PlSA/TPw==\",\"dtype\":\"float64\",\"shape\":[50]},\"y\":{\"__ndarray__\":\"0M76KB7v5T8F/zHTvW3UP9P0crdSIuA/C3Uj9lhr6r/7jm3YyEyzP3thzY1ttdq/KJGmCkYr0j8mFMBPiQTwv9D7scF1Ts0/PLzZBfMO578M0VTDKjP0v9S0EoZKL7q/zOyWhleI4b8qgcWhFda/v+hsmg6/HdC/Tqfd/JT33T9tksSQx4bWv1MVfA41PtW/TvnfoZtW4b9BaoXBj5vivwn2eLMMj7W/Cwmay10bsb9JobyXxPbUv2CrzEKRWMe/NOhixJ8/wz/JOm2mWBjVP0ZMqLJUUc8/wK29yfUc0T/BH5vyR8fEv91vgj2UXde/VHQf1DB75r+//G2mAK7lv16SUAAN89O/z35iZQb12r8xJSEjIe7ev2ARrT2H98g/fwcCP0Ad2j8nAMZnNLnXv28DhncSEtG/9VHhaMm/5b+kpaXvwmzlvwAnl0/dT6G/xg3Pvpa+2b+UCsUAgiLwv4BiRKhdGuC//PbaavMHy79sNdZs76nSv34UTv1kh5M/T5Tp2tkM6L8vANzIhDXWvw==\",\"dtype\":\"float64\",\"shape\":[50]}},\"selected\":{\"id\":\"ee5d2bbc-8c00-4ef0-8884-ecb9872037c5\",\"type\":\"Selection\"},\"selection_policy\":{\"id\":\"6424dcfe-80b6-408b-af84-c4f155228362\",\"type\":\"UnionRenderers\"}},\"id\":\"085f9e7d-379d-48ea-8d79-29f130ac72e5\",\"type\":\"ColumnDataSource\"},{\"attributes\":{},\"id\":\"36a1362d-8108-4009-a57e-3fd2627b79d5\",\"type\":\"SaveTool\"},{\"attributes\":{\"fill_alpha\":{\"value\":0.1},\"fill_color\":{\"value\":\"#1f77b4\"},\"line_alpha\":{\"value\":0.1},\"line_color\":{\"value\":\"#1f77b4\"},\"size\":{\"units\":\"screen\",\"value\":5},\"x\":{\"field\":\"x\"},\"y\":{\"field\":\"y\"}},\"id\":\"8ccc68a7-762a-4dc3-9921-202de45b3835\",\"type\":\"Circle\"},{\"attributes\":{\"fill_alpha\":{\"value\":0.1},\"fill_color\":{\"value\":\"#1f77b4\"},\"line_alpha\":{\"value\":0.1},\"line_color\":{\"value\":\"#1f77b4\"},\"size\":{\"units\":\"screen\",\"value\":5},\"x\":{\"field\":\"x\"},\"y\":{\"field\":\"y\"}},\"id\":\"e9f4b4a0-f500-4265-8199-162f17767319\",\"type\":\"Circle\"},{\"attributes\":{\"source\":{\"id\":\"6539e61a-5e15-45a8-acd3-5b75b3e462c6\",\"type\":\"ColumnDataSource\"}},\"id\":\"5c09986d-4521-4b26-85b8-5ec63ffc93ac\",\"type\":\"CDSView\"},{\"attributes\":{\"overlay\":{\"id\":\"4d9172c1-a0b3-4516-b740-a2928bc4610d\",\"type\":\"BoxAnnotation\"}},\"id\":\"cfa5e603-b018-404e-b175-b1557f099007\",\"type\":\"BoxZoomTool\"},{\"attributes\":{},\"id\":\"ee5d2bbc-8c00-4ef0-8884-ecb9872037c5\",\"type\":\"Selection\"},{\"attributes\":{\"callback\":null},\"id\":\"1447fe94-ca09-491e-ab9a-da64a9bb8bb0\",\"type\":\"DataRange1d\"},{\"attributes\":{\"active_drag\":\"auto\",\"active_inspect\":\"auto\",\"active_multi\":null,\"active_scroll\":\"auto\",\"active_tap\":\"auto\",\"tools\":[{\"id\":\"7beb4151-2371-4f0a-95eb-0d519a6042e0\",\"type\":\"PanTool\"},{\"id\":\"6fb9c113-3a71-4b65-92e7-b7e86b6ffbcb\",\"type\":\"WheelZoomTool\"},{\"id\":\"cfa5e603-b018-404e-b175-b1557f099007\",\"type\":\"BoxZoomTool\"},{\"id\":\"36a1362d-8108-4009-a57e-3fd2627b79d5\",\"type\":\"SaveTool\"},{\"id\":\"d98995c1-a686-4815-bbf3-255e0e814ac9\",\"type\":\"ResetTool\"},{\"id\":\"5b0087ca-2992-4099-996f-289f87fea019\",\"type\":\"HelpTool\"}]},\"id\":\"1e457afb-7fe7-4f0c-be20-df731c2da868\",\"type\":\"Toolbar\"},{\"attributes\":{},\"id\":\"6424dcfe-80b6-408b-af84-c4f155228362\",\"type\":\"UnionRenderers\"},{\"attributes\":{\"callback\":null,\"data\":{\"x\":{\"__ndarray__\":\"GRw7E/pABED/2ZQyCqD2P+CJeHuP7gRAbC6yQHWI/z9krPTpTcwCQGQDPmHPLAtAVV13nMme4D9wQ5oWv3QHQEThGJywjgJAdbjWwlZYB0Blc1gZSZf6P4H4RvFi1vw/C60+J7JSAUC9huk5dYP1P4MuXz5BXfk/uR37ZtR5/j9yA559HzD/P1lUyNL96AtAYKn7yIRbDkD2Cn9+9cX0Py6ztfTibANABYN1Jmgr8z9Ur/jmfv4LQBWjg5/jM/Y/ZQASwvI0AkDJCIJ03ukEQKahdJU7H/Q/sJBvN5Wm9D+fuyPemvsAQGQmil27GQNAUYS6uEm6BkDiG+2X1tsJQPzQyZ8YRQFAWROpwfIW9z/3d5znZ3n8P9zDHV63nAhAi1R/3u4oAUDVOu2LUXr+P2UQE7Kfs/I/0XM1j3ncAEA5pYd/sYMCQKqS6Ntbwv4//9mUMgqg9j8+yJRWr4EEQNtVqsjpWgNAp738nrEa/z/kCJNEHmn4P36uGzuIOfw/SMX3mxJt/j9Vcy+OEjz2Pw==\",\"dtype\":\"float64\",\"shape\":[50]},\"y\":{\"__ndarray__\":\"pxSnGL5AiL8Uaxk7yWXivwpdvYpE4tU/hYeccyAvx78RzxQqoXGlv+cw/49mguE/VBzoycYP878EMFpJWI3WPzG2LFkfbs+/ebYyzOD46D+AiGpEHfvOP7KcK0P0qsu/R8RH6E2Oyz8g0mcpZdjov6jS2N0AQuG/thZq4Otqvj+1U2a4mNqkPy219n2lvvI/PughzIA10D+IHyXmOVrov2eTECEyHdg/D5Z9Iedg47+So5LHxjvdP00/WPevHcq/V1FDcDRW1T9trNNdJN7hP0nbtwz27ca/7yQJmQvOvb/mw6v4Sv3Kvwbx6Ffqmd0/LHCYvQPb1z+LZ46cqu31P5bx+EwX8su/Y9HdpBRowr83cqvl/wvgv5WbhkXI8eU/LcUpF7HHwT9NIQXZrpmoP5R0aPxqDsW/+KbQe13G1z/7PQ8Rul/HP0KCOLt/Mdo/FGsZO8ll4r9TmWn1kKnRP/f1qMebbNM/Eui61Dj9xz/6VJNxVwDYv/yW0lnVGbQ/tYIXPBmqvT+mjBfb0BrSvw==\",\"dtype\":\"float64\",\"shape\":[50]}},\"selected\":{\"id\":\"9dddaf18-35ad-43de-834b-88d7a378efbb\",\"type\":\"Selection\"},\"selection_policy\":{\"id\":\"2be17609-8bb0-42f8-a7bd-e64d106e0eb7\",\"type\":\"UnionRenderers\"}},\"id\":\"6539e61a-5e15-45a8-acd3-5b75b3e462c6\",\"type\":\"ColumnDataSource\"},{\"attributes\":{\"data_source\":{\"id\":\"085f9e7d-379d-48ea-8d79-29f130ac72e5\",\"type\":\"ColumnDataSource\"},\"glyph\":{\"id\":\"8001f753-51f4-482f-9995-a077a30959e5\",\"type\":\"Circle\"},\"hover_glyph\":null,\"muted_glyph\":null,\"nonselection_glyph\":{\"id\":\"94a9aeea-6e5a-422a-afc8-cc4d0b4909a5\",\"type\":\"Circle\"},\"selection_glyph\":null,\"view\":{\"id\":\"bf952663-6a56-4c10-a9ef-aa8e2c88d74f\",\"type\":\"CDSView\"}},\"id\":\"278eb3ce-9fa6-4d3f-bebe-91c84bbc44c0\",\"type\":\"GlyphRenderer\"},{\"attributes\":{\"bottom_units\":\"screen\",\"fill_alpha\":{\"value\":0.5},\"fill_color\":{\"value\":\"lightgrey\"},\"left_units\":\"screen\",\"level\":\"overlay\",\"line_alpha\":{\"value\":1.0},\"line_color\":{\"value\":\"black\"},\"line_dash\":[4,4],\"line_width\":{\"value\":2},\"plot\":null,\"render_mode\":\"css\",\"right_units\":\"screen\",\"top_units\":\"screen\"},\"id\":\"4d9172c1-a0b3-4516-b740-a2928bc4610d\",\"type\":\"BoxAnnotation\"},{\"attributes\":{\"data_source\":{\"id\":\"6539e61a-5e15-45a8-acd3-5b75b3e462c6\",\"type\":\"ColumnDataSource\"},\"glyph\":{\"id\":\"261a2212-4483-462f-993d-833f7a463e36\",\"type\":\"Circle\"},\"hover_glyph\":null,\"muted_glyph\":null,\"nonselection_glyph\":{\"id\":\"8ccc68a7-762a-4dc3-9921-202de45b3835\",\"type\":\"Circle\"},\"selection_glyph\":null,\"view\":{\"id\":\"5c09986d-4521-4b26-85b8-5ec63ffc93ac\",\"type\":\"CDSView\"}},\"id\":\"3d1772da-8d2b-40fd-80e3-e5e2df8d6eb7\",\"type\":\"GlyphRenderer\"},{\"attributes\":{},\"id\":\"2be17609-8bb0-42f8-a7bd-e64d106e0eb7\",\"type\":\"UnionRenderers\"},{\"attributes\":{\"axis_label\":\"PCA component 2\",\"formatter\":{\"id\":\"401eaecd-096f-4707-8cdc-c8eb78993f28\",\"type\":\"BasicTickFormatter\"},\"plot\":{\"id\":\"1f14c874-41d6-4c49-9a90-c0b9cd5c9d34\",\"subtype\":\"Figure\",\"type\":\"Plot\"},\"ticker\":{\"id\":\"31b67087-d824-4c02-923e-2edd2e64b828\",\"type\":\"BasicTicker\"}},\"id\":\"771d0e40-642e-48f3-98c7-23c398ad8262\",\"type\":\"LinearAxis\"},{\"attributes\":{},\"id\":\"f1b340cf-96e9-45eb-9545-2203cce44a82\",\"type\":\"LinearScale\"},{\"attributes\":{\"source\":{\"id\":\"085f9e7d-379d-48ea-8d79-29f130ac72e5\",\"type\":\"ColumnDataSource\"}},\"id\":\"bf952663-6a56-4c10-a9ef-aa8e2c88d74f\",\"type\":\"CDSView\"},{\"attributes\":{\"fill_alpha\":{\"value\":0.7},\"fill_color\":{\"value\":\"#1f77b4\"},\"line_alpha\":{\"value\":0.7},\"line_color\":{\"value\":\"#1f77b4\"},\"size\":{\"units\":\"screen\",\"value\":5},\"x\":{\"field\":\"x\"},\"y\":{\"field\":\"y\"}},\"id\":\"1d7b03b7-a07a-42a0-893a-e38432f6ee27\",\"type\":\"Circle\"},{\"attributes\":{\"callback\":null},\"id\":\"a9c224cf-6f5f-43fe-a783-1d47301d1d7c\",\"type\":\"DataRange1d\"},{\"attributes\":{},\"id\":\"aef70761-a55a-467c-8a4d-553ea56009c3\",\"type\":\"UnionRenderers\"},{\"attributes\":{\"source\":{\"id\":\"bcec6920-44ac-43e0-bc09-4a1ea56dce5b\",\"type\":\"ColumnDataSource\"}},\"id\":\"8f87a271-05da-4739-8cb8-3669675a82e4\",\"type\":\"CDSView\"},{\"attributes\":{\"plot\":{\"id\":\"1f14c874-41d6-4c49-9a90-c0b9cd5c9d34\",\"subtype\":\"Figure\",\"type\":\"Plot\"},\"ticker\":{\"id\":\"6113161e-0042-4508-b3af-c4bf2ff5be96\",\"type\":\"BasicTicker\"}},\"id\":\"8d3702ec-7141-40dc-bf5a-14a3b10f2f50\",\"type\":\"Grid\"},{\"attributes\":{},\"id\":\"6fb9c113-3a71-4b65-92e7-b7e86b6ffbcb\",\"type\":\"WheelZoomTool\"},{\"attributes\":{},\"id\":\"31b67087-d824-4c02-923e-2edd2e64b828\",\"type\":\"BasicTicker\"},{\"attributes\":{\"dimension\":1,\"plot\":{\"id\":\"1f14c874-41d6-4c49-9a90-c0b9cd5c9d34\",\"subtype\":\"Figure\",\"type\":\"Plot\"},\"ticker\":{\"id\":\"31b67087-d824-4c02-923e-2edd2e64b828\",\"type\":\"BasicTicker\"}},\"id\":\"4cdc7b7d-bf13-47a6-9efd-904b64c53f10\",\"type\":\"Grid\"},{\"attributes\":{},\"id\":\"9dddaf18-35ad-43de-834b-88d7a378efbb\",\"type\":\"Selection\"},{\"attributes\":{},\"id\":\"6113161e-0042-4508-b3af-c4bf2ff5be96\",\"type\":\"BasicTicker\"},{\"attributes\":{},\"id\":\"d98995c1-a686-4815-bbf3-255e0e814ac9\",\"type\":\"ResetTool\"},{\"attributes\":{\"plot\":null,\"text\":\"Labels of the iris data\"},\"id\":\"b6cc507b-a255-40b9-a3c8-9ace77f90d59\",\"type\":\"Title\"},{\"attributes\":{\"fill_alpha\":{\"value\":0.1},\"fill_color\":{\"value\":\"#1f77b4\"},\"line_alpha\":{\"value\":0.1},\"line_color\":{\"value\":\"#1f77b4\"},\"size\":{\"units\":\"screen\",\"value\":5},\"x\":{\"field\":\"x\"},\"y\":{\"field\":\"y\"}},\"id\":\"94a9aeea-6e5a-422a-afc8-cc4d0b4909a5\",\"type\":\"Circle\"},{\"attributes\":{},\"id\":\"401eaecd-096f-4707-8cdc-c8eb78993f28\",\"type\":\"BasicTickFormatter\"},{\"attributes\":{\"fill_alpha\":{\"value\":0.7},\"fill_color\":{\"value\":\"#ff7f0e\"},\"line_alpha\":{\"value\":0.7},\"line_color\":{\"value\":\"#ff7f0e\"},\"size\":{\"units\":\"screen\",\"value\":5},\"x\":{\"field\":\"x\"},\"y\":{\"field\":\"y\"}},\"id\":\"261a2212-4483-462f-993d-833f7a463e36\",\"type\":\"Circle\"},{\"attributes\":{},\"id\":\"cdc47300-be7a-4ccd-954f-d1c972f2b53b\",\"type\":\"LinearScale\"},{\"attributes\":{},\"id\":\"5b0087ca-2992-4099-996f-289f87fea019\",\"type\":\"HelpTool\"},{\"attributes\":{\"axis_label\":\"PCA component 1\",\"formatter\":{\"id\":\"274af396-81c7-473d-a056-56707317714a\",\"type\":\"BasicTickFormatter\"},\"plot\":{\"id\":\"1f14c874-41d6-4c49-9a90-c0b9cd5c9d34\",\"subtype\":\"Figure\",\"type\":\"Plot\"},\"ticker\":{\"id\":\"6113161e-0042-4508-b3af-c4bf2ff5be96\",\"type\":\"BasicTicker\"}},\"id\":\"e0d42921-f4bf-443b-a51a-989f26b909ea\",\"type\":\"LinearAxis\"},{\"attributes\":{},\"id\":\"a9c8de30-3ad9-4784-a92b-7c810e819125\",\"type\":\"Selection\"},{\"attributes\":{},\"id\":\"274af396-81c7-473d-a056-56707317714a\",\"type\":\"BasicTickFormatter\"},{\"attributes\":{\"fill_alpha\":{\"value\":0.7},\"fill_color\":{\"value\":\"#2ca02c\"},\"line_alpha\":{\"value\":0.7},\"line_color\":{\"value\":\"#2ca02c\"},\"size\":{\"units\":\"screen\",\"value\":5},\"x\":{\"field\":\"x\"},\"y\":{\"field\":\"y\"}},\"id\":\"8001f753-51f4-482f-9995-a077a30959e5\",\"type\":\"Circle\"}],\"root_ids\":[\"1f14c874-41d6-4c49-9a90-c0b9cd5c9d34\"]},\"title\":\"Bokeh Application\",\"version\":\"0.13.0\"}};\n",
       "  var render_items = [{\"docid\":\"2db32182-f5e2-485d-b19b-8841fa33762c\",\"roots\":{\"1f14c874-41d6-4c49-9a90-c0b9cd5c9d34\":\"4a0747cc-5021-4f59-9d3c-016259f8b13f\"}}];\n",
       "  root.Bokeh.embed.embed_items_notebook(docs_json, render_items);\n",
       "\n",
       "  }\n",
       "  if (root.Bokeh !== undefined) {\n",
       "    embed_document(root);\n",
       "  } else {\n",
       "    var attempts = 0;\n",
       "    var timer = setInterval(function(root) {\n",
       "      if (root.Bokeh !== undefined) {\n",
       "        embed_document(root);\n",
       "        clearInterval(timer);\n",
       "      }\n",
       "      attempts++;\n",
       "      if (attempts > 100) {\n",
       "        console.log(\"Bokeh: ERROR: Unable to run BokehJS code because BokehJS library is missing\")\n",
       "        clearInterval(timer);\n",
       "      }\n",
       "    }, 10, root)\n",
       "  }\n",
       "})(window);"
      ],
      "application/vnd.bokehjs_exec.v0+json": ""
     },
     "metadata": {
      "application/vnd.bokehjs_exec.v0+json": {
       "id": "1f14c874-41d6-4c49-9a90-c0b9cd5c9d34"
      }
     },
     "output_type": "display_data"
    }
   ],
   "source": [
    "output_notebook()\n",
    "show(p_labels)"
   ]
  },
  {
   "cell_type": "markdown",
   "metadata": {
    "slideshow": {
     "slide_type": "subslide"
    }
   },
   "source": [
    "Looks a bit different... lets plot them in a more convenient way"
   ]
  },
  {
   "cell_type": "code",
   "execution_count": 303,
   "metadata": {
    "scrolled": true,
    "slideshow": {
     "slide_type": "fragment"
    }
   },
   "outputs": [],
   "source": [
    "from bokeh.models.widgets import Panel, Tabs\n",
    "#create panels\n",
    "panel_clusters = Panel(child = p_clusters, title = \"Clusters\")\n",
    "panel_labels = Panel(child = p_labels, title = \"Labels\")\n",
    "\n",
    "tabs = Tabs(tabs = [panel_clusters, panel_labels])"
   ]
  },
  {
   "cell_type": "code",
   "execution_count": 304,
   "metadata": {
    "scrolled": true,
    "slideshow": {
     "slide_type": "subslide"
    }
   },
   "outputs": [
    {
     "data": {
      "text/html": [
       "\n",
       "\n",
       "\n",
       "\n",
       "\n",
       "\n",
       "  <div class=\"bk-root\" id=\"72c8bef3-000f-47ae-8b51-6074b3818dff\"></div>\n"
      ]
     },
     "metadata": {},
     "output_type": "display_data"
    },
    {
     "data": {
      "application/javascript": [
       "(function(root) {\n",
       "  function embed_document(root) {\n",
       "    \n",
       "  var docs_json = {\"7e3808e6-b8ac-42f7-9111-be6bc168f5f6\":{\"roots\":{\"references\":[{\"attributes\":{\"source\":{\"id\":\"cb3db2b7-6293-4146-8a4f-ad69f80e2c09\",\"type\":\"ColumnDataSource\"}},\"id\":\"823ba077-041a-4102-aba0-eb4bb7315447\",\"type\":\"CDSView\"},{\"attributes\":{},\"id\":\"23578a98-0122-4e79-9017-9e3f831adb3c\",\"type\":\"SaveTool\"},{\"attributes\":{},\"id\":\"3394d64d-64a2-4e6e-9912-04ddd704ac4a\",\"type\":\"PanTool\"},{\"attributes\":{},\"id\":\"ba519dc6-642b-43aa-bd3f-3e950fc03ac0\",\"type\":\"WheelZoomTool\"},{\"attributes\":{\"bottom_units\":\"screen\",\"fill_alpha\":{\"value\":0.5},\"fill_color\":{\"value\":\"lightgrey\"},\"left_units\":\"screen\",\"level\":\"overlay\",\"line_alpha\":{\"value\":1.0},\"line_color\":{\"value\":\"black\"},\"line_dash\":[4,4],\"line_width\":{\"value\":2},\"plot\":null,\"render_mode\":\"css\",\"right_units\":\"screen\",\"top_units\":\"screen\"},\"id\":\"53300972-9393-4a32-833b-02c85ee5f1af\",\"type\":\"BoxAnnotation\"},{\"attributes\":{\"fill_alpha\":{\"value\":0.1},\"fill_color\":{\"value\":\"#1f77b4\"},\"line_alpha\":{\"value\":0.1},\"line_color\":{\"value\":\"#1f77b4\"},\"size\":{\"units\":\"screen\",\"value\":5},\"x\":{\"field\":\"x\"},\"y\":{\"field\":\"y\"}},\"id\":\"bf962e57-7de8-48d4-9f98-dfc8ac71564b\",\"type\":\"Circle\"},{\"attributes\":{\"axis_label\":\"PCA component 2\",\"formatter\":{\"id\":\"155e94b8-3a06-480a-917b-89aa3ff23422\",\"type\":\"BasicTickFormatter\"},\"plot\":{\"id\":\"fd6de6bf-8eb0-446e-b24e-d8d3d7a092ac\",\"subtype\":\"Figure\",\"type\":\"Plot\"},\"ticker\":{\"id\":\"2c913c1a-a7ff-4cb9-9ad1-a07b7d0a0c15\",\"type\":\"BasicTicker\"}},\"id\":\"94d167a3-25f4-46c2-b5eb-95f9b363494b\",\"type\":\"LinearAxis\"},{\"attributes\":{\"source\":{\"id\":\"94d5520a-992b-47ac-bb8c-63a4d7fe7557\",\"type\":\"ColumnDataSource\"}},\"id\":\"24401799-6bef-461c-a98f-064e3b770a08\",\"type\":\"CDSView\"},{\"attributes\":{\"plot\":null,\"text\":\"Labels of the iris data\"},\"id\":\"5527dd94-de91-4428-af34-5cc9ebaaa16f\",\"type\":\"Title\"},{\"attributes\":{\"axis_label\":\"PCA component 1\",\"formatter\":{\"id\":\"c327d568-5526-41b7-a725-27123372f74a\",\"type\":\"BasicTickFormatter\"},\"plot\":{\"id\":\"fd6de6bf-8eb0-446e-b24e-d8d3d7a092ac\",\"subtype\":\"Figure\",\"type\":\"Plot\"},\"ticker\":{\"id\":\"3310605f-27d9-49ca-967d-a0efce369322\",\"type\":\"BasicTicker\"}},\"id\":\"5b88cf98-f48c-4330-ab33-f197e28082d4\",\"type\":\"LinearAxis\"},{\"attributes\":{\"data_source\":{\"id\":\"1a6160d4-ce0b-46c8-9743-553e6126904c\",\"type\":\"ColumnDataSource\"},\"glyph\":{\"id\":\"0eaf407d-9124-4d16-a495-8b9d5423ab99\",\"type\":\"Circle\"},\"hover_glyph\":null,\"muted_glyph\":null,\"nonselection_glyph\":{\"id\":\"7613edf4-e449-4e22-b551-90808db0b1e2\",\"type\":\"Circle\"},\"selection_glyph\":null,\"view\":{\"id\":\"08697f40-12e6-4d0c-9d9b-c3a4871491a4\",\"type\":\"CDSView\"}},\"id\":\"b87bb6c0-b083-4976-a3b8-4609bc5e217d\",\"type\":\"GlyphRenderer\"},{\"attributes\":{\"data_source\":{\"id\":\"cb3db2b7-6293-4146-8a4f-ad69f80e2c09\",\"type\":\"ColumnDataSource\"},\"glyph\":{\"id\":\"4cb3337a-0fa7-40c8-8907-615ba052d52b\",\"type\":\"Circle\"},\"hover_glyph\":null,\"muted_glyph\":null,\"nonselection_glyph\":{\"id\":\"620b888d-5ca1-4cc0-8ebd-eb30246974cd\",\"type\":\"Circle\"},\"selection_glyph\":null,\"view\":{\"id\":\"823ba077-041a-4102-aba0-eb4bb7315447\",\"type\":\"CDSView\"}},\"id\":\"08504f4a-44bd-4aa4-b9e0-4589cad449c9\",\"type\":\"GlyphRenderer\"},{\"attributes\":{\"child\":{\"id\":\"405e5952-f5c7-42b3-8899-4897d18ebe4a\",\"subtype\":\"Figure\",\"type\":\"Plot\"},\"title\":\"Clusters\"},\"id\":\"4b0720a8-a7d8-4ffe-8b5c-fcc76af549f2\",\"type\":\"Panel\"},{\"attributes\":{},\"id\":\"798f149c-2a65-4b72-a8a5-7d46322a3f11\",\"type\":\"UnionRenderers\"},{\"attributes\":{},\"id\":\"99ce2b5a-1568-4305-9fd9-9b5a2dba2bd3\",\"type\":\"UnionRenderers\"},{\"attributes\":{\"overlay\":{\"id\":\"53300972-9393-4a32-833b-02c85ee5f1af\",\"type\":\"BoxAnnotation\"}},\"id\":\"cb7b0491-4075-462f-b44e-7e5017f62882\",\"type\":\"BoxZoomTool\"},{\"attributes\":{\"dimension\":1,\"plot\":{\"id\":\"fd6de6bf-8eb0-446e-b24e-d8d3d7a092ac\",\"subtype\":\"Figure\",\"type\":\"Plot\"},\"ticker\":{\"id\":\"2c913c1a-a7ff-4cb9-9ad1-a07b7d0a0c15\",\"type\":\"BasicTicker\"}},\"id\":\"7138df69-9f0f-4fdc-b937-0c3a586de794\",\"type\":\"Grid\"},{\"attributes\":{},\"id\":\"55612f89-4b76-47ec-b1d0-015644e360f0\",\"type\":\"ResetTool\"},{\"attributes\":{\"data_source\":{\"id\":\"f48a4db4-9030-4164-be3b-28afc2e0745e\",\"type\":\"ColumnDataSource\"},\"glyph\":{\"id\":\"be0414ee-21f3-41a9-8b1a-62e3836564c4\",\"type\":\"Circle\"},\"hover_glyph\":null,\"muted_glyph\":null,\"nonselection_glyph\":{\"id\":\"a025db45-1c22-44ed-8738-c5b1647eb56a\",\"type\":\"Circle\"},\"selection_glyph\":null,\"view\":{\"id\":\"bfd2bcf0-b7be-40b5-bad5-a9178b4f5adf\",\"type\":\"CDSView\"}},\"id\":\"aff26460-3c94-4c1e-8009-544a27c89a60\",\"type\":\"GlyphRenderer\"},{\"attributes\":{},\"id\":\"2b79337a-9412-4039-946a-8355b467028a\",\"type\":\"Selection\"},{\"attributes\":{\"source\":{\"id\":\"1a6160d4-ce0b-46c8-9743-553e6126904c\",\"type\":\"ColumnDataSource\"}},\"id\":\"08697f40-12e6-4d0c-9d9b-c3a4871491a4\",\"type\":\"CDSView\"},{\"attributes\":{\"overlay\":{\"id\":\"cac6d75f-bd37-4e1f-a2c6-5b68257399e1\",\"type\":\"BoxAnnotation\"}},\"id\":\"b04571d7-3f9c-4345-9791-2f677ad05d74\",\"type\":\"BoxZoomTool\"},{\"attributes\":{\"dimension\":1,\"plot\":{\"id\":\"405e5952-f5c7-42b3-8899-4897d18ebe4a\",\"subtype\":\"Figure\",\"type\":\"Plot\"},\"ticker\":{\"id\":\"90affefa-d3ef-4a46-b4f8-45b113c4fff0\",\"type\":\"BasicTicker\"}},\"id\":\"b93a83c7-50a3-4f39-a507-5677c247ebd0\",\"type\":\"Grid\"},{\"attributes\":{\"fill_alpha\":{\"value\":0.7},\"fill_color\":{\"value\":\"#1f77b4\"},\"line_alpha\":{\"value\":0.7},\"line_color\":{\"value\":\"#1f77b4\"},\"size\":{\"units\":\"screen\",\"value\":5},\"x\":{\"field\":\"x\"},\"y\":{\"field\":\"y\"}},\"id\":\"4cb3337a-0fa7-40c8-8907-615ba052d52b\",\"type\":\"Circle\"},{\"attributes\":{\"below\":[{\"id\":\"e7cea1bd-1e42-4a56-a83f-99c27d0ebf1b\",\"type\":\"LinearAxis\"}],\"left\":[{\"id\":\"f4aca0a2-2fe6-47d0-9d6b-4b0e1cd64a3c\",\"type\":\"LinearAxis\"}],\"plot_height\":400,\"renderers\":[{\"id\":\"e7cea1bd-1e42-4a56-a83f-99c27d0ebf1b\",\"type\":\"LinearAxis\"},{\"id\":\"474c6c61-c93e-443a-b4af-39b246bfc3e2\",\"type\":\"Grid\"},{\"id\":\"f4aca0a2-2fe6-47d0-9d6b-4b0e1cd64a3c\",\"type\":\"LinearAxis\"},{\"id\":\"b93a83c7-50a3-4f39-a507-5677c247ebd0\",\"type\":\"Grid\"},{\"id\":\"53300972-9393-4a32-833b-02c85ee5f1af\",\"type\":\"BoxAnnotation\"},{\"id\":\"08504f4a-44bd-4aa4-b9e0-4589cad449c9\",\"type\":\"GlyphRenderer\"},{\"id\":\"a9a49938-1cfa-4b36-97dc-80d96b58fea6\",\"type\":\"GlyphRenderer\"},{\"id\":\"ab8cf15d-f4a9-4b1b-94e7-ce424b265750\",\"type\":\"GlyphRenderer\"}],\"title\":{\"id\":\"fd1587ae-3719-436c-865e-ea3517b2f64d\",\"type\":\"Title\"},\"toolbar\":{\"id\":\"69147a4e-ee7d-4b10-8479-148041138e6e\",\"type\":\"Toolbar\"},\"x_range\":{\"id\":\"334209fc-49dd-43d9-a727-dc91338a64c1\",\"type\":\"DataRange1d\"},\"x_scale\":{\"id\":\"000860a5-01d8-4901-8885-64efc6011ea9\",\"type\":\"LinearScale\"},\"y_range\":{\"id\":\"ccf5edd4-810e-4f19-9d69-00bad573b2d1\",\"type\":\"DataRange1d\"},\"y_scale\":{\"id\":\"0eebeb50-98ee-4f61-8d4c-d2a776b0efb4\",\"type\":\"LinearScale\"}},\"id\":\"405e5952-f5c7-42b3-8899-4897d18ebe4a\",\"subtype\":\"Figure\",\"type\":\"Plot\"},{\"attributes\":{\"fill_alpha\":{\"value\":0.7},\"fill_color\":{\"value\":\"#ff7f0e\"},\"line_alpha\":{\"value\":0.7},\"line_color\":{\"value\":\"#ff7f0e\"},\"size\":{\"units\":\"screen\",\"value\":5},\"x\":{\"field\":\"x\"},\"y\":{\"field\":\"y\"}},\"id\":\"952322d7-027f-4193-9f3c-b32fe7a03002\",\"type\":\"Circle\"},{\"attributes\":{\"source\":{\"id\":\"f48a4db4-9030-4164-be3b-28afc2e0745e\",\"type\":\"ColumnDataSource\"}},\"id\":\"bfd2bcf0-b7be-40b5-bad5-a9178b4f5adf\",\"type\":\"CDSView\"},{\"attributes\":{\"active_drag\":\"auto\",\"active_inspect\":\"auto\",\"active_multi\":null,\"active_scroll\":\"auto\",\"active_tap\":\"auto\",\"tools\":[{\"id\":\"3394d64d-64a2-4e6e-9912-04ddd704ac4a\",\"type\":\"PanTool\"},{\"id\":\"8bfb35da-e3b8-40e9-9f6b-2bc79c8e5cd6\",\"type\":\"WheelZoomTool\"},{\"id\":\"b04571d7-3f9c-4345-9791-2f677ad05d74\",\"type\":\"BoxZoomTool\"},{\"id\":\"23578a98-0122-4e79-9017-9e3f831adb3c\",\"type\":\"SaveTool\"},{\"id\":\"f3bd03cb-5292-4e54-b523-b6414ee5ec9b\",\"type\":\"ResetTool\"},{\"id\":\"000aae6c-c7a5-4496-832b-67b7530fb2c3\",\"type\":\"HelpTool\"}]},\"id\":\"0dba15cb-4313-4a25-8045-ccce73a66eb1\",\"type\":\"Toolbar\"},{\"attributes\":{},\"id\":\"69398db9-b188-4657-8b88-dac672314127\",\"type\":\"UnionRenderers\"},{\"attributes\":{\"fill_alpha\":{\"value\":0.7},\"fill_color\":{\"value\":\"#ff7f0e\"},\"line_alpha\":{\"value\":0.7},\"line_color\":{\"value\":\"#ff7f0e\"},\"size\":{\"units\":\"screen\",\"value\":5},\"x\":{\"field\":\"x\"},\"y\":{\"field\":\"y\"}},\"id\":\"396c1a4b-4a54-4f33-ac14-2bb8c19bf0c9\",\"type\":\"Circle\"},{\"attributes\":{\"bottom_units\":\"screen\",\"fill_alpha\":{\"value\":0.5},\"fill_color\":{\"value\":\"lightgrey\"},\"left_units\":\"screen\",\"level\":\"overlay\",\"line_alpha\":{\"value\":1.0},\"line_color\":{\"value\":\"black\"},\"line_dash\":[4,4],\"line_width\":{\"value\":2},\"plot\":null,\"render_mode\":\"css\",\"right_units\":\"screen\",\"top_units\":\"screen\"},\"id\":\"cac6d75f-bd37-4e1f-a2c6-5b68257399e1\",\"type\":\"BoxAnnotation\"},{\"attributes\":{\"axis_label\":\"PCA component 2\",\"formatter\":{\"id\":\"23857a81-01e4-476a-ac9b-3dba26a74b49\",\"type\":\"BasicTickFormatter\"},\"plot\":{\"id\":\"405e5952-f5c7-42b3-8899-4897d18ebe4a\",\"subtype\":\"Figure\",\"type\":\"Plot\"},\"ticker\":{\"id\":\"90affefa-d3ef-4a46-b4f8-45b113c4fff0\",\"type\":\"BasicTicker\"}},\"id\":\"f4aca0a2-2fe6-47d0-9d6b-4b0e1cd64a3c\",\"type\":\"LinearAxis\"},{\"attributes\":{},\"id\":\"6a388be4-d70b-4fe5-8d01-e61aff3e1273\",\"type\":\"Selection\"},{\"attributes\":{\"plot\":{\"id\":\"fd6de6bf-8eb0-446e-b24e-d8d3d7a092ac\",\"subtype\":\"Figure\",\"type\":\"Plot\"},\"ticker\":{\"id\":\"3310605f-27d9-49ca-967d-a0efce369322\",\"type\":\"BasicTicker\"}},\"id\":\"e40ada47-129f-4158-9d12-7590c7a08cb4\",\"type\":\"Grid\"},{\"attributes\":{},\"id\":\"15d1c9ab-671b-4ebb-a29b-9cb65ae891fd\",\"type\":\"Selection\"},{\"attributes\":{\"data_source\":{\"id\":\"627a89e4-8744-49ab-8884-d0c383966973\",\"type\":\"ColumnDataSource\"},\"glyph\":{\"id\":\"952322d7-027f-4193-9f3c-b32fe7a03002\",\"type\":\"Circle\"},\"hover_glyph\":null,\"muted_glyph\":null,\"nonselection_glyph\":{\"id\":\"ec3f109b-0e28-4e70-b501-2a4d73aad02e\",\"type\":\"Circle\"},\"selection_glyph\":null,\"view\":{\"id\":\"ecffe8bb-b09e-46eb-b3d7-13d098455d27\",\"type\":\"CDSView\"}},\"id\":\"a9a49938-1cfa-4b36-97dc-80d96b58fea6\",\"type\":\"GlyphRenderer\"},{\"attributes\":{},\"id\":\"f3bd03cb-5292-4e54-b523-b6414ee5ec9b\",\"type\":\"ResetTool\"},{\"attributes\":{},\"id\":\"88027460-1840-4df8-a77c-cda659e96823\",\"type\":\"LinearScale\"},{\"attributes\":{\"callback\":null,\"data\":{\"x\":{\"__ndarray__\":\"2xfQlUF5BcB7HBC3HrkFwIEB8LRZHgfA4au3ELT4BcArfKiOKNQFwPou3tM6PQLAoXRMIi+RBsCf3sb9CAMFwJ6OMgWKGgfABFbgrghkBcBfEdbqXQ0EwLQJll635wTAl1U1L6pMBsCBXT7kNc0JwFSZcvz5JQXAaz99FCoSA8CXoJoE7/oEwH0CKtTDLwXAjJitL7aXAcDNpwaP4rIEwNoWbAv4ewLA3FEHi4tYBMC+fGGZE7oJwGkBnqfObALAf7QIOnDZAsDwvzLoNhAEwHyXS26gwAPAttch08Z/BMCLs/ecWh4FwE2sYpASEAXA/UeKlyu1BMDuJH6g1kcDwIFw3yJcLgXA5ExEjPvGBMAEVuCuCGQFwK+yoZ2d7wbATKUCyHcABcAEVuCuCGQFwJfrulPQ2gfA4rpHR/u4BMCjQtiWPikGwH7uJAtU0QbAu2xt2IL8B8BVrVgtfj4DwNMgpJywqwHA3Crpq665BcDDoH1E80wEwNkIQF/6uAbAHTVVoWtXBMB1upzHnKEFwA==\",\"dtype\":\"float64\",\"shape\":[50]},\"y\":{\"__ndarray__\":\"DAnjXSLn1D9+cojtCbTFvxRbwHqKlMG/sEpJ9nXp07+t4vYhBV/VP3IdOgPW7ec/5n+0Hc0Etb9ZiGys18/FP6rl9jj6Q+K/bV5fwiVQu7+J6VrRptzkP4aQ1SmBCZY/lteXK5cmzb/tKP933hrgv7iauoCn+vI/yp2wIR2E9T8azrJlyi3qPyFyvDO8bNQ/a8Vxf8Qi7D+GQSNVuKfgPyq5dpiqdtk/Icnd8nop3D+sPF6EdSDCPyzV18SIA7s//f56EWj1n7/yQB0gmczBv1F8WaFKpsE/E/rU9dT61z9RL8+ZP2/UPwBtKqJnVMi/aCBSKi1Eyb8hPKKm0sHaP7ExxDdMPeo/C8nal7CZ8T9tXl/CJVC7v/wbnD3twrM/eEPs2edq4z9tXl/CJVC7v+lPb7NqvN6/IBvJPjE3zj8OgcqbCVnRP3lJm3gI2u2/vgnrmEtl1b8aZ0MT0RPJP+mKLrshVdw/9jIy1C8Qz7/JYJhR7lTgP4+elW/YO8y/0sTDbNDC4j+m5cHoWXG9Pw==\",\"dtype\":\"float64\",\"shape\":[50]}},\"selected\":{\"id\":\"05cb3079-8082-4d3d-84cc-be87642beb3d\",\"type\":\"Selection\"},\"selection_policy\":{\"id\":\"43e28952-315d-40d8-8c1c-985518ff4a43\",\"type\":\"UnionRenderers\"}},\"id\":\"f48a4db4-9030-4164-be3b-28afc2e0745e\",\"type\":\"ColumnDataSource\"},{\"attributes\":{\"callback\":null,\"data\":{\"x\":{\"__ndarray__\":\"OPUNxYSO9D/jAlATT9btPzjLypDLbPc/KNX/SwmG8T/+6lVzra7tP6PGrzsf3PE/TV6+otvJ7D+fozkW8kv1P6hLd1oY6/g/6Bcsn6DU6T+jyhGG4IbzPxkcOxP6QARA4Il4e4/uBEBsLrJAdYj/P2Ss9OlNzAJAZAM+Yc8sC0BwQ5oWv3QHQEThGJywjgJAdbjWwlZYB0Blc1gZSZf6P4H4RvFi1vw/C60+J7JSAUC5Hftm1Hn+P3IDnn0fMP8/WVTI0v3oC0BgqfvIhFsOQC6ztfTibANAVK/45n7+C0BlABLC8jQCQMkIgnTe6QRAsJBvN5Wm9D+fuyPemvsAQGQmil27GQNAUYS6uEm6BkDiG+2X1tsJQPzQyZ8YRQFA3MMdXrecCECLVH/e7igBQNU67YtRev4/0XM1j3ncAEA5pYd/sYMCQKqS6Ntbwv4/PsiUVq+BBEDbVarI6VoDQKe9/J6xGv8/fq4bO4g5/D9IxfebEm3+Pw==\",\"dtype\":\"float64\",\"shape\":[47]},\"y\":{\"__ndarray__\":\"0M76KB7v5T8F/zHTvW3UP9P0crdSIuA/KJGmCkYr0j9Op938lPfdPwn2eLMMj7W/yTptplgY1T9GTKiyVFHPP8Ctvcn1HNE/YBGtPYf3yD9/BwI/QB3aP6cUpxi+QIi/Cl29ikTi1T+Fh5xzIC/HvxHPFCqhcaW/5zD/j2aC4T8EMFpJWI3WPzG2LFkfbs+/ebYyzOD46D+AiGpEHfvOP7KcK0P0qsu/R8RH6E2Oyz+2Fmrg62q+P7VTZriY2qQ/LbX2faW+8j8+6CHMgDXQP2eTECEyHdg/kqOSx8Y73T9XUUNwNFbVP22s010k3uE/7yQJmQvOvb/mw6v4Sv3Kvwbx6Ffqmd0/LHCYvQPb1z+LZ46cqu31P5bx+EwX8su/lZuGRcjx5T8txSkXscfBP00hBdmumag/+KbQe13G1z/7PQ8Rul/HP0KCOLt/Mdo/U5lp9ZCp0T/39ajHm2zTPxLoutQ4/cc//JbSWdUZtD+1ghc8Gaq9Pw==\",\"dtype\":\"float64\",\"shape\":[47]}},\"selected\":{\"id\":\"6a388be4-d70b-4fe5-8d01-e61aff3e1273\",\"type\":\"Selection\"},\"selection_policy\":{\"id\":\"0f0c6bcc-747b-47ba-b091-532478db2711\",\"type\":\"UnionRenderers\"}},\"id\":\"627a89e4-8744-49ab-8884-d0c383966973\",\"type\":\"ColumnDataSource\"},{\"attributes\":{\"callback\":null},\"id\":\"7c694f4a-c977-4b03-8c9e-3c32e2218c12\",\"type\":\"DataRange1d\"},{\"attributes\":{\"child\":{\"id\":\"fd6de6bf-8eb0-446e-b24e-d8d3d7a092ac\",\"subtype\":\"Figure\",\"type\":\"Plot\"},\"title\":\"Labels\"},\"id\":\"843e29f8-6ccc-4ea6-afb2-30defa739dc0\",\"type\":\"Panel\"},{\"attributes\":{\"fill_alpha\":{\"value\":0.1},\"fill_color\":{\"value\":\"#1f77b4\"},\"line_alpha\":{\"value\":0.1},\"line_color\":{\"value\":\"#1f77b4\"},\"size\":{\"units\":\"screen\",\"value\":5},\"x\":{\"field\":\"x\"},\"y\":{\"field\":\"y\"}},\"id\":\"ec3f109b-0e28-4e70-b501-2a4d73aad02e\",\"type\":\"Circle\"},{\"attributes\":{},\"id\":\"52e46a73-2331-4c86-9b99-1b9908b0b33f\",\"type\":\"HelpTool\"},{\"attributes\":{\"below\":[{\"id\":\"5b88cf98-f48c-4330-ab33-f197e28082d4\",\"type\":\"LinearAxis\"}],\"left\":[{\"id\":\"94d167a3-25f4-46c2-b5eb-95f9b363494b\",\"type\":\"LinearAxis\"}],\"plot_height\":400,\"renderers\":[{\"id\":\"5b88cf98-f48c-4330-ab33-f197e28082d4\",\"type\":\"LinearAxis\"},{\"id\":\"e40ada47-129f-4158-9d12-7590c7a08cb4\",\"type\":\"Grid\"},{\"id\":\"94d167a3-25f4-46c2-b5eb-95f9b363494b\",\"type\":\"LinearAxis\"},{\"id\":\"7138df69-9f0f-4fdc-b937-0c3a586de794\",\"type\":\"Grid\"},{\"id\":\"cac6d75f-bd37-4e1f-a2c6-5b68257399e1\",\"type\":\"BoxAnnotation\"},{\"id\":\"aff26460-3c94-4c1e-8009-544a27c89a60\",\"type\":\"GlyphRenderer\"},{\"id\":\"29da4559-8e12-4ec9-b88d-0688a12610c9\",\"type\":\"GlyphRenderer\"},{\"id\":\"b87bb6c0-b083-4976-a3b8-4609bc5e217d\",\"type\":\"GlyphRenderer\"}],\"title\":{\"id\":\"5527dd94-de91-4428-af34-5cc9ebaaa16f\",\"type\":\"Title\"},\"toolbar\":{\"id\":\"0dba15cb-4313-4a25-8045-ccce73a66eb1\",\"type\":\"Toolbar\"},\"x_range\":{\"id\":\"9f758114-53d3-4f3d-b59c-82632fe25b2c\",\"type\":\"DataRange1d\"},\"x_scale\":{\"id\":\"d8f876c0-a29c-4a5d-9d3e-8b6cf634db48\",\"type\":\"LinearScale\"},\"y_range\":{\"id\":\"7c694f4a-c977-4b03-8c9e-3c32e2218c12\",\"type\":\"DataRange1d\"},\"y_scale\":{\"id\":\"88027460-1840-4df8-a77c-cda659e96823\",\"type\":\"LinearScale\"}},\"id\":\"fd6de6bf-8eb0-446e-b24e-d8d3d7a092ac\",\"subtype\":\"Figure\",\"type\":\"Plot\"},{\"attributes\":{\"callback\":null,\"data\":{\"x\":{\"__ndarray__\":\"GRw7E/pABED/2ZQyCqD2P+CJeHuP7gRAbC6yQHWI/z9krPTpTcwCQGQDPmHPLAtAVV13nMme4D9wQ5oWv3QHQEThGJywjgJAdbjWwlZYB0Blc1gZSZf6P4H4RvFi1vw/C60+J7JSAUC9huk5dYP1P4MuXz5BXfk/uR37ZtR5/j9yA559HzD/P1lUyNL96AtAYKn7yIRbDkD2Cn9+9cX0Py6ztfTibANABYN1Jmgr8z9Ur/jmfv4LQBWjg5/jM/Y/ZQASwvI0AkDJCIJ03ukEQKahdJU7H/Q/sJBvN5Wm9D+fuyPemvsAQGQmil27GQNAUYS6uEm6BkDiG+2X1tsJQPzQyZ8YRQFAWROpwfIW9z/3d5znZ3n8P9zDHV63nAhAi1R/3u4oAUDVOu2LUXr+P2UQE7Kfs/I/0XM1j3ncAEA5pYd/sYMCQKqS6Ntbwv4//9mUMgqg9j8+yJRWr4EEQNtVqsjpWgNAp738nrEa/z/kCJNEHmn4P36uGzuIOfw/SMX3mxJt/j9Vcy+OEjz2Pw==\",\"dtype\":\"float64\",\"shape\":[50]},\"y\":{\"__ndarray__\":\"pxSnGL5AiL8Uaxk7yWXivwpdvYpE4tU/hYeccyAvx78RzxQqoXGlv+cw/49mguE/VBzoycYP878EMFpJWI3WPzG2LFkfbs+/ebYyzOD46D+AiGpEHfvOP7KcK0P0qsu/R8RH6E2Oyz8g0mcpZdjov6jS2N0AQuG/thZq4Otqvj+1U2a4mNqkPy219n2lvvI/PughzIA10D+IHyXmOVrov2eTECEyHdg/D5Z9Iedg47+So5LHxjvdP00/WPevHcq/V1FDcDRW1T9trNNdJN7hP0nbtwz27ca/7yQJmQvOvb/mw6v4Sv3Kvwbx6Ffqmd0/LHCYvQPb1z+LZ46cqu31P5bx+EwX8su/Y9HdpBRowr83cqvl/wvgv5WbhkXI8eU/LcUpF7HHwT9NIQXZrpmoP5R0aPxqDsW/+KbQe13G1z/7PQ8Rul/HP0KCOLt/Mdo/FGsZO8ll4r9TmWn1kKnRP/f1qMebbNM/Eui61Dj9xz/6VJNxVwDYv/yW0lnVGbQ/tYIXPBmqvT+mjBfb0BrSvw==\",\"dtype\":\"float64\",\"shape\":[50]}},\"selected\":{\"id\":\"c31751ef-48d2-4103-8590-b042b14ff502\",\"type\":\"Selection\"},\"selection_policy\":{\"id\":\"db202dce-7577-4998-a724-568e22f3daf0\",\"type\":\"UnionRenderers\"}},\"id\":\"94d5520a-992b-47ac-bb8c-63a4d7fe7557\",\"type\":\"ColumnDataSource\"},{\"attributes\":{\"fill_alpha\":{\"value\":0.7},\"fill_color\":{\"value\":\"#2ca02c\"},\"line_alpha\":{\"value\":0.7},\"line_color\":{\"value\":\"#2ca02c\"},\"size\":{\"units\":\"screen\",\"value\":5},\"x\":{\"field\":\"x\"},\"y\":{\"field\":\"y\"}},\"id\":\"566f2755-c5f6-4e8c-8621-c775a9c6cde8\",\"type\":\"Circle\"},{\"attributes\":{},\"id\":\"db202dce-7577-4998-a724-568e22f3daf0\",\"type\":\"UnionRenderers\"},{\"attributes\":{\"plot\":{\"id\":\"405e5952-f5c7-42b3-8899-4897d18ebe4a\",\"subtype\":\"Figure\",\"type\":\"Plot\"},\"ticker\":{\"id\":\"b95b9f3a-c23b-48a2-b0e2-0af6254798b8\",\"type\":\"BasicTicker\"}},\"id\":\"474c6c61-c93e-443a-b4af-39b246bfc3e2\",\"type\":\"Grid\"},{\"attributes\":{\"fill_alpha\":{\"value\":0.1},\"fill_color\":{\"value\":\"#1f77b4\"},\"line_alpha\":{\"value\":0.1},\"line_color\":{\"value\":\"#1f77b4\"},\"size\":{\"units\":\"screen\",\"value\":5},\"x\":{\"field\":\"x\"},\"y\":{\"field\":\"y\"}},\"id\":\"a025db45-1c22-44ed-8738-c5b1647eb56a\",\"type\":\"Circle\"},{\"attributes\":{\"fill_alpha\":{\"value\":0.1},\"fill_color\":{\"value\":\"#1f77b4\"},\"line_alpha\":{\"value\":0.1},\"line_color\":{\"value\":\"#1f77b4\"},\"size\":{\"units\":\"screen\",\"value\":5},\"x\":{\"field\":\"x\"},\"y\":{\"field\":\"y\"}},\"id\":\"620b888d-5ca1-4cc0-8ebd-eb30246974cd\",\"type\":\"Circle\"},{\"attributes\":{},\"id\":\"8bfb35da-e3b8-40e9-9f6b-2bc79c8e5cd6\",\"type\":\"WheelZoomTool\"},{\"attributes\":{\"source\":{\"id\":\"627a89e4-8744-49ab-8884-d0c383966973\",\"type\":\"ColumnDataSource\"}},\"id\":\"ecffe8bb-b09e-46eb-b3d7-13d098455d27\",\"type\":\"CDSView\"},{\"attributes\":{},\"id\":\"90affefa-d3ef-4a46-b4f8-45b113c4fff0\",\"type\":\"BasicTicker\"},{\"attributes\":{\"data_source\":{\"id\":\"94d5520a-992b-47ac-bb8c-63a4d7fe7557\",\"type\":\"ColumnDataSource\"},\"glyph\":{\"id\":\"396c1a4b-4a54-4f33-ac14-2bb8c19bf0c9\",\"type\":\"Circle\"},\"hover_glyph\":null,\"muted_glyph\":null,\"nonselection_glyph\":{\"id\":\"85d5e9d2-6c31-4d8e-9acc-55ba63216b09\",\"type\":\"Circle\"},\"selection_glyph\":null,\"view\":{\"id\":\"24401799-6bef-461c-a98f-064e3b770a08\",\"type\":\"CDSView\"}},\"id\":\"29da4559-8e12-4ec9-b88d-0688a12610c9\",\"type\":\"GlyphRenderer\"},{\"attributes\":{\"active_drag\":\"auto\",\"active_inspect\":\"auto\",\"active_multi\":null,\"active_scroll\":\"auto\",\"active_tap\":\"auto\",\"tools\":[{\"id\":\"1bb78e85-92b5-4b5e-9403-0e4f66de6508\",\"type\":\"PanTool\"},{\"id\":\"ba519dc6-642b-43aa-bd3f-3e950fc03ac0\",\"type\":\"WheelZoomTool\"},{\"id\":\"cb7b0491-4075-462f-b44e-7e5017f62882\",\"type\":\"BoxZoomTool\"},{\"id\":\"bf9ff27d-7517-4ddb-a8f8-01706eaa815b\",\"type\":\"SaveTool\"},{\"id\":\"55612f89-4b76-47ec-b1d0-015644e360f0\",\"type\":\"ResetTool\"},{\"id\":\"52e46a73-2331-4c86-9b99-1b9908b0b33f\",\"type\":\"HelpTool\"}]},\"id\":\"69147a4e-ee7d-4b10-8479-148041138e6e\",\"type\":\"Toolbar\"},{\"attributes\":{},\"id\":\"3310605f-27d9-49ca-967d-a0efce369322\",\"type\":\"BasicTicker\"},{\"attributes\":{\"callback\":null,\"data\":{\"x\":{\"__ndarray__\":\"2xfQlUF5BcB7HBC3HrkFwIEB8LRZHgfA4au3ELT4BcArfKiOKNQFwPou3tM6PQLAoXRMIi+RBsCf3sb9CAMFwJ6OMgWKGgfABFbgrghkBcBfEdbqXQ0EwLQJll635wTAl1U1L6pMBsCBXT7kNc0JwFSZcvz5JQXAaz99FCoSA8CXoJoE7/oEwH0CKtTDLwXAjJitL7aXAcDNpwaP4rIEwNoWbAv4ewLA3FEHi4tYBMC+fGGZE7oJwGkBnqfObALAf7QIOnDZAsDwvzLoNhAEwHyXS26gwAPAttch08Z/BMCLs/ecWh4FwE2sYpASEAXA/UeKlyu1BMDuJH6g1kcDwIFw3yJcLgXA5ExEjPvGBMAEVuCuCGQFwK+yoZ2d7wbATKUCyHcABcAEVuCuCGQFwJfrulPQ2gfA4rpHR/u4BMCjQtiWPikGwH7uJAtU0QbAu2xt2IL8B8BVrVgtfj4DwNMgpJywqwHA3Crpq665BcDDoH1E80wEwNkIQF/6uAbAHTVVoWtXBMB1upzHnKEFwA==\",\"dtype\":\"float64\",\"shape\":[50]},\"y\":{\"__ndarray__\":\"DAnjXSLn1D9+cojtCbTFvxRbwHqKlMG/sEpJ9nXp07+t4vYhBV/VP3IdOgPW7ec/5n+0Hc0Etb9ZiGys18/FP6rl9jj6Q+K/bV5fwiVQu7+J6VrRptzkP4aQ1SmBCZY/lteXK5cmzb/tKP933hrgv7iauoCn+vI/yp2wIR2E9T8azrJlyi3qPyFyvDO8bNQ/a8Vxf8Qi7D+GQSNVuKfgPyq5dpiqdtk/Icnd8nop3D+sPF6EdSDCPyzV18SIA7s//f56EWj1n7/yQB0gmczBv1F8WaFKpsE/E/rU9dT61z9RL8+ZP2/UPwBtKqJnVMi/aCBSKi1Eyb8hPKKm0sHaP7ExxDdMPeo/C8nal7CZ8T9tXl/CJVC7v/wbnD3twrM/eEPs2edq4z9tXl/CJVC7v+lPb7NqvN6/IBvJPjE3zj8OgcqbCVnRP3lJm3gI2u2/vgnrmEtl1b8aZ0MT0RPJP+mKLrshVdw/9jIy1C8Qz7/JYJhR7lTgP4+elW/YO8y/0sTDbNDC4j+m5cHoWXG9Pw==\",\"dtype\":\"float64\",\"shape\":[50]}},\"selected\":{\"id\":\"15d1c9ab-671b-4ebb-a29b-9cb65ae891fd\",\"type\":\"Selection\"},\"selection_policy\":{\"id\":\"99ce2b5a-1568-4305-9fd9-9b5a2dba2bd3\",\"type\":\"UnionRenderers\"}},\"id\":\"cb3db2b7-6293-4146-8a4f-ad69f80e2c09\",\"type\":\"ColumnDataSource\"},{\"attributes\":{\"fill_alpha\":{\"value\":0.1},\"fill_color\":{\"value\":\"#1f77b4\"},\"line_alpha\":{\"value\":0.1},\"line_color\":{\"value\":\"#1f77b4\"},\"size\":{\"units\":\"screen\",\"value\":5},\"x\":{\"field\":\"x\"},\"y\":{\"field\":\"y\"}},\"id\":\"7613edf4-e449-4e22-b551-90808db0b1e2\",\"type\":\"Circle\"},{\"attributes\":{\"callback\":null},\"id\":\"ccf5edd4-810e-4f19-9d69-00bad573b2d1\",\"type\":\"DataRange1d\"},{\"attributes\":{},\"id\":\"0eebeb50-98ee-4f61-8d4c-d2a776b0efb4\",\"type\":\"LinearScale\"},{\"attributes\":{},\"id\":\"23857a81-01e4-476a-ac9b-3dba26a74b49\",\"type\":\"BasicTickFormatter\"},{\"attributes\":{\"callback\":null,\"data\":{\"x\":{\"__ndarray__\":\"OPUNxYSO9D/jAlATT9btPzjLypDLbPc/Frd09O4pxz9Ihs4h52TxP1d4yzV1fuQ/KNX/SwmG8T/xSSPRBAzovyr3gQNZsfA/kRkpJIjehL+fzhlw0Vrgv83n9VHqWuA/AvVP6RvK0D+a6mn8Sn3vP55d2JDxYca//upVc62u7T+6jzVWYhvlPwELyQltBc4/yPtIvdMn7j86uilmZCSmP6PGrzsf3PE/R/geVJfV1j8sJQQfVr70P/RBnvjBdO0/lnvVwCfZ5j9NXr6i28nsP5+jORbyS/U/qEt3Whjr+D/ezYzHov/pPybnH2Vfq9O/SRWL1/0Bsr/lphjJq4/Iv9MpqLiDR8E/x+isgk4P9j/OcTyi9MriP+gXLJ+g1Ok/o8oRhuCG8z/wa/NPAwPqP2p5TBiOYs8/2aRMqcYOxT/XL4+6TKLdP652SMIxfOw/Z/ktoehLzT+0uMHtaKDmv6kt/aUNwdY/+5JnFC8x1T93QmI05wPYP6hd3Ay6iOQ/qy0ssiES7b/KY7PlSA/TPw==\",\"dtype\":\"float64\",\"shape\":[50]},\"y\":{\"__ndarray__\":\"0M76KB7v5T8F/zHTvW3UP9P0crdSIuA/C3Uj9lhr6r/7jm3YyEyzP3thzY1ttdq/KJGmCkYr0j8mFMBPiQTwv9D7scF1Ts0/PLzZBfMO578M0VTDKjP0v9S0EoZKL7q/zOyWhleI4b8qgcWhFda/v+hsmg6/HdC/Tqfd/JT33T9tksSQx4bWv1MVfA41PtW/TvnfoZtW4b9BaoXBj5vivwn2eLMMj7W/Cwmay10bsb9JobyXxPbUv2CrzEKRWMe/NOhixJ8/wz/JOm2mWBjVP0ZMqLJUUc8/wK29yfUc0T/BH5vyR8fEv91vgj2UXde/VHQf1DB75r+//G2mAK7lv16SUAAN89O/z35iZQb12r8xJSEjIe7ev2ARrT2H98g/fwcCP0Ad2j8nAMZnNLnXv28DhncSEtG/9VHhaMm/5b+kpaXvwmzlvwAnl0/dT6G/xg3Pvpa+2b+UCsUAgiLwv4BiRKhdGuC//PbaavMHy79sNdZs76nSv34UTv1kh5M/T5Tp2tkM6L8vANzIhDXWvw==\",\"dtype\":\"float64\",\"shape\":[50]}},\"selected\":{\"id\":\"0bd87fdf-11ca-4108-8425-9d87940da333\",\"type\":\"Selection\"},\"selection_policy\":{\"id\":\"69398db9-b188-4657-8b88-dac672314127\",\"type\":\"UnionRenderers\"}},\"id\":\"1a6160d4-ce0b-46c8-9743-553e6126904c\",\"type\":\"ColumnDataSource\"},{\"attributes\":{\"fill_alpha\":{\"value\":0.7},\"fill_color\":{\"value\":\"#2ca02c\"},\"line_alpha\":{\"value\":0.7},\"line_color\":{\"value\":\"#2ca02c\"},\"size\":{\"units\":\"screen\",\"value\":5},\"x\":{\"field\":\"x\"},\"y\":{\"field\":\"y\"}},\"id\":\"0eaf407d-9124-4d16-a495-8b9d5423ab99\",\"type\":\"Circle\"},{\"attributes\":{\"fill_alpha\":{\"value\":0.1},\"fill_color\":{\"value\":\"#1f77b4\"},\"line_alpha\":{\"value\":0.1},\"line_color\":{\"value\":\"#1f77b4\"},\"size\":{\"units\":\"screen\",\"value\":5},\"x\":{\"field\":\"x\"},\"y\":{\"field\":\"y\"}},\"id\":\"85d5e9d2-6c31-4d8e-9acc-55ba63216b09\",\"type\":\"Circle\"},{\"attributes\":{\"callback\":null,\"data\":{\"x\":{\"__ndarray__\":\"Frd09O4pxz9Ihs4h52TxP1d4yzV1fuQ/8Ukj0QQM6L8q94EDWbHwP5EZKSSI3oS/n84ZcNFa4L/N5/VR6lrgPwL1T+kbytA/mupp/Ep97z+eXdiQ8WHGv7qPNVZiG+U/AQvJCW0Fzj/I+0i90yfuPzq6KWZkJKY/R/geVJfV1j8sJQQfVr70P/RBnvjBdO0/lnvVwCfZ5j/ezYzHov/pPybnH2Vfq9O/SRWL1/0Bsr/lphjJq4/Iv9MpqLiDR8E/x+isgk4P9j/OcTyi9MriP/Br808DA+o/anlMGI5izz/ZpEypxg7FP9cvj7pMot0/rnZIwjF87D9n+S2h6EvNP7S4we1ooOa/qS39pQ3B1j/7kmcULzHVP3dCYjTnA9g/qF3cDLqI5D+rLSyyIRLtv8pjs+VID9M//9mUMgqg9j9VXXecyZ7gP72G6Tl1g/U/gy5fPkFd+T/2Cn9+9cX0PwWDdSZoK/M/FaODn+Mz9j+moXSVOx/0P1kTqcHyFvc/93ec52d5/D9lEBOyn7PyP//ZlDIKoPY/5AiTRB5p+D9Vcy+OEjz2Pw==\",\"dtype\":\"float64\",\"shape\":[53]},\"y\":{\"__ndarray__\":\"C3Uj9lhr6r/7jm3YyEyzP3thzY1ttdq/JhTAT4kE8L/Q+7HBdU7NPzy82QXzDue/DNFUwyoz9L/UtBKGSi+6v8zsloZXiOG/KoHFoRXWv7/obJoOvx3Qv22SxJDHhta/UxV8DjU+1b9O+d+hm1bhv0FqhcGPm+K/Cwmay10bsb9JobyXxPbUv2CrzEKRWMe/NOhixJ8/wz/BH5vyR8fEv91vgj2UXde/VHQf1DB75r+//G2mAK7lv16SUAAN89O/z35iZQb12r8xJSEjIe7evycAxmc0ude/bwOGdxIS0b/1UeFoyb/lv6Slpe/CbOW/ACeXT91Pob/GDc++lr7Zv5QKxQCCIvC/gGJEqF0a4L/89tpq8wfLv2w11mzvqdK/fhRO/WSHkz9PlOna2Qzovy8A3MiENda/FGsZO8ll4r9UHOjJxg/zvyDSZyll2Oi/qNLY3QBC4b+IHyXmOVrovw+WfSHnYOO/TT9Y968dyr9J27cM9u3Gv2PR3aQUaMK/N3Kr5f8L4L+UdGj8ag7FvxRrGTvJZeK/+lSTcVcA2L+mjBfb0BrSvw==\",\"dtype\":\"float64\",\"shape\":[53]}},\"selected\":{\"id\":\"2b79337a-9412-4039-946a-8355b467028a\",\"type\":\"Selection\"},\"selection_policy\":{\"id\":\"798f149c-2a65-4b72-a8a5-7d46322a3f11\",\"type\":\"UnionRenderers\"}},\"id\":\"3b0704d0-c063-4a65-b0c4-d9cd2dd5b894\",\"type\":\"ColumnDataSource\"},{\"attributes\":{},\"id\":\"d8f876c0-a29c-4a5d-9d3e-8b6cf634db48\",\"type\":\"LinearScale\"},{\"attributes\":{},\"id\":\"0f0c6bcc-747b-47ba-b091-532478db2711\",\"type\":\"UnionRenderers\"},{\"attributes\":{},\"id\":\"bf9ff27d-7517-4ddb-a8f8-01706eaa815b\",\"type\":\"SaveTool\"},{\"attributes\":{\"source\":{\"id\":\"3b0704d0-c063-4a65-b0c4-d9cd2dd5b894\",\"type\":\"ColumnDataSource\"}},\"id\":\"8115524f-4245-4017-81a9-84f06bc0e821\",\"type\":\"CDSView\"},{\"attributes\":{},\"id\":\"000aae6c-c7a5-4496-832b-67b7530fb2c3\",\"type\":\"HelpTool\"},{\"attributes\":{},\"id\":\"c31751ef-48d2-4103-8590-b042b14ff502\",\"type\":\"Selection\"},{\"attributes\":{\"callback\":null},\"id\":\"334209fc-49dd-43d9-a727-dc91338a64c1\",\"type\":\"DataRange1d\"},{\"attributes\":{},\"id\":\"43e28952-315d-40d8-8c1c-985518ff4a43\",\"type\":\"UnionRenderers\"},{\"attributes\":{\"callback\":null,\"tabs\":[{\"id\":\"4b0720a8-a7d8-4ffe-8b5c-fcc76af549f2\",\"type\":\"Panel\"},{\"id\":\"843e29f8-6ccc-4ea6-afb2-30defa739dc0\",\"type\":\"Panel\"}]},\"id\":\"ff55f7d3-89e3-4f16-a214-cd5254ee93e5\",\"type\":\"Tabs\"},{\"attributes\":{\"data_source\":{\"id\":\"3b0704d0-c063-4a65-b0c4-d9cd2dd5b894\",\"type\":\"ColumnDataSource\"},\"glyph\":{\"id\":\"566f2755-c5f6-4e8c-8621-c775a9c6cde8\",\"type\":\"Circle\"},\"hover_glyph\":null,\"muted_glyph\":null,\"nonselection_glyph\":{\"id\":\"bf962e57-7de8-48d4-9f98-dfc8ac71564b\",\"type\":\"Circle\"},\"selection_glyph\":null,\"view\":{\"id\":\"8115524f-4245-4017-81a9-84f06bc0e821\",\"type\":\"CDSView\"}},\"id\":\"ab8cf15d-f4a9-4b1b-94e7-ce424b265750\",\"type\":\"GlyphRenderer\"},{\"attributes\":{\"axis_label\":\"PCA component 1\",\"formatter\":{\"id\":\"fdceab89-cc37-4c11-b600-0f51f8724a88\",\"type\":\"BasicTickFormatter\"},\"plot\":{\"id\":\"405e5952-f5c7-42b3-8899-4897d18ebe4a\",\"subtype\":\"Figure\",\"type\":\"Plot\"},\"ticker\":{\"id\":\"b95b9f3a-c23b-48a2-b0e2-0af6254798b8\",\"type\":\"BasicTicker\"}},\"id\":\"e7cea1bd-1e42-4a56-a83f-99c27d0ebf1b\",\"type\":\"LinearAxis\"},{\"attributes\":{},\"id\":\"b95b9f3a-c23b-48a2-b0e2-0af6254798b8\",\"type\":\"BasicTicker\"},{\"attributes\":{},\"id\":\"fdceab89-cc37-4c11-b600-0f51f8724a88\",\"type\":\"BasicTickFormatter\"},{\"attributes\":{},\"id\":\"05cb3079-8082-4d3d-84cc-be87642beb3d\",\"type\":\"Selection\"},{\"attributes\":{},\"id\":\"c327d568-5526-41b7-a725-27123372f74a\",\"type\":\"BasicTickFormatter\"},{\"attributes\":{},\"id\":\"1bb78e85-92b5-4b5e-9403-0e4f66de6508\",\"type\":\"PanTool\"},{\"attributes\":{},\"id\":\"0bd87fdf-11ca-4108-8425-9d87940da333\",\"type\":\"Selection\"},{\"attributes\":{\"plot\":null,\"text\":\"K-means clusters of the iris data\"},\"id\":\"fd1587ae-3719-436c-865e-ea3517b2f64d\",\"type\":\"Title\"},{\"attributes\":{\"callback\":null},\"id\":\"9f758114-53d3-4f3d-b59c-82632fe25b2c\",\"type\":\"DataRange1d\"},{\"attributes\":{},\"id\":\"000860a5-01d8-4901-8885-64efc6011ea9\",\"type\":\"LinearScale\"},{\"attributes\":{},\"id\":\"2c913c1a-a7ff-4cb9-9ad1-a07b7d0a0c15\",\"type\":\"BasicTicker\"},{\"attributes\":{},\"id\":\"155e94b8-3a06-480a-917b-89aa3ff23422\",\"type\":\"BasicTickFormatter\"},{\"attributes\":{\"fill_alpha\":{\"value\":0.7},\"fill_color\":{\"value\":\"#1f77b4\"},\"line_alpha\":{\"value\":0.7},\"line_color\":{\"value\":\"#1f77b4\"},\"size\":{\"units\":\"screen\",\"value\":5},\"x\":{\"field\":\"x\"},\"y\":{\"field\":\"y\"}},\"id\":\"be0414ee-21f3-41a9-8b1a-62e3836564c4\",\"type\":\"Circle\"}],\"root_ids\":[\"ff55f7d3-89e3-4f16-a214-cd5254ee93e5\"]},\"title\":\"Bokeh Application\",\"version\":\"0.13.0\"}};\n",
       "  var render_items = [{\"docid\":\"7e3808e6-b8ac-42f7-9111-be6bc168f5f6\",\"roots\":{\"ff55f7d3-89e3-4f16-a214-cd5254ee93e5\":\"72c8bef3-000f-47ae-8b51-6074b3818dff\"}}];\n",
       "  root.Bokeh.embed.embed_items_notebook(docs_json, render_items);\n",
       "\n",
       "  }\n",
       "  if (root.Bokeh !== undefined) {\n",
       "    embed_document(root);\n",
       "  } else {\n",
       "    var attempts = 0;\n",
       "    var timer = setInterval(function(root) {\n",
       "      if (root.Bokeh !== undefined) {\n",
       "        embed_document(root);\n",
       "        clearInterval(timer);\n",
       "      }\n",
       "      attempts++;\n",
       "      if (attempts > 100) {\n",
       "        console.log(\"Bokeh: ERROR: Unable to run BokehJS code because BokehJS library is missing\")\n",
       "        clearInterval(timer);\n",
       "      }\n",
       "    }, 10, root)\n",
       "  }\n",
       "})(window);"
      ],
      "application/vnd.bokehjs_exec.v0+json": ""
     },
     "metadata": {
      "application/vnd.bokehjs_exec.v0+json": {
       "id": "ff55f7d3-89e3-4f16-a214-cd5254ee93e5"
      }
     },
     "output_type": "display_data"
    },
    {
     "name": "stderr",
     "output_type": "stream",
     "text": [
      "WARNING:bokeh.core.validation.check:W-1004 (BOTH_CHILD_AND_ROOT): Models should not be a document root if they are in a layout box: Figure(id='405e5952-f5c7-42b3-8899-4897d18ebe4a', ...), Figure(id='fd6de6bf-8eb0-446e-b24e-d8d3d7a092ac', ...)\n"
     ]
    }
   ],
   "source": [
    "show(tabs)"
   ]
  },
  {
   "cell_type": "markdown",
   "metadata": {
    "slideshow": {
     "slide_type": "subslide"
    }
   },
   "source": [
    "or side by side"
   ]
  },
  {
   "cell_type": "code",
   "execution_count": 302,
   "metadata": {
    "scrolled": true,
    "slideshow": {
     "slide_type": "fragment"
    }
   },
   "outputs": [
    {
     "data": {
      "text/html": [
       "\n",
       "\n",
       "\n",
       "\n",
       "\n",
       "\n",
       "  <div class=\"bk-root\" id=\"c836c6b8-ac4e-4cdf-93f9-4d255acf59c9\"></div>\n"
      ]
     },
     "metadata": {},
     "output_type": "display_data"
    },
    {
     "data": {
      "application/javascript": [
       "(function(root) {\n",
       "  function embed_document(root) {\n",
       "    \n",
       "  var docs_json = {\"9524cf65-a006-4976-9e19-3adf3e108475\":{\"roots\":{\"references\":[{\"attributes\":{\"source\":{\"id\":\"cb3db2b7-6293-4146-8a4f-ad69f80e2c09\",\"type\":\"ColumnDataSource\"}},\"id\":\"823ba077-041a-4102-aba0-eb4bb7315447\",\"type\":\"CDSView\"},{\"attributes\":{},\"id\":\"23578a98-0122-4e79-9017-9e3f831adb3c\",\"type\":\"SaveTool\"},{\"attributes\":{},\"id\":\"3394d64d-64a2-4e6e-9912-04ddd704ac4a\",\"type\":\"PanTool\"},{\"attributes\":{},\"id\":\"ba519dc6-642b-43aa-bd3f-3e950fc03ac0\",\"type\":\"WheelZoomTool\"},{\"attributes\":{\"bottom_units\":\"screen\",\"fill_alpha\":{\"value\":0.5},\"fill_color\":{\"value\":\"lightgrey\"},\"left_units\":\"screen\",\"level\":\"overlay\",\"line_alpha\":{\"value\":1.0},\"line_color\":{\"value\":\"black\"},\"line_dash\":[4,4],\"line_width\":{\"value\":2},\"plot\":null,\"render_mode\":\"css\",\"right_units\":\"screen\",\"top_units\":\"screen\"},\"id\":\"53300972-9393-4a32-833b-02c85ee5f1af\",\"type\":\"BoxAnnotation\"},{\"attributes\":{\"fill_alpha\":{\"value\":0.1},\"fill_color\":{\"value\":\"#1f77b4\"},\"line_alpha\":{\"value\":0.1},\"line_color\":{\"value\":\"#1f77b4\"},\"size\":{\"units\":\"screen\",\"value\":5},\"x\":{\"field\":\"x\"},\"y\":{\"field\":\"y\"}},\"id\":\"bf962e57-7de8-48d4-9f98-dfc8ac71564b\",\"type\":\"Circle\"},{\"attributes\":{\"axis_label\":\"PCA component 2\",\"formatter\":{\"id\":\"155e94b8-3a06-480a-917b-89aa3ff23422\",\"type\":\"BasicTickFormatter\"},\"plot\":{\"id\":\"fd6de6bf-8eb0-446e-b24e-d8d3d7a092ac\",\"subtype\":\"Figure\",\"type\":\"Plot\"},\"ticker\":{\"id\":\"2c913c1a-a7ff-4cb9-9ad1-a07b7d0a0c15\",\"type\":\"BasicTicker\"}},\"id\":\"94d167a3-25f4-46c2-b5eb-95f9b363494b\",\"type\":\"LinearAxis\"},{\"attributes\":{\"source\":{\"id\":\"94d5520a-992b-47ac-bb8c-63a4d7fe7557\",\"type\":\"ColumnDataSource\"}},\"id\":\"24401799-6bef-461c-a98f-064e3b770a08\",\"type\":\"CDSView\"},{\"attributes\":{\"axis_label\":\"PCA component 1\",\"formatter\":{\"id\":\"c327d568-5526-41b7-a725-27123372f74a\",\"type\":\"BasicTickFormatter\"},\"plot\":{\"id\":\"fd6de6bf-8eb0-446e-b24e-d8d3d7a092ac\",\"subtype\":\"Figure\",\"type\":\"Plot\"},\"ticker\":{\"id\":\"3310605f-27d9-49ca-967d-a0efce369322\",\"type\":\"BasicTicker\"}},\"id\":\"5b88cf98-f48c-4330-ab33-f197e28082d4\",\"type\":\"LinearAxis\"},{\"attributes\":{\"data_source\":{\"id\":\"1a6160d4-ce0b-46c8-9743-553e6126904c\",\"type\":\"ColumnDataSource\"},\"glyph\":{\"id\":\"0eaf407d-9124-4d16-a495-8b9d5423ab99\",\"type\":\"Circle\"},\"hover_glyph\":null,\"muted_glyph\":null,\"nonselection_glyph\":{\"id\":\"7613edf4-e449-4e22-b551-90808db0b1e2\",\"type\":\"Circle\"},\"selection_glyph\":null,\"view\":{\"id\":\"08697f40-12e6-4d0c-9d9b-c3a4871491a4\",\"type\":\"CDSView\"}},\"id\":\"b87bb6c0-b083-4976-a3b8-4609bc5e217d\",\"type\":\"GlyphRenderer\"},{\"attributes\":{\"data_source\":{\"id\":\"cb3db2b7-6293-4146-8a4f-ad69f80e2c09\",\"type\":\"ColumnDataSource\"},\"glyph\":{\"id\":\"4cb3337a-0fa7-40c8-8907-615ba052d52b\",\"type\":\"Circle\"},\"hover_glyph\":null,\"muted_glyph\":null,\"nonselection_glyph\":{\"id\":\"620b888d-5ca1-4cc0-8ebd-eb30246974cd\",\"type\":\"Circle\"},\"selection_glyph\":null,\"view\":{\"id\":\"823ba077-041a-4102-aba0-eb4bb7315447\",\"type\":\"CDSView\"}},\"id\":\"08504f4a-44bd-4aa4-b9e0-4589cad449c9\",\"type\":\"GlyphRenderer\"},{\"attributes\":{},\"id\":\"798f149c-2a65-4b72-a8a5-7d46322a3f11\",\"type\":\"UnionRenderers\"},{\"attributes\":{},\"id\":\"99ce2b5a-1568-4305-9fd9-9b5a2dba2bd3\",\"type\":\"UnionRenderers\"},{\"attributes\":{\"dimension\":1,\"plot\":{\"id\":\"fd6de6bf-8eb0-446e-b24e-d8d3d7a092ac\",\"subtype\":\"Figure\",\"type\":\"Plot\"},\"ticker\":{\"id\":\"2c913c1a-a7ff-4cb9-9ad1-a07b7d0a0c15\",\"type\":\"BasicTicker\"}},\"id\":\"7138df69-9f0f-4fdc-b937-0c3a586de794\",\"type\":\"Grid\"},{\"attributes\":{},\"id\":\"55612f89-4b76-47ec-b1d0-015644e360f0\",\"type\":\"ResetTool\"},{\"attributes\":{\"data_source\":{\"id\":\"f48a4db4-9030-4164-be3b-28afc2e0745e\",\"type\":\"ColumnDataSource\"},\"glyph\":{\"id\":\"be0414ee-21f3-41a9-8b1a-62e3836564c4\",\"type\":\"Circle\"},\"hover_glyph\":null,\"muted_glyph\":null,\"nonselection_glyph\":{\"id\":\"a025db45-1c22-44ed-8738-c5b1647eb56a\",\"type\":\"Circle\"},\"selection_glyph\":null,\"view\":{\"id\":\"bfd2bcf0-b7be-40b5-bad5-a9178b4f5adf\",\"type\":\"CDSView\"}},\"id\":\"aff26460-3c94-4c1e-8009-544a27c89a60\",\"type\":\"GlyphRenderer\"},{\"attributes\":{},\"id\":\"2b79337a-9412-4039-946a-8355b467028a\",\"type\":\"Selection\"},{\"attributes\":{\"source\":{\"id\":\"1a6160d4-ce0b-46c8-9743-553e6126904c\",\"type\":\"ColumnDataSource\"}},\"id\":\"08697f40-12e6-4d0c-9d9b-c3a4871491a4\",\"type\":\"CDSView\"},{\"attributes\":{\"overlay\":{\"id\":\"cac6d75f-bd37-4e1f-a2c6-5b68257399e1\",\"type\":\"BoxAnnotation\"}},\"id\":\"b04571d7-3f9c-4345-9791-2f677ad05d74\",\"type\":\"BoxZoomTool\"},{\"attributes\":{\"dimension\":1,\"plot\":{\"id\":\"405e5952-f5c7-42b3-8899-4897d18ebe4a\",\"subtype\":\"Figure\",\"type\":\"Plot\"},\"ticker\":{\"id\":\"90affefa-d3ef-4a46-b4f8-45b113c4fff0\",\"type\":\"BasicTicker\"}},\"id\":\"b93a83c7-50a3-4f39-a507-5677c247ebd0\",\"type\":\"Grid\"},{\"attributes\":{\"fill_alpha\":{\"value\":0.7},\"fill_color\":{\"value\":\"#1f77b4\"},\"line_alpha\":{\"value\":0.7},\"line_color\":{\"value\":\"#1f77b4\"},\"size\":{\"units\":\"screen\",\"value\":5},\"x\":{\"field\":\"x\"},\"y\":{\"field\":\"y\"}},\"id\":\"4cb3337a-0fa7-40c8-8907-615ba052d52b\",\"type\":\"Circle\"},{\"attributes\":{\"below\":[{\"id\":\"e7cea1bd-1e42-4a56-a83f-99c27d0ebf1b\",\"type\":\"LinearAxis\"}],\"left\":[{\"id\":\"f4aca0a2-2fe6-47d0-9d6b-4b0e1cd64a3c\",\"type\":\"LinearAxis\"}],\"plot_height\":400,\"renderers\":[{\"id\":\"e7cea1bd-1e42-4a56-a83f-99c27d0ebf1b\",\"type\":\"LinearAxis\"},{\"id\":\"474c6c61-c93e-443a-b4af-39b246bfc3e2\",\"type\":\"Grid\"},{\"id\":\"f4aca0a2-2fe6-47d0-9d6b-4b0e1cd64a3c\",\"type\":\"LinearAxis\"},{\"id\":\"b93a83c7-50a3-4f39-a507-5677c247ebd0\",\"type\":\"Grid\"},{\"id\":\"53300972-9393-4a32-833b-02c85ee5f1af\",\"type\":\"BoxAnnotation\"},{\"id\":\"08504f4a-44bd-4aa4-b9e0-4589cad449c9\",\"type\":\"GlyphRenderer\"},{\"id\":\"a9a49938-1cfa-4b36-97dc-80d96b58fea6\",\"type\":\"GlyphRenderer\"},{\"id\":\"ab8cf15d-f4a9-4b1b-94e7-ce424b265750\",\"type\":\"GlyphRenderer\"}],\"title\":{\"id\":\"fd1587ae-3719-436c-865e-ea3517b2f64d\",\"type\":\"Title\"},\"toolbar\":{\"id\":\"69147a4e-ee7d-4b10-8479-148041138e6e\",\"type\":\"Toolbar\"},\"x_range\":{\"id\":\"334209fc-49dd-43d9-a727-dc91338a64c1\",\"type\":\"DataRange1d\"},\"x_scale\":{\"id\":\"000860a5-01d8-4901-8885-64efc6011ea9\",\"type\":\"LinearScale\"},\"y_range\":{\"id\":\"ccf5edd4-810e-4f19-9d69-00bad573b2d1\",\"type\":\"DataRange1d\"},\"y_scale\":{\"id\":\"0eebeb50-98ee-4f61-8d4c-d2a776b0efb4\",\"type\":\"LinearScale\"}},\"id\":\"405e5952-f5c7-42b3-8899-4897d18ebe4a\",\"subtype\":\"Figure\",\"type\":\"Plot\"},{\"attributes\":{\"fill_alpha\":{\"value\":0.7},\"fill_color\":{\"value\":\"#ff7f0e\"},\"line_alpha\":{\"value\":0.7},\"line_color\":{\"value\":\"#ff7f0e\"},\"size\":{\"units\":\"screen\",\"value\":5},\"x\":{\"field\":\"x\"},\"y\":{\"field\":\"y\"}},\"id\":\"952322d7-027f-4193-9f3c-b32fe7a03002\",\"type\":\"Circle\"},{\"attributes\":{\"source\":{\"id\":\"f48a4db4-9030-4164-be3b-28afc2e0745e\",\"type\":\"ColumnDataSource\"}},\"id\":\"bfd2bcf0-b7be-40b5-bad5-a9178b4f5adf\",\"type\":\"CDSView\"},{\"attributes\":{\"active_drag\":\"auto\",\"active_inspect\":\"auto\",\"active_multi\":null,\"active_scroll\":\"auto\",\"active_tap\":\"auto\",\"tools\":[{\"id\":\"3394d64d-64a2-4e6e-9912-04ddd704ac4a\",\"type\":\"PanTool\"},{\"id\":\"8bfb35da-e3b8-40e9-9f6b-2bc79c8e5cd6\",\"type\":\"WheelZoomTool\"},{\"id\":\"b04571d7-3f9c-4345-9791-2f677ad05d74\",\"type\":\"BoxZoomTool\"},{\"id\":\"23578a98-0122-4e79-9017-9e3f831adb3c\",\"type\":\"SaveTool\"},{\"id\":\"f3bd03cb-5292-4e54-b523-b6414ee5ec9b\",\"type\":\"ResetTool\"},{\"id\":\"000aae6c-c7a5-4496-832b-67b7530fb2c3\",\"type\":\"HelpTool\"}]},\"id\":\"0dba15cb-4313-4a25-8045-ccce73a66eb1\",\"type\":\"Toolbar\"},{\"attributes\":{},\"id\":\"69398db9-b188-4657-8b88-dac672314127\",\"type\":\"UnionRenderers\"},{\"attributes\":{\"fill_alpha\":{\"value\":0.7},\"fill_color\":{\"value\":\"#ff7f0e\"},\"line_alpha\":{\"value\":0.7},\"line_color\":{\"value\":\"#ff7f0e\"},\"size\":{\"units\":\"screen\",\"value\":5},\"x\":{\"field\":\"x\"},\"y\":{\"field\":\"y\"}},\"id\":\"396c1a4b-4a54-4f33-ac14-2bb8c19bf0c9\",\"type\":\"Circle\"},{\"attributes\":{\"bottom_units\":\"screen\",\"fill_alpha\":{\"value\":0.5},\"fill_color\":{\"value\":\"lightgrey\"},\"left_units\":\"screen\",\"level\":\"overlay\",\"line_alpha\":{\"value\":1.0},\"line_color\":{\"value\":\"black\"},\"line_dash\":[4,4],\"line_width\":{\"value\":2},\"plot\":null,\"render_mode\":\"css\",\"right_units\":\"screen\",\"top_units\":\"screen\"},\"id\":\"cac6d75f-bd37-4e1f-a2c6-5b68257399e1\",\"type\":\"BoxAnnotation\"},{\"attributes\":{\"axis_label\":\"PCA component 2\",\"formatter\":{\"id\":\"23857a81-01e4-476a-ac9b-3dba26a74b49\",\"type\":\"BasicTickFormatter\"},\"plot\":{\"id\":\"405e5952-f5c7-42b3-8899-4897d18ebe4a\",\"subtype\":\"Figure\",\"type\":\"Plot\"},\"ticker\":{\"id\":\"90affefa-d3ef-4a46-b4f8-45b113c4fff0\",\"type\":\"BasicTicker\"}},\"id\":\"f4aca0a2-2fe6-47d0-9d6b-4b0e1cd64a3c\",\"type\":\"LinearAxis\"},{\"attributes\":{},\"id\":\"6a388be4-d70b-4fe5-8d01-e61aff3e1273\",\"type\":\"Selection\"},{\"attributes\":{\"plot\":{\"id\":\"fd6de6bf-8eb0-446e-b24e-d8d3d7a092ac\",\"subtype\":\"Figure\",\"type\":\"Plot\"},\"ticker\":{\"id\":\"3310605f-27d9-49ca-967d-a0efce369322\",\"type\":\"BasicTicker\"}},\"id\":\"e40ada47-129f-4158-9d12-7590c7a08cb4\",\"type\":\"Grid\"},{\"attributes\":{},\"id\":\"15d1c9ab-671b-4ebb-a29b-9cb65ae891fd\",\"type\":\"Selection\"},{\"attributes\":{\"data_source\":{\"id\":\"627a89e4-8744-49ab-8884-d0c383966973\",\"type\":\"ColumnDataSource\"},\"glyph\":{\"id\":\"952322d7-027f-4193-9f3c-b32fe7a03002\",\"type\":\"Circle\"},\"hover_glyph\":null,\"muted_glyph\":null,\"nonselection_glyph\":{\"id\":\"ec3f109b-0e28-4e70-b501-2a4d73aad02e\",\"type\":\"Circle\"},\"selection_glyph\":null,\"view\":{\"id\":\"ecffe8bb-b09e-46eb-b3d7-13d098455d27\",\"type\":\"CDSView\"}},\"id\":\"a9a49938-1cfa-4b36-97dc-80d96b58fea6\",\"type\":\"GlyphRenderer\"},{\"attributes\":{},\"id\":\"f3bd03cb-5292-4e54-b523-b6414ee5ec9b\",\"type\":\"ResetTool\"},{\"attributes\":{},\"id\":\"88027460-1840-4df8-a77c-cda659e96823\",\"type\":\"LinearScale\"},{\"attributes\":{\"callback\":null,\"data\":{\"x\":{\"__ndarray__\":\"2xfQlUF5BcB7HBC3HrkFwIEB8LRZHgfA4au3ELT4BcArfKiOKNQFwPou3tM6PQLAoXRMIi+RBsCf3sb9CAMFwJ6OMgWKGgfABFbgrghkBcBfEdbqXQ0EwLQJll635wTAl1U1L6pMBsCBXT7kNc0JwFSZcvz5JQXAaz99FCoSA8CXoJoE7/oEwH0CKtTDLwXAjJitL7aXAcDNpwaP4rIEwNoWbAv4ewLA3FEHi4tYBMC+fGGZE7oJwGkBnqfObALAf7QIOnDZAsDwvzLoNhAEwHyXS26gwAPAttch08Z/BMCLs/ecWh4FwE2sYpASEAXA/UeKlyu1BMDuJH6g1kcDwIFw3yJcLgXA5ExEjPvGBMAEVuCuCGQFwK+yoZ2d7wbATKUCyHcABcAEVuCuCGQFwJfrulPQ2gfA4rpHR/u4BMCjQtiWPikGwH7uJAtU0QbAu2xt2IL8B8BVrVgtfj4DwNMgpJywqwHA3Crpq665BcDDoH1E80wEwNkIQF/6uAbAHTVVoWtXBMB1upzHnKEFwA==\",\"dtype\":\"float64\",\"shape\":[50]},\"y\":{\"__ndarray__\":\"DAnjXSLn1D9+cojtCbTFvxRbwHqKlMG/sEpJ9nXp07+t4vYhBV/VP3IdOgPW7ec/5n+0Hc0Etb9ZiGys18/FP6rl9jj6Q+K/bV5fwiVQu7+J6VrRptzkP4aQ1SmBCZY/lteXK5cmzb/tKP933hrgv7iauoCn+vI/yp2wIR2E9T8azrJlyi3qPyFyvDO8bNQ/a8Vxf8Qi7D+GQSNVuKfgPyq5dpiqdtk/Icnd8nop3D+sPF6EdSDCPyzV18SIA7s//f56EWj1n7/yQB0gmczBv1F8WaFKpsE/E/rU9dT61z9RL8+ZP2/UPwBtKqJnVMi/aCBSKi1Eyb8hPKKm0sHaP7ExxDdMPeo/C8nal7CZ8T9tXl/CJVC7v/wbnD3twrM/eEPs2edq4z9tXl/CJVC7v+lPb7NqvN6/IBvJPjE3zj8OgcqbCVnRP3lJm3gI2u2/vgnrmEtl1b8aZ0MT0RPJP+mKLrshVdw/9jIy1C8Qz7/JYJhR7lTgP4+elW/YO8y/0sTDbNDC4j+m5cHoWXG9Pw==\",\"dtype\":\"float64\",\"shape\":[50]}},\"selected\":{\"id\":\"05cb3079-8082-4d3d-84cc-be87642beb3d\",\"type\":\"Selection\"},\"selection_policy\":{\"id\":\"43e28952-315d-40d8-8c1c-985518ff4a43\",\"type\":\"UnionRenderers\"}},\"id\":\"f48a4db4-9030-4164-be3b-28afc2e0745e\",\"type\":\"ColumnDataSource\"},{\"attributes\":{\"callback\":null,\"data\":{\"x\":{\"__ndarray__\":\"OPUNxYSO9D/jAlATT9btPzjLypDLbPc/KNX/SwmG8T/+6lVzra7tP6PGrzsf3PE/TV6+otvJ7D+fozkW8kv1P6hLd1oY6/g/6Bcsn6DU6T+jyhGG4IbzPxkcOxP6QARA4Il4e4/uBEBsLrJAdYj/P2Ss9OlNzAJAZAM+Yc8sC0BwQ5oWv3QHQEThGJywjgJAdbjWwlZYB0Blc1gZSZf6P4H4RvFi1vw/C60+J7JSAUC5Hftm1Hn+P3IDnn0fMP8/WVTI0v3oC0BgqfvIhFsOQC6ztfTibANAVK/45n7+C0BlABLC8jQCQMkIgnTe6QRAsJBvN5Wm9D+fuyPemvsAQGQmil27GQNAUYS6uEm6BkDiG+2X1tsJQPzQyZ8YRQFA3MMdXrecCECLVH/e7igBQNU67YtRev4/0XM1j3ncAEA5pYd/sYMCQKqS6Ntbwv4/PsiUVq+BBEDbVarI6VoDQKe9/J6xGv8/fq4bO4g5/D9IxfebEm3+Pw==\",\"dtype\":\"float64\",\"shape\":[47]},\"y\":{\"__ndarray__\":\"0M76KB7v5T8F/zHTvW3UP9P0crdSIuA/KJGmCkYr0j9Op938lPfdPwn2eLMMj7W/yTptplgY1T9GTKiyVFHPP8Ctvcn1HNE/YBGtPYf3yD9/BwI/QB3aP6cUpxi+QIi/Cl29ikTi1T+Fh5xzIC/HvxHPFCqhcaW/5zD/j2aC4T8EMFpJWI3WPzG2LFkfbs+/ebYyzOD46D+AiGpEHfvOP7KcK0P0qsu/R8RH6E2Oyz+2Fmrg62q+P7VTZriY2qQ/LbX2faW+8j8+6CHMgDXQP2eTECEyHdg/kqOSx8Y73T9XUUNwNFbVP22s010k3uE/7yQJmQvOvb/mw6v4Sv3Kvwbx6Ffqmd0/LHCYvQPb1z+LZ46cqu31P5bx+EwX8su/lZuGRcjx5T8txSkXscfBP00hBdmumag/+KbQe13G1z/7PQ8Rul/HP0KCOLt/Mdo/U5lp9ZCp0T/39ajHm2zTPxLoutQ4/cc//JbSWdUZtD+1ghc8Gaq9Pw==\",\"dtype\":\"float64\",\"shape\":[47]}},\"selected\":{\"id\":\"6a388be4-d70b-4fe5-8d01-e61aff3e1273\",\"type\":\"Selection\"},\"selection_policy\":{\"id\":\"0f0c6bcc-747b-47ba-b091-532478db2711\",\"type\":\"UnionRenderers\"}},\"id\":\"627a89e4-8744-49ab-8884-d0c383966973\",\"type\":\"ColumnDataSource\"},{\"attributes\":{\"callback\":null},\"id\":\"7c694f4a-c977-4b03-8c9e-3c32e2218c12\",\"type\":\"DataRange1d\"},{\"attributes\":{\"fill_alpha\":{\"value\":0.1},\"fill_color\":{\"value\":\"#1f77b4\"},\"line_alpha\":{\"value\":0.1},\"line_color\":{\"value\":\"#1f77b4\"},\"size\":{\"units\":\"screen\",\"value\":5},\"x\":{\"field\":\"x\"},\"y\":{\"field\":\"y\"}},\"id\":\"ec3f109b-0e28-4e70-b501-2a4d73aad02e\",\"type\":\"Circle\"},{\"attributes\":{},\"id\":\"52e46a73-2331-4c86-9b99-1b9908b0b33f\",\"type\":\"HelpTool\"},{\"attributes\":{\"below\":[{\"id\":\"5b88cf98-f48c-4330-ab33-f197e28082d4\",\"type\":\"LinearAxis\"}],\"left\":[{\"id\":\"94d167a3-25f4-46c2-b5eb-95f9b363494b\",\"type\":\"LinearAxis\"}],\"plot_height\":400,\"renderers\":[{\"id\":\"5b88cf98-f48c-4330-ab33-f197e28082d4\",\"type\":\"LinearAxis\"},{\"id\":\"e40ada47-129f-4158-9d12-7590c7a08cb4\",\"type\":\"Grid\"},{\"id\":\"94d167a3-25f4-46c2-b5eb-95f9b363494b\",\"type\":\"LinearAxis\"},{\"id\":\"7138df69-9f0f-4fdc-b937-0c3a586de794\",\"type\":\"Grid\"},{\"id\":\"cac6d75f-bd37-4e1f-a2c6-5b68257399e1\",\"type\":\"BoxAnnotation\"},{\"id\":\"aff26460-3c94-4c1e-8009-544a27c89a60\",\"type\":\"GlyphRenderer\"},{\"id\":\"29da4559-8e12-4ec9-b88d-0688a12610c9\",\"type\":\"GlyphRenderer\"},{\"id\":\"b87bb6c0-b083-4976-a3b8-4609bc5e217d\",\"type\":\"GlyphRenderer\"}],\"title\":{\"id\":\"5527dd94-de91-4428-af34-5cc9ebaaa16f\",\"type\":\"Title\"},\"toolbar\":{\"id\":\"0dba15cb-4313-4a25-8045-ccce73a66eb1\",\"type\":\"Toolbar\"},\"x_range\":{\"id\":\"9f758114-53d3-4f3d-b59c-82632fe25b2c\",\"type\":\"DataRange1d\"},\"x_scale\":{\"id\":\"d8f876c0-a29c-4a5d-9d3e-8b6cf634db48\",\"type\":\"LinearScale\"},\"y_range\":{\"id\":\"7c694f4a-c977-4b03-8c9e-3c32e2218c12\",\"type\":\"DataRange1d\"},\"y_scale\":{\"id\":\"88027460-1840-4df8-a77c-cda659e96823\",\"type\":\"LinearScale\"}},\"id\":\"fd6de6bf-8eb0-446e-b24e-d8d3d7a092ac\",\"subtype\":\"Figure\",\"type\":\"Plot\"},{\"attributes\":{\"callback\":null,\"data\":{\"x\":{\"__ndarray__\":\"GRw7E/pABED/2ZQyCqD2P+CJeHuP7gRAbC6yQHWI/z9krPTpTcwCQGQDPmHPLAtAVV13nMme4D9wQ5oWv3QHQEThGJywjgJAdbjWwlZYB0Blc1gZSZf6P4H4RvFi1vw/C60+J7JSAUC9huk5dYP1P4MuXz5BXfk/uR37ZtR5/j9yA559HzD/P1lUyNL96AtAYKn7yIRbDkD2Cn9+9cX0Py6ztfTibANABYN1Jmgr8z9Ur/jmfv4LQBWjg5/jM/Y/ZQASwvI0AkDJCIJ03ukEQKahdJU7H/Q/sJBvN5Wm9D+fuyPemvsAQGQmil27GQNAUYS6uEm6BkDiG+2X1tsJQPzQyZ8YRQFAWROpwfIW9z/3d5znZ3n8P9zDHV63nAhAi1R/3u4oAUDVOu2LUXr+P2UQE7Kfs/I/0XM1j3ncAEA5pYd/sYMCQKqS6Ntbwv4//9mUMgqg9j8+yJRWr4EEQNtVqsjpWgNAp738nrEa/z/kCJNEHmn4P36uGzuIOfw/SMX3mxJt/j9Vcy+OEjz2Pw==\",\"dtype\":\"float64\",\"shape\":[50]},\"y\":{\"__ndarray__\":\"pxSnGL5AiL8Uaxk7yWXivwpdvYpE4tU/hYeccyAvx78RzxQqoXGlv+cw/49mguE/VBzoycYP878EMFpJWI3WPzG2LFkfbs+/ebYyzOD46D+AiGpEHfvOP7KcK0P0qsu/R8RH6E2Oyz8g0mcpZdjov6jS2N0AQuG/thZq4Otqvj+1U2a4mNqkPy219n2lvvI/PughzIA10D+IHyXmOVrov2eTECEyHdg/D5Z9Iedg47+So5LHxjvdP00/WPevHcq/V1FDcDRW1T9trNNdJN7hP0nbtwz27ca/7yQJmQvOvb/mw6v4Sv3Kvwbx6Ffqmd0/LHCYvQPb1z+LZ46cqu31P5bx+EwX8su/Y9HdpBRowr83cqvl/wvgv5WbhkXI8eU/LcUpF7HHwT9NIQXZrpmoP5R0aPxqDsW/+KbQe13G1z/7PQ8Rul/HP0KCOLt/Mdo/FGsZO8ll4r9TmWn1kKnRP/f1qMebbNM/Eui61Dj9xz/6VJNxVwDYv/yW0lnVGbQ/tYIXPBmqvT+mjBfb0BrSvw==\",\"dtype\":\"float64\",\"shape\":[50]}},\"selected\":{\"id\":\"c31751ef-48d2-4103-8590-b042b14ff502\",\"type\":\"Selection\"},\"selection_policy\":{\"id\":\"db202dce-7577-4998-a724-568e22f3daf0\",\"type\":\"UnionRenderers\"}},\"id\":\"94d5520a-992b-47ac-bb8c-63a4d7fe7557\",\"type\":\"ColumnDataSource\"},{\"attributes\":{\"fill_alpha\":{\"value\":0.7},\"fill_color\":{\"value\":\"#2ca02c\"},\"line_alpha\":{\"value\":0.7},\"line_color\":{\"value\":\"#2ca02c\"},\"size\":{\"units\":\"screen\",\"value\":5},\"x\":{\"field\":\"x\"},\"y\":{\"field\":\"y\"}},\"id\":\"566f2755-c5f6-4e8c-8621-c775a9c6cde8\",\"type\":\"Circle\"},{\"attributes\":{},\"id\":\"db202dce-7577-4998-a724-568e22f3daf0\",\"type\":\"UnionRenderers\"},{\"attributes\":{\"plot\":{\"id\":\"405e5952-f5c7-42b3-8899-4897d18ebe4a\",\"subtype\":\"Figure\",\"type\":\"Plot\"},\"ticker\":{\"id\":\"b95b9f3a-c23b-48a2-b0e2-0af6254798b8\",\"type\":\"BasicTicker\"}},\"id\":\"474c6c61-c93e-443a-b4af-39b246bfc3e2\",\"type\":\"Grid\"},{\"attributes\":{\"axis_label\":\"PCA component 1\",\"formatter\":{\"id\":\"fdceab89-cc37-4c11-b600-0f51f8724a88\",\"type\":\"BasicTickFormatter\"},\"plot\":{\"id\":\"405e5952-f5c7-42b3-8899-4897d18ebe4a\",\"subtype\":\"Figure\",\"type\":\"Plot\"},\"ticker\":{\"id\":\"b95b9f3a-c23b-48a2-b0e2-0af6254798b8\",\"type\":\"BasicTicker\"}},\"id\":\"e7cea1bd-1e42-4a56-a83f-99c27d0ebf1b\",\"type\":\"LinearAxis\"},{\"attributes\":{\"fill_alpha\":{\"value\":0.1},\"fill_color\":{\"value\":\"#1f77b4\"},\"line_alpha\":{\"value\":0.1},\"line_color\":{\"value\":\"#1f77b4\"},\"size\":{\"units\":\"screen\",\"value\":5},\"x\":{\"field\":\"x\"},\"y\":{\"field\":\"y\"}},\"id\":\"a025db45-1c22-44ed-8738-c5b1647eb56a\",\"type\":\"Circle\"},{\"attributes\":{\"fill_alpha\":{\"value\":0.1},\"fill_color\":{\"value\":\"#1f77b4\"},\"line_alpha\":{\"value\":0.1},\"line_color\":{\"value\":\"#1f77b4\"},\"size\":{\"units\":\"screen\",\"value\":5},\"x\":{\"field\":\"x\"},\"y\":{\"field\":\"y\"}},\"id\":\"620b888d-5ca1-4cc0-8ebd-eb30246974cd\",\"type\":\"Circle\"},{\"attributes\":{},\"id\":\"8bfb35da-e3b8-40e9-9f6b-2bc79c8e5cd6\",\"type\":\"WheelZoomTool\"},{\"attributes\":{\"source\":{\"id\":\"627a89e4-8744-49ab-8884-d0c383966973\",\"type\":\"ColumnDataSource\"}},\"id\":\"ecffe8bb-b09e-46eb-b3d7-13d098455d27\",\"type\":\"CDSView\"},{\"attributes\":{},\"id\":\"90affefa-d3ef-4a46-b4f8-45b113c4fff0\",\"type\":\"BasicTicker\"},{\"attributes\":{\"data_source\":{\"id\":\"94d5520a-992b-47ac-bb8c-63a4d7fe7557\",\"type\":\"ColumnDataSource\"},\"glyph\":{\"id\":\"396c1a4b-4a54-4f33-ac14-2bb8c19bf0c9\",\"type\":\"Circle\"},\"hover_glyph\":null,\"muted_glyph\":null,\"nonselection_glyph\":{\"id\":\"85d5e9d2-6c31-4d8e-9acc-55ba63216b09\",\"type\":\"Circle\"},\"selection_glyph\":null,\"view\":{\"id\":\"24401799-6bef-461c-a98f-064e3b770a08\",\"type\":\"CDSView\"}},\"id\":\"29da4559-8e12-4ec9-b88d-0688a12610c9\",\"type\":\"GlyphRenderer\"},{\"attributes\":{\"active_drag\":\"auto\",\"active_inspect\":\"auto\",\"active_multi\":null,\"active_scroll\":\"auto\",\"active_tap\":\"auto\",\"tools\":[{\"id\":\"1bb78e85-92b5-4b5e-9403-0e4f66de6508\",\"type\":\"PanTool\"},{\"id\":\"ba519dc6-642b-43aa-bd3f-3e950fc03ac0\",\"type\":\"WheelZoomTool\"},{\"id\":\"cb7b0491-4075-462f-b44e-7e5017f62882\",\"type\":\"BoxZoomTool\"},{\"id\":\"bf9ff27d-7517-4ddb-a8f8-01706eaa815b\",\"type\":\"SaveTool\"},{\"id\":\"55612f89-4b76-47ec-b1d0-015644e360f0\",\"type\":\"ResetTool\"},{\"id\":\"52e46a73-2331-4c86-9b99-1b9908b0b33f\",\"type\":\"HelpTool\"}]},\"id\":\"69147a4e-ee7d-4b10-8479-148041138e6e\",\"type\":\"Toolbar\"},{\"attributes\":{},\"id\":\"3310605f-27d9-49ca-967d-a0efce369322\",\"type\":\"BasicTicker\"},{\"attributes\":{\"callback\":null,\"data\":{\"x\":{\"__ndarray__\":\"2xfQlUF5BcB7HBC3HrkFwIEB8LRZHgfA4au3ELT4BcArfKiOKNQFwPou3tM6PQLAoXRMIi+RBsCf3sb9CAMFwJ6OMgWKGgfABFbgrghkBcBfEdbqXQ0EwLQJll635wTAl1U1L6pMBsCBXT7kNc0JwFSZcvz5JQXAaz99FCoSA8CXoJoE7/oEwH0CKtTDLwXAjJitL7aXAcDNpwaP4rIEwNoWbAv4ewLA3FEHi4tYBMC+fGGZE7oJwGkBnqfObALAf7QIOnDZAsDwvzLoNhAEwHyXS26gwAPAttch08Z/BMCLs/ecWh4FwE2sYpASEAXA/UeKlyu1BMDuJH6g1kcDwIFw3yJcLgXA5ExEjPvGBMAEVuCuCGQFwK+yoZ2d7wbATKUCyHcABcAEVuCuCGQFwJfrulPQ2gfA4rpHR/u4BMCjQtiWPikGwH7uJAtU0QbAu2xt2IL8B8BVrVgtfj4DwNMgpJywqwHA3Crpq665BcDDoH1E80wEwNkIQF/6uAbAHTVVoWtXBMB1upzHnKEFwA==\",\"dtype\":\"float64\",\"shape\":[50]},\"y\":{\"__ndarray__\":\"DAnjXSLn1D9+cojtCbTFvxRbwHqKlMG/sEpJ9nXp07+t4vYhBV/VP3IdOgPW7ec/5n+0Hc0Etb9ZiGys18/FP6rl9jj6Q+K/bV5fwiVQu7+J6VrRptzkP4aQ1SmBCZY/lteXK5cmzb/tKP933hrgv7iauoCn+vI/yp2wIR2E9T8azrJlyi3qPyFyvDO8bNQ/a8Vxf8Qi7D+GQSNVuKfgPyq5dpiqdtk/Icnd8nop3D+sPF6EdSDCPyzV18SIA7s//f56EWj1n7/yQB0gmczBv1F8WaFKpsE/E/rU9dT61z9RL8+ZP2/UPwBtKqJnVMi/aCBSKi1Eyb8hPKKm0sHaP7ExxDdMPeo/C8nal7CZ8T9tXl/CJVC7v/wbnD3twrM/eEPs2edq4z9tXl/CJVC7v+lPb7NqvN6/IBvJPjE3zj8OgcqbCVnRP3lJm3gI2u2/vgnrmEtl1b8aZ0MT0RPJP+mKLrshVdw/9jIy1C8Qz7/JYJhR7lTgP4+elW/YO8y/0sTDbNDC4j+m5cHoWXG9Pw==\",\"dtype\":\"float64\",\"shape\":[50]}},\"selected\":{\"id\":\"15d1c9ab-671b-4ebb-a29b-9cb65ae891fd\",\"type\":\"Selection\"},\"selection_policy\":{\"id\":\"99ce2b5a-1568-4305-9fd9-9b5a2dba2bd3\",\"type\":\"UnionRenderers\"}},\"id\":\"cb3db2b7-6293-4146-8a4f-ad69f80e2c09\",\"type\":\"ColumnDataSource\"},{\"attributes\":{\"fill_alpha\":{\"value\":0.1},\"fill_color\":{\"value\":\"#1f77b4\"},\"line_alpha\":{\"value\":0.1},\"line_color\":{\"value\":\"#1f77b4\"},\"size\":{\"units\":\"screen\",\"value\":5},\"x\":{\"field\":\"x\"},\"y\":{\"field\":\"y\"}},\"id\":\"7613edf4-e449-4e22-b551-90808db0b1e2\",\"type\":\"Circle\"},{\"attributes\":{\"callback\":null},\"id\":\"ccf5edd4-810e-4f19-9d69-00bad573b2d1\",\"type\":\"DataRange1d\"},{\"attributes\":{},\"id\":\"0eebeb50-98ee-4f61-8d4c-d2a776b0efb4\",\"type\":\"LinearScale\"},{\"attributes\":{},\"id\":\"23857a81-01e4-476a-ac9b-3dba26a74b49\",\"type\":\"BasicTickFormatter\"},{\"attributes\":{\"callback\":null,\"data\":{\"x\":{\"__ndarray__\":\"OPUNxYSO9D/jAlATT9btPzjLypDLbPc/Frd09O4pxz9Ihs4h52TxP1d4yzV1fuQ/KNX/SwmG8T/xSSPRBAzovyr3gQNZsfA/kRkpJIjehL+fzhlw0Vrgv83n9VHqWuA/AvVP6RvK0D+a6mn8Sn3vP55d2JDxYca//upVc62u7T+6jzVWYhvlPwELyQltBc4/yPtIvdMn7j86uilmZCSmP6PGrzsf3PE/R/geVJfV1j8sJQQfVr70P/RBnvjBdO0/lnvVwCfZ5j9NXr6i28nsP5+jORbyS/U/qEt3Whjr+D/ezYzHov/pPybnH2Vfq9O/SRWL1/0Bsr/lphjJq4/Iv9MpqLiDR8E/x+isgk4P9j/OcTyi9MriP+gXLJ+g1Ok/o8oRhuCG8z/wa/NPAwPqP2p5TBiOYs8/2aRMqcYOxT/XL4+6TKLdP652SMIxfOw/Z/ktoehLzT+0uMHtaKDmv6kt/aUNwdY/+5JnFC8x1T93QmI05wPYP6hd3Ay6iOQ/qy0ssiES7b/KY7PlSA/TPw==\",\"dtype\":\"float64\",\"shape\":[50]},\"y\":{\"__ndarray__\":\"0M76KB7v5T8F/zHTvW3UP9P0crdSIuA/C3Uj9lhr6r/7jm3YyEyzP3thzY1ttdq/KJGmCkYr0j8mFMBPiQTwv9D7scF1Ts0/PLzZBfMO578M0VTDKjP0v9S0EoZKL7q/zOyWhleI4b8qgcWhFda/v+hsmg6/HdC/Tqfd/JT33T9tksSQx4bWv1MVfA41PtW/TvnfoZtW4b9BaoXBj5vivwn2eLMMj7W/Cwmay10bsb9JobyXxPbUv2CrzEKRWMe/NOhixJ8/wz/JOm2mWBjVP0ZMqLJUUc8/wK29yfUc0T/BH5vyR8fEv91vgj2UXde/VHQf1DB75r+//G2mAK7lv16SUAAN89O/z35iZQb12r8xJSEjIe7ev2ARrT2H98g/fwcCP0Ad2j8nAMZnNLnXv28DhncSEtG/9VHhaMm/5b+kpaXvwmzlvwAnl0/dT6G/xg3Pvpa+2b+UCsUAgiLwv4BiRKhdGuC//PbaavMHy79sNdZs76nSv34UTv1kh5M/T5Tp2tkM6L8vANzIhDXWvw==\",\"dtype\":\"float64\",\"shape\":[50]}},\"selected\":{\"id\":\"0bd87fdf-11ca-4108-8425-9d87940da333\",\"type\":\"Selection\"},\"selection_policy\":{\"id\":\"69398db9-b188-4657-8b88-dac672314127\",\"type\":\"UnionRenderers\"}},\"id\":\"1a6160d4-ce0b-46c8-9743-553e6126904c\",\"type\":\"ColumnDataSource\"},{\"attributes\":{\"fill_alpha\":{\"value\":0.7},\"fill_color\":{\"value\":\"#2ca02c\"},\"line_alpha\":{\"value\":0.7},\"line_color\":{\"value\":\"#2ca02c\"},\"size\":{\"units\":\"screen\",\"value\":5},\"x\":{\"field\":\"x\"},\"y\":{\"field\":\"y\"}},\"id\":\"0eaf407d-9124-4d16-a495-8b9d5423ab99\",\"type\":\"Circle\"},{\"attributes\":{\"fill_alpha\":{\"value\":0.1},\"fill_color\":{\"value\":\"#1f77b4\"},\"line_alpha\":{\"value\":0.1},\"line_color\":{\"value\":\"#1f77b4\"},\"size\":{\"units\":\"screen\",\"value\":5},\"x\":{\"field\":\"x\"},\"y\":{\"field\":\"y\"}},\"id\":\"85d5e9d2-6c31-4d8e-9acc-55ba63216b09\",\"type\":\"Circle\"},{\"attributes\":{\"callback\":null,\"data\":{\"x\":{\"__ndarray__\":\"Frd09O4pxz9Ihs4h52TxP1d4yzV1fuQ/8Ukj0QQM6L8q94EDWbHwP5EZKSSI3oS/n84ZcNFa4L/N5/VR6lrgPwL1T+kbytA/mupp/Ep97z+eXdiQ8WHGv7qPNVZiG+U/AQvJCW0Fzj/I+0i90yfuPzq6KWZkJKY/R/geVJfV1j8sJQQfVr70P/RBnvjBdO0/lnvVwCfZ5j/ezYzHov/pPybnH2Vfq9O/SRWL1/0Bsr/lphjJq4/Iv9MpqLiDR8E/x+isgk4P9j/OcTyi9MriP/Br808DA+o/anlMGI5izz/ZpEypxg7FP9cvj7pMot0/rnZIwjF87D9n+S2h6EvNP7S4we1ooOa/qS39pQ3B1j/7kmcULzHVP3dCYjTnA9g/qF3cDLqI5D+rLSyyIRLtv8pjs+VID9M//9mUMgqg9j9VXXecyZ7gP72G6Tl1g/U/gy5fPkFd+T/2Cn9+9cX0PwWDdSZoK/M/FaODn+Mz9j+moXSVOx/0P1kTqcHyFvc/93ec52d5/D9lEBOyn7PyP//ZlDIKoPY/5AiTRB5p+D9Vcy+OEjz2Pw==\",\"dtype\":\"float64\",\"shape\":[53]},\"y\":{\"__ndarray__\":\"C3Uj9lhr6r/7jm3YyEyzP3thzY1ttdq/JhTAT4kE8L/Q+7HBdU7NPzy82QXzDue/DNFUwyoz9L/UtBKGSi+6v8zsloZXiOG/KoHFoRXWv7/obJoOvx3Qv22SxJDHhta/UxV8DjU+1b9O+d+hm1bhv0FqhcGPm+K/Cwmay10bsb9JobyXxPbUv2CrzEKRWMe/NOhixJ8/wz/BH5vyR8fEv91vgj2UXde/VHQf1DB75r+//G2mAK7lv16SUAAN89O/z35iZQb12r8xJSEjIe7evycAxmc0ude/bwOGdxIS0b/1UeFoyb/lv6Slpe/CbOW/ACeXT91Pob/GDc++lr7Zv5QKxQCCIvC/gGJEqF0a4L/89tpq8wfLv2w11mzvqdK/fhRO/WSHkz9PlOna2Qzovy8A3MiENda/FGsZO8ll4r9UHOjJxg/zvyDSZyll2Oi/qNLY3QBC4b+IHyXmOVrovw+WfSHnYOO/TT9Y968dyr9J27cM9u3Gv2PR3aQUaMK/N3Kr5f8L4L+UdGj8ag7FvxRrGTvJZeK/+lSTcVcA2L+mjBfb0BrSvw==\",\"dtype\":\"float64\",\"shape\":[53]}},\"selected\":{\"id\":\"2b79337a-9412-4039-946a-8355b467028a\",\"type\":\"Selection\"},\"selection_policy\":{\"id\":\"798f149c-2a65-4b72-a8a5-7d46322a3f11\",\"type\":\"UnionRenderers\"}},\"id\":\"3b0704d0-c063-4a65-b0c4-d9cd2dd5b894\",\"type\":\"ColumnDataSource\"},{\"attributes\":{},\"id\":\"d8f876c0-a29c-4a5d-9d3e-8b6cf634db48\",\"type\":\"LinearScale\"},{\"attributes\":{},\"id\":\"0f0c6bcc-747b-47ba-b091-532478db2711\",\"type\":\"UnionRenderers\"},{\"attributes\":{},\"id\":\"bf9ff27d-7517-4ddb-a8f8-01706eaa815b\",\"type\":\"SaveTool\"},{\"attributes\":{\"source\":{\"id\":\"3b0704d0-c063-4a65-b0c4-d9cd2dd5b894\",\"type\":\"ColumnDataSource\"}},\"id\":\"8115524f-4245-4017-81a9-84f06bc0e821\",\"type\":\"CDSView\"},{\"attributes\":{},\"id\":\"000aae6c-c7a5-4496-832b-67b7530fb2c3\",\"type\":\"HelpTool\"},{\"attributes\":{},\"id\":\"c31751ef-48d2-4103-8590-b042b14ff502\",\"type\":\"Selection\"},{\"attributes\":{\"callback\":null},\"id\":\"334209fc-49dd-43d9-a727-dc91338a64c1\",\"type\":\"DataRange1d\"},{\"attributes\":{},\"id\":\"43e28952-315d-40d8-8c1c-985518ff4a43\",\"type\":\"UnionRenderers\"},{\"attributes\":{\"plot\":null,\"text\":\"Labels of the iris data\"},\"id\":\"5527dd94-de91-4428-af34-5cc9ebaaa16f\",\"type\":\"Title\"},{\"attributes\":{\"data_source\":{\"id\":\"3b0704d0-c063-4a65-b0c4-d9cd2dd5b894\",\"type\":\"ColumnDataSource\"},\"glyph\":{\"id\":\"566f2755-c5f6-4e8c-8621-c775a9c6cde8\",\"type\":\"Circle\"},\"hover_glyph\":null,\"muted_glyph\":null,\"nonselection_glyph\":{\"id\":\"bf962e57-7de8-48d4-9f98-dfc8ac71564b\",\"type\":\"Circle\"},\"selection_glyph\":null,\"view\":{\"id\":\"8115524f-4245-4017-81a9-84f06bc0e821\",\"type\":\"CDSView\"}},\"id\":\"ab8cf15d-f4a9-4b1b-94e7-ce424b265750\",\"type\":\"GlyphRenderer\"},{\"attributes\":{\"overlay\":{\"id\":\"53300972-9393-4a32-833b-02c85ee5f1af\",\"type\":\"BoxAnnotation\"}},\"id\":\"cb7b0491-4075-462f-b44e-7e5017f62882\",\"type\":\"BoxZoomTool\"},{\"attributes\":{},\"id\":\"b95b9f3a-c23b-48a2-b0e2-0af6254798b8\",\"type\":\"BasicTicker\"},{\"attributes\":{},\"id\":\"fdceab89-cc37-4c11-b600-0f51f8724a88\",\"type\":\"BasicTickFormatter\"},{\"attributes\":{},\"id\":\"05cb3079-8082-4d3d-84cc-be87642beb3d\",\"type\":\"Selection\"},{\"attributes\":{},\"id\":\"c327d568-5526-41b7-a725-27123372f74a\",\"type\":\"BasicTickFormatter\"},{\"attributes\":{},\"id\":\"1bb78e85-92b5-4b5e-9403-0e4f66de6508\",\"type\":\"PanTool\"},{\"attributes\":{\"children\":[{\"id\":\"405e5952-f5c7-42b3-8899-4897d18ebe4a\",\"subtype\":\"Figure\",\"type\":\"Plot\"},{\"id\":\"fd6de6bf-8eb0-446e-b24e-d8d3d7a092ac\",\"subtype\":\"Figure\",\"type\":\"Plot\"}]},\"id\":\"5418fbab-daae-4593-9d02-21bd20f53476\",\"type\":\"Row\"},{\"attributes\":{},\"id\":\"0bd87fdf-11ca-4108-8425-9d87940da333\",\"type\":\"Selection\"},{\"attributes\":{\"plot\":null,\"text\":\"K-means clusters of the iris data\"},\"id\":\"fd1587ae-3719-436c-865e-ea3517b2f64d\",\"type\":\"Title\"},{\"attributes\":{\"callback\":null},\"id\":\"9f758114-53d3-4f3d-b59c-82632fe25b2c\",\"type\":\"DataRange1d\"},{\"attributes\":{},\"id\":\"000860a5-01d8-4901-8885-64efc6011ea9\",\"type\":\"LinearScale\"},{\"attributes\":{},\"id\":\"2c913c1a-a7ff-4cb9-9ad1-a07b7d0a0c15\",\"type\":\"BasicTicker\"},{\"attributes\":{},\"id\":\"155e94b8-3a06-480a-917b-89aa3ff23422\",\"type\":\"BasicTickFormatter\"},{\"attributes\":{\"fill_alpha\":{\"value\":0.7},\"fill_color\":{\"value\":\"#1f77b4\"},\"line_alpha\":{\"value\":0.7},\"line_color\":{\"value\":\"#1f77b4\"},\"size\":{\"units\":\"screen\",\"value\":5},\"x\":{\"field\":\"x\"},\"y\":{\"field\":\"y\"}},\"id\":\"be0414ee-21f3-41a9-8b1a-62e3836564c4\",\"type\":\"Circle\"}],\"root_ids\":[\"5418fbab-daae-4593-9d02-21bd20f53476\"]},\"title\":\"Bokeh Application\",\"version\":\"0.13.0\"}};\n",
       "  var render_items = [{\"docid\":\"9524cf65-a006-4976-9e19-3adf3e108475\",\"roots\":{\"5418fbab-daae-4593-9d02-21bd20f53476\":\"c836c6b8-ac4e-4cdf-93f9-4d255acf59c9\"}}];\n",
       "  root.Bokeh.embed.embed_items_notebook(docs_json, render_items);\n",
       "\n",
       "  }\n",
       "  if (root.Bokeh !== undefined) {\n",
       "    embed_document(root);\n",
       "  } else {\n",
       "    var attempts = 0;\n",
       "    var timer = setInterval(function(root) {\n",
       "      if (root.Bokeh !== undefined) {\n",
       "        embed_document(root);\n",
       "        clearInterval(timer);\n",
       "      }\n",
       "      attempts++;\n",
       "      if (attempts > 100) {\n",
       "        console.log(\"Bokeh: ERROR: Unable to run BokehJS code because BokehJS library is missing\")\n",
       "        clearInterval(timer);\n",
       "      }\n",
       "    }, 10, root)\n",
       "  }\n",
       "})(window);"
      ],
      "application/vnd.bokehjs_exec.v0+json": ""
     },
     "metadata": {
      "application/vnd.bokehjs_exec.v0+json": {
       "id": "5418fbab-daae-4593-9d02-21bd20f53476"
      }
     },
     "output_type": "display_data"
    },
    {
     "name": "stderr",
     "output_type": "stream",
     "text": [
      "WARNING:bokeh.core.validation.check:W-1004 (BOTH_CHILD_AND_ROOT): Models should not be a document root if they are in a layout box: Figure(id='405e5952-f5c7-42b3-8899-4897d18ebe4a', ...), Figure(id='fd6de6bf-8eb0-446e-b24e-d8d3d7a092ac', ...)\n"
     ]
    }
   ],
   "source": [
    "from bokeh.layouts import row\n",
    "plot_row = row(children = [p_clusters, p_labels])\n",
    "show(plot_row)"
   ]
  },
  {
   "cell_type": "markdown",
   "metadata": {
    "slideshow": {
     "slide_type": "subslide"
    }
   },
   "source": [
    "we can also plot on a single figure and jazz things up a bit "
   ]
  },
  {
   "cell_type": "code",
   "execution_count": 394,
   "metadata": {
    "scrolled": true,
    "slideshow": {
     "slide_type": "fragment"
    }
   },
   "outputs": [],
   "source": [
    "from bokeh.models.sources import ColumnDataSource\n",
    "from bokeh.models import CustomJS\n",
    "from bokeh import events\n",
    "\n",
    "# make some label names first\n",
    "names = {0 : \"Setosa\",\n",
    "         1 : \"Versicolour\",\n",
    "         2 : \"Virginica\"}\n",
    "\n",
    "#data\n",
    "data = iris_data_2D \n",
    "cluster_labels = clusters.labels_\n",
    "labels = iris_labels\n",
    "label_names = np.asarray([names[label] for label in iris_labels]) # array for boolean filtering\n",
    "palette = Category10\n",
    "plot_title = \"K-means clusters of the iris data\"\n",
    "x_label = \"PCA component 1\"\n",
    "y_label = \"PCA component 2\"\n",
    "plot_dims = [600,400]\n",
    "\n",
    "#tooltips for plot \n",
    "t_tips= [(\"PC 1\", \"$x\"),\n",
    "            (\"PC 2\", \"$y\"),\n",
    "            (\"cluster\", \"@cluster\"),\n",
    "            ('label', '@label'),\n",
    "            ('name', '@label_name')\n",
    "           ]"
   ]
  },
  {
   "cell_type": "code",
   "execution_count": 395,
   "metadata": {
    "scrolled": true,
    "slideshow": {
     "slide_type": "subslide"
    }
   },
   "outputs": [],
   "source": [
    "# create the figure\n",
    "p_jazzy = figure(title = plot_title,\n",
    "                 x_axis_label = x_label,\n",
    "                 y_axis_label = y_label,\n",
    "                 plot_width = plot_dims[0], \n",
    "                 plot_height = plot_dims[1],\n",
    "                 tooltips = t_tips\n",
    "                )\n",
    "# plotting by category is a little difficult as bokeh 0.13.0 is \n",
    "# still under development\n",
    "\n",
    "#enables us to cycle through the colours in the palette \n",
    "n_cat = np.max(cluster_labels) + 1\n",
    "colour_cycler = it.cycle(palette[n_cat])"
   ]
  },
  {
   "cell_type": "code",
   "execution_count": 396,
   "metadata": {
    "scrolled": false,
    "slideshow": {
     "slide_type": "subslide"
    }
   },
   "outputs": [],
   "source": [
    "#plot each category in a differen colour     \n",
    "for cluster, colour, name in zip(np.unique(cluster_labels), \n",
    "                                 colour_cycler, \n",
    "                                 np.unique(label_names)\n",
    "                                ):\n",
    "    #find where clusters and labels agree\n",
    "    correct_mask = (cluster_labels == cluster) & (labels == cluster) \n",
    "    incorrect_mask = (cluster_labels == cluster) & (labels != cluster)\n",
    "    # create a datasource \n",
    "    correct_src = ColumnDataSource({\"PCA_1\" : data[correct_mask,0],\n",
    "                                    \"PCA_2\" : data[correct_mask,1],\n",
    "                                    \"cluster\" : cluster_labels[correct_mask],\n",
    "                                    \"label\": labels[correct_mask],\n",
    "                                    \"label_name\" : label_names[correct_mask]\n",
    "                                   })\n",
    "    incorrect_src = ColumnDataSource({\"PCA_1\" : data[incorrect_mask,0],\n",
    "                                      \"PCA_2\" : data[incorrect_mask,1],\n",
    "                                      \"cluster\" : cluster_labels[incorrect_mask],\n",
    "                                      \"label\": labels[incorrect_mask],\n",
    "                                      \"label_name\" : label_names[incorrect_mask]\n",
    "                                    })\n",
    "    #plot circle if labels and clusters agree\n",
    "    p_jazzy.circle(\"PCA_1\",\n",
    "                   \"PCA_2\",\n",
    "                   size=5, \n",
    "                   alpha=0.7,\n",
    "                   color = colour,\n",
    "                   source = correct_src,\n",
    "                   legend = \"{} correct\".format(name)\n",
    "                  )\n",
    "    #plot square if labels and cluster don't agree\n",
    "    p_jazzy.square(\"PCA_1\",\n",
    "                   \"PCA_2\",\n",
    "                   size=5, \n",
    "                   alpha=0.7,\n",
    "                   color = colour,\n",
    "                   source = incorrect_src,\n",
    "                   legend = \"{} incorrect\".format(name)\n",
    "                  )"
   ]
  },
  {
   "cell_type": "code",
   "execution_count": 398,
   "metadata": {
    "scrolled": true,
    "slideshow": {
     "slide_type": "subslide"
    }
   },
   "outputs": [],
   "source": [
    "#set up the legend\n",
    "p_jazzy.legend.location = \"bottom_right\"\n",
    "p_jazzy.legend.orientation = \"vertical\"\n",
    "p_jazzy.legend.click_policy = \"hide\"\n",
    "\n",
    "#make a event to get rid of the legend\n",
    "def show_hide_legend(legend = p_jazzy.legend[0]):\n",
    "    legend.visible = not legend.visible\n",
    "\n",
    "#turn into javascript and add to our plot\n",
    "p_jazzy.js_on_event(events.DoubleTap, CustomJS.from_py_func(show_hide_legend))"
   ]
  },
  {
   "cell_type": "code",
   "execution_count": 386,
   "metadata": {
    "scrolled": true,
    "slideshow": {
     "slide_type": "skip"
    }
   },
   "outputs": [],
   "source": [
    "from bokeh.models.sources import ColumnDataSource\n",
    "from bokeh.models import CustomJS\n",
    "from bokeh import events\n",
    "\n",
    "def jazzy_plot(data, \n",
    "               clusters,\n",
    "               labels,\n",
    "               label_names,\n",
    "               palette = Category10,\n",
    "               plot_title = \"K-means clusters of the iris data\",\n",
    "               x_label = \"PCA component 1\",\n",
    "               y_label = \"PCA component 2\",\n",
    "               plot_dims = [600,400]\n",
    "              ):\n",
    "    \n",
    "    #tooltips for plot \n",
    "    t_tips= [(\"PC 1\", \"$x\"),\n",
    "                (\"PC 2\", \"$y\"),\n",
    "                (\"cluster\", \"@cluster\"),\n",
    "                ('label', '@label'),\n",
    "                ('name', '@label_name')\n",
    "               ]\n",
    "    # create the figure\n",
    "    p = figure(title = plot_title,\n",
    "               x_axis_label = x_label,\n",
    "               y_axis_label = y_label,\n",
    "               plot_width = plot_dims[0], \n",
    "               plot_height = plot_dims[1],\n",
    "               tooltips = t_tips\n",
    "              )\n",
    "\n",
    "    # plotting by category is a little difficult as bokeh 0.13.0 is \n",
    "    # still under development\n",
    "\n",
    "    #enables us to cycle through the colours in the palette \n",
    "    n_cat = np.max(clusters) + 1\n",
    "    colour_cycler = it.cycle(palette[n_cat])\n",
    "\n",
    "    #plot each category in a differen colour     \n",
    "    for cluster, colour, name in zip(np.unique(clusters), \n",
    "                                     colour_cycler, \n",
    "                                     np.unique(label_names)\n",
    "                                    ):\n",
    "        \n",
    "        #find where clusters and labels agree\n",
    "        correct_mask = (clusters == cluster) & (labels == cluster) \n",
    "        incorrect_mask = (clusters == cluster) & (labels != cluster)\n",
    "        \n",
    "        # create a datasource \n",
    "        correct_src = ColumnDataSource({\"PCA_1\" : data[correct_mask,0],\n",
    "                                        \"PCA_2\" : data[correct_mask,1],\n",
    "                                        \"cluster\" : clusters[correct_mask],\n",
    "                                        \"label\": labels[correct_mask],\n",
    "                                        \"label_name\" : label_names[correct_mask]\n",
    "                                       })\n",
    "        \n",
    "        incorrect_src = ColumnDataSource({\"PCA_1\" : data[incorrect_mask,0],\n",
    "                                          \"PCA_2\" : data[incorrect_mask,1],\n",
    "                                          \"cluster\" : clusters[incorrect_mask],\n",
    "                                          \"label\": labels[incorrect_mask],\n",
    "                                          \"label_name\" : label_names[incorrect_mask]\n",
    "                                        })\n",
    "   \n",
    "        #plot circle if labels and clusters agree\n",
    "        p.circle(\"PCA_1\",\n",
    "                 \"PCA_2\",\n",
    "                 size=5, \n",
    "                 alpha=0.7,\n",
    "                 color = colour,\n",
    "                 source = correct_src,\n",
    "                 legend = \"{} correct\".format(name)\n",
    "                )\n",
    "        \n",
    "        #plot square if labels and cluster don't agree\n",
    "        p.square(\"PCA_1\",\n",
    "                 \"PCA_2\",\n",
    "                 size=5, \n",
    "                 alpha=0.7,\n",
    "                 color = colour,\n",
    "                 source = incorrect_src,\n",
    "                 legend = \"{} incorrect\".format(name)\n",
    "                )\n",
    "    \n",
    "    #set up the legend\n",
    "    p.legend.location = \"bottom_right\"\n",
    "    p.legend.orientation = \"vertical\"\n",
    "    p.legend.click_policy = \"hide\"\n",
    "\n",
    "    #make a event to get rid of the legend\n",
    "    def show_hide_legend(legend = p.legend[0]):\n",
    "        legend.visible = not legend.visible\n",
    "    \n",
    "    #turn into javascript and add to our plot\n",
    "    p.js_on_event(events.DoubleTap, CustomJS.from_py_func(show_hide_legend))\n",
    "        \n",
    "        \n",
    "    return p\n"
   ]
  },
  {
   "cell_type": "markdown",
   "metadata": {
    "slideshow": {
     "slide_type": "subslide"
    }
   },
   "source": [
    "### What does this look like?"
   ]
  },
  {
   "cell_type": "code",
   "execution_count": 417,
   "metadata": {
    "scrolled": true,
    "slideshow": {
     "slide_type": "fragment"
    }
   },
   "outputs": [],
   "source": [
    "p_jazz = jazzy_plot(data = iris_data_2D,\n",
    "                    clusters = clusters.labels_,\n",
    "                    labels = iris_labels,\n",
    "                    label_names = iris_names,\n",
    "                    plot_title = \"Clusters and targets comparison\")"
   ]
  },
  {
   "cell_type": "code",
   "execution_count": 419,
   "metadata": {
    "scrolled": true,
    "slideshow": {
     "slide_type": "subslide"
    }
   },
   "outputs": [
    {
     "data": {
      "text/html": [
       "\n",
       "    <div class=\"bk-root\">\n",
       "        <a href=\"https://bokeh.pydata.org\" target=\"_blank\" class=\"bk-logo bk-logo-small bk-logo-notebook\"></a>\n",
       "        <span id=\"5329c519-daed-4552-8352-d866d3eced86\">Loading BokehJS ...</span>\n",
       "    </div>"
      ]
     },
     "metadata": {},
     "output_type": "display_data"
    },
    {
     "data": {
      "application/javascript": [
       "\n",
       "(function(root) {\n",
       "  function now() {\n",
       "    return new Date();\n",
       "  }\n",
       "\n",
       "  var force = true;\n",
       "\n",
       "  if (typeof (root._bokeh_onload_callbacks) === \"undefined\" || force === true) {\n",
       "    root._bokeh_onload_callbacks = [];\n",
       "    root._bokeh_is_loading = undefined;\n",
       "  }\n",
       "\n",
       "  var JS_MIME_TYPE = 'application/javascript';\n",
       "  var HTML_MIME_TYPE = 'text/html';\n",
       "  var EXEC_MIME_TYPE = 'application/vnd.bokehjs_exec.v0+json';\n",
       "  var CLASS_NAME = 'output_bokeh rendered_html';\n",
       "\n",
       "  /**\n",
       "   * Render data to the DOM node\n",
       "   */\n",
       "  function render(props, node) {\n",
       "    var script = document.createElement(\"script\");\n",
       "    node.appendChild(script);\n",
       "  }\n",
       "\n",
       "  /**\n",
       "   * Handle when an output is cleared or removed\n",
       "   */\n",
       "  function handleClearOutput(event, handle) {\n",
       "    var cell = handle.cell;\n",
       "\n",
       "    var id = cell.output_area._bokeh_element_id;\n",
       "    var server_id = cell.output_area._bokeh_server_id;\n",
       "    // Clean up Bokeh references\n",
       "    if (id != null && id in Bokeh.index) {\n",
       "      Bokeh.index[id].model.document.clear();\n",
       "      delete Bokeh.index[id];\n",
       "    }\n",
       "\n",
       "    if (server_id !== undefined) {\n",
       "      // Clean up Bokeh references\n",
       "      var cmd = \"from bokeh.io.state import curstate; print(curstate().uuid_to_server['\" + server_id + \"'].get_sessions()[0].document.roots[0]._id)\";\n",
       "      cell.notebook.kernel.execute(cmd, {\n",
       "        iopub: {\n",
       "          output: function(msg) {\n",
       "            var id = msg.content.text.trim();\n",
       "            if (id in Bokeh.index) {\n",
       "              Bokeh.index[id].model.document.clear();\n",
       "              delete Bokeh.index[id];\n",
       "            }\n",
       "          }\n",
       "        }\n",
       "      });\n",
       "      // Destroy server and session\n",
       "      var cmd = \"import bokeh.io.notebook as ion; ion.destroy_server('\" + server_id + \"')\";\n",
       "      cell.notebook.kernel.execute(cmd);\n",
       "    }\n",
       "  }\n",
       "\n",
       "  /**\n",
       "   * Handle when a new output is added\n",
       "   */\n",
       "  function handleAddOutput(event, handle) {\n",
       "    var output_area = handle.output_area;\n",
       "    var output = handle.output;\n",
       "\n",
       "    // limit handleAddOutput to display_data with EXEC_MIME_TYPE content only\n",
       "    if ((output.output_type != \"display_data\") || (!output.data.hasOwnProperty(EXEC_MIME_TYPE))) {\n",
       "      return\n",
       "    }\n",
       "\n",
       "    var toinsert = output_area.element.find(\".\" + CLASS_NAME.split(' ')[0]);\n",
       "\n",
       "    if (output.metadata[EXEC_MIME_TYPE][\"id\"] !== undefined) {\n",
       "      toinsert[toinsert.length - 1].firstChild.textContent = output.data[JS_MIME_TYPE];\n",
       "      // store reference to embed id on output_area\n",
       "      output_area._bokeh_element_id = output.metadata[EXEC_MIME_TYPE][\"id\"];\n",
       "    }\n",
       "    if (output.metadata[EXEC_MIME_TYPE][\"server_id\"] !== undefined) {\n",
       "      var bk_div = document.createElement(\"div\");\n",
       "      bk_div.innerHTML = output.data[HTML_MIME_TYPE];\n",
       "      var script_attrs = bk_div.children[0].attributes;\n",
       "      for (var i = 0; i < script_attrs.length; i++) {\n",
       "        toinsert[toinsert.length - 1].firstChild.setAttribute(script_attrs[i].name, script_attrs[i].value);\n",
       "      }\n",
       "      // store reference to server id on output_area\n",
       "      output_area._bokeh_server_id = output.metadata[EXEC_MIME_TYPE][\"server_id\"];\n",
       "    }\n",
       "  }\n",
       "\n",
       "  function register_renderer(events, OutputArea) {\n",
       "\n",
       "    function append_mime(data, metadata, element) {\n",
       "      // create a DOM node to render to\n",
       "      var toinsert = this.create_output_subarea(\n",
       "        metadata,\n",
       "        CLASS_NAME,\n",
       "        EXEC_MIME_TYPE\n",
       "      );\n",
       "      this.keyboard_manager.register_events(toinsert);\n",
       "      // Render to node\n",
       "      var props = {data: data, metadata: metadata[EXEC_MIME_TYPE]};\n",
       "      render(props, toinsert[toinsert.length - 1]);\n",
       "      element.append(toinsert);\n",
       "      return toinsert\n",
       "    }\n",
       "\n",
       "    /* Handle when an output is cleared or removed */\n",
       "    events.on('clear_output.CodeCell', handleClearOutput);\n",
       "    events.on('delete.Cell', handleClearOutput);\n",
       "\n",
       "    /* Handle when a new output is added */\n",
       "    events.on('output_added.OutputArea', handleAddOutput);\n",
       "\n",
       "    /**\n",
       "     * Register the mime type and append_mime function with output_area\n",
       "     */\n",
       "    OutputArea.prototype.register_mime_type(EXEC_MIME_TYPE, append_mime, {\n",
       "      /* Is output safe? */\n",
       "      safe: true,\n",
       "      /* Index of renderer in `output_area.display_order` */\n",
       "      index: 0\n",
       "    });\n",
       "  }\n",
       "\n",
       "  // register the mime type if in Jupyter Notebook environment and previously unregistered\n",
       "  if (root.Jupyter !== undefined) {\n",
       "    var events = require('base/js/events');\n",
       "    var OutputArea = require('notebook/js/outputarea').OutputArea;\n",
       "\n",
       "    if (OutputArea.prototype.mime_types().indexOf(EXEC_MIME_TYPE) == -1) {\n",
       "      register_renderer(events, OutputArea);\n",
       "    }\n",
       "  }\n",
       "\n",
       "  \n",
       "  if (typeof (root._bokeh_timeout) === \"undefined\" || force === true) {\n",
       "    root._bokeh_timeout = Date.now() + 5000;\n",
       "    root._bokeh_failed_load = false;\n",
       "  }\n",
       "\n",
       "  var NB_LOAD_WARNING = {'data': {'text/html':\n",
       "     \"<div style='background-color: #fdd'>\\n\"+\n",
       "     \"<p>\\n\"+\n",
       "     \"BokehJS does not appear to have successfully loaded. If loading BokehJS from CDN, this \\n\"+\n",
       "     \"may be due to a slow or bad network connection. Possible fixes:\\n\"+\n",
       "     \"</p>\\n\"+\n",
       "     \"<ul>\\n\"+\n",
       "     \"<li>re-rerun `output_notebook()` to attempt to load from CDN again, or</li>\\n\"+\n",
       "     \"<li>use INLINE resources instead, as so:</li>\\n\"+\n",
       "     \"</ul>\\n\"+\n",
       "     \"<code>\\n\"+\n",
       "     \"from bokeh.resources import INLINE\\n\"+\n",
       "     \"output_notebook(resources=INLINE)\\n\"+\n",
       "     \"</code>\\n\"+\n",
       "     \"</div>\"}};\n",
       "\n",
       "  function display_loaded() {\n",
       "    var el = document.getElementById(\"5329c519-daed-4552-8352-d866d3eced86\");\n",
       "    if (el != null) {\n",
       "      el.textContent = \"BokehJS is loading...\";\n",
       "    }\n",
       "    if (root.Bokeh !== undefined) {\n",
       "      if (el != null) {\n",
       "        el.textContent = \"BokehJS \" + root.Bokeh.version + \" successfully loaded.\";\n",
       "      }\n",
       "    } else if (Date.now() < root._bokeh_timeout) {\n",
       "      setTimeout(display_loaded, 100)\n",
       "    }\n",
       "  }\n",
       "\n",
       "\n",
       "  function run_callbacks() {\n",
       "    try {\n",
       "      root._bokeh_onload_callbacks.forEach(function(callback) { callback() });\n",
       "    }\n",
       "    finally {\n",
       "      delete root._bokeh_onload_callbacks\n",
       "    }\n",
       "    console.info(\"Bokeh: all callbacks have finished\");\n",
       "  }\n",
       "\n",
       "  function load_libs(js_urls, callback) {\n",
       "    root._bokeh_onload_callbacks.push(callback);\n",
       "    if (root._bokeh_is_loading > 0) {\n",
       "      console.log(\"Bokeh: BokehJS is being loaded, scheduling callback at\", now());\n",
       "      return null;\n",
       "    }\n",
       "    if (js_urls == null || js_urls.length === 0) {\n",
       "      run_callbacks();\n",
       "      return null;\n",
       "    }\n",
       "    console.log(\"Bokeh: BokehJS not loaded, scheduling load and callback at\", now());\n",
       "    root._bokeh_is_loading = js_urls.length;\n",
       "    for (var i = 0; i < js_urls.length; i++) {\n",
       "      var url = js_urls[i];\n",
       "      var s = document.createElement('script');\n",
       "      s.src = url;\n",
       "      s.async = false;\n",
       "      s.onreadystatechange = s.onload = function() {\n",
       "        root._bokeh_is_loading--;\n",
       "        if (root._bokeh_is_loading === 0) {\n",
       "          console.log(\"Bokeh: all BokehJS libraries loaded\");\n",
       "          run_callbacks()\n",
       "        }\n",
       "      };\n",
       "      s.onerror = function() {\n",
       "        console.warn(\"failed to load library \" + url);\n",
       "      };\n",
       "      console.log(\"Bokeh: injecting script tag for BokehJS library: \", url);\n",
       "      document.getElementsByTagName(\"head\")[0].appendChild(s);\n",
       "    }\n",
       "  };var element = document.getElementById(\"5329c519-daed-4552-8352-d866d3eced86\");\n",
       "  if (element == null) {\n",
       "    console.log(\"Bokeh: ERROR: autoload.js configured with elementid '5329c519-daed-4552-8352-d866d3eced86' but no matching script tag was found. \")\n",
       "    return false;\n",
       "  }\n",
       "\n",
       "  var js_urls = [\"https://cdn.pydata.org/bokeh/release/bokeh-0.13.0.min.js\", \"https://cdn.pydata.org/bokeh/release/bokeh-widgets-0.13.0.min.js\", \"https://cdn.pydata.org/bokeh/release/bokeh-tables-0.13.0.min.js\", \"https://cdn.pydata.org/bokeh/release/bokeh-gl-0.13.0.min.js\"];\n",
       "\n",
       "  var inline_js = [\n",
       "    function(Bokeh) {\n",
       "      Bokeh.set_log_level(\"info\");\n",
       "    },\n",
       "    \n",
       "    function(Bokeh) {\n",
       "      \n",
       "    },\n",
       "    function(Bokeh) {\n",
       "      console.log(\"Bokeh: injecting CSS: https://cdn.pydata.org/bokeh/release/bokeh-0.13.0.min.css\");\n",
       "      Bokeh.embed.inject_css(\"https://cdn.pydata.org/bokeh/release/bokeh-0.13.0.min.css\");\n",
       "      console.log(\"Bokeh: injecting CSS: https://cdn.pydata.org/bokeh/release/bokeh-widgets-0.13.0.min.css\");\n",
       "      Bokeh.embed.inject_css(\"https://cdn.pydata.org/bokeh/release/bokeh-widgets-0.13.0.min.css\");\n",
       "      console.log(\"Bokeh: injecting CSS: https://cdn.pydata.org/bokeh/release/bokeh-tables-0.13.0.min.css\");\n",
       "      Bokeh.embed.inject_css(\"https://cdn.pydata.org/bokeh/release/bokeh-tables-0.13.0.min.css\");\n",
       "    }\n",
       "  ];\n",
       "\n",
       "  function run_inline_js() {\n",
       "    \n",
       "    if ((root.Bokeh !== undefined) || (force === true)) {\n",
       "      for (var i = 0; i < inline_js.length; i++) {\n",
       "        inline_js[i].call(root, root.Bokeh);\n",
       "      }if (force === true) {\n",
       "        display_loaded();\n",
       "      }} else if (Date.now() < root._bokeh_timeout) {\n",
       "      setTimeout(run_inline_js, 100);\n",
       "    } else if (!root._bokeh_failed_load) {\n",
       "      console.log(\"Bokeh: BokehJS failed to load within specified timeout.\");\n",
       "      root._bokeh_failed_load = true;\n",
       "    } else if (force !== true) {\n",
       "      var cell = $(document.getElementById(\"5329c519-daed-4552-8352-d866d3eced86\")).parents('.cell').data().cell;\n",
       "      cell.output_area.append_execute_result(NB_LOAD_WARNING)\n",
       "    }\n",
       "\n",
       "  }\n",
       "\n",
       "  if (root._bokeh_is_loading === 0) {\n",
       "    console.log(\"Bokeh: BokehJS loaded, going straight to plotting\");\n",
       "    run_inline_js();\n",
       "  } else {\n",
       "    load_libs(js_urls, function() {\n",
       "      console.log(\"Bokeh: BokehJS plotting callback run at\", now());\n",
       "      run_inline_js();\n",
       "    });\n",
       "  }\n",
       "}(window));"
      ],
      "application/vnd.bokehjs_load.v0+json": "\n(function(root) {\n  function now() {\n    return new Date();\n  }\n\n  var force = true;\n\n  if (typeof (root._bokeh_onload_callbacks) === \"undefined\" || force === true) {\n    root._bokeh_onload_callbacks = [];\n    root._bokeh_is_loading = undefined;\n  }\n\n  \n\n  \n  if (typeof (root._bokeh_timeout) === \"undefined\" || force === true) {\n    root._bokeh_timeout = Date.now() + 5000;\n    root._bokeh_failed_load = false;\n  }\n\n  var NB_LOAD_WARNING = {'data': {'text/html':\n     \"<div style='background-color: #fdd'>\\n\"+\n     \"<p>\\n\"+\n     \"BokehJS does not appear to have successfully loaded. If loading BokehJS from CDN, this \\n\"+\n     \"may be due to a slow or bad network connection. Possible fixes:\\n\"+\n     \"</p>\\n\"+\n     \"<ul>\\n\"+\n     \"<li>re-rerun `output_notebook()` to attempt to load from CDN again, or</li>\\n\"+\n     \"<li>use INLINE resources instead, as so:</li>\\n\"+\n     \"</ul>\\n\"+\n     \"<code>\\n\"+\n     \"from bokeh.resources import INLINE\\n\"+\n     \"output_notebook(resources=INLINE)\\n\"+\n     \"</code>\\n\"+\n     \"</div>\"}};\n\n  function display_loaded() {\n    var el = document.getElementById(\"5329c519-daed-4552-8352-d866d3eced86\");\n    if (el != null) {\n      el.textContent = \"BokehJS is loading...\";\n    }\n    if (root.Bokeh !== undefined) {\n      if (el != null) {\n        el.textContent = \"BokehJS \" + root.Bokeh.version + \" successfully loaded.\";\n      }\n    } else if (Date.now() < root._bokeh_timeout) {\n      setTimeout(display_loaded, 100)\n    }\n  }\n\n\n  function run_callbacks() {\n    try {\n      root._bokeh_onload_callbacks.forEach(function(callback) { callback() });\n    }\n    finally {\n      delete root._bokeh_onload_callbacks\n    }\n    console.info(\"Bokeh: all callbacks have finished\");\n  }\n\n  function load_libs(js_urls, callback) {\n    root._bokeh_onload_callbacks.push(callback);\n    if (root._bokeh_is_loading > 0) {\n      console.log(\"Bokeh: BokehJS is being loaded, scheduling callback at\", now());\n      return null;\n    }\n    if (js_urls == null || js_urls.length === 0) {\n      run_callbacks();\n      return null;\n    }\n    console.log(\"Bokeh: BokehJS not loaded, scheduling load and callback at\", now());\n    root._bokeh_is_loading = js_urls.length;\n    for (var i = 0; i < js_urls.length; i++) {\n      var url = js_urls[i];\n      var s = document.createElement('script');\n      s.src = url;\n      s.async = false;\n      s.onreadystatechange = s.onload = function() {\n        root._bokeh_is_loading--;\n        if (root._bokeh_is_loading === 0) {\n          console.log(\"Bokeh: all BokehJS libraries loaded\");\n          run_callbacks()\n        }\n      };\n      s.onerror = function() {\n        console.warn(\"failed to load library \" + url);\n      };\n      console.log(\"Bokeh: injecting script tag for BokehJS library: \", url);\n      document.getElementsByTagName(\"head\")[0].appendChild(s);\n    }\n  };var element = document.getElementById(\"5329c519-daed-4552-8352-d866d3eced86\");\n  if (element == null) {\n    console.log(\"Bokeh: ERROR: autoload.js configured with elementid '5329c519-daed-4552-8352-d866d3eced86' but no matching script tag was found. \")\n    return false;\n  }\n\n  var js_urls = [\"https://cdn.pydata.org/bokeh/release/bokeh-0.13.0.min.js\", \"https://cdn.pydata.org/bokeh/release/bokeh-widgets-0.13.0.min.js\", \"https://cdn.pydata.org/bokeh/release/bokeh-tables-0.13.0.min.js\", \"https://cdn.pydata.org/bokeh/release/bokeh-gl-0.13.0.min.js\"];\n\n  var inline_js = [\n    function(Bokeh) {\n      Bokeh.set_log_level(\"info\");\n    },\n    \n    function(Bokeh) {\n      \n    },\n    function(Bokeh) {\n      console.log(\"Bokeh: injecting CSS: https://cdn.pydata.org/bokeh/release/bokeh-0.13.0.min.css\");\n      Bokeh.embed.inject_css(\"https://cdn.pydata.org/bokeh/release/bokeh-0.13.0.min.css\");\n      console.log(\"Bokeh: injecting CSS: https://cdn.pydata.org/bokeh/release/bokeh-widgets-0.13.0.min.css\");\n      Bokeh.embed.inject_css(\"https://cdn.pydata.org/bokeh/release/bokeh-widgets-0.13.0.min.css\");\n      console.log(\"Bokeh: injecting CSS: https://cdn.pydata.org/bokeh/release/bokeh-tables-0.13.0.min.css\");\n      Bokeh.embed.inject_css(\"https://cdn.pydata.org/bokeh/release/bokeh-tables-0.13.0.min.css\");\n    }\n  ];\n\n  function run_inline_js() {\n    \n    if ((root.Bokeh !== undefined) || (force === true)) {\n      for (var i = 0; i < inline_js.length; i++) {\n        inline_js[i].call(root, root.Bokeh);\n      }if (force === true) {\n        display_loaded();\n      }} else if (Date.now() < root._bokeh_timeout) {\n      setTimeout(run_inline_js, 100);\n    } else if (!root._bokeh_failed_load) {\n      console.log(\"Bokeh: BokehJS failed to load within specified timeout.\");\n      root._bokeh_failed_load = true;\n    } else if (force !== true) {\n      var cell = $(document.getElementById(\"5329c519-daed-4552-8352-d866d3eced86\")).parents('.cell').data().cell;\n      cell.output_area.append_execute_result(NB_LOAD_WARNING)\n    }\n\n  }\n\n  if (root._bokeh_is_loading === 0) {\n    console.log(\"Bokeh: BokehJS loaded, going straight to plotting\");\n    run_inline_js();\n  } else {\n    load_libs(js_urls, function() {\n      console.log(\"Bokeh: BokehJS plotting callback run at\", now());\n      run_inline_js();\n    });\n  }\n}(window));"
     },
     "metadata": {},
     "output_type": "display_data"
    },
    {
     "data": {
      "text/html": [
       "\n",
       "\n",
       "\n",
       "\n",
       "\n",
       "\n",
       "  <div class=\"bk-root\" id=\"e15d32e3-8b3f-4571-b507-fd576775596c\"></div>\n"
      ]
     },
     "metadata": {},
     "output_type": "display_data"
    },
    {
     "data": {
      "application/javascript": [
       "(function(root) {\n",
       "  function embed_document(root) {\n",
       "    \n",
       "  var docs_json = {\"027b4a27-bcca-43dc-8ec8-020a66f60aeb\":{\"roots\":{\"references\":[{\"attributes\":{\"label\":{\"value\":\"Setosa incorrect\"},\"renderers\":[{\"id\":\"38657a3c-d93c-4abb-b2cc-c1a6a1a2257a\",\"type\":\"GlyphRenderer\"}]},\"id\":\"c71eb005-7e69-42c3-91e9-63868d853b94\",\"type\":\"LegendItem\"},{\"attributes\":{\"data_source\":{\"id\":\"916e09f1-def5-4f31-8fc5-c6582c2e1117\",\"type\":\"ColumnDataSource\"},\"glyph\":{\"id\":\"d95152a4-4e5d-4ea9-be53-ded96adffdc9\",\"type\":\"Circle\"},\"hover_glyph\":null,\"muted_glyph\":null,\"nonselection_glyph\":{\"id\":\"f90cb9a8-9bde-4eca-be86-94331d323d77\",\"type\":\"Circle\"},\"selection_glyph\":null,\"view\":{\"id\":\"94432308-6af3-41ca-b0a7-e7ff9cb37a42\",\"type\":\"CDSView\"}},\"id\":\"fbaa5c1f-e3ba-46b4-aa4b-a6066d0b8518\",\"type\":\"GlyphRenderer\"},{\"attributes\":{\"data_source\":{\"id\":\"d9e4f55d-ea43-4761-a5f2-f4635d798238\",\"type\":\"ColumnDataSource\"},\"glyph\":{\"id\":\"4a3db2aa-af27-47e8-b8b4-966184121e34\",\"type\":\"Square\"},\"hover_glyph\":null,\"muted_glyph\":null,\"nonselection_glyph\":{\"id\":\"73a75c5f-0a99-4438-a8e8-361c11a7e39e\",\"type\":\"Square\"},\"selection_glyph\":null,\"view\":{\"id\":\"d290eb9c-a9c7-44f5-8122-4e41cdeb9018\",\"type\":\"CDSView\"}},\"id\":\"38657a3c-d93c-4abb-b2cc-c1a6a1a2257a\",\"type\":\"GlyphRenderer\"},{\"attributes\":{\"fill_alpha\":{\"value\":0.1},\"fill_color\":{\"value\":\"#1f77b4\"},\"line_alpha\":{\"value\":0.1},\"line_color\":{\"value\":\"#1f77b4\"},\"size\":{\"units\":\"screen\",\"value\":5},\"x\":{\"field\":\"PCA_1\"},\"y\":{\"field\":\"PCA_2\"}},\"id\":\"f90cb9a8-9bde-4eca-be86-94331d323d77\",\"type\":\"Circle\"},{\"attributes\":{\"click_policy\":\"hide\",\"items\":[{\"id\":\"9a978780-b931-48b8-927c-88d8e6518784\",\"type\":\"LegendItem\"},{\"id\":\"c71eb005-7e69-42c3-91e9-63868d853b94\",\"type\":\"LegendItem\"},{\"id\":\"de8eb612-7c4f-48f4-894c-187533823e57\",\"type\":\"LegendItem\"},{\"id\":\"4ec2a299-2c69-4158-876c-a6305c42122c\",\"type\":\"LegendItem\"},{\"id\":\"aa558ec6-f9cf-466f-9560-e0ce0a4c00c1\",\"type\":\"LegendItem\"},{\"id\":\"11614b45-6b0f-4246-82e4-53506c0576a9\",\"type\":\"LegendItem\"}],\"location\":\"bottom_right\",\"plot\":{\"id\":\"cc84d491-59f3-4f10-bbab-ff5b4a8120b8\",\"subtype\":\"Figure\",\"type\":\"Plot\"}},\"id\":\"d5ec9362-6bdc-4739-b67c-5352168cdec7\",\"type\":\"Legend\"},{\"attributes\":{\"callback\":null,\"data\":{\"PCA_1\":{\"__ndarray__\":\"OPUNxYSO9D/jAlATT9btPzjLypDLbPc/KNX/SwmG8T/+6lVzra7tP6PGrzsf3PE/TV6+otvJ7D+fozkW8kv1P6hLd1oY6/g/6Bcsn6DU6T+jyhGG4IbzPw==\",\"dtype\":\"float64\",\"shape\":[11]},\"PCA_2\":{\"__ndarray__\":\"0M76KB7v5T8F/zHTvW3UP9P0crdSIuA/KJGmCkYr0j9Op938lPfdPwn2eLMMj7W/yTptplgY1T9GTKiyVFHPP8Ctvcn1HNE/YBGtPYf3yD9/BwI/QB3aPw==\",\"dtype\":\"float64\",\"shape\":[11]},\"cluster\":{\"__ndarray__\":\"AQAAAAEAAAABAAAAAQAAAAEAAAABAAAAAQAAAAEAAAABAAAAAQAAAAEAAAA=\",\"dtype\":\"int32\",\"shape\":[11]},\"label\":[2,2,2,2,2,2,2,2,2,2,2],\"label_name\":[\"Virginica\",\"Virginica\",\"Virginica\",\"Virginica\",\"Virginica\",\"Virginica\",\"Virginica\",\"Virginica\",\"Virginica\",\"Virginica\",\"Virginica\"]},\"selected\":{\"id\":\"49d2245b-d220-4609-9bbe-4da0550909d6\",\"type\":\"Selection\"},\"selection_policy\":{\"id\":\"8b50c01c-b80c-4c24-a6aa-a6b3c6fe5ffa\",\"type\":\"UnionRenderers\"}},\"id\":\"287f8a4f-41e4-4102-b2bb-cb3b703caa3d\",\"type\":\"ColumnDataSource\"},{\"attributes\":{\"plot\":null,\"text\":\"Clusters and targets comparison\"},\"id\":\"11049125-ca99-45e9-a78b-636b85f90692\",\"type\":\"Title\"},{\"attributes\":{\"fill_alpha\":{\"value\":0.1},\"fill_color\":{\"value\":\"#1f77b4\"},\"line_alpha\":{\"value\":0.1},\"line_color\":{\"value\":\"#1f77b4\"},\"size\":{\"units\":\"screen\",\"value\":5},\"x\":{\"field\":\"PCA_1\"},\"y\":{\"field\":\"PCA_2\"}},\"id\":\"5c7a82c8-e824-41ff-a567-d467372b93a8\",\"type\":\"Circle\"},{\"attributes\":{\"callback\":null},\"id\":\"facbf7ce-1801-4dff-b32c-0a8de7581c79\",\"type\":\"DataRange1d\"},{\"attributes\":{\"fill_alpha\":{\"value\":0.7},\"fill_color\":{\"value\":\"#ff7f0e\"},\"line_alpha\":{\"value\":0.7},\"line_color\":{\"value\":\"#ff7f0e\"},\"size\":{\"units\":\"screen\",\"value\":5},\"x\":{\"field\":\"PCA_1\"},\"y\":{\"field\":\"PCA_2\"}},\"id\":\"771382bf-557b-443f-a52e-ee7e1df430e5\",\"type\":\"Square\"},{\"attributes\":{\"source\":{\"id\":\"9620a4c5-fcb0-4f5f-86d4-da6f7d75222c\",\"type\":\"ColumnDataSource\"}},\"id\":\"9e9ca16f-eb33-453b-8729-1a991dee4106\",\"type\":\"CDSView\"},{\"attributes\":{},\"id\":\"fca60105-5ece-4595-abe5-fe52eee7f264\",\"type\":\"ResetTool\"},{\"attributes\":{},\"id\":\"83890e30-3314-4b19-887b-908c04c263e7\",\"type\":\"BasicTicker\"},{\"attributes\":{\"fill_alpha\":{\"value\":0.7},\"fill_color\":{\"value\":\"#1f77b4\"},\"line_alpha\":{\"value\":0.7},\"line_color\":{\"value\":\"#1f77b4\"},\"size\":{\"units\":\"screen\",\"value\":5},\"x\":{\"field\":\"PCA_1\"},\"y\":{\"field\":\"PCA_2\"}},\"id\":\"58c992d8-91d2-4c90-b496-c69baca340ac\",\"type\":\"Circle\"},{\"attributes\":{\"callback\":null,\"data\":{\"PCA_1\":{\"__ndarray__\":\"2xfQlUF5BcB7HBC3HrkFwIEB8LRZHgfA4au3ELT4BcArfKiOKNQFwPou3tM6PQLAoXRMIi+RBsCf3sb9CAMFwJ6OMgWKGgfABFbgrghkBcBfEdbqXQ0EwLQJll635wTAl1U1L6pMBsCBXT7kNc0JwFSZcvz5JQXAaz99FCoSA8CXoJoE7/oEwH0CKtTDLwXAjJitL7aXAcDNpwaP4rIEwNoWbAv4ewLA3FEHi4tYBMC+fGGZE7oJwGkBnqfObALAf7QIOnDZAsDwvzLoNhAEwHyXS26gwAPAttch08Z/BMCLs/ecWh4FwE2sYpASEAXA/UeKlyu1BMDuJH6g1kcDwIFw3yJcLgXA5ExEjPvGBMAEVuCuCGQFwK+yoZ2d7wbATKUCyHcABcAEVuCuCGQFwJfrulPQ2gfA4rpHR/u4BMCjQtiWPikGwH7uJAtU0QbAu2xt2IL8B8BVrVgtfj4DwNMgpJywqwHA3Crpq665BcDDoH1E80wEwNkIQF/6uAbAHTVVoWtXBMB1upzHnKEFwA==\",\"dtype\":\"float64\",\"shape\":[50]},\"PCA_2\":{\"__ndarray__\":\"DAnjXSLn1D9+cojtCbTFvxRbwHqKlMG/sEpJ9nXp07+t4vYhBV/VP3IdOgPW7ec/5n+0Hc0Etb9ZiGys18/FP6rl9jj6Q+K/bV5fwiVQu7+J6VrRptzkP4aQ1SmBCZY/lteXK5cmzb/tKP933hrgv7iauoCn+vI/yp2wIR2E9T8azrJlyi3qPyFyvDO8bNQ/a8Vxf8Qi7D+GQSNVuKfgPyq5dpiqdtk/Icnd8nop3D+sPF6EdSDCPyzV18SIA7s//f56EWj1n7/yQB0gmczBv1F8WaFKpsE/E/rU9dT61z9RL8+ZP2/UPwBtKqJnVMi/aCBSKi1Eyb8hPKKm0sHaP7ExxDdMPeo/C8nal7CZ8T9tXl/CJVC7v/wbnD3twrM/eEPs2edq4z9tXl/CJVC7v+lPb7NqvN6/IBvJPjE3zj8OgcqbCVnRP3lJm3gI2u2/vgnrmEtl1b8aZ0MT0RPJP+mKLrshVdw/9jIy1C8Qz7/JYJhR7lTgP4+elW/YO8y/0sTDbNDC4j+m5cHoWXG9Pw==\",\"dtype\":\"float64\",\"shape\":[50]},\"cluster\":{\"__ndarray__\":\"AAAAAAAAAAAAAAAAAAAAAAAAAAAAAAAAAAAAAAAAAAAAAAAAAAAAAAAAAAAAAAAAAAAAAAAAAAAAAAAAAAAAAAAAAAAAAAAAAAAAAAAAAAAAAAAAAAAAAAAAAAAAAAAAAAAAAAAAAAAAAAAAAAAAAAAAAAAAAAAAAAAAAAAAAAAAAAAAAAAAAAAAAAAAAAAAAAAAAAAAAAAAAAAAAAAAAAAAAAAAAAAAAAAAAAAAAAAAAAAAAAAAAAAAAAAAAAAAAAAAAAAAAAA=\",\"dtype\":\"int32\",\"shape\":[50]},\"label\":[0,0,0,0,0,0,0,0,0,0,0,0,0,0,0,0,0,0,0,0,0,0,0,0,0,0,0,0,0,0,0,0,0,0,0,0,0,0,0,0,0,0,0,0,0,0,0,0,0,0],\"label_name\":[\"Setosa\",\"Setosa\",\"Setosa\",\"Setosa\",\"Setosa\",\"Setosa\",\"Setosa\",\"Setosa\",\"Setosa\",\"Setosa\",\"Setosa\",\"Setosa\",\"Setosa\",\"Setosa\",\"Setosa\",\"Setosa\",\"Setosa\",\"Setosa\",\"Setosa\",\"Setosa\",\"Setosa\",\"Setosa\",\"Setosa\",\"Setosa\",\"Setosa\",\"Setosa\",\"Setosa\",\"Setosa\",\"Setosa\",\"Setosa\",\"Setosa\",\"Setosa\",\"Setosa\",\"Setosa\",\"Setosa\",\"Setosa\",\"Setosa\",\"Setosa\",\"Setosa\",\"Setosa\",\"Setosa\",\"Setosa\",\"Setosa\",\"Setosa\",\"Setosa\",\"Setosa\",\"Setosa\",\"Setosa\",\"Setosa\",\"Setosa\"]},\"selected\":{\"id\":\"8d21de21-2c2b-4bbf-8a24-1a1b4ecf2c4f\",\"type\":\"Selection\"},\"selection_policy\":{\"id\":\"e516ed7d-be09-488d-81a2-b461fd43de15\",\"type\":\"UnionRenderers\"}},\"id\":\"3b222eef-fe75-4643-abd5-8275ba8c0447\",\"type\":\"ColumnDataSource\"},{\"attributes\":{\"label\":{\"value\":\"Versicolour incorrect\"},\"renderers\":[{\"id\":\"eadc57e1-cf21-488c-bb1f-89b9621c4a4b\",\"type\":\"GlyphRenderer\"}]},\"id\":\"4ec2a299-2c69-4158-876c-a6305c42122c\",\"type\":\"LegendItem\"},{\"attributes\":{\"axis_label\":\"PCA component 1\",\"formatter\":{\"id\":\"af69d283-7116-4d30-af32-9cf6aec49945\",\"type\":\"BasicTickFormatter\"},\"plot\":{\"id\":\"cc84d491-59f3-4f10-bbab-ff5b4a8120b8\",\"subtype\":\"Figure\",\"type\":\"Plot\"},\"ticker\":{\"id\":\"83890e30-3314-4b19-887b-908c04c263e7\",\"type\":\"BasicTicker\"}},\"id\":\"4bfe0815-9812-4c59-88a5-6631b1e7a6d1\",\"type\":\"LinearAxis\"},{\"attributes\":{},\"id\":\"f82fbdc4-d4ff-4a3c-b258-7bcbb695f0ef\",\"type\":\"WheelZoomTool\"},{\"attributes\":{\"overlay\":{\"id\":\"9a3b0e60-0f24-4093-b800-ff074516230d\",\"type\":\"BoxAnnotation\"}},\"id\":\"e41a1289-734f-4227-abc6-f430b700fee8\",\"type\":\"BoxZoomTool\"},{\"attributes\":{},\"id\":\"cb662a33-be1e-4222-8c7c-90a691e0950c\",\"type\":\"UnionRenderers\"},{\"attributes\":{\"source\":{\"id\":\"d9e4f55d-ea43-4761-a5f2-f4635d798238\",\"type\":\"ColumnDataSource\"}},\"id\":\"d290eb9c-a9c7-44f5-8122-4e41cdeb9018\",\"type\":\"CDSView\"},{\"attributes\":{\"data_source\":{\"id\":\"9620a4c5-fcb0-4f5f-86d4-da6f7d75222c\",\"type\":\"ColumnDataSource\"},\"glyph\":{\"id\":\"84ae74b6-d7a0-4ae6-9aec-be7a81213fca\",\"type\":\"Circle\"},\"hover_glyph\":null,\"muted_glyph\":null,\"nonselection_glyph\":{\"id\":\"c464c858-3219-4b94-a7f8-5e6792f9da13\",\"type\":\"Circle\"},\"selection_glyph\":null,\"view\":{\"id\":\"9e9ca16f-eb33-453b-8729-1a991dee4106\",\"type\":\"CDSView\"}},\"id\":\"fc3192c9-42f9-40a8-912a-95b96dbe520e\",\"type\":\"GlyphRenderer\"},{\"attributes\":{\"axis_label\":\"PCA component 2\",\"formatter\":{\"id\":\"7c67ca6c-f90e-46a2-b9f6-31f4e4b8b89d\",\"type\":\"BasicTickFormatter\"},\"plot\":{\"id\":\"cc84d491-59f3-4f10-bbab-ff5b4a8120b8\",\"subtype\":\"Figure\",\"type\":\"Plot\"},\"ticker\":{\"id\":\"7d8a0111-dd19-42be-8dca-9704e93abd1c\",\"type\":\"BasicTicker\"}},\"id\":\"8fca3dd9-2b19-4f1c-8b5e-399f3d958aec\",\"type\":\"LinearAxis\"},{\"attributes\":{\"callback\":null,\"data\":{\"PCA_1\":{\"__ndarray__\":\"/9mUMgqg9j9VXXecyZ7gP72G6Tl1g/U/gy5fPkFd+T/2Cn9+9cX0PwWDdSZoK/M/FaODn+Mz9j+moXSVOx/0P1kTqcHyFvc/93ec52d5/D9lEBOyn7PyP//ZlDIKoPY/5AiTRB5p+D9Vcy+OEjz2Pw==\",\"dtype\":\"float64\",\"shape\":[14]},\"PCA_2\":{\"__ndarray__\":\"FGsZO8ll4r9UHOjJxg/zvyDSZyll2Oi/qNLY3QBC4b+IHyXmOVrovw+WfSHnYOO/TT9Y968dyr9J27cM9u3Gv2PR3aQUaMK/N3Kr5f8L4L+UdGj8ag7FvxRrGTvJZeK/+lSTcVcA2L+mjBfb0BrSvw==\",\"dtype\":\"float64\",\"shape\":[14]},\"cluster\":{\"__ndarray__\":\"AgAAAAIAAAACAAAAAgAAAAIAAAACAAAAAgAAAAIAAAACAAAAAgAAAAIAAAACAAAAAgAAAAIAAAA=\",\"dtype\":\"int32\",\"shape\":[14]},\"label\":[1,1,1,1,1,1,1,1,1,1,1,1,1,1],\"label_name\":[\"Versicolour\",\"Versicolour\",\"Versicolour\",\"Versicolour\",\"Versicolour\",\"Versicolour\",\"Versicolour\",\"Versicolour\",\"Versicolour\",\"Versicolour\",\"Versicolour\",\"Versicolour\",\"Versicolour\",\"Versicolour\"]},\"selected\":{\"id\":\"96afdfbd-0d5f-4e12-95ea-2bf132c23e3f\",\"type\":\"Selection\"},\"selection_policy\":{\"id\":\"cb662a33-be1e-4222-8c7c-90a691e0950c\",\"type\":\"UnionRenderers\"}},\"id\":\"3ce0fe18-4153-4d4b-8f2d-eb8acc65e537\",\"type\":\"ColumnDataSource\"},{\"attributes\":{},\"id\":\"b70c7da8-7b32-465e-a9d5-f9ae0e4f1796\",\"type\":\"LinearScale\"},{\"attributes\":{\"fill_alpha\":{\"value\":0.7},\"fill_color\":{\"value\":\"#2ca02c\"},\"line_alpha\":{\"value\":0.7},\"line_color\":{\"value\":\"#2ca02c\"},\"size\":{\"units\":\"screen\",\"value\":5},\"x\":{\"field\":\"PCA_1\"},\"y\":{\"field\":\"PCA_2\"}},\"id\":\"d1e37797-173f-49d7-b5d9-06be245bebc7\",\"type\":\"Square\"},{\"attributes\":{},\"id\":\"6029a013-c6d1-4fdb-a8eb-ae8bbea1c85c\",\"type\":\"LinearScale\"},{\"attributes\":{},\"id\":\"49d2245b-d220-4609-9bbe-4da0550909d6\",\"type\":\"Selection\"},{\"attributes\":{\"fill_alpha\":{\"value\":0.1},\"fill_color\":{\"value\":\"#1f77b4\"},\"line_alpha\":{\"value\":0.1},\"line_color\":{\"value\":\"#1f77b4\"},\"size\":{\"units\":\"screen\",\"value\":5},\"x\":{\"field\":\"PCA_1\"},\"y\":{\"field\":\"PCA_2\"}},\"id\":\"73a75c5f-0a99-4438-a8e8-361c11a7e39e\",\"type\":\"Square\"},{\"attributes\":{},\"id\":\"e2a5c816-4e95-43de-b855-33289db12051\",\"type\":\"Selection\"},{\"attributes\":{\"fill_alpha\":{\"value\":0.7},\"fill_color\":{\"value\":\"#2ca02c\"},\"line_alpha\":{\"value\":0.7},\"line_color\":{\"value\":\"#2ca02c\"},\"size\":{\"units\":\"screen\",\"value\":5},\"x\":{\"field\":\"PCA_1\"},\"y\":{\"field\":\"PCA_2\"}},\"id\":\"d95152a4-4e5d-4ea9-be53-ded96adffdc9\",\"type\":\"Circle\"},{\"attributes\":{\"dimension\":1,\"plot\":{\"id\":\"cc84d491-59f3-4f10-bbab-ff5b4a8120b8\",\"subtype\":\"Figure\",\"type\":\"Plot\"},\"ticker\":{\"id\":\"7d8a0111-dd19-42be-8dca-9704e93abd1c\",\"type\":\"BasicTicker\"}},\"id\":\"775c0d08-c7c6-4ab9-ae99-9b685eda2c27\",\"type\":\"Grid\"},{\"attributes\":{\"label\":{\"value\":\"Versicolour correct\"},\"renderers\":[{\"id\":\"fc3192c9-42f9-40a8-912a-95b96dbe520e\",\"type\":\"GlyphRenderer\"}]},\"id\":\"de8eb612-7c4f-48f4-894c-187533823e57\",\"type\":\"LegendItem\"},{\"attributes\":{},\"id\":\"8d21de21-2c2b-4bbf-8a24-1a1b4ecf2c4f\",\"type\":\"Selection\"},{\"attributes\":{\"source\":{\"id\":\"3b222eef-fe75-4643-abd5-8275ba8c0447\",\"type\":\"ColumnDataSource\"}},\"id\":\"c75f2d5a-aff9-459c-9e47-06d82021de63\",\"type\":\"CDSView\"},{\"attributes\":{\"args\":{\"legend\":{\"id\":\"d5ec9362-6bdc-4739-b67c-5352168cdec7\",\"type\":\"Legend\"}},\"code\":\"var _pyfunc_truthy = function (v) {\\n    if (v === null || typeof v !== \\\"object\\\") {return v;}\\n    else if (v.length !== undefined) {return v.length ? v : false;}\\n    else if (v.byteLength !== undefined) {return v.byteLength ? v : false;}\\n    else if (v.constructor !== Object) {return true;}\\n    else {return Object.getOwnPropertyNames(v).length ? v : false;}\\n};\\nvar cb;\\ncb = function flx_cb (legend) {\\n    legend = (legend === undefined) ? p.legend[0]: legend;\\n    legend.visible = !_pyfunc_truthy(legend.visible);\\n    return null;\\n};\\ncb(legend);\\n\"},\"id\":\"71af1c9b-8215-4e7f-a2dc-d7a23057ec8a\",\"type\":\"CustomJS\"},{\"attributes\":{\"callback\":null},\"id\":\"b51e6c83-9cb8-47c1-89a5-1a6a28cc0476\",\"type\":\"DataRange1d\"},{\"attributes\":{},\"id\":\"51e18a0f-ee89-44a7-9a09-79502ac99477\",\"type\":\"Selection\"},{\"attributes\":{},\"id\":\"8b50c01c-b80c-4c24-a6aa-a6b3c6fe5ffa\",\"type\":\"UnionRenderers\"},{\"attributes\":{},\"id\":\"49b2ba5d-e58d-4e42-829f-0c76de7cddfc\",\"type\":\"UnionRenderers\"},{\"attributes\":{\"fill_alpha\":{\"value\":0.7},\"fill_color\":{\"value\":\"#1f77b4\"},\"line_alpha\":{\"value\":0.7},\"line_color\":{\"value\":\"#1f77b4\"},\"size\":{\"units\":\"screen\",\"value\":5},\"x\":{\"field\":\"PCA_1\"},\"y\":{\"field\":\"PCA_2\"}},\"id\":\"4a3db2aa-af27-47e8-b8b4-966184121e34\",\"type\":\"Square\"},{\"attributes\":{\"label\":{\"value\":\"Virginica correct\"},\"renderers\":[{\"id\":\"fbaa5c1f-e3ba-46b4-aa4b-a6066d0b8518\",\"type\":\"GlyphRenderer\"}]},\"id\":\"aa558ec6-f9cf-466f-9560-e0ce0a4c00c1\",\"type\":\"LegendItem\"},{\"attributes\":{},\"id\":\"3937fe7f-bcf2-4fd0-bfbe-439e823c312e\",\"type\":\"PanTool\"},{\"attributes\":{\"plot\":{\"id\":\"cc84d491-59f3-4f10-bbab-ff5b4a8120b8\",\"subtype\":\"Figure\",\"type\":\"Plot\"},\"ticker\":{\"id\":\"83890e30-3314-4b19-887b-908c04c263e7\",\"type\":\"BasicTicker\"}},\"id\":\"06259c71-80fb-4c55-b8c1-d7492c5ac720\",\"type\":\"Grid\"},{\"attributes\":{\"source\":{\"id\":\"916e09f1-def5-4f31-8fc5-c6582c2e1117\",\"type\":\"ColumnDataSource\"}},\"id\":\"94432308-6af3-41ca-b0a7-e7ff9cb37a42\",\"type\":\"CDSView\"},{\"attributes\":{\"source\":{\"id\":\"3ce0fe18-4153-4d4b-8f2d-eb8acc65e537\",\"type\":\"ColumnDataSource\"}},\"id\":\"36e15d1e-108a-4f93-af45-1213e008b3e8\",\"type\":\"CDSView\"},{\"attributes\":{\"below\":[{\"id\":\"4bfe0815-9812-4c59-88a5-6631b1e7a6d1\",\"type\":\"LinearAxis\"}],\"js_event_callbacks\":{\"doubletap\":[{\"id\":\"71af1c9b-8215-4e7f-a2dc-d7a23057ec8a\",\"type\":\"CustomJS\"}]},\"left\":[{\"id\":\"8fca3dd9-2b19-4f1c-8b5e-399f3d958aec\",\"type\":\"LinearAxis\"}],\"plot_height\":400,\"renderers\":[{\"id\":\"4bfe0815-9812-4c59-88a5-6631b1e7a6d1\",\"type\":\"LinearAxis\"},{\"id\":\"06259c71-80fb-4c55-b8c1-d7492c5ac720\",\"type\":\"Grid\"},{\"id\":\"8fca3dd9-2b19-4f1c-8b5e-399f3d958aec\",\"type\":\"LinearAxis\"},{\"id\":\"775c0d08-c7c6-4ab9-ae99-9b685eda2c27\",\"type\":\"Grid\"},{\"id\":\"9a3b0e60-0f24-4093-b800-ff074516230d\",\"type\":\"BoxAnnotation\"},{\"id\":\"d5ec9362-6bdc-4739-b67c-5352168cdec7\",\"type\":\"Legend\"},{\"id\":\"128c0c94-eb5f-4660-88ca-abd5fceabab8\",\"type\":\"GlyphRenderer\"},{\"id\":\"38657a3c-d93c-4abb-b2cc-c1a6a1a2257a\",\"type\":\"GlyphRenderer\"},{\"id\":\"fc3192c9-42f9-40a8-912a-95b96dbe520e\",\"type\":\"GlyphRenderer\"},{\"id\":\"eadc57e1-cf21-488c-bb1f-89b9621c4a4b\",\"type\":\"GlyphRenderer\"},{\"id\":\"fbaa5c1f-e3ba-46b4-aa4b-a6066d0b8518\",\"type\":\"GlyphRenderer\"},{\"id\":\"e8371302-3a26-431f-8ed0-839fc8976a73\",\"type\":\"GlyphRenderer\"}],\"title\":{\"id\":\"11049125-ca99-45e9-a78b-636b85f90692\",\"type\":\"Title\"},\"toolbar\":{\"id\":\"00ac5c4c-7ef0-425d-b7d6-98ea3e7d7b70\",\"type\":\"Toolbar\"},\"x_range\":{\"id\":\"facbf7ce-1801-4dff-b32c-0a8de7581c79\",\"type\":\"DataRange1d\"},\"x_scale\":{\"id\":\"b70c7da8-7b32-465e-a9d5-f9ae0e4f1796\",\"type\":\"LinearScale\"},\"y_range\":{\"id\":\"b51e6c83-9cb8-47c1-89a5-1a6a28cc0476\",\"type\":\"DataRange1d\"},\"y_scale\":{\"id\":\"6029a013-c6d1-4fdb-a8eb-ae8bbea1c85c\",\"type\":\"LinearScale\"}},\"id\":\"cc84d491-59f3-4f10-bbab-ff5b4a8120b8\",\"subtype\":\"Figure\",\"type\":\"Plot\"},{\"attributes\":{\"fill_alpha\":{\"value\":0.1},\"fill_color\":{\"value\":\"#1f77b4\"},\"line_alpha\":{\"value\":0.1},\"line_color\":{\"value\":\"#1f77b4\"},\"size\":{\"units\":\"screen\",\"value\":5},\"x\":{\"field\":\"PCA_1\"},\"y\":{\"field\":\"PCA_2\"}},\"id\":\"c464c858-3219-4b94-a7f8-5e6792f9da13\",\"type\":\"Circle\"},{\"attributes\":{},\"id\":\"7d8a0111-dd19-42be-8dca-9704e93abd1c\",\"type\":\"BasicTicker\"},{\"attributes\":{},\"id\":\"be4c7823-8a5b-4686-92bb-0b50acd7c75b\",\"type\":\"Selection\"},{\"attributes\":{},\"id\":\"96afdfbd-0d5f-4e12-95ea-2bf132c23e3f\",\"type\":\"Selection\"},{\"attributes\":{\"source\":{\"id\":\"287f8a4f-41e4-4102-b2bb-cb3b703caa3d\",\"type\":\"ColumnDataSource\"}},\"id\":\"8c981595-3e25-4b77-a43a-10775787dad3\",\"type\":\"CDSView\"},{\"attributes\":{},\"id\":\"c5a456e9-09ed-415d-b26b-67bae5861648\",\"type\":\"HelpTool\"},{\"attributes\":{\"bottom_units\":\"screen\",\"fill_alpha\":{\"value\":0.5},\"fill_color\":{\"value\":\"lightgrey\"},\"left_units\":\"screen\",\"level\":\"overlay\",\"line_alpha\":{\"value\":1.0},\"line_color\":{\"value\":\"black\"},\"line_dash\":[4,4],\"line_width\":{\"value\":2},\"plot\":null,\"render_mode\":\"css\",\"right_units\":\"screen\",\"top_units\":\"screen\"},\"id\":\"9a3b0e60-0f24-4093-b800-ff074516230d\",\"type\":\"BoxAnnotation\"},{\"attributes\":{\"label\":{\"value\":\"Virginica incorrect\"},\"renderers\":[{\"id\":\"e8371302-3a26-431f-8ed0-839fc8976a73\",\"type\":\"GlyphRenderer\"}]},\"id\":\"11614b45-6b0f-4246-82e4-53506c0576a9\",\"type\":\"LegendItem\"},{\"attributes\":{\"data_source\":{\"id\":\"287f8a4f-41e4-4102-b2bb-cb3b703caa3d\",\"type\":\"ColumnDataSource\"},\"glyph\":{\"id\":\"771382bf-557b-443f-a52e-ee7e1df430e5\",\"type\":\"Square\"},\"hover_glyph\":null,\"muted_glyph\":null,\"nonselection_glyph\":{\"id\":\"382e64ea-f4d9-48c5-988a-85f7250acd09\",\"type\":\"Square\"},\"selection_glyph\":null,\"view\":{\"id\":\"8c981595-3e25-4b77-a43a-10775787dad3\",\"type\":\"CDSView\"}},\"id\":\"eadc57e1-cf21-488c-bb1f-89b9621c4a4b\",\"type\":\"GlyphRenderer\"},{\"attributes\":{},\"id\":\"03b560b4-64c2-4cdb-9286-908dec145a66\",\"type\":\"UnionRenderers\"},{\"attributes\":{\"callback\":null,\"data\":{\"PCA_1\":{\"__ndarray__\":\"\",\"dtype\":\"float64\",\"shape\":[0]},\"PCA_2\":{\"__ndarray__\":\"\",\"dtype\":\"float64\",\"shape\":[0]},\"cluster\":{\"__ndarray__\":\"\",\"dtype\":\"int32\",\"shape\":[0]},\"label\":[],\"label_name\":[]},\"selected\":{\"id\":\"be4c7823-8a5b-4686-92bb-0b50acd7c75b\",\"type\":\"Selection\"},\"selection_policy\":{\"id\":\"03b560b4-64c2-4cdb-9286-908dec145a66\",\"type\":\"UnionRenderers\"}},\"id\":\"d9e4f55d-ea43-4761-a5f2-f4635d798238\",\"type\":\"ColumnDataSource\"},{\"attributes\":{},\"id\":\"e516ed7d-be09-488d-81a2-b461fd43de15\",\"type\":\"UnionRenderers\"},{\"attributes\":{\"data_source\":{\"id\":\"3b222eef-fe75-4643-abd5-8275ba8c0447\",\"type\":\"ColumnDataSource\"},\"glyph\":{\"id\":\"58c992d8-91d2-4c90-b496-c69baca340ac\",\"type\":\"Circle\"},\"hover_glyph\":null,\"muted_glyph\":null,\"nonselection_glyph\":{\"id\":\"5c7a82c8-e824-41ff-a567-d467372b93a8\",\"type\":\"Circle\"},\"selection_glyph\":null,\"view\":{\"id\":\"c75f2d5a-aff9-459c-9e47-06d82021de63\",\"type\":\"CDSView\"}},\"id\":\"128c0c94-eb5f-4660-88ca-abd5fceabab8\",\"type\":\"GlyphRenderer\"},{\"attributes\":{\"fill_alpha\":{\"value\":0.7},\"fill_color\":{\"value\":\"#ff7f0e\"},\"line_alpha\":{\"value\":0.7},\"line_color\":{\"value\":\"#ff7f0e\"},\"size\":{\"units\":\"screen\",\"value\":5},\"x\":{\"field\":\"PCA_1\"},\"y\":{\"field\":\"PCA_2\"}},\"id\":\"84ae74b6-d7a0-4ae6-9aec-be7a81213fca\",\"type\":\"Circle\"},{\"attributes\":{\"active_drag\":\"auto\",\"active_inspect\":\"auto\",\"active_multi\":null,\"active_scroll\":\"auto\",\"active_tap\":\"auto\",\"tools\":[{\"id\":\"3937fe7f-bcf2-4fd0-bfbe-439e823c312e\",\"type\":\"PanTool\"},{\"id\":\"f82fbdc4-d4ff-4a3c-b258-7bcbb695f0ef\",\"type\":\"WheelZoomTool\"},{\"id\":\"e41a1289-734f-4227-abc6-f430b700fee8\",\"type\":\"BoxZoomTool\"},{\"id\":\"a535b518-80f1-47bf-8bb9-5870c8aa8475\",\"type\":\"SaveTool\"},{\"id\":\"fca60105-5ece-4595-abe5-fe52eee7f264\",\"type\":\"ResetTool\"},{\"id\":\"c5a456e9-09ed-415d-b26b-67bae5861648\",\"type\":\"HelpTool\"},{\"id\":\"b6b65774-6041-419d-ad2d-6430bc67237a\",\"type\":\"HoverTool\"}]},\"id\":\"00ac5c4c-7ef0-425d-b7d6-98ea3e7d7b70\",\"type\":\"Toolbar\"},{\"attributes\":{\"callback\":null,\"data\":{\"PCA_1\":{\"__ndarray__\":\"Frd09O4pxz9Ihs4h52TxP1d4yzV1fuQ/8Ukj0QQM6L8q94EDWbHwP5EZKSSI3oS/n84ZcNFa4L/N5/VR6lrgPwL1T+kbytA/mupp/Ep97z+eXdiQ8WHGv7qPNVZiG+U/AQvJCW0Fzj/I+0i90yfuPzq6KWZkJKY/R/geVJfV1j8sJQQfVr70P/RBnvjBdO0/lnvVwCfZ5j/ezYzHov/pPybnH2Vfq9O/SRWL1/0Bsr/lphjJq4/Iv9MpqLiDR8E/x+isgk4P9j/OcTyi9MriP/Br808DA+o/anlMGI5izz/ZpEypxg7FP9cvj7pMot0/rnZIwjF87D9n+S2h6EvNP7S4we1ooOa/qS39pQ3B1j/7kmcULzHVP3dCYjTnA9g/qF3cDLqI5D+rLSyyIRLtv8pjs+VID9M/\",\"dtype\":\"float64\",\"shape\":[39]},\"PCA_2\":{\"__ndarray__\":\"C3Uj9lhr6r/7jm3YyEyzP3thzY1ttdq/JhTAT4kE8L/Q+7HBdU7NPzy82QXzDue/DNFUwyoz9L/UtBKGSi+6v8zsloZXiOG/KoHFoRXWv7/obJoOvx3Qv22SxJDHhta/UxV8DjU+1b9O+d+hm1bhv0FqhcGPm+K/Cwmay10bsb9JobyXxPbUv2CrzEKRWMe/NOhixJ8/wz/BH5vyR8fEv91vgj2UXde/VHQf1DB75r+//G2mAK7lv16SUAAN89O/z35iZQb12r8xJSEjIe7evycAxmc0ude/bwOGdxIS0b/1UeFoyb/lv6Slpe/CbOW/ACeXT91Pob/GDc++lr7Zv5QKxQCCIvC/gGJEqF0a4L/89tpq8wfLv2w11mzvqdK/fhRO/WSHkz9PlOna2Qzovy8A3MiENda/\",\"dtype\":\"float64\",\"shape\":[39]},\"cluster\":{\"__ndarray__\":\"AgAAAAIAAAACAAAAAgAAAAIAAAACAAAAAgAAAAIAAAACAAAAAgAAAAIAAAACAAAAAgAAAAIAAAACAAAAAgAAAAIAAAACAAAAAgAAAAIAAAACAAAAAgAAAAIAAAACAAAAAgAAAAIAAAACAAAAAgAAAAIAAAACAAAAAgAAAAIAAAACAAAAAgAAAAIAAAACAAAAAgAAAAIAAAACAAAA\",\"dtype\":\"int32\",\"shape\":[39]},\"label\":[2,2,2,2,2,2,2,2,2,2,2,2,2,2,2,2,2,2,2,2,2,2,2,2,2,2,2,2,2,2,2,2,2,2,2,2,2,2,2],\"label_name\":[\"Virginica\",\"Virginica\",\"Virginica\",\"Virginica\",\"Virginica\",\"Virginica\",\"Virginica\",\"Virginica\",\"Virginica\",\"Virginica\",\"Virginica\",\"Virginica\",\"Virginica\",\"Virginica\",\"Virginica\",\"Virginica\",\"Virginica\",\"Virginica\",\"Virginica\",\"Virginica\",\"Virginica\",\"Virginica\",\"Virginica\",\"Virginica\",\"Virginica\",\"Virginica\",\"Virginica\",\"Virginica\",\"Virginica\",\"Virginica\",\"Virginica\",\"Virginica\",\"Virginica\",\"Virginica\",\"Virginica\",\"Virginica\",\"Virginica\",\"Virginica\",\"Virginica\"]},\"selected\":{\"id\":\"51e18a0f-ee89-44a7-9a09-79502ac99477\",\"type\":\"Selection\"},\"selection_policy\":{\"id\":\"4ae3b7b8-34e9-4ef1-9426-19ed7ba5d750\",\"type\":\"UnionRenderers\"}},\"id\":\"916e09f1-def5-4f31-8fc5-c6582c2e1117\",\"type\":\"ColumnDataSource\"},{\"attributes\":{\"fill_alpha\":{\"value\":0.1},\"fill_color\":{\"value\":\"#1f77b4\"},\"line_alpha\":{\"value\":0.1},\"line_color\":{\"value\":\"#1f77b4\"},\"size\":{\"units\":\"screen\",\"value\":5},\"x\":{\"field\":\"PCA_1\"},\"y\":{\"field\":\"PCA_2\"}},\"id\":\"382e64ea-f4d9-48c5-988a-85f7250acd09\",\"type\":\"Square\"},{\"attributes\":{},\"id\":\"af69d283-7116-4d30-af32-9cf6aec49945\",\"type\":\"BasicTickFormatter\"},{\"attributes\":{},\"id\":\"a535b518-80f1-47bf-8bb9-5870c8aa8475\",\"type\":\"SaveTool\"},{\"attributes\":{},\"id\":\"7c67ca6c-f90e-46a2-b9f6-31f4e4b8b89d\",\"type\":\"BasicTickFormatter\"},{\"attributes\":{},\"id\":\"4ae3b7b8-34e9-4ef1-9426-19ed7ba5d750\",\"type\":\"UnionRenderers\"},{\"attributes\":{\"callback\":null,\"data\":{\"PCA_1\":{\"__ndarray__\":\"GRw7E/pABEDgiXh7j+4EQGwuskB1iP8/ZKz06U3MAkBkAz5hzywLQHBDmha/dAdAROEYnLCOAkB1uNbCVlgHQGVzWBlJl/o/gfhG8WLW/D8LrT4nslIBQLkd+2bUef4/cgOefR8w/z9ZVMjS/egLQGCp+8iEWw5ALrO19OJsA0BUr/jmfv4LQGUAEsLyNAJAyQiCdN7pBECwkG83lab0P5+7I96a+wBAZCaKXbsZA0BRhLq4SboGQOIb7ZfW2wlA/NDJnxhFAUDcwx1et5wIQItUf97uKAFA1Trti1F6/j/RczWPedwAQDmlh3+xgwJAqpLo21vC/j8+yJRWr4EEQNtVqsjpWgNAp738nrEa/z9+rhs7iDn8P0jF95sSbf4/\",\"dtype\":\"float64\",\"shape\":[36]},\"PCA_2\":{\"__ndarray__\":\"pxSnGL5AiL8KXb2KROLVP4WHnHMgL8e/Ec8UKqFxpb/nMP+PZoLhPwQwWklYjdY/MbYsWR9uz795tjLM4PjoP4CIakQd+84/spwrQ/Sqy79HxEfoTY7LP7YWauDrar4/tVNmuJjapD8ttfZ9pb7yPz7oIcyANdA/Z5MQITId2D+So5LHxjvdP1dRQ3A0VtU/bazTXSTe4T/vJAmZC869v+bDq/hK/cq/BvHoV+qZ3T8scJi9A9vXP4tnjpyq7fU/lvH4TBfyy7+Vm4ZFyPHlPy3FKRexx8E/TSEF2a6ZqD/4ptB7XcbXP/s9DxG6X8c/QoI4u38x2j9TmWn1kKnRP/f1qMebbNM/Eui61Dj9xz/8ltJZ1Rm0P7WCFzwZqr0/\",\"dtype\":\"float64\",\"shape\":[36]},\"cluster\":{\"__ndarray__\":\"AQAAAAEAAAABAAAAAQAAAAEAAAABAAAAAQAAAAEAAAABAAAAAQAAAAEAAAABAAAAAQAAAAEAAAABAAAAAQAAAAEAAAABAAAAAQAAAAEAAAABAAAAAQAAAAEAAAABAAAAAQAAAAEAAAABAAAAAQAAAAEAAAABAAAAAQAAAAEAAAABAAAAAQAAAAEAAAABAAAA\",\"dtype\":\"int32\",\"shape\":[36]},\"label\":[1,1,1,1,1,1,1,1,1,1,1,1,1,1,1,1,1,1,1,1,1,1,1,1,1,1,1,1,1,1,1,1,1,1,1,1],\"label_name\":[\"Versicolour\",\"Versicolour\",\"Versicolour\",\"Versicolour\",\"Versicolour\",\"Versicolour\",\"Versicolour\",\"Versicolour\",\"Versicolour\",\"Versicolour\",\"Versicolour\",\"Versicolour\",\"Versicolour\",\"Versicolour\",\"Versicolour\",\"Versicolour\",\"Versicolour\",\"Versicolour\",\"Versicolour\",\"Versicolour\",\"Versicolour\",\"Versicolour\",\"Versicolour\",\"Versicolour\",\"Versicolour\",\"Versicolour\",\"Versicolour\",\"Versicolour\",\"Versicolour\",\"Versicolour\",\"Versicolour\",\"Versicolour\",\"Versicolour\",\"Versicolour\",\"Versicolour\",\"Versicolour\"]},\"selected\":{\"id\":\"e2a5c816-4e95-43de-b855-33289db12051\",\"type\":\"Selection\"},\"selection_policy\":{\"id\":\"49b2ba5d-e58d-4e42-829f-0c76de7cddfc\",\"type\":\"UnionRenderers\"}},\"id\":\"9620a4c5-fcb0-4f5f-86d4-da6f7d75222c\",\"type\":\"ColumnDataSource\"},{\"attributes\":{\"fill_alpha\":{\"value\":0.1},\"fill_color\":{\"value\":\"#1f77b4\"},\"line_alpha\":{\"value\":0.1},\"line_color\":{\"value\":\"#1f77b4\"},\"size\":{\"units\":\"screen\",\"value\":5},\"x\":{\"field\":\"PCA_1\"},\"y\":{\"field\":\"PCA_2\"}},\"id\":\"c8f09397-ca34-4005-bb84-2c16f8b6a854\",\"type\":\"Square\"},{\"attributes\":{\"label\":{\"value\":\"Setosa correct\"},\"renderers\":[{\"id\":\"128c0c94-eb5f-4660-88ca-abd5fceabab8\",\"type\":\"GlyphRenderer\"}]},\"id\":\"9a978780-b931-48b8-927c-88d8e6518784\",\"type\":\"LegendItem\"},{\"attributes\":{\"data_source\":{\"id\":\"3ce0fe18-4153-4d4b-8f2d-eb8acc65e537\",\"type\":\"ColumnDataSource\"},\"glyph\":{\"id\":\"d1e37797-173f-49d7-b5d9-06be245bebc7\",\"type\":\"Square\"},\"hover_glyph\":null,\"muted_glyph\":null,\"nonselection_glyph\":{\"id\":\"c8f09397-ca34-4005-bb84-2c16f8b6a854\",\"type\":\"Square\"},\"selection_glyph\":null,\"view\":{\"id\":\"36e15d1e-108a-4f93-af45-1213e008b3e8\",\"type\":\"CDSView\"}},\"id\":\"e8371302-3a26-431f-8ed0-839fc8976a73\",\"type\":\"GlyphRenderer\"},{\"attributes\":{\"callback\":null,\"renderers\":\"auto\",\"tooltips\":[[\"PC 1\",\"$x\"],[\"PC 2\",\"$y\"],[\"cluster\",\"@cluster\"],[\"label\",\"@label\"],[\"name\",\"@label_name\"]]},\"id\":\"b6b65774-6041-419d-ad2d-6430bc67237a\",\"type\":\"HoverTool\"}],\"root_ids\":[\"cc84d491-59f3-4f10-bbab-ff5b4a8120b8\"]},\"title\":\"Bokeh Application\",\"version\":\"0.13.0\"}};\n",
       "  var render_items = [{\"docid\":\"027b4a27-bcca-43dc-8ec8-020a66f60aeb\",\"roots\":{\"cc84d491-59f3-4f10-bbab-ff5b4a8120b8\":\"e15d32e3-8b3f-4571-b507-fd576775596c\"}}];\n",
       "  root.Bokeh.embed.embed_items_notebook(docs_json, render_items);\n",
       "\n",
       "  }\n",
       "  if (root.Bokeh !== undefined) {\n",
       "    embed_document(root);\n",
       "  } else {\n",
       "    var attempts = 0;\n",
       "    var timer = setInterval(function(root) {\n",
       "      if (root.Bokeh !== undefined) {\n",
       "        embed_document(root);\n",
       "        clearInterval(timer);\n",
       "      }\n",
       "      attempts++;\n",
       "      if (attempts > 100) {\n",
       "        console.log(\"Bokeh: ERROR: Unable to run BokehJS code because BokehJS library is missing\")\n",
       "        clearInterval(timer);\n",
       "      }\n",
       "    }, 10, root)\n",
       "  }\n",
       "})(window);"
      ],
      "application/vnd.bokehjs_exec.v0+json": ""
     },
     "metadata": {
      "application/vnd.bokehjs_exec.v0+json": {
       "id": "cc84d491-59f3-4f10-bbab-ff5b4a8120b8"
      }
     },
     "output_type": "display_data"
    }
   ],
   "source": [
    "output_notebook()\n",
    "show(p_jazz)"
   ]
  },
  {
   "cell_type": "markdown",
   "metadata": {
    "slideshow": {
     "slide_type": "subslide"
    }
   },
   "source": [
    "### What if I want to hide all my code so no one sees?"
   ]
  },
  {
   "cell_type": "markdown",
   "metadata": {
    "slideshow": {
     "slide_type": "fragment"
    }
   },
   "source": [
    "Why, you can use this handy button!"
   ]
  },
  {
   "cell_type": "code",
   "execution_count": 256,
   "metadata": {
    "scrolled": true,
    "slideshow": {
     "slide_type": "fragment"
    }
   },
   "outputs": [
    {
     "data": {
      "text/html": [
       "<script>\n",
       "code_show=true; \n",
       "function code_toggle() {\n",
       " if (code_show){\n",
       " $('div.input').hide();\n",
       " } else {\n",
       " $('div.input').show();\n",
       " }\n",
       " code_show = !code_show\n",
       "} \n",
       "$( document ).ready(code_toggle);\n",
       "</script>\n",
       "<form action=\"javascript:code_toggle()\"><input type=\"submit\" value=\"Click here to toggle on/off the raw code.\"></form>"
      ],
      "text/plain": [
       "<IPython.core.display.HTML object>"
      ]
     },
     "execution_count": 256,
     "metadata": {},
     "output_type": "execute_result"
    }
   ],
   "source": [
    "# source: https://stackoverflow.com/questions/27934885/how-to-hide-code-from-cells-in-ipython-notebook-visualized-with-nbviewer\n",
    "from IPython.display import HTML\n",
    "HTML('''<script>\n",
    "code_show=true; \n",
    "function code_toggle() {\n",
    " if (code_show){\n",
    " $('div.input').hide();\n",
    " } else {\n",
    " $('div.input').show();\n",
    " }\n",
    " code_show = !code_show\n",
    "} \n",
    "$( document ).ready(code_toggle);\n",
    "</script>\n",
    "<form action=\"javascript:code_toggle()\"><input type=\"submit\" value=\"Click here to toggle on/off the raw code.\"></form>''')"
   ]
  },
  {
   "cell_type": "markdown",
   "metadata": {
    "slideshow": {
     "slide_type": "subslide"
    }
   },
   "source": [
    "### But I wrote all my code for my chart somewhere else!"
   ]
  },
  {
   "cell_type": "markdown",
   "metadata": {
    "slideshow": {
     "slide_type": "fragment"
    }
   },
   "source": [
    "Well, that sounds quite sensible, you can just output the chart html..."
   ]
  },
  {
   "cell_type": "code",
   "execution_count": 420,
   "metadata": {
    "scrolled": true,
    "slideshow": {
     "slide_type": "fragment"
    }
   },
   "outputs": [],
   "source": [
    "import os\n",
    "from bokeh.io import output_file\n",
    "from bokeh.plotting import reset_output\n",
    "p_jazz = jazzy_plot(data = iris_data_2D,\n",
    "                    clusters = clusters.labels_,\n",
    "                    labels = iris_labels,\n",
    "                    label_names = iris_names,\n",
    "                    plot_title = \"Clusters and targets comparison\")\n",
    "\n",
    "reset_output() #make sure you call this in bokeh 0.13.0 as otherwise it will output everything you have created which can literally break your laptop\n",
    "output_file(\"{}/figures/jazzy_plot.html\".format(os.getcwd()))\n",
    "show(p_jazz)"
   ]
  },
  {
   "cell_type": "markdown",
   "metadata": {
    "slideshow": {
     "slide_type": "subslide"
    }
   },
   "source": [
    "...then use an IFrame to display the HTML file"
   ]
  },
  {
   "cell_type": "code",
   "execution_count": 408,
   "metadata": {
    "scrolled": true,
    "slideshow": {
     "slide_type": "subslide"
    }
   },
   "outputs": [
    {
     "data": {
      "text/html": [
       "\n",
       "        <iframe\n",
       "            width=\"800\"\n",
       "            height=\"400\"\n",
       "            src=\"figures/jazzy_plot.html\"\n",
       "            frameborder=\"0\"\n",
       "            allowfullscreen\n",
       "        ></iframe>\n",
       "        "
      ],
      "text/plain": [
       "<IPython.lib.display.IFrame at 0x7fa3efab3748>"
      ]
     },
     "execution_count": 408,
     "metadata": {},
     "output_type": "execute_result"
    }
   ],
   "source": [
    "from IPython.display import IFrame\n",
    "IFrame(\"figures/jazzy_plot.html\".format(os.getcwd()), width = 800, height = 400)"
   ]
  },
  {
   "cell_type": "markdown",
   "metadata": {
    "slideshow": {
     "slide_type": "slide"
    }
   },
   "source": [
    "# Right I've now made some rad slides"
   ]
  },
  {
   "cell_type": "markdown",
   "metadata": {
    "slideshow": {
     "slide_type": "fragment"
    }
   },
   "source": [
    "Neat!"
   ]
  },
  {
   "cell_type": "markdown",
   "metadata": {
    "slideshow": {
     "slide_type": "fragment"
    }
   },
   "source": [
    "# But, how do I actually use them as slides?"
   ]
  },
  {
   "cell_type": "markdown",
   "metadata": {
    "slideshow": {
     "slide_type": "fragment"
    }
   },
   "source": [
    "Well there are a couple of methods...."
   ]
  },
  {
   "cell_type": "markdown",
   "metadata": {
    "slideshow": {
     "slide_type": "subslide"
    }
   },
   "source": [
    "...the first is to run a reveal.js server locally that you can view your slides. (you can put this as a skipped cell so your audience can see it in the presentation)"
   ]
  },
  {
   "cell_type": "code",
   "execution_count": 316,
   "metadata": {
    "scrolled": true,
    "slideshow": {
     "slide_type": "fragment"
    }
   },
   "outputs": [
    {
     "name": "stdout",
     "output_type": "stream",
     "text": [
      "Process is terminated.\n"
     ]
    }
   ],
   "source": [
    "%%bash\n",
    "\n",
    "jupyter nbconvert ~/Documents/Projects/revealjs-demo/meta-presentation.ipynb --to slides --post serve\n"
   ]
  },
  {
   "cell_type": "markdown",
   "metadata": {
    "slideshow": {
     "slide_type": "fragment"
    }
   },
   "source": [
    "(yes the %%bash magic command does mean you can run your slides from your notebook)"
   ]
  },
  {
   "cell_type": "markdown",
   "metadata": {
    "slideshow": {
     "slide_type": "subslide"
    }
   },
   "source": [
    "There are a number of ways you can change the format of the slides too, this is a good way to experiment before publishing the slides to github which we will do later"
   ]
  },
  {
   "cell_type": "code",
   "execution_count": 425,
   "metadata": {
    "scrolled": true,
    "slideshow": {
     "slide_type": "fragment"
    }
   },
   "outputs": [
    {
     "name": "stdout",
     "output_type": "stream",
     "text": [
      "Process is terminated.\n"
     ]
    }
   ],
   "source": [
    "%%bash\n",
    "\n",
    "jupyter nbconvert ~/Documents/Projects/revealjs-demo/meta-presentation.ipynb --to slides --post serve --SlidesExporter.reveal_theme=serif --SlidesExporter.reveal_scroll=True --SlidesExporter.reveal_transition=slide"
   ]
  },
  {
   "cell_type": "markdown",
   "metadata": {
    "slideshow": {
     "slide_type": "subslide"
    }
   },
   "source": [
    "You can just generate the slides.html file and run it from there, if you have reveal.js cloned to your folder\n",
    "\n",
    "You can add it to your folder with the below commands"
   ]
  },
  {
   "cell_type": "markdown",
   "metadata": {
    "slideshow": {
     "slide_type": "fragment"
    }
   },
   "source": [
    "(If you are using these slides as a guide to publish you presentation on GitPages, wait to do this until after you create a git repo otherwise, it won't quite work - though if you do this, I can show you how to fix it later)"
   ]
  },
  {
   "cell_type": "code",
   "execution_count": 262,
   "metadata": {
    "scrolled": true,
    "slideshow": {
     "slide_type": "fragment"
    }
   },
   "outputs": [
    {
     "name": "stderr",
     "output_type": "stream",
     "text": [
      "Cloning into 'revealjs-demo/reveal.js'...\n"
     ]
    }
   ],
   "source": [
    "%%bash\n",
    "cd ~/Documents/Projects/revealjs-demo\n",
    "git submodule add https://github.com/hakimel/reveal.js.git reveal.js"
   ]
  },
  {
   "cell_type": "code",
   "execution_count": null,
   "metadata": {
    "scrolled": true,
    "slideshow": {
     "slide_type": "subslide"
    }
   },
   "outputs": [],
   "source": [
    "Then just drop the --post serve"
   ]
  },
  {
   "cell_type": "code",
   "execution_count": 265,
   "metadata": {
    "scrolled": true,
    "slideshow": {
     "slide_type": "fragment"
    }
   },
   "outputs": [
    {
     "name": "stderr",
     "output_type": "stream",
     "text": [
      "[NbConvertApp] Converting notebook /home/eddr/Documents/Projects/revealjs-demo/meta-presentation.ipynb to slides\n",
      "[NbConvertApp] Writing 448648 bytes to /home/eddr/Documents/Projects/revealjs-demo/meta-presentation.slides.html\n"
     ]
    }
   ],
   "source": [
    "%%bash\n",
    "\n",
    "jupyter nbconvert ~/Documents/Projects/revealjs-demo/meta-presentation.ipynb --to slides"
   ]
  },
  {
   "cell_type": "markdown",
   "metadata": {
    "slideshow": {
     "slide_type": "subslide"
    }
   },
   "source": [
    "lets have a look..."
   ]
  },
  {
   "cell_type": "code",
   "execution_count": 266,
   "metadata": {
    "scrolled": true,
    "slideshow": {
     "slide_type": "fragment"
    }
   },
   "outputs": [
    {
     "name": "stdout",
     "output_type": "stream",
     "text": [
      "figures\n",
      "images\n",
      "menu\n",
      "meta-presentation.ipynb\n",
      "meta-presentation.slides.html\n",
      "Pipfile\n",
      "Pipfile.lock\n",
      "reveal.js\n"
     ]
    }
   ],
   "source": [
    "%%bash\n",
    "cd ~/Documents/Projects/revealjs-demo\n",
    "ls"
   ]
  },
  {
   "cell_type": "markdown",
   "metadata": {
    "slideshow": {
     "slide_type": "slide"
    }
   },
   "source": [
    "# But, I want to use it on another machine or share it with someone"
   ]
  },
  {
   "cell_type": "markdown",
   "metadata": {
    "slideshow": {
     "slide_type": "fragment"
    }
   },
   "source": [
    "The easiest way is to host it on github. You need to make sure you've added reveal.js as a submodule via git, like I did earlier then change your slides' name to index.html"
   ]
  },
  {
   "cell_type": "code",
   "execution_count": 411,
   "metadata": {
    "scrolled": true,
    "slideshow": {
     "slide_type": "fragment"
    }
   },
   "outputs": [],
   "source": [
    "%%bash\n",
    "\n",
    "cp meta-presentation.slides.html index.html"
   ]
  },
  {
   "cell_type": "code",
   "execution_count": 270,
   "metadata": {
    "scrolled": true,
    "slideshow": {
     "slide_type": "fragment"
    }
   },
   "outputs": [
    {
     "name": "stdout",
     "output_type": "stream",
     "text": [
      "figures\n",
      "images\n",
      "index.html\n",
      "menu\n",
      "meta-presentation.ipynb\n",
      "meta-presentation.slides.html\n",
      "Pipfile\n",
      "Pipfile.lock\n",
      "reveal.js\n"
     ]
    }
   ],
   "source": [
    "%%bash\n",
    "ls"
   ]
  },
  {
   "cell_type": "markdown",
   "metadata": {
    "slideshow": {
     "slide_type": "subslide"
    }
   },
   "source": [
    "good now create a new (empty) repo on GitHub and intialise git "
   ]
  },
  {
   "cell_type": "code",
   "execution_count": 271,
   "metadata": {
    "scrolled": true,
    "slideshow": {
     "slide_type": "fragment"
    }
   },
   "outputs": [
    {
     "name": "stdout",
     "output_type": "stream",
     "text": [
      "Initialised empty Git repository in /home/eddr/Documents/Projects/revealjs-demo/.git/\n"
     ]
    }
   ],
   "source": [
    "%%bash\n",
    "git init"
   ]
  },
  {
   "cell_type": "markdown",
   "metadata": {
    "slideshow": {
     "slide_type": "fragment"
    }
   },
   "source": [
    "then add and commit"
   ]
  },
  {
   "cell_type": "code",
   "execution_count": 412,
   "metadata": {
    "scrolled": true,
    "slideshow": {
     "slide_type": "fragment"
    }
   },
   "outputs": [
    {
     "name": "stdout",
     "output_type": "stream",
     "text": [
      "[master 5096f75] commiting my rad slides\n",
      " 9 files changed, 25137 insertions(+), 4765 deletions(-)\n",
      " rewrite .ipynb_checkpoints/meta-presentation-checkpoint.ipynb (65%)\n",
      " rewrite figures/jazzy_plot.html (88%)\n",
      " create mode 100644 images/gitpages.png\n",
      " rewrite meta-presentation.ipynb (62%)\n",
      " create mode 100644 meta-presentation.slides.html\n"
     ]
    }
   ],
   "source": [
    "%%bash\n",
    "git add .\n",
    "git commit -m \"commiting my rad slides\""
   ]
  },
  {
   "cell_type": "markdown",
   "metadata": {
    "slideshow": {
     "slide_type": "subslide"
    }
   },
   "source": [
    "set the remote repo url"
   ]
  },
  {
   "cell_type": "code",
   "execution_count": 274,
   "metadata": {
    "scrolled": true,
    "slideshow": {
     "slide_type": "fragment"
    }
   },
   "outputs": [],
   "source": [
    "%%bash\n",
    "git remote add origin https://github.com/ONSBigData/revealjs-demo.git"
   ]
  },
  {
   "cell_type": "markdown",
   "metadata": {
    "slideshow": {
     "slide_type": "fragment"
    }
   },
   "source": [
    "it is good to check this!"
   ]
  },
  {
   "cell_type": "code",
   "execution_count": 276,
   "metadata": {
    "scrolled": true,
    "slideshow": {
     "slide_type": "fragment"
    }
   },
   "outputs": [
    {
     "name": "stdout",
     "output_type": "stream",
     "text": [
      "origin\thttps://github.com/ONSBigData/revealjs-demo.git (fetch)\n",
      "origin\thttps://github.com/ONSBigData/revealjs-demo.git (push)\n"
     ]
    }
   ],
   "source": [
    "%%bash\n",
    "git remote -v"
   ]
  },
  {
   "cell_type": "markdown",
   "metadata": {
    "slideshow": {
     "slide_type": "subslide"
    }
   },
   "source": [
    "and push... (you might need to do this in terminal to input your credentials"
   ]
  },
  {
   "cell_type": "code",
   "execution_count": 281,
   "metadata": {
    "scrolled": true,
    "slideshow": {
     "slide_type": "fragment"
    }
   },
   "outputs": [
    {
     "name": "stderr",
     "output_type": "stream",
     "text": [
      "fatal: could not read Username for 'https://github.com': No such device or address\n"
     ]
    }
   ],
   "source": [
    "%%bash\n",
    "git push origin master"
   ]
  },
  {
   "cell_type": "markdown",
   "metadata": {
    "slideshow": {
     "slide_type": "subslide"
    }
   },
   "source": [
    "Now go to your repo on github and select settings\n",
    "\n",
    "![toolbar](files/images/settings.png \"go(at) here!\")"
   ]
  },
  {
   "cell_type": "markdown",
   "metadata": {
    "slideshow": {
     "slide_type": "subslide"
    }
   },
   "source": [
    "Then scroll down to the gitpages section and tell it what branch to (master or gh_pages if you don't want master) with the dropdown\n",
    "\n",
    "![tgitpages](files/images/gitpages.png \"go(at) here!\")"
   ]
  },
  {
   "cell_type": "markdown",
   "metadata": {
    "slideshow": {
     "slide_type": "fragment"
    }
   },
   "source": [
    "Then click the link, your slides should run!"
   ]
  },
  {
   "cell_type": "markdown",
   "metadata": {
    "slideshow": {
     "slide_type": "subslide"
    }
   },
   "source": [
    "Be careful though, everything you publish to GitPages is public, so don't put anything confidential or sensitive up there!"
   ]
  },
  {
   "cell_type": "markdown",
   "metadata": {
    "slideshow": {
     "slide_type": "subslide"
    }
   },
   "source": [
    "# ... "
   ]
  },
  {
   "cell_type": "markdown",
   "metadata": {
    "slideshow": {
     "slide_type": "fragment"
    }
   },
   "source": [
    "# They don't :'("
   ]
  },
  {
   "cell_type": "markdown",
   "metadata": {
    "slideshow": {
     "slide_type": "fragment"
    }
   },
   "source": [
    "Did you add reveal.js as a submodule before you created the repo like I have done here?"
   ]
  },
  {
   "cell_type": "markdown",
   "metadata": {
    "slideshow": {
     "slide_type": "fragment"
    }
   },
   "source": [
    "# Yes"
   ]
  },
  {
   "cell_type": "markdown",
   "metadata": {
    "slideshow": {
     "slide_type": "subslide"
    }
   },
   "source": [
    "Ok, this is how I fixed this. Git doesn't know where to find reveal.js, if it doesn't have a .gitmodules file.\n",
    "Create a .gitmodule file in your repo containing the following...\n",
    "\n",
    "```\n",
    "[submodule \"reveal.js\"]\n",
    "\tpath = reveal.js\n",
    "url = https://github.com/hakimel/reveal.js.git\n",
    "```"
   ]
  },
  {
   "cell_type": "markdown",
   "metadata": {
    "slideshow": {
     "slide_type": "subslide"
    }
   },
   "source": [
    "# Whoo, it works now!\n",
    "\n",
    "https://onsbigdata.github.io/revealjs-demo/"
   ]
  },
  {
   "cell_type": "markdown",
   "metadata": {
    "slideshow": {
     "slide_type": "slide"
    }
   },
   "source": [
    "# Wrapping up"
   ]
  },
  {
   "cell_type": "markdown",
   "metadata": {
    "slideshow": {
     "slide_type": "fragment"
    }
   },
   "source": [
    "Wait, there's something I haven't covered!"
   ]
  },
  {
   "cell_type": "markdown",
   "metadata": {
    "slideshow": {
     "slide_type": "fragment"
    }
   },
   "source": [
    "# Oh alright, what is it?"
   ]
  },
  {
   "cell_type": "markdown",
   "metadata": {
    "slideshow": {
     "slide_type": "subslide"
    }
   },
   "source": [
    "# CSS - A thing I haven't covered"
   ]
  },
  {
   "cell_type": "markdown",
   "metadata": {
    "slideshow": {
     "slide_type": "fragment"
    }
   },
   "source": [
    "\n",
    "Reveal.js uses css to set themes, I have used on of the basic themes - serief. \n",
    "I haven't covered this in more detail, because I haven't tried to create my own themes.\n",
    "\n",
    "There is the possibility of creating you/our own, perhaps an ONS Big Data theme if we start to use this more. Then we can all stay \"on brand\"."
   ]
  },
  {
   "cell_type": "markdown",
   "metadata": {
    "slideshow": {
     "slide_type": "subslide"
    }
   },
   "source": [
    "# How could you/we use it?"
   ]
  },
  {
   "cell_type": "markdown",
   "metadata": {
    "slideshow": {
     "slide_type": "fragment"
    }
   },
   "source": [
    "\n",
    "Hopefully I've conviced you to have a go with it!\n",
    "\n",
    "It appears to be  very useful in that you can generate slides to present to others easily from code as you are developing projects in a way that looks swish and can easily be put on the Big Data GitHub for sharing/promoting our work."
   ]
  },
  {
   "cell_type": "markdown",
   "metadata": {
    "slideshow": {
     "slide_type": "subslide"
    }
   },
   "source": [
    "# It can't all be good, what are the things you don't like?\n"
   ]
  },
  {
   "cell_type": "markdown",
   "metadata": {
    "slideshow": {
     "slide_type": "fragment"
    }
   },
   "source": [
    "- Bokeh is not lightweight in creating charts, more like a stampede of elephants\n",
    "- Other tools are available however (holoviews - probably some others)\n",
    "- Scrolling down large bits of code doesn't work and is annoying (why are you showing complex code?)\n",
    "- That you have to use CSS to change things (mostly because I don't know much about it)\n",
    "- zpell cheking"
   ]
  },
  {
   "cell_type": "markdown",
   "metadata": {
    "slideshow": {
     "slide_type": "slide"
    }
   },
   "source": [
    "# Fin"
   ]
  }
 ],
 "metadata": {
  "celltoolbar": "Slideshow",
  "kernelspec": {
   "display_name": "reveal-js-demo-jB7rpN85",
   "language": "python",
   "name": "reveal-js-demo-jb7rpn85"
  },
  "language_info": {
   "codemirror_mode": {
    "name": "ipython",
    "version": 3
   },
   "file_extension": ".py",
   "mimetype": "text/x-python",
   "name": "python",
   "nbconvert_exporter": "python",
   "pygments_lexer": "ipython3",
   "version": "3.5.4"
  }
 },
 "nbformat": 4,
 "nbformat_minor": 2
}
